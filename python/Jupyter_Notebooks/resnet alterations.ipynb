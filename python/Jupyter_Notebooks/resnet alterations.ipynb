{
 "cells": [
  {
   "cell_type": "code",
   "execution_count": null,
   "id": "f6b7159f-e211-4b11-bd74-b17ba1e4a156",
   "metadata": {},
   "outputs": [],
   "source": [
    "from jupyter_utils import jupyter_setup\n",
    "jupyter_setup()\n",
    "import numpy as np\n",
    "import pandas as pd\n",
    "import torch\n",
    "from torch import nn\n",
    "from torchvision.models import resnet18, resnet50, ResNet18_Weights, ResNet50_Weights\n",
    "import matplotlib.pyplot as plt\n",
    "from torch.optim import Adam\n",
    "from torch.optim.lr_scheduler import ExponentialLR"
   ]
  },
  {
   "cell_type": "markdown",
   "id": "b6ae7bb7-1b10-443a-98f9-95d414848b0a",
   "metadata": {},
   "source": [
    "# Set the learning rate for each layer\n",
    "For transfer learning/fine tuning it is advantageous if the model retains most of the learned parameters in the early layers (more abstract representations like shapes). This can be achieved by setting the lr very small for early layers and higher for later layers. The extreme of that would be to freeze some layers (or all except for the classification layer)"
   ]
  },
  {
   "cell_type": "code",
   "execution_count": null,
   "id": "0f8569ad-13a8-4c30-8c63-1ddca6f3a3f6",
   "metadata": {
    "jupyter": {
     "source_hidden": true
    },
    "tags": []
   },
   "outputs": [],
   "source": [
    "def get_parameter_groups(model, output_lr, input_lr, weight_decay=1e-4, verbose=True):\n",
    "    # applies different learning rates for each (parent) layer in the model (for finetuning a pretrained network).\n",
    "    # the inout layer gets the input_lr, the output layer the output_lr. All layers in between get linearly interpolated.\n",
    "\n",
    "    # works for resnet architecture and assigns a learning rate for each parent layer and the input and output layers\n",
    "    # in total there are (for a resnet 18) 61 parameter groups but only 4 parent layers and 3 layers as input/output layers\n",
    "    # this means there are only  4+3  different learning rates.\n",
    "    \n",
    "    parent_layer = lambda name: name.split(\".\")[0]    \n",
    "    layer_names = [name for name, _ in model.named_parameters()]\n",
    "    layer_names.reverse()\n",
    "    parent_layers = list(set([parent_layer(layer) for layer in layer_names]))\n",
    "    n_parent_layers = len(parent_layers)\n",
    "    lr=output_lr\n",
    "    last_parent_layer = parent_layer(layer_names[0])\n",
    "    if verbose:\n",
    "        print(f'0: lr = {lr:.6f}, {last_parent_layer}')\n",
    "    \n",
    "    lr_mult = np.power(input_lr/output_lr, 1/(n_parent_layers-1))\n",
    "    parameters = []\n",
    "    for idx, layer in enumerate(layer_names):\n",
    "        current_parent_layer = parent_layer(layer)\n",
    "        if last_parent_layer != (current_parent_layer):\n",
    "            lr *= lr_mult\n",
    "            if verbose:\n",
    "                print(f'{idx}: lr = {lr:.6f}, {current_parent_layer}')\n",
    "            last_parent_layer = current_parent_layer\n",
    "        parameters.append({'params': [p for n, p in model.named_parameters() if n == layer and p.requires_grad],\n",
    "                           'lr':     lr,\n",
    "                           'weight_decay': weight_decay})\n",
    "    return parameters"
   ]
  },
  {
   "cell_type": "code",
   "execution_count": 87,
   "id": "d4e500b4-43fb-4714-9329-e623863279ba",
   "metadata": {
    "tags": []
   },
   "outputs": [],
   "source": [
    "my_model = resnet18(weights=ResNet18_Weights.DEFAULT)"
   ]
  },
  {
   "cell_type": "code",
   "execution_count": null,
   "id": "18196ca6-e0ea-4d4a-a3ba-7e1f54f65115",
   "metadata": {},
   "outputs": [],
   "source": [
    "parameters = get_parameter_groups(my_model, output_lr=1e-3, input_lr=5e-5, verbose=True)"
   ]
  },
  {
   "cell_type": "code",
   "execution_count": null,
   "id": "4e5c961f-7110-4d6f-a8d0-4a5a060b630c",
   "metadata": {},
   "outputs": [],
   "source": [
    "optimizer = Adam(parameters)"
   ]
  },
  {
   "cell_type": "code",
   "execution_count": null,
   "id": "705aa214-ad4e-4375-9af1-937947dd5409",
   "metadata": {},
   "outputs": [],
   "source": [
    "lr_scheduler = ExponentialLR(optimizer, gamma=0.5)"
   ]
  },
  {
   "cell_type": "code",
   "execution_count": null,
   "id": "035f8dc4-a7b9-44e9-bb7b-d4741018a60e",
   "metadata": {},
   "outputs": [],
   "source": [
    "for group in optimizer.param_groups:\n",
    "    print(group[\"lr\"])"
   ]
  },
  {
   "cell_type": "code",
   "execution_count": null,
   "id": "4403600d-9301-45d3-b88d-35b7b96f4769",
   "metadata": {},
   "outputs": [],
   "source": [
    "optimizer.step()\n",
    "lr_scheduler.step()"
   ]
  },
  {
   "cell_type": "code",
   "execution_count": null,
   "id": "532d405f-9a4d-4fb7-9098-f8c8725418f3",
   "metadata": {},
   "outputs": [],
   "source": [
    "for group in optimizer.param_groups:\n",
    "    print(group[\"lr\"])"
   ]
  },
  {
   "cell_type": "markdown",
   "id": "ccaabfb9-2192-4a08-a0e0-d2afbc341a4b",
   "metadata": {},
   "source": [
    "# Change the number of input channels\n",
    "The pretrained resnet was trained on RGB images. Hence it has 3 input channels, for each color 1. I only have 1 channel, so what to do with the pretrained weights?"
   ]
  },
  {
   "cell_type": "code",
   "execution_count": 88,
   "id": "aad3e6be-6414-4aa5-90cc-8b6c9427cf02",
   "metadata": {},
   "outputs": [
    {
     "data": {
      "text/plain": [
       "Conv2d(3, 64, kernel_size=(7, 7), stride=(2, 2), padding=(3, 3), bias=False)"
      ]
     },
     "execution_count": 88,
     "metadata": {},
     "output_type": "execute_result"
    }
   ],
   "source": [
    "my_model.conv1"
   ]
  },
  {
   "cell_type": "code",
   "execution_count": 89,
   "id": "7ccb0f26-813c-49e2-8c00-f9d1fbd1e122",
   "metadata": {},
   "outputs": [
    {
     "data": {
      "text/plain": [
       "(7, 7)"
      ]
     },
     "execution_count": 89,
     "metadata": {},
     "output_type": "execute_result"
    }
   ],
   "source": [
    "my_model.conv1.kernel_size"
   ]
  },
  {
   "cell_type": "code",
   "execution_count": 90,
   "id": "155a6dff-b3eb-4da6-8e13-64dab7a4b6c5",
   "metadata": {},
   "outputs": [
    {
     "data": {
      "text/plain": [
       "torch.Size([64, 3, 7, 7])"
      ]
     },
     "execution_count": 90,
     "metadata": {},
     "output_type": "execute_result"
    }
   ],
   "source": [
    "weights = my_model.conv1.weight\n",
    "weights.shape"
   ]
  },
  {
   "cell_type": "markdown",
   "id": "aa996674-473e-4bf1-ad76-b2502c781410",
   "metadata": {},
   "source": [
    "## create a single channel that has the mean of the 3 RGB channel weights"
   ]
  },
  {
   "cell_type": "code",
   "execution_count": 91,
   "id": "c4aa52bb-c4ad-4cea-b986-d3118bc8e16b",
   "metadata": {},
   "outputs": [
    {
     "data": {
      "text/plain": [
       "torch.Size([64, 1, 7, 7])"
      ]
     },
     "execution_count": 91,
     "metadata": {},
     "output_type": "execute_result"
    }
   ],
   "source": [
    "weights_single_channel = weights.mean(dim=1).unsqueeze(dim=1)\n",
    "weights_single_channel.shape"
   ]
  },
  {
   "cell_type": "markdown",
   "id": "00b1c107-6132-44d5-915e-f4d171e61e99",
   "metadata": {},
   "source": [
    "## create a single channel that has the channel weights of channel 0 (red cahnnel i guess)"
   ]
  },
  {
   "cell_type": "code",
   "execution_count": null,
   "id": "8c7e22c8-652c-43b3-b777-779596670c32",
   "metadata": {},
   "outputs": [],
   "source": [
    "weights_single_color = weights[:, 0, :, :].unsqueeze(dim=1)\n",
    "weights_single_color.shape"
   ]
  },
  {
   "cell_type": "code",
   "execution_count": 92,
   "id": "23ccfbce-d8eb-4794-9939-0b2d2f4ef341",
   "metadata": {},
   "outputs": [],
   "source": [
    "in_channels = 1\n",
    "out_channels = 64\n",
    "my_model.conv1 = nn.Conv2d(in_channels, out_channels , kernel_size=7, stride=2, padding=3, bias=False)"
   ]
  },
  {
   "cell_type": "code",
   "execution_count": 93,
   "id": "7c8d43cd-0085-4305-ae0a-590ead50662f",
   "metadata": {},
   "outputs": [],
   "source": [
    "my_model.conv1.weight = nn.Parameter(weights_single_channel)"
   ]
  },
  {
   "cell_type": "code",
   "execution_count": null,
   "id": "8a095236-6ed7-4d91-95b9-eba1e882eca7",
   "metadata": {},
   "outputs": [],
   "source": []
  },
  {
   "cell_type": "markdown",
   "id": "0e719c62-c4fb-4695-a3a4-36d12da9a778",
   "metadata": {},
   "source": [
    "# add dropout after each parent layer in resnet (everytime downsampling is applied)"
   ]
  },
  {
   "cell_type": "code",
   "execution_count": 104,
   "id": "c5d9beed-f4b7-4e60-b741-108c82590b5c",
   "metadata": {},
   "outputs": [],
   "source": [
    "my_model = resnet18(weights=ResNet18_Weights.DEFAULT)"
   ]
  },
  {
   "cell_type": "code",
   "execution_count": 105,
   "id": "5172b27f-b738-4c8f-97e0-ff7805b268b7",
   "metadata": {},
   "outputs": [],
   "source": [
    "my_model.layer1 = nn.Sequential(*my_model.layer1, nn.Dropout2d(p=0.1))\n",
    "my_model.layer2 = nn.Sequential(*my_model.layer2, nn.Dropout2d(p=0.2))\n",
    "my_model.layer3 = nn.Sequential(*my_model.layer3, nn.Dropout2d(p=0.3))\n",
    "my_model.layer4 = nn.Sequential(*my_model.layer4, nn.Dropout2d(p=0.4))\n",
    "my_model.avgpool = nn.Sequential(my_model.avgpool, nn.Dropout(p=0.5))"
   ]
  },
  {
   "cell_type": "code",
   "execution_count": 106,
   "id": "7dd0641e-cb3d-4608-abeb-d8a8bdff36dd",
   "metadata": {},
   "outputs": [
    {
     "data": {
      "text/plain": [
       "ResNet(\n",
       "  (conv1): Conv2d(3, 64, kernel_size=(7, 7), stride=(2, 2), padding=(3, 3), bias=False)\n",
       "  (bn1): BatchNorm2d(64, eps=1e-05, momentum=0.1, affine=True, track_running_stats=True)\n",
       "  (relu): ReLU(inplace=True)\n",
       "  (maxpool): MaxPool2d(kernel_size=3, stride=2, padding=1, dilation=1, ceil_mode=False)\n",
       "  (layer1): Sequential(\n",
       "    (0): BasicBlock(\n",
       "      (conv1): Conv2d(64, 64, kernel_size=(3, 3), stride=(1, 1), padding=(1, 1), bias=False)\n",
       "      (bn1): BatchNorm2d(64, eps=1e-05, momentum=0.1, affine=True, track_running_stats=True)\n",
       "      (relu): ReLU(inplace=True)\n",
       "      (conv2): Conv2d(64, 64, kernel_size=(3, 3), stride=(1, 1), padding=(1, 1), bias=False)\n",
       "      (bn2): BatchNorm2d(64, eps=1e-05, momentum=0.1, affine=True, track_running_stats=True)\n",
       "    )\n",
       "    (1): BasicBlock(\n",
       "      (conv1): Conv2d(64, 64, kernel_size=(3, 3), stride=(1, 1), padding=(1, 1), bias=False)\n",
       "      (bn1): BatchNorm2d(64, eps=1e-05, momentum=0.1, affine=True, track_running_stats=True)\n",
       "      (relu): ReLU(inplace=True)\n",
       "      (conv2): Conv2d(64, 64, kernel_size=(3, 3), stride=(1, 1), padding=(1, 1), bias=False)\n",
       "      (bn2): BatchNorm2d(64, eps=1e-05, momentum=0.1, affine=True, track_running_stats=True)\n",
       "    )\n",
       "    (2): Dropout2d(p=0.1, inplace=False)\n",
       "  )\n",
       "  (layer2): Sequential(\n",
       "    (0): BasicBlock(\n",
       "      (conv1): Conv2d(64, 128, kernel_size=(3, 3), stride=(2, 2), padding=(1, 1), bias=False)\n",
       "      (bn1): BatchNorm2d(128, eps=1e-05, momentum=0.1, affine=True, track_running_stats=True)\n",
       "      (relu): ReLU(inplace=True)\n",
       "      (conv2): Conv2d(128, 128, kernel_size=(3, 3), stride=(1, 1), padding=(1, 1), bias=False)\n",
       "      (bn2): BatchNorm2d(128, eps=1e-05, momentum=0.1, affine=True, track_running_stats=True)\n",
       "      (downsample): Sequential(\n",
       "        (0): Conv2d(64, 128, kernel_size=(1, 1), stride=(2, 2), bias=False)\n",
       "        (1): BatchNorm2d(128, eps=1e-05, momentum=0.1, affine=True, track_running_stats=True)\n",
       "      )\n",
       "    )\n",
       "    (1): BasicBlock(\n",
       "      (conv1): Conv2d(128, 128, kernel_size=(3, 3), stride=(1, 1), padding=(1, 1), bias=False)\n",
       "      (bn1): BatchNorm2d(128, eps=1e-05, momentum=0.1, affine=True, track_running_stats=True)\n",
       "      (relu): ReLU(inplace=True)\n",
       "      (conv2): Conv2d(128, 128, kernel_size=(3, 3), stride=(1, 1), padding=(1, 1), bias=False)\n",
       "      (bn2): BatchNorm2d(128, eps=1e-05, momentum=0.1, affine=True, track_running_stats=True)\n",
       "    )\n",
       "    (2): Dropout2d(p=0.2, inplace=False)\n",
       "  )\n",
       "  (layer3): Sequential(\n",
       "    (0): BasicBlock(\n",
       "      (conv1): Conv2d(128, 256, kernel_size=(3, 3), stride=(2, 2), padding=(1, 1), bias=False)\n",
       "      (bn1): BatchNorm2d(256, eps=1e-05, momentum=0.1, affine=True, track_running_stats=True)\n",
       "      (relu): ReLU(inplace=True)\n",
       "      (conv2): Conv2d(256, 256, kernel_size=(3, 3), stride=(1, 1), padding=(1, 1), bias=False)\n",
       "      (bn2): BatchNorm2d(256, eps=1e-05, momentum=0.1, affine=True, track_running_stats=True)\n",
       "      (downsample): Sequential(\n",
       "        (0): Conv2d(128, 256, kernel_size=(1, 1), stride=(2, 2), bias=False)\n",
       "        (1): BatchNorm2d(256, eps=1e-05, momentum=0.1, affine=True, track_running_stats=True)\n",
       "      )\n",
       "    )\n",
       "    (1): BasicBlock(\n",
       "      (conv1): Conv2d(256, 256, kernel_size=(3, 3), stride=(1, 1), padding=(1, 1), bias=False)\n",
       "      (bn1): BatchNorm2d(256, eps=1e-05, momentum=0.1, affine=True, track_running_stats=True)\n",
       "      (relu): ReLU(inplace=True)\n",
       "      (conv2): Conv2d(256, 256, kernel_size=(3, 3), stride=(1, 1), padding=(1, 1), bias=False)\n",
       "      (bn2): BatchNorm2d(256, eps=1e-05, momentum=0.1, affine=True, track_running_stats=True)\n",
       "    )\n",
       "    (2): Dropout2d(p=0.3, inplace=False)\n",
       "  )\n",
       "  (layer4): Sequential(\n",
       "    (0): BasicBlock(\n",
       "      (conv1): Conv2d(256, 512, kernel_size=(3, 3), stride=(2, 2), padding=(1, 1), bias=False)\n",
       "      (bn1): BatchNorm2d(512, eps=1e-05, momentum=0.1, affine=True, track_running_stats=True)\n",
       "      (relu): ReLU(inplace=True)\n",
       "      (conv2): Conv2d(512, 512, kernel_size=(3, 3), stride=(1, 1), padding=(1, 1), bias=False)\n",
       "      (bn2): BatchNorm2d(512, eps=1e-05, momentum=0.1, affine=True, track_running_stats=True)\n",
       "      (downsample): Sequential(\n",
       "        (0): Conv2d(256, 512, kernel_size=(1, 1), stride=(2, 2), bias=False)\n",
       "        (1): BatchNorm2d(512, eps=1e-05, momentum=0.1, affine=True, track_running_stats=True)\n",
       "      )\n",
       "    )\n",
       "    (1): BasicBlock(\n",
       "      (conv1): Conv2d(512, 512, kernel_size=(3, 3), stride=(1, 1), padding=(1, 1), bias=False)\n",
       "      (bn1): BatchNorm2d(512, eps=1e-05, momentum=0.1, affine=True, track_running_stats=True)\n",
       "      (relu): ReLU(inplace=True)\n",
       "      (conv2): Conv2d(512, 512, kernel_size=(3, 3), stride=(1, 1), padding=(1, 1), bias=False)\n",
       "      (bn2): BatchNorm2d(512, eps=1e-05, momentum=0.1, affine=True, track_running_stats=True)\n",
       "    )\n",
       "    (2): Dropout2d(p=0.4, inplace=False)\n",
       "  )\n",
       "  (avgpool): Sequential(\n",
       "    (0): AdaptiveAvgPool2d(output_size=(1, 1))\n",
       "    (1): Dropout(p=0.5, inplace=False)\n",
       "  )\n",
       "  (fc): Linear(in_features=512, out_features=1000, bias=True)\n",
       ")"
      ]
     },
     "execution_count": 106,
     "metadata": {},
     "output_type": "execute_result"
    }
   ],
   "source": [
    "layer_names = [name for name, _ in my_model.named_parameters()]\n",
    "my_model"
   ]
  },
  {
   "cell_type": "code",
   "execution_count": 102,
   "id": "e67483ec-1a0e-4589-b1ca-106912e9ca6c",
   "metadata": {},
   "outputs": [],
   "source": [
    "m = nn.Dropout2d(p=.0)\n",
    "input = torch.randn(5, 3, 10, 10)\n",
    "output = m(input)"
   ]
  },
  {
   "cell_type": "code",
   "execution_count": 103,
   "id": "5a2c2951-53d0-4d48-905e-718d369aed4d",
   "metadata": {},
   "outputs": [
    {
     "data": {
      "text/plain": [
       "<matplotlib.image.AxesImage at 0x2ca806bbca0>"
      ]
     },
     "execution_count": 103,
     "metadata": {},
     "output_type": "execute_result"
    },
    {
     "data": {
      "image/png": "[encoded data removed]",
      "text/plain": [
       "<Figure size 640x480 with 1 Axes>"
      ]
     },
     "metadata": {},
     "output_type": "display_data"
    },
    {
     "data": {
      "image/png": "[encoded data removed]",
      "text/plain": [
       "<Figure size 640x480 with 1 Axes>"
      ]
     },
     "metadata": {},
     "output_type": "display_data"
    },
    {
     "data": {
      "image/png": "[encoded data removed]",
      "text/plain": [
       "<Figure size 640x480 with 1 Axes>"
      ]
     },
     "metadata": {},
     "output_type": "display_data"
    }
   ],
   "source": [
    "i = 1\n",
    "plt.imshow(output[i, 0])\n",
    "plt.figure()\n",
    "plt.imshow(output[i, 1])\n",
    "plt.figure()\n",
    "plt.imshow(output[i, 2])"
   ]
  },
  {
   "cell_type": "code",
   "execution_count": 132,
   "id": "dc6c26ed-7a8f-4238-943b-6b172a6e7f58",
   "metadata": {},
   "outputs": [],
   "source": [
    "output = my_model.layer4(torch.randn(2, 256, 25, 25))"
   ]
  },
  {
   "cell_type": "code",
   "execution_count": 151,
   "id": "fb76336e-7ddc-4b71-92c3-e99e4dccc694",
   "metadata": {},
   "outputs": [
    {
     "name": "stdout",
     "output_type": "stream",
     "text": [
      "154\n"
     ]
    },
    {
     "data": {
      "text/plain": [
       "<matplotlib.image.AxesImage at 0x2ca9ba2f070>"
      ]
     },
     "execution_count": 151,
     "metadata": {},
     "output_type": "execute_result"
    },
    {
     "data": {
      "image/png": "[encoded data removed]",
      "text/plain": [
       "<Figure size 640x480 with 1 Axes>"
      ]
     },
     "metadata": {},
     "output_type": "display_data"
    }
   ],
   "source": [
    "i = np.random.randint(256)\n",
    "print(i)\n",
    "plt.imshow(output[0, i].detach().numpy())\n",
    "# plt.figure()\n",
    "# plt.imshow(output[i, 1])"
   ]
  },
  {
   "cell_type": "code",
   "execution_count": 155,
   "id": "5f047a90-fa53-432d-a899-b33a65e39dd3",
   "metadata": {},
   "outputs": [
    {
     "data": {
      "text/plain": [
       "tensor([[ 4.7952, -3.2419,  3.0388,  ...,  5.0536,  0.4354, -1.8299],\n",
       "        [-3.0323,  2.5517,  1.9307,  ..., -0.5568,  0.7291, -0.8353]],\n",
       "       grad_fn=<AddmmBackward0>)"
      ]
     },
     "execution_count": 155,
     "metadata": {},
     "output_type": "execute_result"
    }
   ],
   "source": [
    "my_model(torch.randn(2, 3, 224, 224))"
   ]
  }
 ],
 "metadata": {
  "kernelspec": {
   "display_name": "Python (python_v3-8)",
   "language": "python",
   "name": "python_v3-8"
  },
  "language_info": {
   "codemirror_mode": {
    "name": "ipython",
    "version": 3
   },
   "file_extension": ".py",
   "mimetype": "text/x-python",
   "name": "python",
   "nbconvert_exporter": "python",
   "pygments_lexer": "ipython3",
   "version": "3.8.13"
  }
 },
 "nbformat": 4,
 "nbformat_minor": 5
}
