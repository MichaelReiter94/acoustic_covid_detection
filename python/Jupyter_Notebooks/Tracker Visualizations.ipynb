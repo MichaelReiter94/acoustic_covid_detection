{
 "cells": [
  {
   "cell_type": "code",
   "execution_count": 79,
   "id": "25900946-2351-4d40-a84f-2a9ebf320579",
   "metadata": {},
   "outputs": [
    {
     "name": "stdout",
     "output_type": "stream",
     "text": [
      "D:\\Archiv\\Studium\\Master\\6.-Semester\\Masters_Thesis\\Git\\acoustic_covid_detection\\python\n"
     ]
    }
   ],
   "source": [
    "import pandas as pd\n",
    "import numpy as np\n",
    "from jupyter_utils import jupyter_setup, load_tracker\n",
    "import ipywidgets as widgets\n",
    "jupyter_setup()\n",
    "import plotly.graph_objects as go\n",
    "import plotly.express as ex\n",
    "pd.set_option('display.max_colwidth', None)\n",
    "pd.set_option('display.max_columns', None)"
   ]
  },
  {
   "cell_type": "code",
   "execution_count": 80,
   "id": "4d955e93-e774-45a3-92fd-06395b1e4635",
   "metadata": {},
   "outputs": [
    {
     "name": "stdout",
     "output_type": "stream",
     "text": [
      "Loading Tracker from: D:/Archiv/Studium/Master/6.-Semester/Masters_Thesis/Git/acoustic_covid_detection/python/run/tracker_saves/2023-06-08_resnet18_logmel_combined_breaths_NEW_11msHop_46msFFT_fmax11000_224logmel_resnormTests.pickle\n",
      "\n",
      "Parameters used for finding the best performing epoch:\n",
      "           metric_used:                   auc_roc\n",
      "           smoothing:                     5\n",
      "           ignore_first_n_epochs:         5\n"
     ]
    }
   ],
   "source": [
    "tracker = load_tracker()\n",
    "# tracker.summarize(detail=\"compact\")"
   ]
  },
  {
   "cell_type": "code",
   "execution_count": 81,
   "id": "5c6806ad-f200-435b-99fc-b504c286d8d0",
   "metadata": {},
   "outputs": [
    {
     "name": "stdout",
     "output_type": "stream",
     "text": [
      "\n",
      "Datasets used:\n",
      "logmel_combined_breaths_NEW_11msHop_46msFFT_fmax11000_224logmel\n",
      "           dataset_class:                 <class 'datasets.ResnetLogmelDataset'>\n",
      "           participants_file:             2023_05_04_logmel_combined_breaths_NEW_11msHop_46msFFT_fmax11000_224logmel.pickle\n",
      "           augmented_files:               ['2023_05_21_logmel_combined_breaths_NEW_11msHop_46msFFT_fmax11000_224logmelaugmented.pickle']\n",
      "           train_set_label_counts:        label '0': 2026  -  label '1': 1450\n",
      "           types_of_recording:            combined_breaths\n",
      "\n",
      "Audio Processing Parameters:\n",
      "           type_of_features:              logmel\n",
      "           n_time_steps:                  224\n",
      "           n_features:                    224\n",
      "           sample_rate:                   22050\n",
      "           n_fft:                         8192\n",
      "           window_length:                 1024\n",
      "           hop_size:                      256\n",
      "           fmin:                          0\n",
      "           fmax:                          11025\n",
      "           hop_size_ms:                   11.61\n",
      "           window_length_ms:              46.44\n",
      "           duration_seconds:              2.6\n",
      "           fft_res_hz:                    2.69\n",
      "\n",
      "Predetermined Time Domain Augmentations:\n",
      "           AddGaussianNoise:              'probability': 0.8, 'min_amplitude': 0.0003, 'max_amplitude': 0.01\n",
      "           PitchShift:                    'probability': 0.8, 'min_semitones': -2, 'max_semitones': 2\n",
      "           TimeStretch:                   'probability': 0.8, 'min_rate': 0.95, 'max_rate': 1.05\n",
      "           Gain:                          'probability': 0.8, 'min_gain_in_db': -18, 'max_gain_in_db': 12\n",
      "           model:                         ResNet\n",
      "           optimizer:                     Adam \n",
      "           loss_function:                 sigmoid_focal_loss\n",
      "\n",
      "Tracker contains:\n",
      "           parameter runs:                17\n",
      "           folds per run:                 1\n",
      "           epochs:                        250\n"
     ]
    }
   ],
   "source": [
    "tracker.summarize(detail=\"compact\")\n",
    "# tracker.summarize(detail=\"detail\")"
   ]
  },
  {
   "cell_type": "code",
   "execution_count": 82,
   "id": "8a88e565-f932-4e07-ab7c-f2f3d3079541",
   "metadata": {},
   "outputs": [
    {
     "data": {
      "text/html": [
       "<div>\n",
       "<style scoped>\n",
       "    .dataframe tbody tr th:only-of-type {\n",
       "        vertical-align: middle;\n",
       "    }\n",
       "\n",
       "    .dataframe tbody tr th {\n",
       "        vertical-align: top;\n",
       "    }\n",
       "\n",
       "    .dataframe thead th {\n",
       "        text-align: right;\n",
       "    }\n",
       "</style>\n",
       "<table border=\"1\" class=\"dataframe\">\n",
       "  <thead>\n",
       "    <tr style=\"text-align: right;\">\n",
       "      <th></th>\n",
       "      <th>AddGaussianNoise</th>\n",
       "      <th>PitchShift</th>\n",
       "      <th>TimeStretch</th>\n",
       "      <th>Gain</th>\n",
       "    </tr>\n",
       "  </thead>\n",
       "  <tbody>\n",
       "    <tr>\n",
       "      <th>0</th>\n",
       "      <td>'probability': 0.8, 'min_amplitude': 0.0003, 'max_amplitude': 0.01</td>\n",
       "      <td>'probability': 0.8, 'min_semitones': -2, 'max_semitones': 2</td>\n",
       "      <td>'probability': 0.8, 'min_rate': 0.95, 'max_rate': 1.05</td>\n",
       "      <td>'probability': 0.8, 'min_gain_in_db': -18, 'max_gain_in_db': 12</td>\n",
       "    </tr>\n",
       "  </tbody>\n",
       "</table>\n",
       "</div>"
      ],
      "text/plain": [
       "                                                     AddGaussianNoise  \\\n",
       "0  'probability': 0.8, 'min_amplitude': 0.0003, 'max_amplitude': 0.01   \n",
       "\n",
       "                                                    PitchShift  \\\n",
       "0  'probability': 0.8, 'min_semitones': -2, 'max_semitones': 2   \n",
       "\n",
       "                                              TimeStretch  \\\n",
       "0  'probability': 0.8, 'min_rate': 0.95, 'max_rate': 1.05   \n",
       "\n",
       "                                                              Gain  \n",
       "0  'probability': 0.8, 'min_gain_in_db': -18, 'max_gain_in_db': 12  "
      ]
     },
     "execution_count": 82,
     "metadata": {},
     "output_type": "execute_result"
    }
   ],
   "source": [
    "pd.DataFrame(tracker.augmentations)"
   ]
  },
  {
   "cell_type": "code",
   "execution_count": 83,
   "id": "76ece74f-fd67-4c38-91df-feab0ff1a455",
   "metadata": {},
   "outputs": [
    {
     "name": "stdout",
     "output_type": "stream",
     "text": [
      "logmel_combined_breaths_NEW_11msHop_46msFFT_fmax11000_224logmel\n",
      "{'model': 'ResNet', 'optimizer': 'Adam ', 'loss_function': 'sigmoid_focal_loss'}\n"
     ]
    },
    {
     "data": {
      "text/plain": [
       "{'dataset_class': datasets.ResnetLogmelDataset,\n",
       " 'participants_file': '2023_05_04_logmel_combined_breaths_NEW_11msHop_46msFFT_fmax11000_224logmel.pickle',\n",
       " 'augmented_files': ['2023_05_21_logmel_combined_breaths_NEW_11msHop_46msFFT_fmax11000_224logmelaugmented.pickle'],\n",
       " 'train_set_label_counts': \"label '0': 2026  -  label '1': 1450\",\n",
       " 'types_of_recording': 'combined_breaths'}"
      ]
     },
     "execution_count": 83,
     "metadata": {},
     "output_type": "execute_result"
    }
   ],
   "source": [
    "import pandas as pd\n",
    "key = tracker.datasets.keys()\n",
    "key=list(key)[0]\n",
    "print(key)\n",
    "print(tracker.model_and_training_parameters[\"compact\"])\n",
    "# pd.DataFrame(tracker.datasets[key], index = [0])\n",
    "tracker.datasets[key]"
   ]
  },
  {
   "cell_type": "code",
   "execution_count": 84,
   "id": "5277788f-7ece-4a1e-8160-555c08ad3693",
   "metadata": {},
   "outputs": [
    {
     "data": {
      "application/vnd.jupyter.widget-view+json": {
       "model_id": "9abfa9c4606f4d9eb8001e52994eac8a",
       "version_major": 2,
       "version_minor": 0
      },
      "text/plain": [
       "interactive(children=(Checkbox(value=False, description='dataset_and_model'), Checkbox(value=True, description…"
      ]
     },
     "metadata": {},
     "output_type": "display_data"
    }
   ],
   "source": [
    "_ = widgets.interact(tracker.get_data_and_model_params, dataset_and_model=False, audio_processing=True, augmentations=False)"
   ]
  },
  {
   "cell_type": "markdown",
   "id": "5ce061a2-2a7c-4d7f-9a51-db8d8457e651",
   "metadata": {},
   "source": [
    "# Compute Tracker Metrics:\n",
    "when loading the tracker (load_tracker()), the recorded data will be loaded and preprocessed (cross validation mean/std and much more will be calculated). This is essential. Otherwise none of the following functionality works. You can call the preprocessing function manually (tracker.compute_overall_metrics()) to change the settings for processing. The available parameters are: <br>\n",
    "- smooth_n_samples=10 <br>\n",
    "This sets the number of samples over which a (weighted) moving average filter is applied before looking for a min/max of the curve or calculate the mean.\n",
    "- ignore_first_n_epochs=5 <br>\n",
    "Simply do not take the first n epochs into account when looking for a min/max\n",
    "- metric_used_for_performance_analysis=\"auc_roc\" <br>\n",
    "The epoch on which the performance for all metrics will be evaluated for a specific run will be chosen by looking for the min/max in this metric. This means, that if the AUC ROC curve is chosen in the argument, it will look for the argmax of the AUC ROC curve and evaluate loss, accuracy, F1 etc in this exact epoch even when they have their extremum in another epoch  <br>"
   ]
  },
  {
   "cell_type": "code",
   "execution_count": 92,
   "id": "f05b3fcd-7bd6-41c7-9027-e462fe98e811",
   "metadata": {},
   "outputs": [
    {
     "name": "stdout",
     "output_type": "stream",
     "text": [
      "\n",
      "Parameters used for finding the best performing epoch:\n",
      "           metric_used:                   loss\n",
      "           smoothing:                     10\n",
      "           ignore_first_n_epochs:         10\n"
     ]
    }
   ],
   "source": [
    "n_samples = 10\n",
    "tracker.compute_overall_metrics(smooth_n_samples=n_samples, ignore_first_n_epochs=n_samples, metric_used_for_performance_analysis=\"loss\")"
   ]
  },
  {
   "cell_type": "markdown",
   "id": "8552cbf1-2f4d-41f3-8783-d8a808f14e34",
   "metadata": {},
   "source": [
    "# Evaluate the Cross Validation Results\n",
    "For each run within a cross validation setting, the epoch of the min/max will be calculated and all metrics evaluated at this metric (after being smoothed as specified). The mean and std are calculated from the (in the default case) epoch where AUC ROC hits the global maximum. The resulting table can be adjusted with the jupyter widgets: <br>\n",
    "- The styled table can be sorted by metric values (first drop down)  <br>\n",
    "- by ticking \"show_full_df\" you can also display e.g. the standard deviation of each metric\n",
    "- If you tick \"highlight parameters\" all hyperparameters, that changed thoughout the different runs, are highlighted by value. <br>\n",
    "- The sliders below can be adjusted to filter out all runs with results worse than the slider setting  <br>\n",
    "For more details (standard deviation e.g.), the cell below does exaclty the same but with "
   ]
  },
  {
   "cell_type": "code",
   "execution_count": 93,
   "id": "d542739c-2cb0-4fef-a26c-0e4926bed5f9",
   "metadata": {},
   "outputs": [
    {
     "data": {
      "application/vnd.jupyter.widget-view+json": {
       "model_id": "aa5e0394f5f84e6c8d1d270b032bc2e6",
       "version_major": 2,
       "version_minor": 0
      },
      "text/plain": [
       "interactive(children=(Dropdown(description='sort_descending_by_metric', options=('auc_roc', 'loss', 'accuracy'…"
      ]
     },
     "metadata": {},
     "output_type": "display_data"
    }
   ],
   "source": [
    "def sortby(sort_descending_by_metric, highlight_hyperparameters, show_full_df, **kwargs):\n",
    "    # thresholds = {\"auc_roc\": auc_threshold}\n",
    "    if show_full_df:\n",
    "        df = tracker.full_metric_performance_df\n",
    "    else:\n",
    "        df = tracker.compact_metric_performance_df\n",
    "    style = tracker.style_metric_performance_df(df, sort_by=sort_descending_by_metric, highlight_hyperparameters=highlight_hyperparameters, filter_thresholds=kwargs)\n",
    "    return style\n",
    "_ = widgets.interact(sortby, sort_descending_by_metric=tracker.metrics_used, highlight_hyperparameters=True, show_full_df=False,\n",
    "                auc_roc=widgets.FloatSlider(min=0.0, max=1.0, value=0.6, step=0.005),\n",
    "                accuracy=widgets.FloatSlider(min=0.0, max=1.0, value=0.6, step=0.005),\n",
    "                tpr=widgets.FloatSlider(min=0.0, max=1.0, value=0.4, step=0.005),\n",
    "                tnr=widgets.FloatSlider(min=0.0, max=1.0, value=0.6, step=0.005)\n",
    "                )"
   ]
  },
  {
   "cell_type": "markdown",
   "id": "b2166ddb-c2e4-4485-a148-ed5344e27dfd",
   "metadata": {},
   "source": [
    "# Box Plot the Hyperpaprameter Performances\n",
    "Each metric is viewed separately. You can also choose to only look at the n_best performing hyperparameter runs. <br>\n",
    "Depending on whether \"sort_by_current_metric\" is ticked this means something different. If it is not ticked, all runs will be sorted by the metric defined in the beginning (tracker.compute_overall_metrics()). Otherwise it will be sorted by the performance of the metric you have chosen to look at. This is very usefull  to get insight on which setting of a specific hyperparameter affects specific metrics. Some hyperparameter may for example improve the AUC ROC a bit but in the F1 or tnr metric they clearly hava a negative impact."
   ]
  },
  {
   "cell_type": "code",
   "execution_count": 94,
   "id": "2f253649-2a96-486f-8eca-61058c080721",
   "metadata": {},
   "outputs": [
    {
     "data": {
      "application/vnd.jupyter.widget-view+json": {
       "model_id": "3c1e38a7cf014c37aebc4701e9199075",
       "version_major": 2,
       "version_minor": 0
      },
      "text/plain": [
       "interactive(children=(Dropdown(description='metric', options=('auc_roc', 'loss', 'accuracy', 'f1_score', 'auc_…"
      ]
     },
     "metadata": {},
     "output_type": "display_data"
    }
   ],
   "source": [
    "# hyperparameters = (list(tracker.crossval_runs[0].parameters.keys()))\n",
    "options = tracker.get_only_varied_hyperparam_columns()\n",
    "dropdown_colorby = widgets.Dropdown(options=[None, *options], value=options[0])\n",
    "\n",
    "_ = widgets.interact(tracker.boxplot_run_statistics, metric=tracker.metrics_used,\n",
    "                     show_n_best_runs=widgets.IntSlider(value=tracker.n_hyperparameter_runs, min=1, max=tracker.n_hyperparameter_runs),\n",
    "                     color_by_hyperparameter=dropdown_colorby,\n",
    "                     sort_by_current_metric=True)"
   ]
  },
  {
   "cell_type": "markdown",
   "id": "29007e08-25a5-4ae3-bf2e-ab0078140b6c",
   "metadata": {},
   "source": [
    "# Boxplots grouped by combinations excluding 1 hyperparameter\n",
    "This way you can check the impact of 1 hyperparameter for each combination of other hyperparameters"
   ]
  },
  {
   "cell_type": "code",
   "execution_count": 88,
   "id": "92288b41-c290-41e2-8261-39883daf79e9",
   "metadata": {},
   "outputs": [
    {
     "data": {
      "application/vnd.jupyter.widget-view+json": {
       "model_id": "0ad9d12dcbe7478d99d7e24bd5844992",
       "version_major": 2,
       "version_minor": 0
      },
      "text/plain": [
       "interactive(children=(Dropdown(description='metric', options=('auc_roc', 'loss', 'accuracy', 'f1_score', 'auc_…"
      ]
     },
     "metadata": {},
     "output_type": "display_data"
    }
   ],
   "source": [
    "options = tracker.get_only_varied_hyperparam_columns()\n",
    "dropdown_groupby = widgets.Dropdown(options=options, value=options[0])\n",
    "\n",
    "_ = widgets.interact(tracker.boxplot_groupedby_combination, metric=tracker.metrics_used,\n",
    "                     show_n_best_runs=widgets.IntSlider(value=tracker.n_hyperparameter_runs, min=1, max=tracker.n_hyperparameter_runs),\n",
    "                     # group_by_hyperparameter=[\"some\", *tracker.get_only_varied_hyperparam_columns()],\n",
    "                     separate_param=dropdown_groupby,\n",
    "                     sort_by_current_metric=True,\n",
    "                     boxgap=widgets.FloatSlider(value=0.1, min=0.0, max=1.0),\n",
    "                     fontsize=widgets.IntSlider(value=12, min=6, max=20),\n",
    "                    )"
   ]
  },
  {
   "cell_type": "markdown",
   "id": "0d485d42-b345-4cb0-845f-938fe6302df6",
   "metadata": {},
   "source": [
    "Group hyperparameter combination by 1 parameter (opposite of before)"
   ]
  },
  {
   "cell_type": "code",
   "execution_count": 89,
   "id": "149a88c5-0f4d-45fc-83bf-e870f963a8af",
   "metadata": {},
   "outputs": [],
   "source": [
    "# options = tracker.get_only_varied_hyperparam_columns()\n",
    "# dropdown_groupby = widgets.Dropdown(options=options, value=options[0])\n",
    "\n",
    "# _ = widgets.interact(tracker.boxplot_run_statistics_grouped, metric=tracker.metrics_used,\n",
    "#                      show_n_best_runs=widgets.IntSlider(value=tracker.n_hyperparameter_runs, min=1, max=tracker.n_hyperparameter_runs),\n",
    "#                      # group_by_hyperparameter=[\"some\", *tracker.get_only_varied_hyperparam_columns()],\n",
    "#                      group_by_hyperparameter=dropdown_groupby,\n",
    "                     \n",
    "#                      sort_by_current_metric=True)"
   ]
  },
  {
   "cell_type": "markdown",
   "id": "fbaa3bef-ca38-4116-a256-08ce66a06edd",
   "metadata": {},
   "source": [
    "# Metric Performance over Epochs\n",
    "Here we can analyze the cross validation mean of each hyperparameter run over the epochs. You can switch between train and eval mode and choose a specific metric to look at. The solid line is the mean over all folds within a crossval run. This is calculated epoch-wise, so at each epoch the smoothed metric performance of all folds is averaged. In the same way, the standard devaition is calculated and shown as area plot. <br>\n",
    "You can choose to display the area plot (std) and also to view the fold within each crossval run + the epoch in which the in/max of the specified metric (in tracker.compute_overall_metrics()) was found. Additionally you can choose to view only the n best performing hyperparameter runs. The ranking is calculated by the metric set at the beginning (tracker.compute_overall_metrics()). <br>\n",
    "You can change the number of samples to smooth the curves with. The default setting was also set in the compute_overall_metrics method. This is only for visualization and does not change the settings which are used to calculate the final crossval performance.<br>\n",
    "Below is a similar method but it only shows 1 crossval run which can be switched with the dropdown menu."
   ]
  },
  {
   "cell_type": "code",
   "execution_count": 90,
   "id": "d1f46d23-85d4-48d0-8ae0-0c0681deee85",
   "metadata": {},
   "outputs": [],
   "source": [
    "# tracker.crossval_runs[0].runs[4].best_performances[\"eval\"]\n",
    "# tracker.crossval_runs[0].runs.pop(1)"
   ]
  },
  {
   "cell_type": "code",
   "execution_count": 95,
   "id": "3407a633-e593-4d24-86b0-afb12c88baf4",
   "metadata": {},
   "outputs": [
    {
     "data": {
      "application/vnd.jupyter.widget-view+json": {
       "model_id": "eabca528c2d942bd939212645ede1e11",
       "version_major": 2,
       "version_minor": 0
      },
      "text/plain": [
       "interactive(children=(Dropdown(description='mode', options=('eval', 'train'), value='eval'), Dropdown(descript…"
      ]
     },
     "metadata": {},
     "output_type": "display_data"
    }
   ],
   "source": [
    "options = tracker.get_only_varied_hyperparam_columns()\n",
    "# if len(options) == 0:\n",
    "#     options = [None]\n",
    "dropdown_colorby = widgets.Dropdown(options=[None, *options], value=options[0])\n",
    "_ = widgets.interact(tracker.show_all_runs, \n",
    "                     mode=[\"eval\", \"train\"], \n",
    "                     metric=tracker.metrics_used, \n",
    "                     n_samples_for_smoothing=widgets.IntSlider(value=tracker.performance_eval_params[\"smoothing\"], min=1, max=15), \n",
    "                     show_separate_folds=True, \n",
    "                     show_std_area_plot=False,\n",
    "                     show_n_best_runs=widgets.IntSlider(value=10, min=1, max=tracker.n_hyperparameter_runs),\n",
    "                     color_by_hyperparameter=dropdown_colorby)"
   ]
  },
  {
   "cell_type": "code",
   "execution_count": 52,
   "id": "ab612294-eca8-489d-8743-794ae7278edf",
   "metadata": {
    "tags": []
   },
   "outputs": [],
   "source": [
    "def get_list_of_best_n_runs(sort_by_metric=True, metric=\"auc_roc\"):\n",
    "    # this way, the dropdown menu of run_id below is sorted by metric performance specified\n",
    "    if sort_by_metric:\n",
    "        hyperparameter_settings = [str(tracker.crossval_runs[idx].parameters) for idx in tracker.get_indices_of_best_n_runs(tracker.n_hyperparameter_runs, metric)]\n",
    "    else:\n",
    "        hyperparameter_settings = tracker.run_ids\n",
    "    return hyperparameter_settings"
   ]
  },
  {
   "cell_type": "code",
   "execution_count": 53,
   "id": "a9948dab-cc00-4282-9254-04f0a52da1a2",
   "metadata": {
    "tags": []
   },
   "outputs": [
    {
     "data": {
      "application/vnd.jupyter.widget-view+json": {
       "model_id": "4440aeea785e4ad9bcd9f6dcff17da76",
       "version_major": 2,
       "version_minor": 0
      },
      "text/plain": [
       "interactive(children=(Dropdown(description='run_id', options=('{\\'batch\\': \\'24\\', \\'lr\\': \\'8e-05\\', \\'wd\\': …"
      ]
     },
     "metadata": {},
     "output_type": "display_data"
    }
   ],
   "source": [
    "_ = widgets.interact(tracker.show_single_run, \n",
    "                 run_id=get_list_of_best_n_runs(sort_by_metric=True, metric=\"auc_roc\"),\n",
    "                 mode=[\"eval\", \"train\"], \n",
    "                 metric=tracker.metrics_used, \n",
    "                 n_samples_for_smoothing=widgets.IntSlider(value=tracker.performance_eval_params[\"smoothing\"], min=1, max=15), \n",
    "                 show_separate_folds=True, \n",
    "                 show_std_area_plot=True)"
   ]
  },
  {
   "cell_type": "code",
   "execution_count": null,
   "id": "36c401b3-7cdb-48dd-92d7-dbab8e2c93d8",
   "metadata": {},
   "outputs": [],
   "source": []
  },
  {
   "cell_type": "code",
   "execution_count": null,
   "id": "464a6a33-283d-4def-8e24-8b87e409fe8b",
   "metadata": {},
   "outputs": [],
   "source": []
  },
  {
   "cell_type": "code",
   "execution_count": null,
   "id": "d797ed96-d04b-4f14-a724-c679595f6d23",
   "metadata": {},
   "outputs": [],
   "source": []
  },
  {
   "cell_type": "code",
   "execution_count": null,
   "id": "915bb7ce-c457-4cc0-ba4a-0519a329b52a",
   "metadata": {},
   "outputs": [],
   "source": []
  },
  {
   "cell_type": "code",
   "execution_count": 31,
   "id": "70aa1f24-0af9-4b63-8ee5-c7e32bf9ad64",
   "metadata": {},
   "outputs": [],
   "source": [
    "def load_tracker(verbosity=None):\n",
    "    root = tk.Tk()\n",
    "    path = filedialog.askopenfilename(initialdir=\"run/tracker_saves\", title=\"Select a File\",\n",
    "                                      filetypes=[(\"Pickled Tracker Files\", \"*.pickle*\")])\n",
    "    root.destroy()\n",
    "    print(f\"Loading Tracker from: {path}\")\n",
    "    with open(path, \"rb\") as f:\n",
    "        tracker = pickle.load(f)\n",
    "\n",
    "    tracker.compute_overall_metrics(smooth_n_samples=2, ignore_first_n_epochs=2,\n",
    "                                    metric_used_for_performance_analysis=\"auc_roc\")\n",
    "    if verbosity is not None:\n",
    "        tracker.summarize(verbosity)\n",
    "\n",
    "    # print(f\"\\nTracker contains:\\n>>  {tracker.n_hyperparameter_runs} <<  parameter runs\\n\"\n",
    "    #       f\">>  {tracker.k_folds_for_cross_validation} <<  folds per run\\n\"\n",
    "    #       f\">> {tracker.n_epochs} <<  epochs\")\n",
    "    return tracker\n"
   ]
  },
  {
   "cell_type": "code",
   "execution_count": 32,
   "id": "f33baa0c-c541-43c3-a2a4-1bec16ba1c43",
   "metadata": {},
   "outputs": [
    {
     "name": "stdout",
     "output_type": "stream",
     "text": [
      "Loading Tracker from: \n"
     ]
    },
    {
     "ename": "FileNotFoundError",
     "evalue": "[Errno 2] No such file or directory: ''",
     "output_type": "error",
     "traceback": [
      "\u001b[1;31m---------------------------------------------------------------------------\u001b[0m",
      "\u001b[1;31mFileNotFoundError\u001b[0m                         Traceback (most recent call last)",
      "Cell \u001b[1;32mIn[32], line 5\u001b[0m\n\u001b[0;32m      2\u001b[0m \u001b[38;5;28;01mimport\u001b[39;00m \u001b[38;5;21;01mpickle\u001b[39;00m\n\u001b[0;32m      4\u001b[0m \u001b[38;5;28;01mimport\u001b[39;00m \u001b[38;5;21;01mtkinter\u001b[39;00m \u001b[38;5;28;01mas\u001b[39;00m \u001b[38;5;21;01mtk\u001b[39;00m\n\u001b[1;32m----> 5\u001b[0m tracker \u001b[38;5;241m=\u001b[39m \u001b[43mload_tracker\u001b[49m\u001b[43m(\u001b[49m\u001b[43m)\u001b[49m\n",
      "Cell \u001b[1;32mIn[31], line 7\u001b[0m, in \u001b[0;36mload_tracker\u001b[1;34m(verbosity)\u001b[0m\n\u001b[0;32m      5\u001b[0m root\u001b[38;5;241m.\u001b[39mdestroy()\n\u001b[0;32m      6\u001b[0m \u001b[38;5;28mprint\u001b[39m(\u001b[38;5;124mf\u001b[39m\u001b[38;5;124m\"\u001b[39m\u001b[38;5;124mLoading Tracker from: \u001b[39m\u001b[38;5;132;01m{\u001b[39;00mpath\u001b[38;5;132;01m}\u001b[39;00m\u001b[38;5;124m\"\u001b[39m)\n\u001b[1;32m----> 7\u001b[0m \u001b[38;5;28;01mwith\u001b[39;00m \u001b[38;5;28;43mopen\u001b[39;49m\u001b[43m(\u001b[49m\u001b[43mpath\u001b[49m\u001b[43m,\u001b[49m\u001b[43m \u001b[49m\u001b[38;5;124;43m\"\u001b[39;49m\u001b[38;5;124;43mrb\u001b[39;49m\u001b[38;5;124;43m\"\u001b[39;49m\u001b[43m)\u001b[49m \u001b[38;5;28;01mas\u001b[39;00m f:\n\u001b[0;32m      8\u001b[0m     tracker \u001b[38;5;241m=\u001b[39m pickle\u001b[38;5;241m.\u001b[39mload(f)\n\u001b[0;32m     10\u001b[0m tracker\u001b[38;5;241m.\u001b[39mcompute_overall_metrics(smooth_n_samples\u001b[38;5;241m=\u001b[39m\u001b[38;5;241m2\u001b[39m, ignore_first_n_epochs\u001b[38;5;241m=\u001b[39m\u001b[38;5;241m2\u001b[39m,\n\u001b[0;32m     11\u001b[0m                                 metric_used_for_performance_analysis\u001b[38;5;241m=\u001b[39m\u001b[38;5;124m\"\u001b[39m\u001b[38;5;124mauc_roc\u001b[39m\u001b[38;5;124m\"\u001b[39m)\n",
      "File \u001b[1;32m~\\Anaconda3\\envs\\python_v3-8\\lib\\site-packages\\IPython\\core\\interactiveshell.py:282\u001b[0m, in \u001b[0;36m_modified_open\u001b[1;34m(file, *args, **kwargs)\u001b[0m\n\u001b[0;32m    275\u001b[0m \u001b[38;5;28;01mif\u001b[39;00m file \u001b[38;5;129;01min\u001b[39;00m {\u001b[38;5;241m0\u001b[39m, \u001b[38;5;241m1\u001b[39m, \u001b[38;5;241m2\u001b[39m}:\n\u001b[0;32m    276\u001b[0m     \u001b[38;5;28;01mraise\u001b[39;00m \u001b[38;5;167;01mValueError\u001b[39;00m(\n\u001b[0;32m    277\u001b[0m         \u001b[38;5;124mf\u001b[39m\u001b[38;5;124m\"\u001b[39m\u001b[38;5;124mIPython won\u001b[39m\u001b[38;5;124m'\u001b[39m\u001b[38;5;124mt let you open fd=\u001b[39m\u001b[38;5;132;01m{\u001b[39;00mfile\u001b[38;5;132;01m}\u001b[39;00m\u001b[38;5;124m by default \u001b[39m\u001b[38;5;124m\"\u001b[39m\n\u001b[0;32m    278\u001b[0m         \u001b[38;5;124m\"\u001b[39m\u001b[38;5;124mas it is likely to crash IPython. If you know what you are doing, \u001b[39m\u001b[38;5;124m\"\u001b[39m\n\u001b[0;32m    279\u001b[0m         \u001b[38;5;124m\"\u001b[39m\u001b[38;5;124myou can use builtins\u001b[39m\u001b[38;5;124m'\u001b[39m\u001b[38;5;124m open.\u001b[39m\u001b[38;5;124m\"\u001b[39m\n\u001b[0;32m    280\u001b[0m     )\n\u001b[1;32m--> 282\u001b[0m \u001b[38;5;28;01mreturn\u001b[39;00m \u001b[43mio_open\u001b[49m\u001b[43m(\u001b[49m\u001b[43mfile\u001b[49m\u001b[43m,\u001b[49m\u001b[43m \u001b[49m\u001b[38;5;241;43m*\u001b[39;49m\u001b[43margs\u001b[49m\u001b[43m,\u001b[49m\u001b[43m \u001b[49m\u001b[38;5;241;43m*\u001b[39;49m\u001b[38;5;241;43m*\u001b[39;49m\u001b[43mkwargs\u001b[49m\u001b[43m)\u001b[49m\n",
      "\u001b[1;31mFileNotFoundError\u001b[0m: [Errno 2] No such file or directory: ''"
     ]
    }
   ],
   "source": [
    "from tkinter import filedialog\n",
    "import pickle\n",
    "\n",
    "import tkinter as tk\n",
    "tracker = load_tracker()"
   ]
  },
  {
   "cell_type": "code",
   "execution_count": null,
   "id": "4ad273c1-7202-4bb2-8d48-aa198a398400",
   "metadata": {},
   "outputs": [],
   "source": [
    "from torch import nn\n",
    "from utils.utils import FocalLoss\n",
    "import torch"
   ]
  },
  {
   "cell_type": "code",
   "execution_count": 26,
   "id": "dddca6fb-a6c3-4fdb-8f76-8d5fac94c16d",
   "metadata": {},
   "outputs": [],
   "source": [
    "focal_loss = FocalLoss(gamma=0, pos_weight=1, reduction='mean',\n",
    "                                      exclude_outliers=0)"
   ]
  },
  {
   "cell_type": "code",
   "execution_count": 27,
   "id": "8bf8943e-fb64-4008-90f5-38f268e28e1b",
   "metadata": {},
   "outputs": [],
   "source": [
    "bce_loss = nn.BCEWithLogitsLoss(pos_weight=torch.tensor([1]), reduction='mean')"
   ]
  },
  {
   "cell_type": "code",
   "execution_count": 37,
   "id": "80b10dd8-cb13-4218-ba1d-7511d1a4f137",
   "metadata": {},
   "outputs": [
    {
     "data": {
      "text/plain": [
       "(tensor([0.]), torch.float32)"
      ]
     },
     "execution_count": 37,
     "metadata": {},
     "output_type": "execute_result"
    }
   ],
   "source": [
    "predictions = torch.tensor([0.0])\n",
    "labels = torch.tensor([0.0])\n",
    "predictions, labels.dtype"
   ]
  },
  {
   "cell_type": "code",
   "execution_count": 38,
   "id": "ef6dc72c-c39f-4a46-bcde-f48d63ac9e6e",
   "metadata": {},
   "outputs": [
    {
     "data": {
      "text/plain": [
       "tensor(0.6931)"
      ]
     },
     "execution_count": 38,
     "metadata": {},
     "output_type": "execute_result"
    }
   ],
   "source": [
    "focal_loss(predictions, labels)"
   ]
  },
  {
   "cell_type": "code",
   "execution_count": 39,
   "id": "04f3d498-83f6-4c59-927f-59b519a83d56",
   "metadata": {},
   "outputs": [
    {
     "data": {
      "text/plain": [
       "tensor(0.6931)"
      ]
     },
     "execution_count": 39,
     "metadata": {},
     "output_type": "execute_result"
    }
   ],
   "source": [
    "bce_loss(predictions, labels)"
   ]
  },
  {
   "cell_type": "code",
   "execution_count": 50,
   "id": "62ecbabd-31e0-4996-9eb1-7a502dec8cf0",
   "metadata": {},
   "outputs": [],
   "source": [
    "dropout = nn.Dropout(p=0.0)\n"
   ]
  },
  {
   "cell_type": "code",
   "execution_count": 51,
   "id": "30583cd9-fddd-4629-b5a0-0706795243e5",
   "metadata": {},
   "outputs": [
    {
     "data": {
      "text/plain": [
       "tensor([0.9171, 0.2751, 0.4463, 0.1350, 0.0911, 0.8432, 0.0873, 0.1759, 0.6326,\n",
       "        0.4736])"
      ]
     },
     "execution_count": 51,
     "metadata": {},
     "output_type": "execute_result"
    }
   ],
   "source": [
    "dropout(torch.rand(10))"
   ]
  },
  {
   "cell_type": "code",
   "execution_count": null,
   "id": "e00a7ea0-6aaa-440d-a305-7427359d1700",
   "metadata": {},
   "outputs": [],
   "source": []
  }
 ],
 "metadata": {
  "kernelspec": {
   "display_name": "Python (python_v3-8)",
   "language": "python",
   "name": "python_v3-8"
  },
  "language_info": {
   "codemirror_mode": {
    "name": "ipython",
    "version": 3
   },
   "file_extension": ".py",
   "mimetype": "text/x-python",
   "name": "python",
   "nbconvert_exporter": "python",
   "pygments_lexer": "ipython3",
   "version": "3.8.13"
  }
 },
 "nbformat": 4,
 "nbformat_minor": 5
}
