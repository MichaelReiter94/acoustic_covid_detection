{
 "cells": [
  {
   "cell_type": "code",
   "execution_count": 290,
   "id": "25900946-2351-4d40-a84f-2a9ebf320579",
   "metadata": {},
   "outputs": [
    {
     "name": "stdout",
     "output_type": "stream",
     "text": [
      "C:\\Michi\\acoustic_covid_detection\\python\n"
     ]
    }
   ],
   "source": [
    "import pandas as pd\n",
    "import numpy as np\n",
    "from jupyter_utils import jupyter_setup, load_tracker\n",
    "import ipywidgets as widgets\n",
    "jupyter_setup()\n",
    "import plotly.graph_objects as go\n",
    "import plotly.express as ex\n",
    "pd.set_option('display.max_colwidth', None)\n",
    "pd.set_option('display.max_columns', None)"
   ]
  },
  {
   "cell_type": "code",
   "execution_count": 291,
   "id": "4d955e93-e774-45a3-92fd-06395b1e4635",
   "metadata": {},
   "outputs": [
    {
     "name": "stdout",
     "output_type": "stream",
     "text": [
      "Loading Tracker from: C:/Michi/acoustic_covid_detection/python/run/tracker_saves/006_time_domain_augmentations/2023-08-11_resnet18_logmel_combined_speech_NEW_23msHop_46msFFT_multiple_augmented_sets_time_domain_augmentations_extended.pickle\n",
      "\n",
      "Parameters used for finding the best performing epoch:\n",
      "           metric_used:                   auc_roc\n",
      "           smoothing:                     5\n",
      "           ignore_first_n_epochs:         5\n"
     ]
    }
   ],
   "source": [
    "tracker = load_tracker()\n",
    "# tracker.summarize(detail=\"compact\")"
   ]
  },
  {
   "cell_type": "code",
   "execution_count": 292,
   "id": "5c6806ad-f200-435b-99fc-b504c286d8d0",
   "metadata": {},
   "outputs": [
    {
     "name": "stdout",
     "output_type": "stream",
     "text": [
      "\n",
      "Datasets used:\n",
      "logmel_combined_speech_NEW_23msHop_46msFFT_multiple_augmented_sets\n",
      "           dataset_class:                 <class 'datasets.ResnetLogmelDataset'>\n",
      "           participants_file:             2023_06_25_logmel_combined_speech_NEW_23msHop_46msFFT_fmax11000_224logmel.pickle\n",
      "           augmented_files:               ['2023_07_17_logmel_combined_speech_01_23msHop_46msFFT_fmax11000_224logmel_0x1xaugmented.pickle', '2023_07_17_logmel_combined_speech_02_23msHop_46msFFT_fmax11000_224logmel_0x1xaugmented.pickle', '2023_07_17_logmel_combined_speech_03_23msHop_46msFFT_fmax11000_224logmel_0x1xaugmented.pickle', '2023_07_17_logmel_combined_speech_04_23msHop_46msFFT_fmax11000_224logmel_0x1xaugmented.pickle', '2023_07_17_logmel_combined_speech_10_23msHop_46msFFT_fmax11000_224logmel_1x0xaugmented.pickle']\n",
      "           train_set_label_counts:        label '0': 1784  -  label '1': 1280\n",
      "           types_of_recording:            combined_speech\n",
      "\n",
      "Audio Processing Parameters:\n",
      "           type_of_features:              logmel\n",
      "           n_time_steps:                  224\n",
      "           n_features:                    224\n",
      "           sample_rate:                   22050\n",
      "           n_fft:                         8192\n",
      "           window_length:                 1024\n",
      "           hop_size:                      512\n",
      "           fmin:                          0\n",
      "           fmax:                          11025\n",
      "           hop_size_ms:                   23.22\n",
      "           window_length_ms:              46.44\n",
      "           duration_seconds:              5.2\n",
      "           fft_res_hz:                    2.69\n",
      "\n",
      "Predetermined Time Domain Augmentations:\n",
      "           AddGaussianNoise:              'probability': 0.6, 'min_amplitude': 0.0003, 'max_amplitude': 0.01\n",
      "           PitchShift:                    'probability': 0.6, 'min_semitones': -2, 'max_semitones': 2\n",
      "           TimeStretch:                   'probability': 0.6, 'min_rate': 0.95, 'max_rate': 1.05\n",
      "           Gain:                          'probability': 0.6, 'min_gain_in_db': -18, 'max_gain_in_db': 12\n",
      "           AddGaussianNoise:              'probability': 0.6, 'min_amplitude': 0.0003, 'max_amplitude': 0.01\n",
      "           PitchShift:                    'probability': 0.6, 'min_semitones': -2, 'max_semitones': 2\n",
      "           TimeStretch:                   'probability': 0.6, 'min_rate': 0.95, 'max_rate': 1.05\n",
      "           Gain:                          'probability': 0.6, 'min_gain_in_db': -18, 'max_gain_in_db': 12\n",
      "           AddGaussianNoise:              'probability': 0.6, 'min_amplitude': 0.0003, 'max_amplitude': 0.01\n",
      "           PitchShift:                    'probability': 0.6, 'min_semitones': -2, 'max_semitones': 2\n",
      "           TimeStretch:                   'probability': 0.6, 'min_rate': 0.95, 'max_rate': 1.05\n",
      "           Gain:                          'probability': 0.6, 'min_gain_in_db': -18, 'max_gain_in_db': 12\n",
      "           AddGaussianNoise:              'probability': 0.6, 'min_amplitude': 0.0003, 'max_amplitude': 0.01\n",
      "           PitchShift:                    'probability': 0.6, 'min_semitones': -2, 'max_semitones': 2\n",
      "           TimeStretch:                   'probability': 0.6, 'min_rate': 0.95, 'max_rate': 1.05\n",
      "           Gain:                          'probability': 0.6, 'min_gain_in_db': -18, 'max_gain_in_db': 12\n",
      "           AddGaussianNoise:              'probability': 0.6, 'min_amplitude': 0.0003, 'max_amplitude': 0.01\n",
      "           PitchShift:                    'probability': 0.6, 'min_semitones': -2, 'max_semitones': 2\n",
      "           TimeStretch:                   'probability': 0.6, 'min_rate': 0.95, 'max_rate': 1.05\n",
      "           Gain:                          'probability': 0.6, 'min_gain_in_db': -18, 'max_gain_in_db': 12\n",
      "           model:                         ResNet\n",
      "           optimizer:                     Adam \n",
      "           loss_function:                 sigmoid_focal_loss\n",
      "\n",
      "Tracker contains:\n",
      "           parameter runs:                12\n",
      "           folds per run:                 5\n",
      "           epochs:                        100\n"
     ]
    }
   ],
   "source": [
    "tracker.summarize(detail=\"compact\")\n",
    "# tracker.summarize(detail=\"detail\")"
   ]
  },
  {
   "cell_type": "code",
   "execution_count": 293,
   "id": "8a88e565-f932-4e07-ab7c-f2f3d3079541",
   "metadata": {},
   "outputs": [
    {
     "data": {
      "text/html": [
       "<div>\n",
       "<style scoped>\n",
       "    .dataframe tbody tr th:only-of-type {\n",
       "        vertical-align: middle;\n",
       "    }\n",
       "\n",
       "    .dataframe tbody tr th {\n",
       "        vertical-align: top;\n",
       "    }\n",
       "\n",
       "    .dataframe thead th {\n",
       "        text-align: right;\n",
       "    }\n",
       "</style>\n",
       "<table border=\"1\" class=\"dataframe\">\n",
       "  <thead>\n",
       "    <tr style=\"text-align: right;\">\n",
       "      <th></th>\n",
       "      <th>AddGaussianNoise</th>\n",
       "      <th>PitchShift</th>\n",
       "      <th>TimeStretch</th>\n",
       "      <th>Gain</th>\n",
       "    </tr>\n",
       "  </thead>\n",
       "  <tbody>\n",
       "    <tr>\n",
       "      <th>0</th>\n",
       "      <td>'probability': 0.6, 'min_amplitude': 0.0003, 'max_amplitude': 0.01</td>\n",
       "      <td>'probability': 0.6, 'min_semitones': -2, 'max_semitones': 2</td>\n",
       "      <td>'probability': 0.6, 'min_rate': 0.95, 'max_rate': 1.05</td>\n",
       "      <td>'probability': 0.6, 'min_gain_in_db': -18, 'max_gain_in_db': 12</td>\n",
       "    </tr>\n",
       "    <tr>\n",
       "      <th>1</th>\n",
       "      <td>'probability': 0.6, 'min_amplitude': 0.0003, 'max_amplitude': 0.01</td>\n",
       "      <td>'probability': 0.6, 'min_semitones': -2, 'max_semitones': 2</td>\n",
       "      <td>'probability': 0.6, 'min_rate': 0.95, 'max_rate': 1.05</td>\n",
       "      <td>'probability': 0.6, 'min_gain_in_db': -18, 'max_gain_in_db': 12</td>\n",
       "    </tr>\n",
       "    <tr>\n",
       "      <th>2</th>\n",
       "      <td>'probability': 0.6, 'min_amplitude': 0.0003, 'max_amplitude': 0.01</td>\n",
       "      <td>'probability': 0.6, 'min_semitones': -2, 'max_semitones': 2</td>\n",
       "      <td>'probability': 0.6, 'min_rate': 0.95, 'max_rate': 1.05</td>\n",
       "      <td>'probability': 0.6, 'min_gain_in_db': -18, 'max_gain_in_db': 12</td>\n",
       "    </tr>\n",
       "    <tr>\n",
       "      <th>3</th>\n",
       "      <td>'probability': 0.6, 'min_amplitude': 0.0003, 'max_amplitude': 0.01</td>\n",
       "      <td>'probability': 0.6, 'min_semitones': -2, 'max_semitones': 2</td>\n",
       "      <td>'probability': 0.6, 'min_rate': 0.95, 'max_rate': 1.05</td>\n",
       "      <td>'probability': 0.6, 'min_gain_in_db': -18, 'max_gain_in_db': 12</td>\n",
       "    </tr>\n",
       "    <tr>\n",
       "      <th>4</th>\n",
       "      <td>'probability': 0.6, 'min_amplitude': 0.0003, 'max_amplitude': 0.01</td>\n",
       "      <td>'probability': 0.6, 'min_semitones': -2, 'max_semitones': 2</td>\n",
       "      <td>'probability': 0.6, 'min_rate': 0.95, 'max_rate': 1.05</td>\n",
       "      <td>'probability': 0.6, 'min_gain_in_db': -18, 'max_gain_in_db': 12</td>\n",
       "    </tr>\n",
       "  </tbody>\n",
       "</table>\n",
       "</div>"
      ],
      "text/plain": [
       "                                                     AddGaussianNoise  \\\n",
       "0  'probability': 0.6, 'min_amplitude': 0.0003, 'max_amplitude': 0.01   \n",
       "1  'probability': 0.6, 'min_amplitude': 0.0003, 'max_amplitude': 0.01   \n",
       "2  'probability': 0.6, 'min_amplitude': 0.0003, 'max_amplitude': 0.01   \n",
       "3  'probability': 0.6, 'min_amplitude': 0.0003, 'max_amplitude': 0.01   \n",
       "4  'probability': 0.6, 'min_amplitude': 0.0003, 'max_amplitude': 0.01   \n",
       "\n",
       "                                                    PitchShift  \\\n",
       "0  'probability': 0.6, 'min_semitones': -2, 'max_semitones': 2   \n",
       "1  'probability': 0.6, 'min_semitones': -2, 'max_semitones': 2   \n",
       "2  'probability': 0.6, 'min_semitones': -2, 'max_semitones': 2   \n",
       "3  'probability': 0.6, 'min_semitones': -2, 'max_semitones': 2   \n",
       "4  'probability': 0.6, 'min_semitones': -2, 'max_semitones': 2   \n",
       "\n",
       "                                              TimeStretch  \\\n",
       "0  'probability': 0.6, 'min_rate': 0.95, 'max_rate': 1.05   \n",
       "1  'probability': 0.6, 'min_rate': 0.95, 'max_rate': 1.05   \n",
       "2  'probability': 0.6, 'min_rate': 0.95, 'max_rate': 1.05   \n",
       "3  'probability': 0.6, 'min_rate': 0.95, 'max_rate': 1.05   \n",
       "4  'probability': 0.6, 'min_rate': 0.95, 'max_rate': 1.05   \n",
       "\n",
       "                                                              Gain  \n",
       "0  'probability': 0.6, 'min_gain_in_db': -18, 'max_gain_in_db': 12  \n",
       "1  'probability': 0.6, 'min_gain_in_db': -18, 'max_gain_in_db': 12  \n",
       "2  'probability': 0.6, 'min_gain_in_db': -18, 'max_gain_in_db': 12  \n",
       "3  'probability': 0.6, 'min_gain_in_db': -18, 'max_gain_in_db': 12  \n",
       "4  'probability': 0.6, 'min_gain_in_db': -18, 'max_gain_in_db': 12  "
      ]
     },
     "execution_count": 293,
     "metadata": {},
     "output_type": "execute_result"
    }
   ],
   "source": [
    "pd.DataFrame(tracker.augmentations)"
   ]
  },
  {
   "cell_type": "code",
   "execution_count": 294,
   "id": "76ece74f-fd67-4c38-91df-feab0ff1a455",
   "metadata": {},
   "outputs": [
    {
     "name": "stdout",
     "output_type": "stream",
     "text": [
      "logmel_combined_speech_NEW_23msHop_46msFFT_multiple_augmented_sets\n",
      "{'model': 'ResNet', 'optimizer': 'Adam ', 'loss_function': 'sigmoid_focal_loss'}\n"
     ]
    },
    {
     "data": {
      "text/plain": [
       "{'dataset_class': datasets.ResnetLogmelDataset,\n",
       " 'participants_file': '2023_06_25_logmel_combined_speech_NEW_23msHop_46msFFT_fmax11000_224logmel.pickle',\n",
       " 'augmented_files': ['2023_07_17_logmel_combined_speech_01_23msHop_46msFFT_fmax11000_224logmel_0x1xaugmented.pickle',\n",
       "  '2023_07_17_logmel_combined_speech_02_23msHop_46msFFT_fmax11000_224logmel_0x1xaugmented.pickle',\n",
       "  '2023_07_17_logmel_combined_speech_03_23msHop_46msFFT_fmax11000_224logmel_0x1xaugmented.pickle',\n",
       "  '2023_07_17_logmel_combined_speech_04_23msHop_46msFFT_fmax11000_224logmel_0x1xaugmented.pickle',\n",
       "  '2023_07_17_logmel_combined_speech_10_23msHop_46msFFT_fmax11000_224logmel_1x0xaugmented.pickle'],\n",
       " 'train_set_label_counts': \"label '0': 1784  -  label '1': 1280\",\n",
       " 'types_of_recording': 'combined_speech'}"
      ]
     },
     "execution_count": 294,
     "metadata": {},
     "output_type": "execute_result"
    }
   ],
   "source": [
    "import pandas as pd\n",
    "key = tracker.datasets.keys()\n",
    "key=list(key)[0]\n",
    "print(key)\n",
    "print(tracker.model_and_training_parameters[\"compact\"])\n",
    "# pd.DataFrame(tracker.datasets[key], index = [0])\n",
    "tracker.datasets[key]"
   ]
  },
  {
   "cell_type": "code",
   "execution_count": 295,
   "id": "5277788f-7ece-4a1e-8160-555c08ad3693",
   "metadata": {},
   "outputs": [
    {
     "data": {
      "application/vnd.jupyter.widget-view+json": {
       "model_id": "62fc8b95b42643009805787ae5819c87",
       "version_major": 2,
       "version_minor": 0
      },
      "text/plain": [
       "interactive(children=(Checkbox(value=False, description='dataset_and_model'), Checkbox(value=True, description…"
      ]
     },
     "metadata": {},
     "output_type": "display_data"
    }
   ],
   "source": [
    "_ = widgets.interact(tracker.get_data_and_model_params, dataset_and_model=False, audio_processing=True, augmentations=False)"
   ]
  },
  {
   "cell_type": "markdown",
   "id": "5ce061a2-2a7c-4d7f-9a51-db8d8457e651",
   "metadata": {},
   "source": [
    "# Compute Tracker Metrics:\n",
    "when loading the tracker (load_tracker()), the recorded data will be loaded and preprocessed (cross validation mean/std and much more will be calculated). This is essential. Otherwise none of the following functionality works. You can call the preprocessing function manually (tracker.compute_overall_metrics()) to change the settings for processing. The available parameters are: <br>\n",
    "- smooth_n_samples=10 <br>\n",
    "This sets the number of samples over which a (weighted) moving average filter is applied before looking for a min/max of the curve or calculate the mean.\n",
    "- ignore_first_n_epochs=5 <br>\n",
    "Simply do not take the first n epochs into account when looking for a min/max\n",
    "- metric_used_for_performance_analysis=\"auc_roc\" <br>\n",
    "The epoch on which the performance for all metrics will be evaluated for a specific run will be chosen by looking for the min/max in this metric. This means, that if the AUC ROC curve is chosen in the argument, it will look for the argmax of the AUC ROC curve and evaluate loss, accuracy, F1 etc in this exact epoch even when they have their extremum in another epoch  <br>"
   ]
  },
  {
   "cell_type": "code",
   "execution_count": 296,
   "id": "f05b3fcd-7bd6-41c7-9027-e462fe98e811",
   "metadata": {},
   "outputs": [
    {
     "name": "stdout",
     "output_type": "stream",
     "text": [
      "\n",
      "Parameters used for finding the best performing epoch:\n",
      "           metric_used:                   auc_roc\n",
      "           smoothing:                     10\n",
      "           ignore_first_n_epochs:         10\n"
     ]
    }
   ],
   "source": [
    "n_samples = 10\n",
    "tracker.compute_overall_metrics(smooth_n_samples=n_samples, ignore_first_n_epochs=n_samples, metric_used_for_performance_analysis=\"auc_roc\")"
   ]
  },
  {
   "cell_type": "markdown",
   "id": "8552cbf1-2f4d-41f3-8783-d8a808f14e34",
   "metadata": {},
   "source": [
    "# Evaluate the Cross Validation Results\n",
    "For each run within a cross validation setting, the epoch of the min/max will be calculated and all metrics evaluated at this metric (after being smoothed as specified). The mean and std are calculated from the (in the default case) epoch where AUC ROC hits the global maximum. The resulting table can be adjusted with the jupyter widgets: <br>\n",
    "- The styled table can be sorted by metric values (first drop down)  <br>\n",
    "- by ticking \"show_full_df\" you can also display e.g. the standard deviation of each metric\n",
    "- If you tick \"highlight parameters\" all hyperparameters, that changed thoughout the different runs, are highlighted by value. <br>\n",
    "- The sliders below can be adjusted to filter out all runs with results worse than the slider setting  <br>\n",
    "For more details (standard deviation e.g.), the cell below does exaclty the same but with "
   ]
  },
  {
   "cell_type": "code",
   "execution_count": 297,
   "id": "d542739c-2cb0-4fef-a26c-0e4926bed5f9",
   "metadata": {},
   "outputs": [
    {
     "data": {
      "application/vnd.jupyter.widget-view+json": {
       "model_id": "007532aada9b44fba8f81a8dd6a646fc",
       "version_major": 2,
       "version_minor": 0
      },
      "text/plain": [
       "interactive(children=(Dropdown(description='sort_descending_by_metric', options=('auc_roc', 'loss', 'accuracy'…"
      ]
     },
     "metadata": {},
     "output_type": "display_data"
    }
   ],
   "source": [
    "def sortby(sort_descending_by_metric, highlight_hyperparameters, show_full_df, **kwargs):\n",
    "    # thresholds = {\"auc_roc\": auc_threshold}\n",
    "    if show_full_df:\n",
    "        df = tracker.full_metric_performance_df\n",
    "    else:\n",
    "        df = tracker.compact_metric_performance_df\n",
    "    style = tracker.style_metric_performance_df(df, sort_by=sort_descending_by_metric, highlight_hyperparameters=highlight_hyperparameters, filter_thresholds=kwargs)\n",
    "    return style\n",
    "_ = widgets.interact(sortby, sort_descending_by_metric=tracker.metrics_used, highlight_hyperparameters=True, show_full_df=False,\n",
    "                auc_roc=widgets.FloatSlider(min=0.0, max=1.0, value=0.6, step=0.005),\n",
    "                accuracy=widgets.FloatSlider(min=0.0, max=1.0, value=0.6, step=0.005),\n",
    "                tpr=widgets.FloatSlider(min=0.0, max=1.0, value=0.4, step=0.005),\n",
    "                tnr=widgets.FloatSlider(min=0.0, max=1.0, value=0.6, step=0.005)\n",
    "                )"
   ]
  },
  {
   "cell_type": "markdown",
   "id": "b2166ddb-c2e4-4485-a148-ed5344e27dfd",
   "metadata": {},
   "source": [
    "# Box Plot the Hyperpaprameter Performances\n",
    "Each metric is viewed separately. You can also choose to only look at the n_best performing hyperparameter runs. <br>\n",
    "Depending on whether \"sort_by_current_metric\" is ticked this means something different. If it is not ticked, all runs will be sorted by the metric defined in the beginning (tracker.compute_overall_metrics()). Otherwise it will be sorted by the performance of the metric you have chosen to look at. This is very usefull  to get insight on which setting of a specific hyperparameter affects specific metrics. Some hyperparameter may for example improve the AUC ROC a bit but in the F1 or tnr metric they clearly hava a negative impact."
   ]
  },
  {
   "cell_type": "code",
   "execution_count": 298,
   "id": "2f253649-2a96-486f-8eca-61058c080721",
   "metadata": {},
   "outputs": [
    {
     "data": {
      "application/vnd.jupyter.widget-view+json": {
       "model_id": "b93de2fb46f340079630cdfe06d6b34c",
       "version_major": 2,
       "version_minor": 0
      },
      "text/plain": [
       "interactive(children=(Dropdown(description='metric', options=('auc_roc', 'loss', 'accuracy', 'f1_score', 'auc_…"
      ]
     },
     "metadata": {},
     "output_type": "display_data"
    }
   ],
   "source": [
    "# hyperparameters = (list(tracker.crossval_runs[0].parameters.keys()))\n",
    "options = tracker.get_only_varied_hyperparam_columns()\n",
    "dropdown_colorby = widgets.Dropdown(options=[None, *options], value=options[0])\n",
    "\n",
    "_ = widgets.interact(tracker.boxplot_run_statistics, metric=tracker.metrics_used,\n",
    "                     show_n_best_runs=widgets.IntSlider(value=tracker.n_hyperparameter_runs, min=1, max=tracker.n_hyperparameter_runs),\n",
    "                     color_by_hyperparameter=dropdown_colorby,\n",
    "                     sort_by_current_metric=True)"
   ]
  },
  {
   "cell_type": "markdown",
   "id": "29007e08-25a5-4ae3-bf2e-ab0078140b6c",
   "metadata": {},
   "source": [
    "# Boxplots grouped by combinations excluding 1 hyperparameter\n",
    "This way you can check the impact of 1 hyperparameter for each combination of other hyperparameters"
   ]
  },
  {
   "cell_type": "code",
   "execution_count": 303,
   "id": "92288b41-c290-41e2-8261-39883daf79e9",
   "metadata": {},
   "outputs": [
    {
     "data": {
      "application/vnd.jupyter.widget-view+json": {
       "model_id": "d0baa569ac7843c89ea139ace6bea042",
       "version_major": 2,
       "version_minor": 0
      },
      "text/plain": [
       "interactive(children=(Dropdown(description='metric', options=('auc_roc', 'loss', 'accuracy', 'f1_score', 'auc_…"
      ]
     },
     "metadata": {},
     "output_type": "display_data"
    }
   ],
   "source": [
    "options = tracker.get_only_varied_hyperparam_columns()\n",
    "dropdown_groupby = widgets.Dropdown(options=options, value=options[0])\n",
    "\n",
    "_ = widgets.interact(tracker.boxplot_groupedby_combination, metric=tracker.metrics_used,\n",
    "                     show_n_best_runs=widgets.IntSlider(value=tracker.n_hyperparameter_runs, min=1, max=tracker.n_hyperparameter_runs),\n",
    "                     # group_by_hyperparameter=[\"some\", *tracker.get_only_varied_hyperparam_columns()],\n",
    "                     separate_param=dropdown_groupby,\n",
    "                     sort_by_current_metric=True,\n",
    "                     boxgap=widgets.FloatSlider(value=0.1, min=0.0, max=1.0),\n",
    "                     fontsize=widgets.IntSlider(value=12, min=6, max=20),\n",
    "                    )"
   ]
  },
  {
   "cell_type": "markdown",
   "id": "0d485d42-b345-4cb0-845f-938fe6302df6",
   "metadata": {},
   "source": [
    "Group hyperparameter combination by 1 parameter (opposite of before)"
   ]
  },
  {
   "cell_type": "code",
   "execution_count": 300,
   "id": "149a88c5-0f4d-45fc-83bf-e870f963a8af",
   "metadata": {},
   "outputs": [],
   "source": [
    "# options = tracker.get_only_varied_hyperparam_columns()\n",
    "# dropdown_groupby = widgets.Dropdown(options=options, value=options[0])\n",
    "\n",
    "# _ = widgets.interact(tracker.boxplot_run_statistics_grouped, metric=tracker.metrics_used,\n",
    "#                      show_n_best_runs=widgets.IntSlider(value=tracker.n_hyperparameter_runs, min=1, max=tracker.n_hyperparameter_runs),\n",
    "#                      # group_by_hyperparameter=[\"some\", *tracker.get_only_varied_hyperparam_columns()],\n",
    "#                      group_by_hyperparameter=dropdown_groupby,\n",
    "                     \n",
    "#                      sort_by_current_metric=True)"
   ]
  },
  {
   "cell_type": "markdown",
   "id": "fbaa3bef-ca38-4116-a256-08ce66a06edd",
   "metadata": {},
   "source": [
    "# Metric Performance over Epochs\n",
    "Here we can analyze the cross validation mean of each hyperparameter run over the epochs. You can switch between train and eval mode and choose a specific metric to look at. The solid line is the mean over all folds within a crossval run. This is calculated epoch-wise, so at each epoch the smoothed metric performance of all folds is averaged. In the same way, the standard devaition is calculated and shown as area plot. <br>\n",
    "You can choose to display the area plot (std) and also to view the fold within each crossval run + the epoch in which the in/max of the specified metric (in tracker.compute_overall_metrics()) was found. Additionally you can choose to view only the n best performing hyperparameter runs. The ranking is calculated by the metric set at the beginning (tracker.compute_overall_metrics()). <br>\n",
    "You can change the number of samples to smooth the curves with. The default setting was also set in the compute_overall_metrics method. This is only for visualization and does not change the settings which are used to calculate the final crossval performance.<br>\n",
    "Below is a similar method but it only shows 1 crossval run which can be switched with the dropdown menu."
   ]
  },
  {
   "cell_type": "code",
   "execution_count": 301,
   "id": "d1f46d23-85d4-48d0-8ae0-0c0681deee85",
   "metadata": {},
   "outputs": [],
   "source": [
    "# tracker.crossval_runs[0].runs[4].best_performances[\"eval\"]\n",
    "# tracker.crossval_runs[0].runs.pop(1)"
   ]
  },
  {
   "cell_type": "code",
   "execution_count": 302,
   "id": "3407a633-e593-4d24-86b0-afb12c88baf4",
   "metadata": {},
   "outputs": [
    {
     "data": {
      "application/vnd.jupyter.widget-view+json": {
       "model_id": "d3d3dd2cf05647eeba71b17058b39738",
       "version_major": 2,
       "version_minor": 0
      },
      "text/plain": [
       "interactive(children=(Dropdown(description='mode', options=('eval', 'train', 'test'), value='eval'), Dropdown(…"
      ]
     },
     "metadata": {},
     "output_type": "display_data"
    }
   ],
   "source": [
    "options = tracker.get_only_varied_hyperparam_columns()\n",
    "# if len(options) == 0:\n",
    "#     options = [None]\n",
    "dropdown_colorby = widgets.Dropdown(options=[None, *options], value=options[0])\n",
    "_ = widgets.interact(tracker.show_all_runs, \n",
    "                     mode=[\"eval\", \"train\", \"test\"], \n",
    "                     metric=tracker.metrics_used, \n",
    "                     n_samples_for_smoothing=widgets.IntSlider(value=tracker.performance_eval_params[\"smoothing\"], min=1, max=15), \n",
    "                     show_separate_folds=False, \n",
    "                     show_std_area_plot=False,\n",
    "                     show_n_best_runs=widgets.IntSlider(value=10, min=1, max=tracker.n_hyperparameter_runs),\n",
    "                     color_by_hyperparameter=dropdown_colorby)"
   ]
  },
  {
   "cell_type": "code",
   "execution_count": 243,
   "id": "ab612294-eca8-489d-8743-794ae7278edf",
   "metadata": {
    "tags": []
   },
   "outputs": [],
   "source": [
    "def get_list_of_best_n_runs(sort_by_metric=True, metric=\"auc_roc\"):\n",
    "    # this way, the dropdown menu of run_id below is sorted by metric performance specified\n",
    "    if sort_by_metric:\n",
    "        hyperparameter_settings = [str(tracker.crossval_runs[idx].parameters) for idx in tracker.get_indices_of_best_n_runs(tracker.n_hyperparameter_runs, metric)]\n",
    "    else:\n",
    "        hyperparameter_settings = tracker.run_ids\n",
    "    return hyperparameter_settings"
   ]
  },
  {
   "cell_type": "code",
   "execution_count": 244,
   "id": "a9948dab-cc00-4282-9254-04f0a52da1a2",
   "metadata": {
    "tags": []
   },
   "outputs": [
    {
     "data": {
      "application/vnd.jupyter.widget-view+json": {
       "model_id": "ae18a7ea8da34b7d9099bd2087a6e5fd",
       "version_major": 2,
       "version_minor": 0
      },
      "text/plain": [
       "interactive(children=(Dropdown(description='run_id', options=(\"{'batch': '64', 'lr': '6e-05', 'lr_decay': '0.9…"
      ]
     },
     "metadata": {},
     "output_type": "display_data"
    }
   ],
   "source": [
    "_ = widgets.interact(tracker.show_single_run, \n",
    "                 run_id=get_list_of_best_n_runs(sort_by_metric=True, metric=\"auc_roc\"),\n",
    "                 # mode=[\"eval\", \"train\"], \n",
    "                 metric=tracker.metrics_used, \n",
    "                 n_samples_for_smoothing=widgets.IntSlider(value=tracker.performance_eval_params[\"smoothing\"], min=1, max=15), \n",
    "                 show_separate_folds=True, \n",
    "                 show_std_area_plot=True)"
   ]
  },
  {
   "cell_type": "code",
   "execution_count": null,
   "id": "36c401b3-7cdb-48dd-92d7-dbab8e2c93d8",
   "metadata": {},
   "outputs": [],
   "source": []
  },
  {
   "cell_type": "code",
   "execution_count": null,
   "id": "464a6a33-283d-4def-8e24-8b87e409fe8b",
   "metadata": {},
   "outputs": [],
   "source": []
  },
  {
   "cell_type": "code",
   "execution_count": null,
   "id": "b5508355-3943-4495-866e-53dc48f8149c",
   "metadata": {},
   "outputs": [],
   "source": []
  },
  {
   "cell_type": "code",
   "execution_count": null,
   "id": "97940f39-ab99-423c-b5b8-a9991863613f",
   "metadata": {},
   "outputs": [],
   "source": []
  },
  {
   "cell_type": "markdown",
   "id": "6479b817-db50-4a3b-a846-7c3d7d27a1b7",
   "metadata": {},
   "source": [
    "# Performance DatFrame for *test set*"
   ]
  },
  {
   "cell_type": "code",
   "execution_count": null,
   "id": "1fcbe0eb-c438-4598-8f5a-5ebf4dde519c",
   "metadata": {},
   "outputs": [],
   "source": [
    "def sortby(sort_descending_by_metric, highlight_hyperparameters, show_full_df, **kwargs):\n",
    "    # thresholds = {\"auc_roc\": auc_threshold}\n",
    "    if show_full_df:\n",
    "        df =  tracker.get_metric_performance_df(include=(\"std\", \"params\"), remove_columns=(\"fnr\", \"fpr\"), set_name=\"test\")\n",
    "    else:\n",
    "        df = tracker.get_metric_performance_df(include=\"params\", remove_columns=(\"fnr\", \"fpr\", \"tpr_at_95\"), set_name=\"test\")\n",
    "\n",
    "    style = tracker.style_metric_performance_df(df, sort_by=sort_descending_by_metric, highlight_hyperparameters=highlight_hyperparameters, filter_thresholds=kwargs)\n",
    "    return style\n",
    "_ = widgets.interact(sortby, sort_descending_by_metric=tracker.metrics_used, highlight_hyperparameters=True, show_full_df=False,\n",
    "                auc_roc=widgets.FloatSlider(min=0.0, max=1.0, value=0.6, step=0.005),\n",
    "                accuracy=widgets.FloatSlider(min=0.0, max=1.0, value=0.6, step=0.005),\n",
    "                tpr=widgets.FloatSlider(min=0.0, max=1.0, value=0.4, step=0.005),\n",
    "                tnr=widgets.FloatSlider(min=0.0, max=1.0, value=0.6, step=0.005)\n",
    "                )"
   ]
  },
  {
   "cell_type": "code",
   "execution_count": null,
   "id": "d797ed96-d04b-4f14-a724-c679595f6d23",
   "metadata": {},
   "outputs": [],
   "source": [
    "pd.DataFrame(tracker.crossval_runs[0].best_performance_mean[\"test\"], index=[0])"
   ]
  },
  {
   "cell_type": "code",
   "execution_count": null,
   "id": "cc37fdb2-7346-4eb9-8fe7-9b22bf0bfc6d",
   "metadata": {},
   "outputs": [],
   "source": [
    "pd.DataFrame(tracker.crossval_runs[0].best_performance_std[\"test\"],  index=[0])"
   ]
  },
  {
   "cell_type": "code",
   "execution_count": null,
   "id": "7b160c0b-da53-42a7-bd53-f1b101567810",
   "metadata": {},
   "outputs": [],
   "source": []
  },
  {
   "cell_type": "code",
   "execution_count": null,
   "id": "915bb7ce-c457-4cc0-ba4a-0519a329b52a",
   "metadata": {},
   "outputs": [],
   "source": []
  },
  {
   "cell_type": "code",
   "execution_count": null,
   "id": "70aa1f24-0af9-4b63-8ee5-c7e32bf9ad64",
   "metadata": {},
   "outputs": [],
   "source": [
    "def load_tracker(verbosity=None):\n",
    "    root = tk.Tk()\n",
    "    path = filedialog.askopenfilename(initialdir=\"run/tracker_saves\", title=\"Select a File\",\n",
    "                                      filetypes=[(\"Pickled Tracker Files\", \"*.pickle*\")])\n",
    "    root.destroy()\n",
    "    print(f\"Loading Tracker from: {path}\")\n",
    "    with open(path, \"rb\") as f:\n",
    "        tracker = pickle.load(f)\n",
    "\n",
    "    tracker.compute_overall_metrics(smooth_n_samples=1, ignore_first_n_epochs=0,\n",
    "                                    metric_used_for_performance_analysis=\"auc_roc\")\n",
    "    if verbosity is not None:\n",
    "        tracker.summarize(verbosity)\n",
    "\n",
    "    # print(f\"\\nTracker contains:\\n>>  {tracker.n_hyperparameter_runs} <<  parameter runs\\n\"\n",
    "    #       f\">>  {tracker.k_folds_for_cross_validation} <<  folds per run\\n\"\n",
    "    #       f\">> {tracker.n_epochs} <<  epochs\")\n",
    "    return tracker\n"
   ]
  },
  {
   "cell_type": "code",
   "execution_count": null,
   "id": "f33baa0c-c541-43c3-a2a4-1bec16ba1c43",
   "metadata": {},
   "outputs": [],
   "source": [
    "from tkinter import filedialog\n",
    "import pickle\n",
    "\n",
    "import tkinter as tk\n",
    "tracker = load_tracker()"
   ]
  },
  {
   "cell_type": "code",
   "execution_count": null,
   "id": "4ad273c1-7202-4bb2-8d48-aa198a398400",
   "metadata": {},
   "outputs": [],
   "source": [
    "from torch import nn\n",
    "from utils.utils import FocalLoss\n",
    "import torch"
   ]
  },
  {
   "cell_type": "code",
   "execution_count": null,
   "id": "dddca6fb-a6c3-4fdb-8f76-8d5fac94c16d",
   "metadata": {},
   "outputs": [],
   "source": [
    "focal_loss = FocalLoss(gamma=0, pos_weight=1, reduction='mean',\n",
    "                                      exclude_outliers=0)"
   ]
  },
  {
   "cell_type": "code",
   "execution_count": null,
   "id": "8bf8943e-fb64-4008-90f5-38f268e28e1b",
   "metadata": {},
   "outputs": [],
   "source": [
    "bce_loss = nn.BCEWithLogitsLoss(pos_weight=torch.tensor([1]), reduction='mean')"
   ]
  },
  {
   "cell_type": "code",
   "execution_count": null,
   "id": "80b10dd8-cb13-4218-ba1d-7511d1a4f137",
   "metadata": {},
   "outputs": [],
   "source": [
    "predictions = torch.tensor([0.0])\n",
    "labels = torch.tensor([0.0])\n",
    "predictions, labels.dtype"
   ]
  },
  {
   "cell_type": "code",
   "execution_count": null,
   "id": "ef6dc72c-c39f-4a46-bcde-f48d63ac9e6e",
   "metadata": {},
   "outputs": [],
   "source": [
    "focal_loss(predictions, labels)"
   ]
  },
  {
   "cell_type": "code",
   "execution_count": null,
   "id": "04f3d498-83f6-4c59-927f-59b519a83d56",
   "metadata": {},
   "outputs": [],
   "source": [
    "bce_loss(predictions, labels)"
   ]
  },
  {
   "cell_type": "code",
   "execution_count": null,
   "id": "62ecbabd-31e0-4996-9eb1-7a502dec8cf0",
   "metadata": {},
   "outputs": [],
   "source": [
    "dropout = nn.Dropout(p=0.0)\n"
   ]
  },
  {
   "cell_type": "code",
   "execution_count": null,
   "id": "30583cd9-fddd-4629-b5a0-0706795243e5",
   "metadata": {},
   "outputs": [],
   "source": [
    "dropout(torch.rand(10))"
   ]
  },
  {
   "cell_type": "code",
   "execution_count": null,
   "id": "e00a7ea0-6aaa-440d-a305-7427359d1700",
   "metadata": {},
   "outputs": [],
   "source": []
  }
 ],
 "metadata": {
  "kernelspec": {
   "display_name": "ai38",
   "language": "python",
   "name": "ai38"
  },
  "language_info": {
   "codemirror_mode": {
    "name": "ipython",
    "version": 3
   },
   "file_extension": ".py",
   "mimetype": "text/x-python",
   "name": "python",
   "nbconvert_exporter": "python",
   "pygments_lexer": "ipython3",
   "version": "3.8.13"
  }
 },
 "nbformat": 4,
 "nbformat_minor": 5
}
