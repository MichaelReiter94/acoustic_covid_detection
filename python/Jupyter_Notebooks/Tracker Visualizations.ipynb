{
 "cells": [
  {
   "cell_type": "code",
   "execution_count": 51,
   "id": "25900946-2351-4d40-a84f-2a9ebf320579",
   "metadata": {},
   "outputs": [
    {
     "name": "stdout",
     "output_type": "stream",
     "text": [
      "C:\\Michi\\acoustic_covid_detection\\python\n"
     ]
    }
   ],
   "source": [
    "import pandas as pd\n",
    "import numpy as np\n",
    "from jupyter_utils import jupyter_setup, load_tracker\n",
    "import ipywidgets as widgets\n",
    "jupyter_setup()\n",
    "import plotly.graph_objects as go\n",
    "import plotly.express as ex\n",
    "pd.set_option('display.max_colwidth', None)\n",
    "pd.set_option('display.max_columns', None)"
   ]
  },
  {
   "cell_type": "code",
   "execution_count": 52,
   "id": "4d955e93-e774-45a3-92fd-06395b1e4635",
   "metadata": {},
   "outputs": [
    {
     "name": "stdout",
     "output_type": "stream",
     "text": [
      "Loading Tracker from: C:/Michi/acoustic_covid_detection/python/run/tracker_saves/2023-05-12_resnet18_logmel_combined_breaths_NEW_11msHop_23msFFT_fmax11000_224logmel_baseline_hyperparams_v1.pickle\n",
      "\n",
      "Parameters used for finding the best performing epoch:\n",
      "           metric_used:                   auc_roc\n",
      "           smoothing:                     5\n",
      "           ignore_first_n_epochs:         5\n"
     ]
    }
   ],
   "source": [
    "tracker = load_tracker()\n",
    "# tracker.summarize(detail=\"compact\")"
   ]
  },
  {
   "cell_type": "code",
   "execution_count": 53,
   "id": "5c6806ad-f200-435b-99fc-b504c286d8d0",
   "metadata": {},
   "outputs": [
    {
     "name": "stdout",
     "output_type": "stream",
     "text": [
      "\n",
      "Datasets used:\n",
      "logmel_combined_breaths_NEW_11msHop_23msFFT_fmax11000_224logmel\n",
      "           dataset_class:                 <class 'datasets.ResnetLogmelDataset'>\n",
      "           participants_file:             2023_05_05_logmel_combined_breaths_NEW_11msHop_23msFFT_fmax11000_224logmel.pickle\n",
      "           augmented_files:               []\n",
      "           train_set_label_counts:        label '0': 818  -  label '1': 214\n",
      "           types_of_recording:            combined_breaths\n",
      "\n",
      "Audio Processing Parameters:\n",
      "           type_of_features:              logmel\n",
      "           n_time_steps:                  224\n",
      "           n_features:                    224\n",
      "           sample_rate:                   22050\n",
      "           n_fft:                         8192\n",
      "           window_length:                 1024\n",
      "           hop_size:                      256\n",
      "           fmin:                          0\n",
      "           fmax:                          11025\n",
      "           hop_size_ms:                   11.61\n",
      "           window_length_ms:              46.44\n",
      "           duration_seconds:              2.6\n",
      "           fft_res_hz:                    2.69\n",
      "\n",
      "Predetermined Time Domain Augmentations:\n",
      "           model:                         ResNet\n",
      "           optimizer:                     Adam \n",
      "           loss_function:                 BCEWithLogitsLoss\n",
      "\n",
      "Tracker contains:\n",
      "           parameter runs:                24\n",
      "           folds per run:                 1\n",
      "           epochs:                        400\n"
     ]
    }
   ],
   "source": [
    "tracker.summarize(detail=\"compact\")\n",
    "# tracker.summarize(detail=\"detail\")"
   ]
  },
  {
   "cell_type": "code",
   "execution_count": 54,
   "id": "8a88e565-f932-4e07-ab7c-f2f3d3079541",
   "metadata": {},
   "outputs": [
    {
     "data": {
      "text/html": [
       "<div>\n",
       "<style scoped>\n",
       "    .dataframe tbody tr th:only-of-type {\n",
       "        vertical-align: middle;\n",
       "    }\n",
       "\n",
       "    .dataframe tbody tr th {\n",
       "        vertical-align: top;\n",
       "    }\n",
       "\n",
       "    .dataframe thead th {\n",
       "        text-align: right;\n",
       "    }\n",
       "</style>\n",
       "<table border=\"1\" class=\"dataframe\">\n",
       "  <thead>\n",
       "    <tr style=\"text-align: right;\">\n",
       "      <th></th>\n",
       "    </tr>\n",
       "  </thead>\n",
       "  <tbody>\n",
       "  </tbody>\n",
       "</table>\n",
       "</div>"
      ],
      "text/plain": [
       "Empty DataFrame\n",
       "Columns: []\n",
       "Index: []"
      ]
     },
     "execution_count": 54,
     "metadata": {},
     "output_type": "execute_result"
    }
   ],
   "source": [
    "pd.DataFrame(tracker.augmentations)"
   ]
  },
  {
   "cell_type": "code",
   "execution_count": 55,
   "id": "76ece74f-fd67-4c38-91df-feab0ff1a455",
   "metadata": {},
   "outputs": [
    {
     "name": "stdout",
     "output_type": "stream",
     "text": [
      "logmel_combined_breaths_NEW_11msHop_23msFFT_fmax11000_224logmel\n",
      "{'model': 'ResNet', 'optimizer': 'Adam ', 'loss_function': 'BCEWithLogitsLoss'}\n"
     ]
    },
    {
     "data": {
      "text/plain": [
       "{'dataset_class': datasets.ResnetLogmelDataset,\n",
       " 'participants_file': '2023_05_05_logmel_combined_breaths_NEW_11msHop_23msFFT_fmax11000_224logmel.pickle',\n",
       " 'augmented_files': [],\n",
       " 'train_set_label_counts': \"label '0': 818  -  label '1': 214\",\n",
       " 'types_of_recording': 'combined_breaths'}"
      ]
     },
     "execution_count": 55,
     "metadata": {},
     "output_type": "execute_result"
    }
   ],
   "source": [
    "import pandas as pd\n",
    "key = tracker.datasets.keys()\n",
    "key=list(key)[0]\n",
    "print(key)\n",
    "print(tracker.model_and_training_parameters[\"compact\"])\n",
    "# pd.DataFrame(tracker.datasets[key], index = [0])\n",
    "tracker.datasets[key]"
   ]
  },
  {
   "cell_type": "code",
   "execution_count": 56,
   "id": "5277788f-7ece-4a1e-8160-555c08ad3693",
   "metadata": {},
   "outputs": [
    {
     "data": {
      "application/vnd.jupyter.widget-view+json": {
       "model_id": "c9387eea21914433bf9fc412d47fdb25",
       "version_major": 2,
       "version_minor": 0
      },
      "text/plain": [
       "interactive(children=(Checkbox(value=False, description='dataset_and_model'), Checkbox(value=True, description…"
      ]
     },
     "metadata": {},
     "output_type": "display_data"
    }
   ],
   "source": [
    "_ = widgets.interact(tracker.get_data_and_model_params, dataset_and_model=False, audio_processing=True, augmentations=False)"
   ]
  },
  {
   "cell_type": "markdown",
   "id": "5ce061a2-2a7c-4d7f-9a51-db8d8457e651",
   "metadata": {},
   "source": [
    "# Compute Tracker Metrics:\n",
    "when loading the tracker (load_tracker()), the recorded data will be loaded and preprocessed (cross validation mean/std and much more will be calculated). This is essential. Otherwise none of the following functionality works. You can call the preprocessing function manually (tracker.compute_overall_metrics()) to change the settings for processing. The available parameters are: <br>\n",
    "- smooth_n_samples=10 <br>\n",
    "This sets the number of samples over which a (weighted) moving average filter is applied before looking for a min/max of the curve or calculate the mean.\n",
    "- ignore_first_n_epochs=5 <br>\n",
    "Simply do not take the first n epochs into account when looking for a min/max\n",
    "- metric_used_for_performance_analysis=\"auc_roc\" <br>\n",
    "The epoch on which the performance for all metrics will be evaluated for a specific run will be chosen by looking for the min/max in this metric. This means, that if the AUC ROC curve is chosen in the argument, it will look for the argmax of the AUC ROC curve and evaluate loss, accuracy, F1 etc in this exact epoch even when they have their extremum in another epoch  <br>"
   ]
  },
  {
   "cell_type": "code",
   "execution_count": 57,
   "id": "f05b3fcd-7bd6-41c7-9027-e462fe98e811",
   "metadata": {},
   "outputs": [
    {
     "name": "stdout",
     "output_type": "stream",
     "text": [
      "\n",
      "Parameters used for finding the best performing epoch:\n",
      "           metric_used:                   loss\n",
      "           smoothing:                     10\n",
      "           ignore_first_n_epochs:         10\n"
     ]
    }
   ],
   "source": [
    "n_samples = 10\n",
    "tracker.compute_overall_metrics(smooth_n_samples=n_samples, ignore_first_n_epochs=n_samples, metric_used_for_performance_analysis=\"loss\")"
   ]
  },
  {
   "cell_type": "markdown",
   "id": "8552cbf1-2f4d-41f3-8783-d8a808f14e34",
   "metadata": {},
   "source": [
    "# Evaluate the Cross Validation Results\n",
    "For each run within a cross validation setting, the epoch of the min/max will be calculated and all metrics evaluated at this metric (after being smoothed as specified). The mean and std are calculated from the (in the default case) epoch where AUC ROC hits the global maximum. The resulting table can be adjusted with the jupyter widgets: <br>\n",
    "- The styled table can be sorted by metric values (first drop down)  <br>\n",
    "- by ticking \"show_full_df\" you can also display e.g. the standard deviation of each metric\n",
    "- If you tick \"highlight parameters\" all hyperparameters, that changed thoughout the different runs, are highlighted by value. <br>\n",
    "- The sliders below can be adjusted to filter out all runs with results worse than the slider setting  <br>\n",
    "For more details (standard deviation e.g.), the cell below does exaclty the same but with "
   ]
  },
  {
   "cell_type": "code",
   "execution_count": 58,
   "id": "d542739c-2cb0-4fef-a26c-0e4926bed5f9",
   "metadata": {},
   "outputs": [
    {
     "data": {
      "application/vnd.jupyter.widget-view+json": {
       "model_id": "e65eafc5092942bd8d316ac828ccb4b0",
       "version_major": 2,
       "version_minor": 0
      },
      "text/plain": [
       "interactive(children=(Dropdown(description='sort_descending_by_metric', options=('auc_roc', 'loss', 'accuracy'…"
      ]
     },
     "metadata": {},
     "output_type": "display_data"
    }
   ],
   "source": [
    "def sortby(sort_descending_by_metric, highlight_hyperparameters, show_full_df, **kwargs):\n",
    "    # thresholds = {\"auc_roc\": auc_threshold}\n",
    "    if show_full_df:\n",
    "        df = tracker.full_metric_performance_df\n",
    "    else:\n",
    "        df = tracker.compact_metric_performance_df\n",
    "    style = tracker.style_metric_performance_df(df, sort_by=sort_descending_by_metric, highlight_hyperparameters=highlight_hyperparameters, filter_thresholds=kwargs)\n",
    "    return style\n",
    "_ = widgets.interact(sortby, sort_descending_by_metric=tracker.metrics_used, highlight_hyperparameters=True, show_full_df=False,\n",
    "                auc_roc=widgets.FloatSlider(min=0.0, max=1.0, value=0.6, step=0.005),\n",
    "                accuracy=widgets.FloatSlider(min=0.0, max=1.0, value=0.6, step=0.005),\n",
    "                tpr=widgets.FloatSlider(min=0.0, max=1.0, value=0.4, step=0.005),\n",
    "                tnr=widgets.FloatSlider(min=0.0, max=1.0, value=0.6, step=0.005)\n",
    "                )"
   ]
  },
  {
   "cell_type": "markdown",
   "id": "b2166ddb-c2e4-4485-a148-ed5344e27dfd",
   "metadata": {},
   "source": [
    "# Box Plot the Hyperpaprameter Performances\n",
    "Each metric is viewed separately. You can also choose to only look at the n_best performing hyperparameter runs. <br>\n",
    "Depending on whether \"sort_by_current_metric\" is ticked this means something different. If it is not ticked, all runs will be sorted by the metric defined in the beginning (tracker.compute_overall_metrics()). Otherwise it will be sorted by the performance of the metric you have chosen to look at. This is very usefull  to get insight on which setting of a specific hyperparameter affects specific metrics. Some hyperparameter may for example improve the AUC ROC a bit but in the F1 or tnr metric they clearly hava a negative impact."
   ]
  },
  {
   "cell_type": "code",
   "execution_count": null,
   "id": "c528fc80-4c73-498f-beeb-84c0484f7888",
   "metadata": {},
   "outputs": [],
   "source": []
  },
  {
   "cell_type": "code",
   "execution_count": 40,
   "id": "2f253649-2a96-486f-8eca-61058c080721",
   "metadata": {},
   "outputs": [
    {
     "data": {
      "application/vnd.jupyter.widget-view+json": {
       "model_id": "1d06ef503a6449eb89059066d36094c8",
       "version_major": 2,
       "version_minor": 0
      },
      "text/plain": [
       "interactive(children=(Dropdown(description='metric', options=('auc_roc', 'loss', 'accuracy', 'f1_score', 'auc_…"
      ]
     },
     "metadata": {},
     "output_type": "display_data"
    }
   ],
   "source": [
    "# hyperparameters = (list(tracker.crossval_runs[0].parameters.keys()))\n",
    "options = tracker.get_only_varied_hyperparam_columns()\n",
    "dropdown_colorby = widgets.Dropdown(options=[None, *options], value=options[0])\n",
    "\n",
    "_ = widgets.interact(tracker.boxplot_run_statistics, metric=tracker.metrics_used,\n",
    "                     show_n_best_runs=widgets.IntSlider(value=tracker.n_hyperparameter_runs, min=1, max=tracker.n_hyperparameter_runs),\n",
    "                     color_by_hyperparameter=dropdown_colorby,\n",
    "                     sort_by_current_metric=True)"
   ]
  },
  {
   "cell_type": "markdown",
   "id": "29007e08-25a5-4ae3-bf2e-ab0078140b6c",
   "metadata": {},
   "source": [
    "# Boxplots grouped by combinations excluding 1 hyperparameter\n",
    "This way you can check the impact of 1 hyperparameter for each combination of other hyperparameters"
   ]
  },
  {
   "cell_type": "code",
   "execution_count": 41,
   "id": "92288b41-c290-41e2-8261-39883daf79e9",
   "metadata": {},
   "outputs": [
    {
     "data": {
      "application/vnd.jupyter.widget-view+json": {
       "model_id": "0c88c84ac2db4dc08e66577cd6e8cb67",
       "version_major": 2,
       "version_minor": 0
      },
      "text/plain": [
       "interactive(children=(Dropdown(description='metric', options=('auc_roc', 'loss', 'accuracy', 'f1_score', 'auc_…"
      ]
     },
     "metadata": {},
     "output_type": "display_data"
    }
   ],
   "source": [
    "options = tracker.get_only_varied_hyperparam_columns()\n",
    "dropdown_groupby = widgets.Dropdown(options=options, value=options[0])\n",
    "\n",
    "_ = widgets.interact(tracker.boxplot_groupedby_combination, metric=tracker.metrics_used,\n",
    "                     show_n_best_runs=widgets.IntSlider(value=tracker.n_hyperparameter_runs, min=1, max=tracker.n_hyperparameter_runs),\n",
    "                     # group_by_hyperparameter=[\"some\", *tracker.get_only_varied_hyperparam_columns()],\n",
    "                     separate_param=dropdown_groupby,\n",
    "                     sort_by_current_metric=True,\n",
    "                     boxgap=widgets.FloatSlider(value=0.1, min=0.0, max=1.0),\n",
    "                     fontsize=widgets.IntSlider(value=12, min=6, max=20),\n",
    "                    )"
   ]
  },
  {
   "cell_type": "markdown",
   "id": "0d485d42-b345-4cb0-845f-938fe6302df6",
   "metadata": {},
   "source": [
    "Group hyperparameter combination by 1 parameter (opposite of before)"
   ]
  },
  {
   "cell_type": "code",
   "execution_count": 26,
   "id": "149a88c5-0f4d-45fc-83bf-e870f963a8af",
   "metadata": {},
   "outputs": [],
   "source": [
    "# options = tracker.get_only_varied_hyperparam_columns()\n",
    "# dropdown_groupby = widgets.Dropdown(options=options, value=options[0])\n",
    "\n",
    "# _ = widgets.interact(tracker.boxplot_run_statistics_grouped, metric=tracker.metrics_used,\n",
    "#                      show_n_best_runs=widgets.IntSlider(value=tracker.n_hyperparameter_runs, min=1, max=tracker.n_hyperparameter_runs),\n",
    "#                      # group_by_hyperparameter=[\"some\", *tracker.get_only_varied_hyperparam_columns()],\n",
    "#                      group_by_hyperparameter=dropdown_groupby,\n",
    "                     \n",
    "#                      sort_by_current_metric=True)"
   ]
  },
  {
   "cell_type": "markdown",
   "id": "fbaa3bef-ca38-4116-a256-08ce66a06edd",
   "metadata": {},
   "source": [
    "# Metric Performance over Epochs\n",
    "Here we can analyze the cross validation mean of each hyperparameter run over the epochs. You can switch between train and eval mode and choose a specific metric to look at. The solid line is the mean over all folds within a crossval run. This is calculated epoch-wise, so at each epoch the smoothed metric performance of all folds is averaged. In the same way, the standard devaition is calculated and shown as area plot. <br>\n",
    "You can choose to display the area plot (std) and also to view the fold within each crossval run + the epoch in which the in/max of the specified metric (in tracker.compute_overall_metrics()) was found. Additionally you can choose to view only the n best performing hyperparameter runs. The ranking is calculated by the metric set at the beginning (tracker.compute_overall_metrics()). <br>\n",
    "You can change the number of samples to smooth the curves with. The default setting was also set in the compute_overall_metrics method. This is only for visualization and does not change the settings which are used to calculate the final crossval performance.<br>\n",
    "Below is a similar method but it only shows 1 crossval run which can be switched with the dropdown menu."
   ]
  },
  {
   "cell_type": "code",
   "execution_count": 27,
   "id": "d1f46d23-85d4-48d0-8ae0-0c0681deee85",
   "metadata": {},
   "outputs": [],
   "source": [
    "# tracker.crossval_runs[0].runs[4].best_performances[\"eval\"]\n",
    "# tracker.crossval_runs[0].runs.pop(1)"
   ]
  },
  {
   "cell_type": "code",
   "execution_count": 28,
   "id": "3407a633-e593-4d24-86b0-afb12c88baf4",
   "metadata": {},
   "outputs": [
    {
     "data": {
      "application/vnd.jupyter.widget-view+json": {
       "model_id": "236b5566bf2c47c48bfd15650699509e",
       "version_major": 2,
       "version_minor": 0
      },
      "text/plain": [
       "interactive(children=(Dropdown(description='mode', options=('eval', 'train'), value='eval'), Dropdown(descript…"
      ]
     },
     "metadata": {},
     "output_type": "display_data"
    }
   ],
   "source": [
    "options = tracker.get_only_varied_hyperparam_columns()\n",
    "dropdown_colorby = widgets.Dropdown(options=[None, *options], value=options[0])\n",
    "_ = widgets.interact(tracker.show_all_runs, \n",
    "                     mode=[\"eval\", \"train\"], \n",
    "                     metric=tracker.metrics_used, \n",
    "                     n_samples_for_smoothing=widgets.IntSlider(value=tracker.performance_eval_params[\"smoothing\"], min=1, max=15), \n",
    "                     show_separate_folds=True, \n",
    "                     show_std_area_plot=False,\n",
    "                     show_n_best_runs=widgets.IntSlider(value=10, min=1, max=tracker.n_hyperparameter_runs),\n",
    "                     color_by_hyperparameter=dropdown_colorby)"
   ]
  },
  {
   "cell_type": "code",
   "execution_count": 29,
   "id": "ab612294-eca8-489d-8743-794ae7278edf",
   "metadata": {
    "tags": []
   },
   "outputs": [],
   "source": [
    "def get_list_of_best_n_runs(sort_by_metric=True, metric=\"auc_roc\"):\n",
    "    # this way, the dropdown menu of run_id below is sorted by metric performance specified\n",
    "    if sort_by_metric:\n",
    "        hyperparameter_settings = [str(tracker.crossval_runs[idx].parameters) for idx in tracker.get_indices_of_best_n_runs(tracker.n_hyperparameter_runs, metric)]\n",
    "    else:\n",
    "        hyperparameter_settings = tracker.run_ids\n",
    "    return hyperparameter_settings"
   ]
  },
  {
   "cell_type": "code",
   "execution_count": 30,
   "id": "a9948dab-cc00-4282-9254-04f0a52da1a2",
   "metadata": {
    "tags": []
   },
   "outputs": [
    {
     "data": {
      "application/vnd.jupyter.widget-view+json": {
       "model_id": "0ba78200b78c4d6bb1c56ffa5c9fa67f",
       "version_major": 2,
       "version_minor": 0
      },
      "text/plain": [
       "interactive(children=(Dropdown(description='run_id', options=(\"{'batch': '64', 'lr': '8e-05', 'wd': '0.0001', …"
      ]
     },
     "metadata": {},
     "output_type": "display_data"
    }
   ],
   "source": [
    "_ = widgets.interact(tracker.show_single_run, \n",
    "                 run_id=get_list_of_best_n_runs(sort_by_metric=True, metric=\"auc_roc\"),\n",
    "                 mode=[\"eval\", \"train\"], \n",
    "                 metric=tracker.metrics_used, \n",
    "                 n_samples_for_smoothing=widgets.IntSlider(value=tracker.performance_eval_params[\"smoothing\"], min=1, max=15), \n",
    "                 show_separate_folds=True, \n",
    "                 show_std_area_plot=True)"
   ]
  },
  {
   "cell_type": "code",
   "execution_count": null,
   "id": "23e205f6-8342-4672-8511-5a99c6039102",
   "metadata": {},
   "outputs": [],
   "source": []
  },
  {
   "cell_type": "code",
   "execution_count": 31,
   "id": "e11f3b31",
   "metadata": {},
   "outputs": [],
   "source": [
    "def get_columns_with_multiple_unique_values(df):\n",
    "    \"\"\"\n",
    "    Returns only the columns that have more than one unique value in their rows.\n",
    "    \"\"\"\n",
    "    cols_with_multiple_unique_vals = []\n",
    "    for col in df.columns:\n",
    "        unique_vals = df[col].unique()\n",
    "        if len(unique_vals) > 1:\n",
    "            cols_with_multiple_unique_vals.append(col)\n",
    "    return list(df[cols_with_multiple_unique_vals].columns)\n"
   ]
  },
  {
   "cell_type": "code",
   "execution_count": 17,
   "id": "da255491",
   "metadata": {},
   "outputs": [
    {
     "data": {
      "text/plain": [
       "['batch',\n",
       " 'lr',\n",
       " 'wd',\n",
       " 'lr_decay',\n",
       " 'mixup_a',\n",
       " 'mixup_p',\n",
       " 'use_augm_datasets',\n",
       " 'shift',\n",
       " 'sigma',\n",
       " 'weighted_sampler',\n",
       " 'class_weight',\n",
       " 'bag_size',\n",
       " 'n_MIL_Neurons',\n",
       " 'time_steps',\n",
       " 'lr_in',\n",
       " 'resnet_dropout',\n",
       " 'focal_loss',\n",
       " 'min_quality']"
      ]
     },
     "execution_count": 17,
     "metadata": {},
     "output_type": "execute_result"
    }
   ],
   "source": [
    "tracker.hyperparameters"
   ]
  },
  {
   "cell_type": "code",
   "execution_count": 18,
   "id": "1c104344-55ce-40c5-8537-a5961b87f1f5",
   "metadata": {},
   "outputs": [],
   "source": [
    "def get_unique_parameter_combinations(separate_parameter=\"lr\"):\n",
    "    cols = tracker.get_only_varied_hyperparam_columns()\n",
    "    if separate_parameter is not None:\n",
    "        cols.remove(separate_parameter)\n",
    "    parameter_combinations = tracker.full_metric_performance_df[cols].to_dict(orient='records')\n",
    "    parameter_combinations = [str(item) for item in parameter_combinations]\n",
    "    unique_combinations = list(set(parameter_combinations))\n",
    "    return unique_combinations"
   ]
  },
  {
   "cell_type": "code",
   "execution_count": 19,
   "id": "63be7e31-caba-41ba-9e18-3679ff50b47e",
   "metadata": {},
   "outputs": [
    {
     "data": {
      "text/plain": [
       "[\"{'time_steps': '400', 'resnet_dropout': 'False', 'min_quality': '2'}\",\n",
       " \"{'time_steps': '100', 'resnet_dropout': 'True', 'min_quality': '1'}\",\n",
       " \"{'time_steps': '100', 'resnet_dropout': 'False', 'min_quality': '2'}\",\n",
       " \"{'time_steps': '200', 'resnet_dropout': 'False', 'min_quality': '2'}\",\n",
       " \"{'time_steps': '400', 'resnet_dropout': 'False', 'min_quality': '1'}\",\n",
       " \"{'time_steps': '400', 'resnet_dropout': 'True', 'min_quality': '2'}\",\n",
       " \"{'time_steps': '400', 'resnet_dropout': 'True', 'min_quality': '1'}\",\n",
       " \"{'time_steps': '100', 'resnet_dropout': 'False', 'min_quality': '1'}\",\n",
       " \"{'time_steps': '200', 'resnet_dropout': 'False', 'min_quality': '1'}\",\n",
       " \"{'time_steps': '200', 'resnet_dropout': 'True', 'min_quality': '2'}\",\n",
       " \"{'time_steps': '200', 'resnet_dropout': 'True', 'min_quality': '1'}\",\n",
       " \"{'time_steps': '100', 'resnet_dropout': 'True', 'min_quality': '2'}\"]"
      ]
     },
     "execution_count": 19,
     "metadata": {},
     "output_type": "execute_result"
    }
   ],
   "source": [
    "unique_list = get_unique_parameter_combinations()\n",
    "unique_list"
   ]
  },
  {
   "cell_type": "code",
   "execution_count": 20,
   "id": "c8440dc9-ecea-4b5d-84a7-50265e2a4565",
   "metadata": {},
   "outputs": [
    {
     "ename": "ValueError",
     "evalue": "\"{'time_steps': '100', 'resnet_dropout': 'False'}\" is not in list",
     "output_type": "error",
     "traceback": [
      "\u001b[1;31m---------------------------------------------------------------------------\u001b[0m",
      "\u001b[1;31mValueError\u001b[0m                                Traceback (most recent call last)",
      "Cell \u001b[1;32mIn [20], line 1\u001b[0m\n\u001b[1;32m----> 1\u001b[0m unique_list\u001b[38;5;241m.\u001b[39mindex(\u001b[38;5;124m\"\u001b[39m\u001b[38;5;124m{\u001b[39m\u001b[38;5;124m'\u001b[39m\u001b[38;5;124mtime_steps\u001b[39m\u001b[38;5;124m'\u001b[39m\u001b[38;5;124m: \u001b[39m\u001b[38;5;124m'\u001b[39m\u001b[38;5;124m100\u001b[39m\u001b[38;5;124m'\u001b[39m\u001b[38;5;124m, \u001b[39m\u001b[38;5;124m'\u001b[39m\u001b[38;5;124mresnet_dropout\u001b[39m\u001b[38;5;124m'\u001b[39m\u001b[38;5;124m: \u001b[39m\u001b[38;5;124m'\u001b[39m\u001b[38;5;124mFalse\u001b[39m\u001b[38;5;124m'\u001b[39m\u001b[38;5;124m}\u001b[39m\u001b[38;5;124m\"\u001b[39m)\n",
      "\u001b[1;31mValueError\u001b[0m: \"{'time_steps': '100', 'resnet_dropout': 'False'}\" is not in list"
     ]
    }
   ],
   "source": [
    "unique_list.index(\"{'time_steps': '100', 'resnet_dropout': 'False'}\")"
   ]
  }
 ],
 "metadata": {
  "kernelspec": {
   "display_name": "ai38",
   "language": "python",
   "name": "ai38"
  },
  "language_info": {
   "codemirror_mode": {
    "name": "ipython",
    "version": 3
   },
   "file_extension": ".py",
   "mimetype": "text/x-python",
   "name": "python",
   "nbconvert_exporter": "python",
   "pygments_lexer": "ipython3",
   "version": "3.8.13"
  }
 },
 "nbformat": 4,
 "nbformat_minor": 5
}
