{
 "cells": [
  {
   "cell_type": "code",
   "execution_count": 1,
   "id": "ec463b97-c03b-4a8d-a7db-3e0aa9e28532",
   "metadata": {},
   "outputs": [
    {
     "name": "stdout",
     "output_type": "stream",
     "text": [
      "D:\\Archiv\\Studium\\Master\\6.-Semester\\Masters_Thesis\\Git\\acoustic_covid_detection\\python\n"
     ]
    }
   ],
   "source": [
    "import pandas as pd\n",
    "import numpy as np\n",
    "from jupyter_utils import jupyter_setup\n",
    "jupyter_setup()\n",
    "import os\n",
    "import librosa\n",
    "import sounddevice as sd\n",
    "from tqdm.notebook import tqdm\n",
    "import matplotlib.pyplot as plt\n",
    "# import csv"
   ]
  },
  {
   "cell_type": "code",
   "execution_count": 141,
   "id": "187544c5-7b8c-40c3-8e47-e01e5186a9c9",
   "metadata": {},
   "outputs": [],
   "source": [
    "metadata_dicova = pd.read_csv(r\"data\\Coswara_processed\\DiCova\\SecondDiCOVA_detailed_test_metedata.csv\")\n",
    "full_metadata = pd.read_csv(r\"data\\Coswara_processed\\full_meta_data.csv\")\n",
    "original_metadata = pd.read_csv(r\"data\\Coswara_processed\\original_metadata.csv\")\n",
    "matches = pd.read_csv(r\"matches_469.csv\")"
   ]
  },
  {
   "cell_type": "markdown",
   "id": "cf0ff460-0b17-4715-a5c1-ba3979c1bd95",
   "metadata": {},
   "source": [
    "## remove all the IDs where I have already found matches"
   ]
  },
  {
   "cell_type": "code",
   "execution_count": 142,
   "id": "08e8b56e-1157-46d0-94ee-fb6865f91786",
   "metadata": {
    "tags": []
   },
   "outputs": [],
   "source": [
    "dicova_id_column = \"BREATHING_ID\"      # \"COUGH_ID\" \"SPEECH_ID\"  \n",
    "dicova_subfolder = \"breathing\"           # \"cough\", \"speech\"\n",
    "coswara_category = \"breathing-deep\"     # \"cough-heavy\",\"counting-normal\""
   ]
  },
  {
   "cell_type": "code",
   "execution_count": 143,
   "id": "199f5b2b-e5fc-40fb-b708-c085df3a7c7d",
   "metadata": {},
   "outputs": [],
   "source": [
    "dicova_reduced = pd.merge(matches, metadata_dicova, on=list(metadata_dicova.columns), how='outer')\n",
    "dicova_reduced = dicova_reduced[dicova_reduced[\"user ID\"].isna()]\n",
    "metadata_dicova = dicova_reduced"
   ]
  },
  {
   "cell_type": "code",
   "execution_count": 5,
   "id": "43bf5321-16c2-4290-9f75-b7866b891777",
   "metadata": {},
   "outputs": [],
   "source": [
    "#####################   tODO    ###################\n",
    "# trim silence when calculating the audio length"
   ]
  },
  {
   "cell_type": "code",
   "execution_count": 6,
   "id": "b89555ec-bc74-43b6-af91-4938b4e97283",
   "metadata": {
    "tags": []
   },
   "outputs": [],
   "source": [
    "class AudioData:\n",
    "    def __init__(self, file_path, user_id, age, gender):\n",
    "        audio, self.sr = librosa.load(file_path, sr=None)\n",
    "        # audio, self.sr = librosa.load(file_path, sr=44100)\n",
    "        # self.id = os.path.splitext(os.path.basename(full_path))[0]\n",
    "        self.file_path= file_path\n",
    "        self.id = user_id\n",
    "        self.audio_len = len(audio) * (44100/self.sr)\n",
    "        self.target_id = []\n",
    "        self.gender = gender\n",
    "        self.age =age\n",
    "        self.correlations = {}\n",
    "        self.best_fit = None\n",
    "        self.downsample_coef = 32\n",
    "        self.trim_silence_db = 30\n",
    "        \n",
    "    def __repr__(self):\n",
    "        return f\"id:{self.id} | len:{self.audio_len} | {self.gender}{self.age}\"\n",
    "            \n",
    "    def __eq__(self, other):\n",
    "        if isinstance(other, AudioData):\n",
    "            return (\n",
    "                self.audio_len == other.audio_len\n",
    "                and self.gender == other.gender\n",
    "                and self.age == other.age\n",
    "            )\n",
    "        return False        \n",
    "    \n",
    "    def eq_age_gender(self, other):\n",
    "        if isinstance(other, AudioData):\n",
    "            return (self.gender == other.gender and self.age == other.age)\n",
    "        return False  \n",
    "    \n",
    "    def comapre_audio(self, other):\n",
    "        sr = 44100//self.downsample_coef\n",
    "        try:\n",
    "            audio_orig, _ = librosa.load(self.file_path, sr=sr)\n",
    "            audio_comp, _ = librosa.load(other.file_path, sr=sr)\n",
    "            audio_orig, _ = librosa.effects.trim(audio_orig, top_db=self.trim_silence_db)\n",
    "            audio_comp, _ = librosa.effects.trim(audio_comp, top_db=self.trim_silence_db)\n",
    "            audio_orig, audio_comp = librosa.util.normalize(audio_orig), librosa.util.normalize(audio_comp)\n",
    "        except:\n",
    "            return 0\n",
    "        \n",
    "        \n",
    "        # segment_len = 20000 if len(audio_orig) > 20000 else len(audio_orig)\n",
    "        # segment_len = max(40000, len(audio_orig))\n",
    "        # cross_corr = np.correlate(audio_orig[:segment_len], audio_comp, mode='full')\n",
    "        cross_corr = np.correlate(audio_orig, audio_comp, mode='full')\n",
    "        return cross_corr.max()\n",
    "        \n",
    "    def get_audio(self):\n",
    "        audio_orig, _ = librosa.load(self.file_path, sr=44100//self.downsample_coef)\n",
    "        audio_orig, _ = librosa.effects.trim(audio_orig, top_db=self.trim_silence_db)\n",
    "\n",
    "        return librosa.util.normalize(audio_orig)"
   ]
  },
  {
   "cell_type": "code",
   "execution_count": 7,
   "id": "a2515802-e9eb-4052-90c5-0305eec298d8",
   "metadata": {},
   "outputs": [],
   "source": [
    "def get_audio(sample):\n",
    "    file_path = sample.file_path\n",
    "    audio_orig, _ = librosa.load(file_path, sr=44100//sample.downsample_coef)\n",
    "    audio_orig, _ = librosa.effects.trim(audio_orig, top_db=sample.trim_silence_db)\n",
    "\n",
    "    return librosa.util.normalize(audio_orig)"
   ]
  },
  {
   "cell_type": "code",
   "execution_count": 8,
   "id": "10ddf40e-d5df-42d6-8bcf-b3d5cf1b79ae",
   "metadata": {},
   "outputs": [
    {
     "data": {
      "text/plain": [
       "21"
      ]
     },
     "execution_count": 8,
     "metadata": {},
     "output_type": "execute_result"
    }
   ],
   "source": [
    "len(metadata_dicova)"
   ]
  },
  {
   "cell_type": "code",
   "execution_count": 9,
   "id": "1069206a-2063-4fd5-aaee-fd92627d6360",
   "metadata": {},
   "outputs": [
    {
     "data": {
      "application/vnd.jupyter.widget-view+json": {
       "model_id": "2e6411ae14d84adc8333bcbac3f07182",
       "version_major": 2,
       "version_minor": 0
      },
      "text/plain": [
       "  0%|          | 0/21 [00:00<?, ?it/s]"
      ]
     },
     "metadata": {},
     "output_type": "display_data"
    }
   ],
   "source": [
    "# for full_id in list(full_metadata[\"user_id\"])\n",
    "dicova_audio_data = []\n",
    "base_path = r\"data\\Coswara_processed\\DiCova\\Second_DiCOVA_Challenge_Test_Data_Release\\AUDIO\"\n",
    "base_path = os.path.join(base_path, dicova_subfolder)\n",
    "\n",
    "for breath_id in tqdm(list(metadata_dicova[dicova_id_column])):\n",
    "    age = metadata_dicova[metadata_dicova[dicova_id_column] == breath_id][\"age\"].item()\n",
    "    gender = metadata_dicova[metadata_dicova[dicova_id_column] == breath_id][\"gender\"].item()[0]\n",
    "    full_path = f\"{os.path.join(base_path, breath_id)}.flac\"\n",
    "    dicova_audio_data.append(AudioData(full_path, breath_id, age, gender))\n",
    "    # print(full_path, age, gender)"
   ]
  },
  {
   "cell_type": "code",
   "execution_count": 10,
   "id": "36de8574-6213-49f2-9c93-0ae30f477a94",
   "metadata": {},
   "outputs": [
    {
     "data": {
      "application/vnd.jupyter.widget-view+json": {
       "model_id": "a88bad5a09fe466fb7e5918b56411d2f",
       "version_major": 2,
       "version_minor": 0
      },
      "text/plain": [
       "  0%|          | 0/2746 [00:00<?, ?it/s]"
      ]
     },
     "metadata": {},
     "output_type": "display_data"
    }
   ],
   "source": [
    "my_audio_data = []\n",
    "base_path = r\"data\\Coswara_processed\\Recordings\"\n",
    "for user_id in tqdm(list(full_metadata[\"user_id\"])):\n",
    "    age = full_metadata[full_metadata[\"user_id\"] == user_id][\"age\"].item()\n",
    "    gender = full_metadata[full_metadata[\"user_id\"] == user_id][\"gender\"].item()[0]\n",
    "    full_path = f\"{os.path.join(base_path, user_id, coswara_category)}.wav\"\n",
    "    my_audio_data.append(AudioData(full_path, user_id, age, gender))\n",
    "    # print(full_path, age, gender)"
   ]
  },
  {
   "cell_type": "code",
   "execution_count": 11,
   "id": "b55a6ed0-3733-4263-875d-91b97e88fba6",
   "metadata": {
    "tags": []
   },
   "outputs": [],
   "source": [
    "# base_path = r\"data\\Coswara_processed\\Recordings\"\n",
    "# user_id = full_metadata[\"user_id\"][1]\n",
    "# full_path = f\"{os.path.join(base_path, user_id, 'breathing-deep')}.wav\"\n",
    "# age = full_metadata[full_metadata[\"user_id\"] == user_id][\"age\"].item()\n",
    "# gender = full_metadata[full_metadata[\"user_id\"] == user_id][\"gender\"].item()[0]\n",
    "# audio_data1 = AudioData(full_path, user_id, age, gender)\n",
    "\n",
    "\n",
    "# base_path = r\"data\\Coswara_processed\\DiCova\\Second_DiCOVA_Challenge_Test_Data_Release\\AUDIO\\breathing\"\n",
    "# breath_id = metadata_dicova[dicova_id_column][0]\n",
    "# full_path = f\"{os.path.join(base_path, breath_id)}.flac\"\n",
    "# age = metadata_dicova[metadata_dicova[dicova_id_column] == breath_id][\"age\"].item()\n",
    "# gender = metadata_dicova[metadata_dicova[dicova_id_column] == breath_id][\"gender\"].item()[0]\n",
    "# audio_data2 = AudioData(full_path, breath_id, age, gender)\n",
    "# audio_data2, audio_data1"
   ]
  },
  {
   "cell_type": "code",
   "execution_count": 12,
   "id": "53fcde9d-dd90-4dc1-94f6-be7178fb6735",
   "metadata": {},
   "outputs": [],
   "source": [
    "for dicova_id in dicova_audio_data:\n",
    "    # print(\"############################################\")\n",
    "    dicova_id.target_id = []\n",
    "    for my_id in my_audio_data:\n",
    "        if dicova_id.eq_age_gender(my_id):\n",
    "        # if dicova_id == my_id:\n",
    "        # if np.abs(dicova_id.audio_len - my_id.audio_len) < 100:\n",
    "            # diff = dicova_id.audio_len - my_id.audio_len\n",
    "            # diff_percent = diff / dicova_id.audio_len * 100\n",
    "            # diff_percent = np.round(diff_percent)\n",
    "            # if np.abs(diff_percent) < 15:\n",
    "            #     # print(diff_percent)\n",
    "            #     dicova_id.target_id.append(my_id)\n",
    "            dicova_id.target_id.append(my_id)"
   ]
  },
  {
   "cell_type": "code",
   "execution_count": 13,
   "id": "9ebe05e9-0923-4e96-8ce3-70b9369770c1",
   "metadata": {},
   "outputs": [
    {
     "name": "stdout",
     "output_type": "stream",
     "text": [
      "54\n",
      "35\n",
      "68\n",
      "87\n",
      "54\n",
      "14\n",
      "101\n",
      "70\n",
      "22\n",
      "14\n",
      "19\n",
      "14\n",
      "33\n",
      "83\n",
      "70\n",
      "15\n",
      "87\n",
      "37\n",
      "17\n",
      "25\n",
      "42\n"
     ]
    }
   ],
   "source": [
    "for dicova_id in dicova_audio_data:\n",
    "    print(len(dicova_id.target_id))\n",
    "    # print(dicova_id.sr)"
   ]
  },
  {
   "cell_type": "code",
   "execution_count": null,
   "id": "55b6d825-e132-45e4-8979-d3fbd5f4b0d0",
   "metadata": {},
   "outputs": [],
   "source": [
    "for sample in tqdm(dicova_audio_data):\n",
    "    print(\"#################################\")\n",
    "    sample.best_fit = None\n",
    "    max_corr = 0\n",
    "    best_fit = None\n",
    "    for user_id in sample.target_id:\n",
    "        corr = sample.comapre_audio(user_id)\n",
    "        sample.correlations[user_id.id] = corr\n",
    "        print(round(corr, 1))\n",
    "        if corr > max_corr:\n",
    "            max_corr = corr\n",
    "            best_fit = user_id\n",
    "        if corr > 300:\n",
    "            break\n",
    "    sample.best_fit = best_fit"
   ]
  },
  {
   "cell_type": "code",
   "execution_count": 15,
   "id": "1fa648f7-cd3f-48e7-8a3e-79a53febfd99",
   "metadata": {},
   "outputs": [],
   "source": [
    "# for j in range(100, 110):\n",
    "#     for i in range(1, 10):\n",
    "#         print(i)\n",
    "#         if j > 105:\n",
    "#             break"
   ]
  },
  {
   "cell_type": "code",
   "execution_count": 16,
   "id": "2342678f-e456-45c0-aaf4-9223bbaa9358",
   "metadata": {},
   "outputs": [
    {
     "data": {
      "text/plain": [
       "21"
      ]
     },
     "execution_count": 16,
     "metadata": {},
     "output_type": "execute_result"
    }
   ],
   "source": [
    "len(dicova_audio_data)"
   ]
  },
  {
   "cell_type": "code",
   "execution_count": 17,
   "id": "cc7ff859-8654-4984-8d5f-51bb67834657",
   "metadata": {},
   "outputs": [],
   "source": [
    "actual_fits = {}\n",
    "idx = 0"
   ]
  },
  {
   "cell_type": "code",
   "execution_count": 57,
   "id": "dd1ce2ac-0455-46b8-9aa6-0ab7b539b14f",
   "metadata": {},
   "outputs": [
    {
     "ename": "IndexError",
     "evalue": "list index out of range",
     "output_type": "error",
     "traceback": [
      "\u001b[1;31m---------------------------------------------------------------------------\u001b[0m",
      "\u001b[1;31mIndexError\u001b[0m                                Traceback (most recent call last)",
      "Cell \u001b[1;32mIn[57], line 3\u001b[0m\n\u001b[0;32m      1\u001b[0m idx \u001b[38;5;241m+\u001b[39m\u001b[38;5;241m=\u001b[39m \u001b[38;5;241m1\u001b[39m\n\u001b[0;32m      2\u001b[0m \u001b[38;5;66;03m# print(idx)\u001b[39;00m\n\u001b[1;32m----> 3\u001b[0m target_audio \u001b[38;5;241m=\u001b[39m get_audio(\u001b[43mdicova_audio_data\u001b[49m\u001b[43m[\u001b[49m\u001b[43midx\u001b[49m\u001b[43m]\u001b[49m\u001b[38;5;241m.\u001b[39mbest_fit)\n\u001b[0;32m      4\u001b[0m \u001b[38;5;66;03m# target_audio = dicova_audio_data[idx].best_fit.get_audio()\u001b[39;00m\n\u001b[0;32m      5\u001b[0m source_audio \u001b[38;5;241m=\u001b[39m get_audio(dicova_audio_data[idx])\n",
      "\u001b[1;31mIndexError\u001b[0m: list index out of range"
     ]
    }
   ],
   "source": [
    "idx += 1\n",
    "# print(idx)\n",
    "target_audio = get_audio(dicova_audio_data[idx].best_fit)\n",
    "# target_audio = dicova_audio_data[idx].best_fit.get_audio()\n",
    "source_audio = get_audio(dicova_audio_data[idx])\n",
    "# source_audio = dicova_audio_data[idx].get_audio()\n",
    "plt.plot(target_audio)\n",
    "plt.figure()\n",
    "plt.plot(source_audio)\n",
    "idx, dicova_audio_data[idx].correlations[dicova_audio_data[idx].best_fit.id]"
   ]
  },
  {
   "cell_type": "code",
   "execution_count": 56,
   "id": "04bd3203-06bd-4dfd-94c4-d9e5bb026616",
   "metadata": {},
   "outputs": [
    {
     "data": {
      "text/plain": [
       "19"
      ]
     },
     "execution_count": 56,
     "metadata": {},
     "output_type": "execute_result"
    }
   ],
   "source": [
    "actual_fits[dicova_audio_data[idx].id] = dicova_audio_data[idx].best_fit.id\n",
    "len(actual_fits)"
   ]
  },
  {
   "cell_type": "code",
   "execution_count": 58,
   "id": "def57e60-9fe7-4b5f-9970-cb189ab67fd4",
   "metadata": {},
   "outputs": [
    {
     "data": {
      "text/plain": [
       "'BREATHING_ID'"
      ]
     },
     "execution_count": 58,
     "metadata": {},
     "output_type": "execute_result"
    }
   ],
   "source": [
    "dicova_id_column"
   ]
  },
  {
   "cell_type": "code",
   "execution_count": 144,
   "id": "3749fba4-ec1f-47cc-95b3-374711e46e74",
   "metadata": {},
   "outputs": [],
   "source": [
    "df = pd.DataFrame({dicova_id_column: actual_fits.keys(), \"user ID\":actual_fits.values()})"
   ]
  },
  {
   "cell_type": "code",
   "execution_count": 145,
   "id": "16713b31-3dc1-4407-9da7-b61d99eae907",
   "metadata": {},
   "outputs": [
    {
     "data": {
      "text/html": [
       "<div>\n",
       "<style scoped>\n",
       "    .dataframe tbody tr th:only-of-type {\n",
       "        vertical-align: middle;\n",
       "    }\n",
       "\n",
       "    .dataframe tbody tr th {\n",
       "        vertical-align: top;\n",
       "    }\n",
       "\n",
       "    .dataframe thead th {\n",
       "        text-align: right;\n",
       "    }\n",
       "</style>\n",
       "<table border=\"1\" class=\"dataframe\">\n",
       "  <thead>\n",
       "    <tr style=\"text-align: right;\">\n",
       "      <th></th>\n",
       "      <th>BREATHING_ID</th>\n",
       "      <th>user ID</th>\n",
       "    </tr>\n",
       "  </thead>\n",
       "  <tbody>\n",
       "    <tr>\n",
       "      <th>0</th>\n",
       "      <td>EKANDFRP</td>\n",
       "      <td>aGOvk4ji0cVqIzCs1jHnzlw2UEy2</td>\n",
       "    </tr>\n",
       "    <tr>\n",
       "      <th>1</th>\n",
       "      <td>IGDQHDOG</td>\n",
       "      <td>OCFaQR2Fa4S8cFiEJE2HueZH0TH3</td>\n",
       "    </tr>\n",
       "  </tbody>\n",
       "</table>\n",
       "</div>"
      ],
      "text/plain": [
       "  BREATHING_ID                       user ID\n",
       "0     EKANDFRP  aGOvk4ji0cVqIzCs1jHnzlw2UEy2\n",
       "1     IGDQHDOG  OCFaQR2Fa4S8cFiEJE2HueZH0TH3"
      ]
     },
     "execution_count": 145,
     "metadata": {},
     "output_type": "execute_result"
    }
   ],
   "source": [
    "df"
   ]
  },
  {
   "cell_type": "code",
   "execution_count": 146,
   "id": "e7b3e077-3128-49ac-8a33-6b5be71fbeb8",
   "metadata": {},
   "outputs": [
    {
     "data": {
      "text/html": [
       "<div>\n",
       "<style scoped>\n",
       "    .dataframe tbody tr th:only-of-type {\n",
       "        vertical-align: middle;\n",
       "    }\n",
       "\n",
       "    .dataframe tbody tr th {\n",
       "        vertical-align: top;\n",
       "    }\n",
       "\n",
       "    .dataframe thead th {\n",
       "        text-align: right;\n",
       "    }\n",
       "</style>\n",
       "<table border=\"1\" class=\"dataframe\">\n",
       "  <thead>\n",
       "    <tr style=\"text-align: right;\">\n",
       "      <th></th>\n",
       "      <th>BREATHING_ID</th>\n",
       "      <th>SPEECH_ID</th>\n",
       "      <th>COUGH_ID</th>\n",
       "      <th>FUSION_ID</th>\n",
       "      <th>COVID_STATUS</th>\n",
       "      <th>gender</th>\n",
       "      <th>age</th>\n",
       "      <th>covid_type</th>\n",
       "      <th>non_covid_healthy</th>\n",
       "      <th>non_covid_resp_ail</th>\n",
       "      <th>non_covid_but_covid_like_symp</th>\n",
       "    </tr>\n",
       "  </thead>\n",
       "  <tbody>\n",
       "    <tr>\n",
       "      <th>469</th>\n",
       "      <td>EKANDFRP</td>\n",
       "      <td>VXCAIMWY</td>\n",
       "      <td>ZKCHFUEP</td>\n",
       "      <td>ASRQDLRT</td>\n",
       "      <td>n</td>\n",
       "      <td>m</td>\n",
       "      <td>32</td>\n",
       "      <td>none</td>\n",
       "      <td>True</td>\n",
       "      <td>False</td>\n",
       "      <td>False</td>\n",
       "    </tr>\n",
       "    <tr>\n",
       "      <th>470</th>\n",
       "      <td>IGDQHDOG</td>\n",
       "      <td>MMUJAHOZ</td>\n",
       "      <td>HWTLDCII</td>\n",
       "      <td>IIXZXUGQ</td>\n",
       "      <td>p</td>\n",
       "      <td>m</td>\n",
       "      <td>30</td>\n",
       "      <td>mild</td>\n",
       "      <td>False</td>\n",
       "      <td>False</td>\n",
       "      <td>False</td>\n",
       "    </tr>\n",
       "  </tbody>\n",
       "</table>\n",
       "</div>"
      ],
      "text/plain": [
       "    BREATHING_ID SPEECH_ID  COUGH_ID FUSION_ID COVID_STATUS gender  age  \\\n",
       "469     EKANDFRP  VXCAIMWY  ZKCHFUEP  ASRQDLRT            n      m   32   \n",
       "470     IGDQHDOG  MMUJAHOZ  HWTLDCII  IIXZXUGQ            p      m   30   \n",
       "\n",
       "    covid_type  non_covid_healthy  non_covid_resp_ail  \\\n",
       "469       none               True               False   \n",
       "470       mild              False               False   \n",
       "\n",
       "     non_covid_but_covid_like_symp  \n",
       "469                          False  \n",
       "470                          False  "
      ]
     },
     "execution_count": 146,
     "metadata": {},
     "output_type": "execute_result"
    }
   ],
   "source": [
    "metadata_dicova.drop(\"user ID\", axis=1)"
   ]
  },
  {
   "cell_type": "markdown",
   "id": "7e7de24c-e97a-49d5-aef5-a3bff62d27c7",
   "metadata": {},
   "source": [
    "## get all other metadata from the dicova df"
   ]
  },
  {
   "cell_type": "code",
   "execution_count": 147,
   "id": "d8c95943-3b63-48ae-94da-48ee8533090d",
   "metadata": {},
   "outputs": [
    {
     "data": {
      "text/html": [
       "<div>\n",
       "<style scoped>\n",
       "    .dataframe tbody tr th:only-of-type {\n",
       "        vertical-align: middle;\n",
       "    }\n",
       "\n",
       "    .dataframe tbody tr th {\n",
       "        vertical-align: top;\n",
       "    }\n",
       "\n",
       "    .dataframe thead th {\n",
       "        text-align: right;\n",
       "    }\n",
       "</style>\n",
       "<table border=\"1\" class=\"dataframe\">\n",
       "  <thead>\n",
       "    <tr style=\"text-align: right;\">\n",
       "      <th></th>\n",
       "      <th>BREATHING_ID</th>\n",
       "      <th>user ID</th>\n",
       "      <th>SPEECH_ID</th>\n",
       "      <th>COUGH_ID</th>\n",
       "      <th>FUSION_ID</th>\n",
       "      <th>COVID_STATUS</th>\n",
       "      <th>gender</th>\n",
       "      <th>age</th>\n",
       "      <th>covid_type</th>\n",
       "      <th>non_covid_healthy</th>\n",
       "      <th>non_covid_resp_ail</th>\n",
       "      <th>non_covid_but_covid_like_symp</th>\n",
       "    </tr>\n",
       "  </thead>\n",
       "  <tbody>\n",
       "    <tr>\n",
       "      <th>0</th>\n",
       "      <td>EKANDFRP</td>\n",
       "      <td>aGOvk4ji0cVqIzCs1jHnzlw2UEy2</td>\n",
       "      <td>VXCAIMWY</td>\n",
       "      <td>ZKCHFUEP</td>\n",
       "      <td>ASRQDLRT</td>\n",
       "      <td>n</td>\n",
       "      <td>m</td>\n",
       "      <td>32</td>\n",
       "      <td>none</td>\n",
       "      <td>True</td>\n",
       "      <td>False</td>\n",
       "      <td>False</td>\n",
       "    </tr>\n",
       "    <tr>\n",
       "      <th>1</th>\n",
       "      <td>IGDQHDOG</td>\n",
       "      <td>OCFaQR2Fa4S8cFiEJE2HueZH0TH3</td>\n",
       "      <td>MMUJAHOZ</td>\n",
       "      <td>HWTLDCII</td>\n",
       "      <td>IIXZXUGQ</td>\n",
       "      <td>p</td>\n",
       "      <td>m</td>\n",
       "      <td>30</td>\n",
       "      <td>mild</td>\n",
       "      <td>False</td>\n",
       "      <td>False</td>\n",
       "      <td>False</td>\n",
       "    </tr>\n",
       "  </tbody>\n",
       "</table>\n",
       "</div>"
      ],
      "text/plain": [
       "  BREATHING_ID                       user ID SPEECH_ID  COUGH_ID FUSION_ID  \\\n",
       "0     EKANDFRP  aGOvk4ji0cVqIzCs1jHnzlw2UEy2  VXCAIMWY  ZKCHFUEP  ASRQDLRT   \n",
       "1     IGDQHDOG  OCFaQR2Fa4S8cFiEJE2HueZH0TH3  MMUJAHOZ  HWTLDCII  IIXZXUGQ   \n",
       "\n",
       "  COVID_STATUS gender  age covid_type  non_covid_healthy  non_covid_resp_ail  \\\n",
       "0            n      m   32       none               True               False   \n",
       "1            p      m   30       mild              False               False   \n",
       "\n",
       "   non_covid_but_covid_like_symp  \n",
       "0                          False  \n",
       "1                          False  "
      ]
     },
     "execution_count": 147,
     "metadata": {},
     "output_type": "execute_result"
    }
   ],
   "source": [
    "new_matches = pd.merge(df, metadata_dicova.drop(\"user ID\", axis=1), on=dicova_id_column, how='inner')\n",
    "new_matches"
   ]
  },
  {
   "cell_type": "markdown",
   "id": "dd1724e0-dcb3-4ffc-b434-24efc55a0f43",
   "metadata": {},
   "source": [
    "## combine with previously found matches"
   ]
  },
  {
   "cell_type": "code",
   "execution_count": 148,
   "id": "b91548a8-cbb4-43e9-8ccf-7702638e1378",
   "metadata": {},
   "outputs": [
    {
     "data": {
      "text/html": [
       "<div>\n",
       "<style scoped>\n",
       "    .dataframe tbody tr th:only-of-type {\n",
       "        vertical-align: middle;\n",
       "    }\n",
       "\n",
       "    .dataframe tbody tr th {\n",
       "        vertical-align: top;\n",
       "    }\n",
       "\n",
       "    .dataframe thead th {\n",
       "        text-align: right;\n",
       "    }\n",
       "</style>\n",
       "<table border=\"1\" class=\"dataframe\">\n",
       "  <thead>\n",
       "    <tr style=\"text-align: right;\">\n",
       "      <th></th>\n",
       "      <th>BREATHING_ID</th>\n",
       "      <th>user ID</th>\n",
       "      <th>SPEECH_ID</th>\n",
       "      <th>COUGH_ID</th>\n",
       "      <th>FUSION_ID</th>\n",
       "      <th>COVID_STATUS</th>\n",
       "      <th>gender</th>\n",
       "      <th>age</th>\n",
       "      <th>covid_type</th>\n",
       "      <th>non_covid_healthy</th>\n",
       "      <th>non_covid_resp_ail</th>\n",
       "      <th>non_covid_but_covid_like_symp</th>\n",
       "    </tr>\n",
       "  </thead>\n",
       "  <tbody>\n",
       "    <tr>\n",
       "      <th>0</th>\n",
       "      <td>EKANDFRP</td>\n",
       "      <td>aGOvk4ji0cVqIzCs1jHnzlw2UEy2</td>\n",
       "      <td>VXCAIMWY</td>\n",
       "      <td>ZKCHFUEP</td>\n",
       "      <td>ASRQDLRT</td>\n",
       "      <td>n</td>\n",
       "      <td>m</td>\n",
       "      <td>32</td>\n",
       "      <td>none</td>\n",
       "      <td>True</td>\n",
       "      <td>False</td>\n",
       "      <td>False</td>\n",
       "    </tr>\n",
       "    <tr>\n",
       "      <th>1</th>\n",
       "      <td>IGDQHDOG</td>\n",
       "      <td>OCFaQR2Fa4S8cFiEJE2HueZH0TH3</td>\n",
       "      <td>MMUJAHOZ</td>\n",
       "      <td>HWTLDCII</td>\n",
       "      <td>IIXZXUGQ</td>\n",
       "      <td>p</td>\n",
       "      <td>m</td>\n",
       "      <td>30</td>\n",
       "      <td>mild</td>\n",
       "      <td>False</td>\n",
       "      <td>False</td>\n",
       "      <td>False</td>\n",
       "    </tr>\n",
       "    <tr>\n",
       "      <th>0</th>\n",
       "      <td>IXDFPYSU</td>\n",
       "      <td>A58ps4OZgaO0Y1E5rbeUBGJAxiW2</td>\n",
       "      <td>WFCWZPKX</td>\n",
       "      <td>QDZBYEFG</td>\n",
       "      <td>NOSCNYYC</td>\n",
       "      <td>n</td>\n",
       "      <td>m</td>\n",
       "      <td>38</td>\n",
       "      <td>none</td>\n",
       "      <td>True</td>\n",
       "      <td>False</td>\n",
       "      <td>False</td>\n",
       "    </tr>\n",
       "    <tr>\n",
       "      <th>1</th>\n",
       "      <td>COYWHFJC</td>\n",
       "      <td>796K27lWKTfniw99yaqsYIvPrvi1</td>\n",
       "      <td>EFLOKZAC</td>\n",
       "      <td>WQCMROKZ</td>\n",
       "      <td>QVLKXWWT</td>\n",
       "      <td>n</td>\n",
       "      <td>m</td>\n",
       "      <td>27</td>\n",
       "      <td>none</td>\n",
       "      <td>True</td>\n",
       "      <td>False</td>\n",
       "      <td>False</td>\n",
       "    </tr>\n",
       "    <tr>\n",
       "      <th>2</th>\n",
       "      <td>FBRBYSZR</td>\n",
       "      <td>euLpkmzCb1cGb2gkZRQ6gh7hGsC3</td>\n",
       "      <td>LQVELYVK</td>\n",
       "      <td>QQZYKVVY</td>\n",
       "      <td>TDMRNNUV</td>\n",
       "      <td>n</td>\n",
       "      <td>m</td>\n",
       "      <td>30</td>\n",
       "      <td>none</td>\n",
       "      <td>True</td>\n",
       "      <td>False</td>\n",
       "      <td>False</td>\n",
       "    </tr>\n",
       "    <tr>\n",
       "      <th>...</th>\n",
       "      <td>...</td>\n",
       "      <td>...</td>\n",
       "      <td>...</td>\n",
       "      <td>...</td>\n",
       "      <td>...</td>\n",
       "      <td>...</td>\n",
       "      <td>...</td>\n",
       "      <td>...</td>\n",
       "      <td>...</td>\n",
       "      <td>...</td>\n",
       "      <td>...</td>\n",
       "      <td>...</td>\n",
       "    </tr>\n",
       "    <tr>\n",
       "      <th>464</th>\n",
       "      <td>MZQROMRC</td>\n",
       "      <td>6GBpxEuVACapBiyIgwQOAj1zuuy1</td>\n",
       "      <td>ZBPYNBII</td>\n",
       "      <td>VUMDIGSR</td>\n",
       "      <td>YVRKYPIX</td>\n",
       "      <td>n</td>\n",
       "      <td>m</td>\n",
       "      <td>18</td>\n",
       "      <td>none</td>\n",
       "      <td>False</td>\n",
       "      <td>False</td>\n",
       "      <td>True</td>\n",
       "    </tr>\n",
       "    <tr>\n",
       "      <th>465</th>\n",
       "      <td>JYDRKQKC</td>\n",
       "      <td>6EIX9NrJ1oWfURDgcOsxZ8j4z5o2</td>\n",
       "      <td>HGOLGULC</td>\n",
       "      <td>RWGPYIIZ</td>\n",
       "      <td>SZRMFVSG</td>\n",
       "      <td>n</td>\n",
       "      <td>m</td>\n",
       "      <td>42</td>\n",
       "      <td>none</td>\n",
       "      <td>True</td>\n",
       "      <td>False</td>\n",
       "      <td>False</td>\n",
       "    </tr>\n",
       "    <tr>\n",
       "      <th>466</th>\n",
       "      <td>KUHCLGKW</td>\n",
       "      <td>6BGTwwcsLoZpqSMhSzFeT2Z7Pqr2</td>\n",
       "      <td>UUCORRLU</td>\n",
       "      <td>ELGZGLYC</td>\n",
       "      <td>XXSZQJYU</td>\n",
       "      <td>n</td>\n",
       "      <td>m</td>\n",
       "      <td>34</td>\n",
       "      <td>none</td>\n",
       "      <td>True</td>\n",
       "      <td>False</td>\n",
       "      <td>False</td>\n",
       "    </tr>\n",
       "    <tr>\n",
       "      <th>467</th>\n",
       "      <td>BDZJHRGG</td>\n",
       "      <td>MViWQGORcQfI5lGwqT4CDXP9iHG3</td>\n",
       "      <td>SOUBYDJB</td>\n",
       "      <td>NFYAWUEU</td>\n",
       "      <td>OFBYOEMF</td>\n",
       "      <td>n</td>\n",
       "      <td>m</td>\n",
       "      <td>45</td>\n",
       "      <td>none</td>\n",
       "      <td>True</td>\n",
       "      <td>False</td>\n",
       "      <td>False</td>\n",
       "    </tr>\n",
       "    <tr>\n",
       "      <th>468</th>\n",
       "      <td>WOHNLAZW</td>\n",
       "      <td>60JfHHIcNZUf9lCy68R1Cgl69ZN2</td>\n",
       "      <td>XHPKRKUC</td>\n",
       "      <td>ZKYSUMJU</td>\n",
       "      <td>BIEGAWLM</td>\n",
       "      <td>n</td>\n",
       "      <td>m</td>\n",
       "      <td>55</td>\n",
       "      <td>none</td>\n",
       "      <td>True</td>\n",
       "      <td>False</td>\n",
       "      <td>False</td>\n",
       "    </tr>\n",
       "  </tbody>\n",
       "</table>\n",
       "<p>471 rows × 12 columns</p>\n",
       "</div>"
      ],
      "text/plain": [
       "    BREATHING_ID                       user ID SPEECH_ID  COUGH_ID FUSION_ID  \\\n",
       "0       EKANDFRP  aGOvk4ji0cVqIzCs1jHnzlw2UEy2  VXCAIMWY  ZKCHFUEP  ASRQDLRT   \n",
       "1       IGDQHDOG  OCFaQR2Fa4S8cFiEJE2HueZH0TH3  MMUJAHOZ  HWTLDCII  IIXZXUGQ   \n",
       "0       IXDFPYSU  A58ps4OZgaO0Y1E5rbeUBGJAxiW2  WFCWZPKX  QDZBYEFG  NOSCNYYC   \n",
       "1       COYWHFJC  796K27lWKTfniw99yaqsYIvPrvi1  EFLOKZAC  WQCMROKZ  QVLKXWWT   \n",
       "2       FBRBYSZR  euLpkmzCb1cGb2gkZRQ6gh7hGsC3  LQVELYVK  QQZYKVVY  TDMRNNUV   \n",
       "..           ...                           ...       ...       ...       ...   \n",
       "464     MZQROMRC  6GBpxEuVACapBiyIgwQOAj1zuuy1  ZBPYNBII  VUMDIGSR  YVRKYPIX   \n",
       "465     JYDRKQKC  6EIX9NrJ1oWfURDgcOsxZ8j4z5o2  HGOLGULC  RWGPYIIZ  SZRMFVSG   \n",
       "466     KUHCLGKW  6BGTwwcsLoZpqSMhSzFeT2Z7Pqr2  UUCORRLU  ELGZGLYC  XXSZQJYU   \n",
       "467     BDZJHRGG  MViWQGORcQfI5lGwqT4CDXP9iHG3  SOUBYDJB  NFYAWUEU  OFBYOEMF   \n",
       "468     WOHNLAZW  60JfHHIcNZUf9lCy68R1Cgl69ZN2  XHPKRKUC  ZKYSUMJU  BIEGAWLM   \n",
       "\n",
       "    COVID_STATUS gender  age covid_type  non_covid_healthy  \\\n",
       "0              n      m   32       none               True   \n",
       "1              p      m   30       mild              False   \n",
       "0              n      m   38       none               True   \n",
       "1              n      m   27       none               True   \n",
       "2              n      m   30       none               True   \n",
       "..           ...    ...  ...        ...                ...   \n",
       "464            n      m   18       none              False   \n",
       "465            n      m   42       none               True   \n",
       "466            n      m   34       none               True   \n",
       "467            n      m   45       none               True   \n",
       "468            n      m   55       none               True   \n",
       "\n",
       "     non_covid_resp_ail  non_covid_but_covid_like_symp  \n",
       "0                 False                          False  \n",
       "1                 False                          False  \n",
       "0                 False                          False  \n",
       "1                 False                          False  \n",
       "2                 False                          False  \n",
       "..                  ...                            ...  \n",
       "464               False                           True  \n",
       "465               False                          False  \n",
       "466               False                          False  \n",
       "467               False                          False  \n",
       "468               False                          False  \n",
       "\n",
       "[471 rows x 12 columns]"
      ]
     },
     "execution_count": 148,
     "metadata": {},
     "output_type": "execute_result"
    }
   ],
   "source": [
    "combined_matches = pd.concat([new_matches, matches])\n",
    "combined_matches"
   ]
  },
  {
   "cell_type": "code",
   "execution_count": 149,
   "id": "821321fb-41dd-4ecd-bd01-0e48aaae2ffa",
   "metadata": {},
   "outputs": [],
   "source": [
    "combined_matches.to_csv(\"matches_471.csv\", index=False)"
   ]
  },
  {
   "cell_type": "code",
   "execution_count": null,
   "id": "57932a2d-cd87-412e-b8bc-a1571a2d0604",
   "metadata": {},
   "outputs": [],
   "source": []
  },
  {
   "cell_type": "code",
   "execution_count": null,
   "id": "d2d0c184-d9ae-4efa-83db-a6bbe3c108f3",
   "metadata": {},
   "outputs": [],
   "source": []
  },
  {
   "cell_type": "code",
   "execution_count": null,
   "id": "95adf061-28e7-4058-a826-b6e3d57ad1fc",
   "metadata": {},
   "outputs": [],
   "source": []
  },
  {
   "cell_type": "code",
   "execution_count": null,
   "id": "fac4473d-01be-42e3-9796-c03be0cbe31a",
   "metadata": {},
   "outputs": [],
   "source": []
  },
  {
   "cell_type": "code",
   "execution_count": null,
   "id": "162657f6-a82c-489f-8acf-38a5c85f9d87",
   "metadata": {},
   "outputs": [],
   "source": []
  },
  {
   "cell_type": "code",
   "execution_count": null,
   "id": "f6701ad8-6b32-4ab5-8a9f-d284a0116fb2",
   "metadata": {},
   "outputs": [],
   "source": [
    "df.to_csv(\"temporary_id_relationshipts2.csv\", index=False)"
   ]
  },
  {
   "cell_type": "markdown",
   "id": "635405dd-57a2-4685-919f-5ce2e9427427",
   "metadata": {},
   "source": [
    "# read in saved matches"
   ]
  },
  {
   "cell_type": "code",
   "execution_count": null,
   "id": "01ea7d2d-d9b0-4130-8d9d-f33156612783",
   "metadata": {},
   "outputs": [],
   "source": [
    "matches = pd.read_csv(r\"temporary_id_relationshipts2.csv\")\n",
    "matches"
   ]
  },
  {
   "cell_type": "code",
   "execution_count": null,
   "id": "2e30f5a2-e23d-4ab8-9013-a5984ee57b11",
   "metadata": {},
   "outputs": [],
   "source": []
  },
  {
   "cell_type": "code",
   "execution_count": null,
   "id": "03fe3d3a-7b54-47cb-8906-cee1c77457c0",
   "metadata": {},
   "outputs": [],
   "source": [
    "merged_df = pd.merge(matches, metadata_dicova, on=dicova_id_column, how='inner')\n",
    "merged_df"
   ]
  },
  {
   "cell_type": "code",
   "execution_count": null,
   "id": "7fe6e942-8075-4b69-8007-393ccad5bd37",
   "metadata": {},
   "outputs": [],
   "source": [
    "merged_df.to_csv(\"matches_xxx.csv\", index=False)"
   ]
  },
  {
   "cell_type": "code",
   "execution_count": null,
   "id": "14ebd191-e209-4e7a-b539-1eba3ed95c0c",
   "metadata": {},
   "outputs": [],
   "source": [
    "temp_df = pd.merge(matches, metadata_dicova, on=dicova_id_column, how='outer')\n"
   ]
  },
  {
   "cell_type": "code",
   "execution_count": null,
   "id": "fa18fee0-0947-438c-aa62-6a372e3155ed",
   "metadata": {},
   "outputs": [],
   "source": [
    "temp_df.il"
   ]
  },
  {
   "cell_type": "code",
   "execution_count": null,
   "id": "de980cfd-897e-47ad-b041-1f7045dd420c",
   "metadata": {},
   "outputs": [],
   "source": [
    "# temp_df.dropna(subset=[\"user ID\"])\n",
    "temp_df[temp_df[\"user ID\"].isna()]"
   ]
  },
  {
   "cell_type": "code",
   "execution_count": null,
   "id": "4c027026-21ee-44f4-bad4-0a47c8f3cab5",
   "metadata": {},
   "outputs": [],
   "source": []
  },
  {
   "cell_type": "code",
   "execution_count": 64,
   "id": "f567ce8c-5a44-461e-b4a5-a84a6f493c53",
   "metadata": {},
   "outputs": [],
   "source": [
    "matches_as_list = list(new_matches[dicova_id_column])"
   ]
  },
  {
   "cell_type": "code",
   "execution_count": 65,
   "id": "c81393ba-60b7-42e6-ba9a-44f311d03edc",
   "metadata": {},
   "outputs": [],
   "source": [
    "dicova_audio_data_reduced = [sample for sample in dicova_audio_data if sample.id not in matches_as_list]"
   ]
  },
  {
   "cell_type": "code",
   "execution_count": 85,
   "id": "3074c68b-5687-4c7a-a7d4-7d14c35bfea2",
   "metadata": {},
   "outputs": [
    {
     "data": {
      "text/plain": [
       "2"
      ]
     },
     "execution_count": 85,
     "metadata": {},
     "output_type": "execute_result"
    }
   ],
   "source": [
    "len(dicova_audio_data_reduced)"
   ]
  },
  {
   "cell_type": "code",
   "execution_count": 67,
   "id": "0cbd27ab-d644-4761-a2fe-b5b866e9dba1",
   "metadata": {},
   "outputs": [
    {
     "data": {
      "text/plain": [
       "{'aGOvk4ji0cVqIzCs1jHnzlw2UEy2': 342.15924}"
      ]
     },
     "execution_count": 67,
     "metadata": {},
     "output_type": "execute_result"
    }
   ],
   "source": [
    "dicova_audio_data_reduced[0].correlations"
   ]
  },
  {
   "cell_type": "code",
   "execution_count": 130,
   "id": "5a5779f9-1e64-4013-8356-a4fad20a85bc",
   "metadata": {},
   "outputs": [],
   "source": [
    "actual_fits = {}\n",
    "idx = -1"
   ]
  },
  {
   "cell_type": "code",
   "execution_count": 131,
   "id": "c94dd2cd-4728-47aa-97cc-c9a1369554f7",
   "metadata": {},
   "outputs": [
    {
     "data": {
      "text/plain": [
       "(0, 342.15924)"
      ]
     },
     "execution_count": 131,
     "metadata": {},
     "output_type": "execute_result"
    },
    {
     "data": {
      "image/png": "[encoded data removed]",
      "text/plain": [
       "<Figure size 640x480 with 1 Axes>"
      ]
     },
     "metadata": {},
     "output_type": "display_data"
    },
    {
     "data": {
      "image/png": "[encoded data removed]",
      "text/plain": [
       "<Figure size 640x480 with 1 Axes>"
      ]
     },
     "metadata": {},
     "output_type": "display_data"
    }
   ],
   "source": [
    "# print(idx)\n",
    "idx += 1\n",
    "target_audio = dicova_audio_data_reduced[idx].best_fit.get_audio()\n",
    "source_audio = dicova_audio_data_reduced[idx].get_audio()\n",
    "plt.plot(target_audio)\n",
    "plt.figure()\n",
    "plt.plot(source_audio)\n",
    "idx, dicova_audio_data_reduced[idx].correlations[dicova_audio_data_reduced[idx].best_fit.id]\n"
   ]
  },
  {
   "cell_type": "code",
   "execution_count": 118,
   "id": "81bad39b-caaa-4315-8885-109ed7953122",
   "metadata": {},
   "outputs": [],
   "source": [
    "best_corr_ids = [key for key, val in dicova_audio_data_reduced[idx].correlations.items() if val > 3]"
   ]
  },
  {
   "cell_type": "code",
   "execution_count": 119,
   "id": "2e6ecff0-ed1c-45b7-9cf6-5ef0d9b0bbf8",
   "metadata": {},
   "outputs": [],
   "source": [
    "my_audio_data2 = []\n",
    "base_path = r\"data\\Coswara_processed\\Recordings\"\n",
    "for user_id in best_corr_ids:\n",
    "    age = full_metadata[full_metadata[\"user_id\"] == user_id][\"age\"].item()\n",
    "    gender = full_metadata[full_metadata[\"user_id\"] == user_id][\"gender\"].item()[0]\n",
    "    full_path = f\"{os.path.join(base_path, user_id, coswara_category)}.wav\"\n",
    "    my_audio_data2.append(AudioData(full_path, user_id, age, gender))\n",
    "    # print(full_path, age, gender)"
   ]
  },
  {
   "cell_type": "code",
   "execution_count": 121,
   "id": "a50e5ccc-cacf-46c3-b57a-52abf2694b91",
   "metadata": {},
   "outputs": [],
   "source": [
    "best_fits = [x for x in my_audio_data2 if x.audio_len > 350000 and x.audio_len < 450000]"
   ]
  },
  {
   "cell_type": "code",
   "execution_count": 113,
   "id": "da316379-327b-4209-85f8-cf1ee178fa29",
   "metadata": {},
   "outputs": [
    {
     "data": {
      "text/plain": [
       "400312.0"
      ]
     },
     "execution_count": 113,
     "metadata": {},
     "output_type": "execute_result"
    }
   ],
   "source": [
    " dicova_audio_data_reduced[idx].audio_len"
   ]
  },
  {
   "cell_type": "code",
   "execution_count": 134,
   "id": "193fc9a5-8ea6-4cd2-93c8-119612acfe26",
   "metadata": {},
   "outputs": [
    {
     "data": {
      "text/plain": [
       "0"
      ]
     },
     "execution_count": 134,
     "metadata": {},
     "output_type": "execute_result"
    }
   ],
   "source": [
    "idx"
   ]
  },
  {
   "cell_type": "code",
   "execution_count": 138,
   "id": "606ba13e-c6a0-4485-b3eb-391fc967219f",
   "metadata": {},
   "outputs": [
    {
     "data": {
      "text/plain": [
       "'aGOvk4ji0cVqIzCs1jHnzlw2UEy2'"
      ]
     },
     "execution_count": 138,
     "metadata": {},
     "output_type": "execute_result"
    }
   ],
   "source": [
    "dicova_audio_data_reduced[idx].best_fit.id"
   ]
  },
  {
   "cell_type": "code",
   "execution_count": 139,
   "id": "4197544a-72cc-46a9-8759-2126ca8ad354",
   "metadata": {},
   "outputs": [
    {
     "data": {
      "text/plain": [
       "{'EKANDFRP': 'aGOvk4ji0cVqIzCs1jHnzlw2UEy2',\n",
       " 'IGDQHDOG': 'OCFaQR2Fa4S8cFiEJE2HueZH0TH3'}"
      ]
     },
     "execution_count": 139,
     "metadata": {},
     "output_type": "execute_result"
    }
   ],
   "source": [
    "actual_fits[dicova_audio_data_reduced[0].id] = dicova_audio_data_reduced[0].best_fit.id\n",
    "actual_fits"
   ]
  },
  {
   "cell_type": "code",
   "execution_count": 127,
   "id": "5c3c448c-e89d-47c7-b93e-7e5cc0718db2",
   "metadata": {},
   "outputs": [
    {
     "data": {
      "text/plain": [
       "('OCFaQR2Fa4S8cFiEJE2HueZH0TH3', 'IGDQHDOG')"
      ]
     },
     "execution_count": 127,
     "metadata": {},
     "output_type": "execute_result"
    },
    {
     "data": {
      "image/png": "[encoded data removed]",
      "text/plain": [
       "<Figure size 640x480 with 1 Axes>"
      ]
     },
     "metadata": {},
     "output_type": "display_data"
    }
   ],
   "source": [
    "temp_audio = best_fits[1].get_audio()\n",
    "plt.plot(temp_audio[100:])\n",
    "best_fits[1].id, dicova_audio_data_reduced[idx].id"
   ]
  },
  {
   "cell_type": "code",
   "execution_count": null,
   "id": "0d1a8aea-8905-4594-95e2-e984b33173dd",
   "metadata": {},
   "outputs": [],
   "source": [
    "import sounddevice as sd"
   ]
  },
  {
   "cell_type": "code",
   "execution_count": 78,
   "id": "6694f807-8098-4095-8459-9791c0e7e1db",
   "metadata": {},
   "outputs": [],
   "source": [
    "play_n_seconds=3\n",
    "sr = 44100//dicova_audio_data_reduced[idx].downsample_coef"
   ]
  },
  {
   "cell_type": "code",
   "execution_count": 79,
   "id": "0d4b3661-fd55-43a9-845f-cf42840ada8b",
   "metadata": {},
   "outputs": [],
   "source": [
    "sd.play(target_audio[:play_n_seconds*sr], sr)"
   ]
  },
  {
   "cell_type": "code",
   "execution_count": 80,
   "id": "f15f861c-93fb-4894-97fb-f798e86d49a2",
   "metadata": {},
   "outputs": [],
   "source": [
    "sd.play(source_audio[:play_n_seconds*sr], sr)"
   ]
  }
 ],
 "metadata": {
  "kernelspec": {
   "display_name": "Python (python_v3-8)",
   "language": "python",
   "name": "python_v3-8"
  },
  "language_info": {
   "codemirror_mode": {
    "name": "ipython",
    "version": 3
   },
   "file_extension": ".py",
   "mimetype": "text/x-python",
   "name": "python",
   "nbconvert_exporter": "python",
   "pygments_lexer": "ipython3",
   "version": "3.8.13"
  }
 },
 "nbformat": 4,
 "nbformat_minor": 5
}
