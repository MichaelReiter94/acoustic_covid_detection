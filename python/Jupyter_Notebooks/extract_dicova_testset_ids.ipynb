{
 "cells": [
  {
   "cell_type": "code",
   "execution_count": 1,
   "id": "ec463b97-c03b-4a8d-a7db-3e0aa9e28532",
   "metadata": {},
   "outputs": [
    {
     "name": "stdout",
     "output_type": "stream",
     "text": [
      "D:\\Archiv\\Studium\\Master\\6.-Semester\\Masters_Thesis\\Git\\acoustic_covid_detection\\python\n"
     ]
    }
   ],
   "source": [
    "import pandas as pd\n",
    "import numpy as np\n",
    "from jupyter_utils import jupyter_setup\n",
    "jupyter_setup()\n",
    "import os\n",
    "import librosa\n",
    "import sounddevice as sd\n",
    "from tqdm.notebook import tqdm\n",
    "import matplotlib.pyplot as plt"
   ]
  },
  {
   "cell_type": "code",
   "execution_count": 4,
   "id": "187544c5-7b8c-40c3-8e47-e01e5186a9c9",
   "metadata": {},
   "outputs": [],
   "source": [
    "metadata_dicova = pd.read_csv(r\"data\\Coswara_processed\\DiCova\\SecondDiCOVA_detailed_test_metedata.csv\")\n",
    "full_metadata = pd.read_csv(r\"data\\Coswara_processed\\full_meta_data.csv\")\n",
    "original_metadata = pd.read_csv(r\"data\\Coswara_processed\\original_metadata.csv\")"
   ]
  },
  {
   "cell_type": "code",
   "execution_count": 5,
   "id": "ed4b95f7-83c4-4ac9-be44-d451e1bce9d3",
   "metadata": {},
   "outputs": [
    {
     "data": {
      "text/plain": [
       "Index(['BREATHING_ID', 'COUGH_ID', 'SPEECH_ID', 'FUSION_ID', 'COVID_STATUS',\n",
       "       'gender', 'age', 'covid_type', 'non_covid_healthy',\n",
       "       'non_covid_resp_ail', 'non_covid_but_covid_like_symp'],\n",
       "      dtype='object')"
      ]
     },
     "execution_count": 5,
     "metadata": {},
     "output_type": "execute_result"
    }
   ],
   "source": [
    "metadata_dicova.rename(columns={'GENDER': 'gender'}, inplace=True)\n",
    "metadata_dicova.columns"
   ]
  },
  {
   "cell_type": "code",
   "execution_count": 525,
   "id": "199f5b2b-e5fc-40fb-b708-c085df3a7c7d",
   "metadata": {},
   "outputs": [
    {
     "data": {
      "text/html": [
       "<div>\n",
       "<style scoped>\n",
       "    .dataframe tbody tr th:only-of-type {\n",
       "        vertical-align: middle;\n",
       "    }\n",
       "\n",
       "    .dataframe tbody tr th {\n",
       "        vertical-align: top;\n",
       "    }\n",
       "\n",
       "    .dataframe thead th {\n",
       "        text-align: right;\n",
       "    }\n",
       "</style>\n",
       "<table border=\"1\" class=\"dataframe\">\n",
       "  <thead>\n",
       "    <tr style=\"text-align: right;\">\n",
       "      <th></th>\n",
       "      <th>BREATHING_ID</th>\n",
       "      <th>COUGH_ID</th>\n",
       "      <th>SPEECH_ID</th>\n",
       "      <th>FUSION_ID</th>\n",
       "      <th>COVID_STATUS</th>\n",
       "      <th>gender</th>\n",
       "      <th>age</th>\n",
       "      <th>covid_type</th>\n",
       "      <th>non_covid_healthy</th>\n",
       "      <th>non_covid_resp_ail</th>\n",
       "      <th>non_covid_but_covid_like_symp</th>\n",
       "    </tr>\n",
       "  </thead>\n",
       "  <tbody>\n",
       "    <tr>\n",
       "      <th>0</th>\n",
       "      <td>EKANDFRP</td>\n",
       "      <td>ZKCHFUEP</td>\n",
       "      <td>VXCAIMWY</td>\n",
       "      <td>ASRQDLRT</td>\n",
       "      <td>n</td>\n",
       "      <td>m</td>\n",
       "      <td>32</td>\n",
       "      <td>none</td>\n",
       "      <td>True</td>\n",
       "      <td>False</td>\n",
       "      <td>False</td>\n",
       "    </tr>\n",
       "    <tr>\n",
       "      <th>1</th>\n",
       "      <td>QXIDXPCN</td>\n",
       "      <td>YCLAPIMT</td>\n",
       "      <td>IXXPUQJC</td>\n",
       "      <td>BEEPLUGK</td>\n",
       "      <td>n</td>\n",
       "      <td>m</td>\n",
       "      <td>25</td>\n",
       "      <td>none</td>\n",
       "      <td>True</td>\n",
       "      <td>False</td>\n",
       "      <td>False</td>\n",
       "    </tr>\n",
       "    <tr>\n",
       "      <th>2</th>\n",
       "      <td>RJNHLHRD</td>\n",
       "      <td>TKQPLXLE</td>\n",
       "      <td>XWUBOAIT</td>\n",
       "      <td>CVUPFQCZ</td>\n",
       "      <td>n</td>\n",
       "      <td>m</td>\n",
       "      <td>27</td>\n",
       "      <td>none</td>\n",
       "      <td>True</td>\n",
       "      <td>False</td>\n",
       "      <td>False</td>\n",
       "    </tr>\n",
       "    <tr>\n",
       "      <th>3</th>\n",
       "      <td>ACACIEDW</td>\n",
       "      <td>FJGMDZFI</td>\n",
       "      <td>DBXGCVUQ</td>\n",
       "      <td>YSDBVPHH</td>\n",
       "      <td>n</td>\n",
       "      <td>m</td>\n",
       "      <td>16</td>\n",
       "      <td>none</td>\n",
       "      <td>True</td>\n",
       "      <td>False</td>\n",
       "      <td>False</td>\n",
       "    </tr>\n",
       "    <tr>\n",
       "      <th>4</th>\n",
       "      <td>JVPUNCRM</td>\n",
       "      <td>PLKOEBZH</td>\n",
       "      <td>SBPTSFCM</td>\n",
       "      <td>JXGSKQEJ</td>\n",
       "      <td>n</td>\n",
       "      <td>m</td>\n",
       "      <td>34</td>\n",
       "      <td>none</td>\n",
       "      <td>True</td>\n",
       "      <td>False</td>\n",
       "      <td>False</td>\n",
       "    </tr>\n",
       "    <tr>\n",
       "      <th>...</th>\n",
       "      <td>...</td>\n",
       "      <td>...</td>\n",
       "      <td>...</td>\n",
       "      <td>...</td>\n",
       "      <td>...</td>\n",
       "      <td>...</td>\n",
       "      <td>...</td>\n",
       "      <td>...</td>\n",
       "      <td>...</td>\n",
       "      <td>...</td>\n",
       "      <td>...</td>\n",
       "    </tr>\n",
       "    <tr>\n",
       "      <th>466</th>\n",
       "      <td>BSELLAXS</td>\n",
       "      <td>BGAGCNVD</td>\n",
       "      <td>IGDXPHCU</td>\n",
       "      <td>FTAWSOYC</td>\n",
       "      <td>p</td>\n",
       "      <td>f</td>\n",
       "      <td>24</td>\n",
       "      <td>asymp</td>\n",
       "      <td>False</td>\n",
       "      <td>False</td>\n",
       "      <td>False</td>\n",
       "    </tr>\n",
       "    <tr>\n",
       "      <th>467</th>\n",
       "      <td>FALWRMJU</td>\n",
       "      <td>NVFVABXB</td>\n",
       "      <td>NMRCPJGL</td>\n",
       "      <td>FZBMXRWK</td>\n",
       "      <td>p</td>\n",
       "      <td>f</td>\n",
       "      <td>20</td>\n",
       "      <td>asymp</td>\n",
       "      <td>False</td>\n",
       "      <td>False</td>\n",
       "      <td>False</td>\n",
       "    </tr>\n",
       "    <tr>\n",
       "      <th>468</th>\n",
       "      <td>LHEEKCTA</td>\n",
       "      <td>RUMOJWCC</td>\n",
       "      <td>CUNGTJBJ</td>\n",
       "      <td>KLSRUVMB</td>\n",
       "      <td>p</td>\n",
       "      <td>f</td>\n",
       "      <td>20</td>\n",
       "      <td>mild</td>\n",
       "      <td>False</td>\n",
       "      <td>False</td>\n",
       "      <td>False</td>\n",
       "    </tr>\n",
       "    <tr>\n",
       "      <th>469</th>\n",
       "      <td>VELLTXHS</td>\n",
       "      <td>LIVFZTVY</td>\n",
       "      <td>MBDIWSZK</td>\n",
       "      <td>PMRMEAAT</td>\n",
       "      <td>p</td>\n",
       "      <td>f</td>\n",
       "      <td>23</td>\n",
       "      <td>mild</td>\n",
       "      <td>False</td>\n",
       "      <td>False</td>\n",
       "      <td>False</td>\n",
       "    </tr>\n",
       "    <tr>\n",
       "      <th>470</th>\n",
       "      <td>XXRQEJFD</td>\n",
       "      <td>WVLPRWHX</td>\n",
       "      <td>YWXSICDI</td>\n",
       "      <td>CVECXBST</td>\n",
       "      <td>p</td>\n",
       "      <td>f</td>\n",
       "      <td>49</td>\n",
       "      <td>moderate</td>\n",
       "      <td>False</td>\n",
       "      <td>False</td>\n",
       "      <td>False</td>\n",
       "    </tr>\n",
       "  </tbody>\n",
       "</table>\n",
       "<p>471 rows × 11 columns</p>\n",
       "</div>"
      ],
      "text/plain": [
       "    BREATHING_ID  COUGH_ID SPEECH_ID FUSION_ID COVID_STATUS gender  age  \\\n",
       "0       EKANDFRP  ZKCHFUEP  VXCAIMWY  ASRQDLRT            n      m   32   \n",
       "1       QXIDXPCN  YCLAPIMT  IXXPUQJC  BEEPLUGK            n      m   25   \n",
       "2       RJNHLHRD  TKQPLXLE  XWUBOAIT  CVUPFQCZ            n      m   27   \n",
       "3       ACACIEDW  FJGMDZFI  DBXGCVUQ  YSDBVPHH            n      m   16   \n",
       "4       JVPUNCRM  PLKOEBZH  SBPTSFCM  JXGSKQEJ            n      m   34   \n",
       "..           ...       ...       ...       ...          ...    ...  ...   \n",
       "466     BSELLAXS  BGAGCNVD  IGDXPHCU  FTAWSOYC            p      f   24   \n",
       "467     FALWRMJU  NVFVABXB  NMRCPJGL  FZBMXRWK            p      f   20   \n",
       "468     LHEEKCTA  RUMOJWCC  CUNGTJBJ  KLSRUVMB            p      f   20   \n",
       "469     VELLTXHS  LIVFZTVY  MBDIWSZK  PMRMEAAT            p      f   23   \n",
       "470     XXRQEJFD  WVLPRWHX  YWXSICDI  CVECXBST            p      f   49   \n",
       "\n",
       "    covid_type  non_covid_healthy  non_covid_resp_ail  \\\n",
       "0         none               True               False   \n",
       "1         none               True               False   \n",
       "2         none               True               False   \n",
       "3         none               True               False   \n",
       "4         none               True               False   \n",
       "..         ...                ...                 ...   \n",
       "466      asymp              False               False   \n",
       "467      asymp              False               False   \n",
       "468       mild              False               False   \n",
       "469       mild              False               False   \n",
       "470   moderate              False               False   \n",
       "\n",
       "     non_covid_but_covid_like_symp  \n",
       "0                            False  \n",
       "1                            False  \n",
       "2                            False  \n",
       "3                            False  \n",
       "4                            False  \n",
       "..                             ...  \n",
       "466                          False  \n",
       "467                          False  \n",
       "468                          False  \n",
       "469                          False  \n",
       "470                          False  \n",
       "\n",
       "[471 rows x 11 columns]"
      ]
     },
     "execution_count": 525,
     "metadata": {},
     "output_type": "execute_result"
    }
   ],
   "source": [
    "metadata_dicova"
   ]
  },
  {
   "cell_type": "code",
   "execution_count": 6,
   "id": "b89555ec-bc74-43b6-af91-4938b4e97283",
   "metadata": {},
   "outputs": [],
   "source": [
    "class AudioData:\n",
    "    def __init__(self, file_path, user_id, age, gender):\n",
    "        audio, self.sr = librosa.load(file_path, sr=None)\n",
    "        # audio, self.sr = librosa.load(file_path, sr=44100)\n",
    "        # self.id = os.path.splitext(os.path.basename(full_path))[0]\n",
    "        self.file_path= file_path\n",
    "        self.id = user_id\n",
    "        self.audio_len = len(audio) * (44100/self.sr)\n",
    "        self.target_id = []\n",
    "        self.gender = gender\n",
    "        self.age =age\n",
    "        self.correlations = {}\n",
    "        self.best_fit = None\n",
    "        \n",
    "    def __repr__(self):\n",
    "        return f\"id:{self.id} | len:{self.audio_len} | {self.gender}{self.age}\"\n",
    "            \n",
    "    def __eq__(self, other):\n",
    "        if isinstance(other, AudioData):\n",
    "            return (\n",
    "                self.audio_len == other.audio_len\n",
    "                and self.gender == other.gender\n",
    "                and self.age == other.age\n",
    "            )\n",
    "        return False        \n",
    "    \n",
    "    def eq_age_gender(self, other):\n",
    "        if isinstance(other, AudioData):\n",
    "            return (self.gender == other.gender and self.age == other.age)\n",
    "        return False  \n",
    "    \n",
    "    def comapre_audio(self, other):\n",
    "        try:\n",
    "            audio_orig, _ = librosa.load(self.file_path, sr=44100)\n",
    "            audio_comp, _ = librosa.load(other.file_path, sr=44100)\n",
    "            audio_orig, audio_comp = librosa.util.normalize(audio_orig), librosa.util.normalize(audio_comp)\n",
    "        except:\n",
    "            return 0\n",
    "        segment_len = 10000 if len(audio_orig) > 10000 else len(audio_orig)\n",
    "        cross_corr = np.correlate(audio_orig[:10000], audio_comp, mode='full')\n",
    "        return cross_corr.max()\n",
    "        \n",
    "    def get_audio(self):\n",
    "        audio_orig, _ = librosa.load(self.file_path, sr=44100)\n",
    "        return librosa.util.normalize(audio_orig)"
   ]
  },
  {
   "cell_type": "code",
   "execution_count": 7,
   "id": "1069206a-2063-4fd5-aaee-fd92627d6360",
   "metadata": {},
   "outputs": [
    {
     "data": {
      "application/vnd.jupyter.widget-view+json": {
       "model_id": "093b1cf06f384efba7673dbaee12cee7",
       "version_major": 2,
       "version_minor": 0
      },
      "text/plain": [
       "  0%|          | 0/471 [00:00<?, ?it/s]"
      ]
     },
     "metadata": {},
     "output_type": "display_data"
    }
   ],
   "source": [
    "# for full_id in list(full_metadata[\"user_id\"])\n",
    "dicova_audio_data = []\n",
    "base_path = r\"data\\Coswara_processed\\DiCova\\Second_DiCOVA_Challenge_Test_Data_Release\\AUDIO\\breathing\"\n",
    "for breath_id in tqdm(list(metadata_dicova[\"BREATHING_ID\"])):\n",
    "    age = metadata_dicova[metadata_dicova[\"BREATHING_ID\"] == breath_id][\"age\"].item()\n",
    "    gender = metadata_dicova[metadata_dicova[\"BREATHING_ID\"] == breath_id][\"gender\"].item()[0]\n",
    "    full_path = f\"{os.path.join(base_path, breath_id)}.flac\"\n",
    "    dicova_audio_data.append(AudioData(full_path, breath_id, age, gender))\n",
    "    # print(full_path, age, gender)"
   ]
  },
  {
   "cell_type": "code",
   "execution_count": 8,
   "id": "36de8574-6213-49f2-9c93-0ae30f477a94",
   "metadata": {},
   "outputs": [
    {
     "data": {
      "application/vnd.jupyter.widget-view+json": {
       "model_id": "8b5d873d2d63452e8c4af02e115c5bc2",
       "version_major": 2,
       "version_minor": 0
      },
      "text/plain": [
       "  0%|          | 0/2746 [00:00<?, ?it/s]"
      ]
     },
     "metadata": {},
     "output_type": "display_data"
    }
   ],
   "source": [
    "my_audio_data = []\n",
    "base_path = r\"data\\Coswara_processed\\Recordings\"\n",
    "for user_id in tqdm(list(full_metadata[\"user_id\"])):\n",
    "    age = full_metadata[full_metadata[\"user_id\"] == user_id][\"age\"].item()\n",
    "    gender = full_metadata[full_metadata[\"user_id\"] == user_id][\"gender\"].item()[0]\n",
    "    full_path = f\"{os.path.join(base_path, user_id, 'breathing-deep')}.wav\"\n",
    "    my_audio_data.append(AudioData(full_path, user_id, age, gender))\n",
    "    # print(full_path, age, gender)"
   ]
  },
  {
   "cell_type": "code",
   "execution_count": 9,
   "id": "b55a6ed0-3733-4263-875d-91b97e88fba6",
   "metadata": {},
   "outputs": [],
   "source": [
    "# base_path = r\"data\\Coswara_processed\\Recordings\"\n",
    "# user_id = full_metadata[\"user_id\"][1]\n",
    "# full_path = f\"{os.path.join(base_path, user_id, 'breathing-deep')}.wav\"\n",
    "# age = full_metadata[full_metadata[\"user_id\"] == user_id][\"age\"].item()\n",
    "# gender = full_metadata[full_metadata[\"user_id\"] == user_id][\"gender\"].item()[0]\n",
    "# audio_data1 = AudioData(full_path, user_id, age, gender)\n",
    "\n",
    "\n",
    "# base_path = r\"data\\Coswara_processed\\DiCova\\Second_DiCOVA_Challenge_Test_Data_Release\\AUDIO\\breathing\"\n",
    "# breath_id = metadata_dicova[\"BREATHING_ID\"][0]\n",
    "# full_path = f\"{os.path.join(base_path, breath_id)}.flac\"\n",
    "# age = metadata_dicova[metadata_dicova[\"BREATHING_ID\"] == breath_id][\"age\"].item()\n",
    "# gender = metadata_dicova[metadata_dicova[\"BREATHING_ID\"] == breath_id][\"gender\"].item()[0]\n",
    "# audio_data2 = AudioData(full_path, breath_id, age, gender)\n",
    "# audio_data2, audio_data1"
   ]
  },
  {
   "cell_type": "code",
   "execution_count": 10,
   "id": "53fcde9d-dd90-4dc1-94f6-be7178fb6735",
   "metadata": {},
   "outputs": [],
   "source": [
    "for dicova_id in dicova_audio_data:\n",
    "    # print(\"############################################\")\n",
    "    dicova_id.target_id = []\n",
    "    for my_id in my_audio_data:\n",
    "        if dicova_id.eq_age_gender(my_id):\n",
    "        # if dicova_id == my_id:\n",
    "        # if np.abs(dicova_id.audio_len - my_id.audio_len) < 100:\n",
    "            diff = dicova_id.audio_len - my_id.audio_len\n",
    "            diff_percent = diff / dicova_id.audio_len * 100\n",
    "            diff_percent = np.round(diff_percent)\n",
    "            if diff_percent < 0 and diff_percent > -25:\n",
    "                # print(diff_percent)\n",
    "                dicova_id.target_id.append(my_id)"
   ]
  },
  {
   "cell_type": "code",
   "execution_count": null,
   "id": "9ebe05e9-0923-4e96-8ce3-70b9369770c1",
   "metadata": {},
   "outputs": [],
   "source": [
    "for dicova_id in dicova_audio_data:\n",
    "    print(len(dicova_id.target_id))\n",
    "    # print(dicova_id.sr)"
   ]
  },
  {
   "cell_type": "code",
   "execution_count": null,
   "id": "55b6d825-e132-45e4-8979-d3fbd5f4b0d0",
   "metadata": {},
   "outputs": [],
   "source": [
    "for sample in tqdm(dicova_audio_data):\n",
    "    max_corr = 0\n",
    "    best_fit = None\n",
    "    for user_id in sample.target_id:\n",
    "        corr = sample.comapre_audio(user_id)\n",
    "        sample.correlations[user_id.id] = corr\n",
    "        print(corr)\n",
    "        if corr > max_corr:\n",
    "            max_corr = corr\n",
    "            best_fit = user_id\n",
    "    sample.best_fit = best_fit"
   ]
  },
  {
   "cell_type": "code",
   "execution_count": 30,
   "id": "cc7ff859-8654-4984-8d5f-51bb67834657",
   "metadata": {},
   "outputs": [],
   "source": [
    "actual_fits = {}"
   ]
  },
  {
   "cell_type": "code",
   "execution_count": 34,
   "id": "ede971e9-b1dc-4575-a541-2c2df771896e",
   "metadata": {},
   "outputs": [],
   "source": [
    "idx = 0"
   ]
  },
  {
   "cell_type": "code",
   "execution_count": 35,
   "id": "99753985-f09d-419c-8023-6d61713c9170",
   "metadata": {},
   "outputs": [],
   "source": []
  },
  {
   "cell_type": "code",
   "execution_count": null,
   "id": "dd1ce2ac-0455-46b8-9aa6-0ab7b539b14f",
   "metadata": {},
   "outputs": [
    {
     "name": "stdout",
     "output_type": "stream",
     "text": [
      "301\n"
     ]
    },
    {
     "ename": "MemoryError",
     "evalue": "Unable to allocate 9.55 MiB for an array with shape (626062, 2) and data type float64",
     "output_type": "error",
     "traceback": [
      "\u001b[1;31m---------------------------------------------------------------------------\u001b[0m",
      "\u001b[1;31mMemoryError\u001b[0m                               Traceback (most recent call last)",
      "Cell \u001b[1;32mIn[544], line 7\u001b[0m\n\u001b[0;32m      5\u001b[0m plt\u001b[38;5;241m.\u001b[39mplot(target_audio)\n\u001b[0;32m      6\u001b[0m plt\u001b[38;5;241m.\u001b[39mfigure()\n\u001b[1;32m----> 7\u001b[0m \u001b[43mplt\u001b[49m\u001b[38;5;241;43m.\u001b[39;49m\u001b[43mplot\u001b[49m\u001b[43m(\u001b[49m\u001b[43msource_audio\u001b[49m\u001b[43m)\u001b[49m\n",
      "File \u001b[1;32m~\\Anaconda3\\envs\\python_v3-8\\lib\\site-packages\\matplotlib\\pyplot.py:2988\u001b[0m, in \u001b[0;36mplot\u001b[1;34m(scalex, scaley, data, *args, **kwargs)\u001b[0m\n\u001b[0;32m   2986\u001b[0m \u001b[38;5;129m@_copy_docstring_and_deprecators\u001b[39m(Axes\u001b[38;5;241m.\u001b[39mplot)\n\u001b[0;32m   2987\u001b[0m \u001b[38;5;28;01mdef\u001b[39;00m \u001b[38;5;21mplot\u001b[39m(\u001b[38;5;241m*\u001b[39margs, scalex\u001b[38;5;241m=\u001b[39m\u001b[38;5;28;01mTrue\u001b[39;00m, scaley\u001b[38;5;241m=\u001b[39m\u001b[38;5;28;01mTrue\u001b[39;00m, data\u001b[38;5;241m=\u001b[39m\u001b[38;5;28;01mNone\u001b[39;00m, \u001b[38;5;241m*\u001b[39m\u001b[38;5;241m*\u001b[39mkwargs):\n\u001b[1;32m-> 2988\u001b[0m     \u001b[38;5;28;01mreturn\u001b[39;00m \u001b[43mgca\u001b[49m\u001b[43m(\u001b[49m\u001b[43m)\u001b[49m\u001b[38;5;241;43m.\u001b[39;49m\u001b[43mplot\u001b[49m\u001b[43m(\u001b[49m\n\u001b[0;32m   2989\u001b[0m \u001b[43m        \u001b[49m\u001b[38;5;241;43m*\u001b[39;49m\u001b[43margs\u001b[49m\u001b[43m,\u001b[49m\u001b[43m \u001b[49m\u001b[43mscalex\u001b[49m\u001b[38;5;241;43m=\u001b[39;49m\u001b[43mscalex\u001b[49m\u001b[43m,\u001b[49m\u001b[43m \u001b[49m\u001b[43mscaley\u001b[49m\u001b[38;5;241;43m=\u001b[39;49m\u001b[43mscaley\u001b[49m\u001b[43m,\u001b[49m\n\u001b[0;32m   2990\u001b[0m \u001b[43m        \u001b[49m\u001b[38;5;241;43m*\u001b[39;49m\u001b[38;5;241;43m*\u001b[39;49m\u001b[43m(\u001b[49m\u001b[43m{\u001b[49m\u001b[38;5;124;43m\"\u001b[39;49m\u001b[38;5;124;43mdata\u001b[39;49m\u001b[38;5;124;43m\"\u001b[39;49m\u001b[43m:\u001b[49m\u001b[43m \u001b[49m\u001b[43mdata\u001b[49m\u001b[43m}\u001b[49m\u001b[43m \u001b[49m\u001b[38;5;28;43;01mif\u001b[39;49;00m\u001b[43m \u001b[49m\u001b[43mdata\u001b[49m\u001b[43m \u001b[49m\u001b[38;5;129;43;01mis\u001b[39;49;00m\u001b[43m \u001b[49m\u001b[38;5;129;43;01mnot\u001b[39;49;00m\u001b[43m \u001b[49m\u001b[38;5;28;43;01mNone\u001b[39;49;00m\u001b[43m \u001b[49m\u001b[38;5;28;43;01melse\u001b[39;49;00m\u001b[43m \u001b[49m\u001b[43m{\u001b[49m\u001b[43m}\u001b[49m\u001b[43m)\u001b[49m\u001b[43m,\u001b[49m\u001b[43m \u001b[49m\u001b[38;5;241;43m*\u001b[39;49m\u001b[38;5;241;43m*\u001b[39;49m\u001b[43mkwargs\u001b[49m\u001b[43m)\u001b[49m\n",
      "File \u001b[1;32m~\\Anaconda3\\envs\\python_v3-8\\lib\\site-packages\\matplotlib\\axes\\_axes.py:1607\u001b[0m, in \u001b[0;36mAxes.plot\u001b[1;34m(self, scalex, scaley, data, *args, **kwargs)\u001b[0m\n\u001b[0;32m   1605\u001b[0m lines \u001b[38;5;241m=\u001b[39m [\u001b[38;5;241m*\u001b[39m\u001b[38;5;28mself\u001b[39m\u001b[38;5;241m.\u001b[39m_get_lines(\u001b[38;5;241m*\u001b[39margs, data\u001b[38;5;241m=\u001b[39mdata, \u001b[38;5;241m*\u001b[39m\u001b[38;5;241m*\u001b[39mkwargs)]\n\u001b[0;32m   1606\u001b[0m \u001b[38;5;28;01mfor\u001b[39;00m line \u001b[38;5;129;01min\u001b[39;00m lines:\n\u001b[1;32m-> 1607\u001b[0m     \u001b[38;5;28;43mself\u001b[39;49m\u001b[38;5;241;43m.\u001b[39;49m\u001b[43madd_line\u001b[49m\u001b[43m(\u001b[49m\u001b[43mline\u001b[49m\u001b[43m)\u001b[49m\n\u001b[0;32m   1608\u001b[0m \u001b[38;5;28mself\u001b[39m\u001b[38;5;241m.\u001b[39m_request_autoscale_view(scalex\u001b[38;5;241m=\u001b[39mscalex, scaley\u001b[38;5;241m=\u001b[39mscaley)\n\u001b[0;32m   1609\u001b[0m \u001b[38;5;28;01mreturn\u001b[39;00m lines\n",
      "File \u001b[1;32m~\\Anaconda3\\envs\\python_v3-8\\lib\\site-packages\\matplotlib\\axes\\_base.py:2105\u001b[0m, in \u001b[0;36m_AxesBase.add_line\u001b[1;34m(self, line)\u001b[0m\n\u001b[0;32m   2102\u001b[0m \u001b[38;5;28;01mif\u001b[39;00m line\u001b[38;5;241m.\u001b[39mget_clip_path() \u001b[38;5;129;01mis\u001b[39;00m \u001b[38;5;28;01mNone\u001b[39;00m:\n\u001b[0;32m   2103\u001b[0m     line\u001b[38;5;241m.\u001b[39mset_clip_path(\u001b[38;5;28mself\u001b[39m\u001b[38;5;241m.\u001b[39mpatch)\n\u001b[1;32m-> 2105\u001b[0m \u001b[38;5;28;43mself\u001b[39;49m\u001b[38;5;241;43m.\u001b[39;49m\u001b[43m_update_line_limits\u001b[49m\u001b[43m(\u001b[49m\u001b[43mline\u001b[49m\u001b[43m)\u001b[49m\n\u001b[0;32m   2106\u001b[0m \u001b[38;5;28;01mif\u001b[39;00m \u001b[38;5;129;01mnot\u001b[39;00m line\u001b[38;5;241m.\u001b[39mget_label():\n\u001b[0;32m   2107\u001b[0m     line\u001b[38;5;241m.\u001b[39mset_label(\u001b[38;5;124m'\u001b[39m\u001b[38;5;124m_line\u001b[39m\u001b[38;5;132;01m%d\u001b[39;00m\u001b[38;5;124m'\u001b[39m \u001b[38;5;241m%\u001b[39m \u001b[38;5;28mlen\u001b[39m(\u001b[38;5;28mself\u001b[39m\u001b[38;5;241m.\u001b[39mlines))\n",
      "File \u001b[1;32m~\\Anaconda3\\envs\\python_v3-8\\lib\\site-packages\\matplotlib\\axes\\_base.py:2127\u001b[0m, in \u001b[0;36m_AxesBase._update_line_limits\u001b[1;34m(self, line)\u001b[0m\n\u001b[0;32m   2123\u001b[0m \u001b[38;5;28;01mdef\u001b[39;00m \u001b[38;5;21m_update_line_limits\u001b[39m(\u001b[38;5;28mself\u001b[39m, line):\n\u001b[0;32m   2124\u001b[0m     \u001b[38;5;124;03m\"\"\"\u001b[39;00m\n\u001b[0;32m   2125\u001b[0m \u001b[38;5;124;03m    Figures out the data limit of the given line, updating self.dataLim.\u001b[39;00m\n\u001b[0;32m   2126\u001b[0m \u001b[38;5;124;03m    \"\"\"\u001b[39;00m\n\u001b[1;32m-> 2127\u001b[0m     path \u001b[38;5;241m=\u001b[39m \u001b[43mline\u001b[49m\u001b[38;5;241;43m.\u001b[39;49m\u001b[43mget_path\u001b[49m\u001b[43m(\u001b[49m\u001b[43m)\u001b[49m\n\u001b[0;32m   2128\u001b[0m     \u001b[38;5;28;01mif\u001b[39;00m path\u001b[38;5;241m.\u001b[39mvertices\u001b[38;5;241m.\u001b[39msize \u001b[38;5;241m==\u001b[39m \u001b[38;5;241m0\u001b[39m:\n\u001b[0;32m   2129\u001b[0m         \u001b[38;5;28;01mreturn\u001b[39;00m\n",
      "File \u001b[1;32m~\\Anaconda3\\envs\\python_v3-8\\lib\\site-packages\\matplotlib\\lines.py:1022\u001b[0m, in \u001b[0;36mLine2D.get_path\u001b[1;34m(self)\u001b[0m\n\u001b[0;32m   1017\u001b[0m \u001b[38;5;124;03m\"\"\"\u001b[39;00m\n\u001b[0;32m   1018\u001b[0m \u001b[38;5;124;03mReturn the :class:`~matplotlib.path.Path` object associated\u001b[39;00m\n\u001b[0;32m   1019\u001b[0m \u001b[38;5;124;03mwith this line.\u001b[39;00m\n\u001b[0;32m   1020\u001b[0m \u001b[38;5;124;03m\"\"\"\u001b[39;00m\n\u001b[0;32m   1021\u001b[0m \u001b[38;5;28;01mif\u001b[39;00m \u001b[38;5;28mself\u001b[39m\u001b[38;5;241m.\u001b[39m_invalidy \u001b[38;5;129;01mor\u001b[39;00m \u001b[38;5;28mself\u001b[39m\u001b[38;5;241m.\u001b[39m_invalidx:\n\u001b[1;32m-> 1022\u001b[0m     \u001b[38;5;28;43mself\u001b[39;49m\u001b[38;5;241;43m.\u001b[39;49m\u001b[43mrecache\u001b[49m\u001b[43m(\u001b[49m\u001b[43m)\u001b[49m\n\u001b[0;32m   1023\u001b[0m \u001b[38;5;28;01mreturn\u001b[39;00m \u001b[38;5;28mself\u001b[39m\u001b[38;5;241m.\u001b[39m_path\n",
      "File \u001b[1;32m~\\Anaconda3\\envs\\python_v3-8\\lib\\site-packages\\matplotlib\\lines.py:672\u001b[0m, in \u001b[0;36mLine2D.recache\u001b[1;34m(self, always)\u001b[0m\n\u001b[0;32m    669\u001b[0m \u001b[38;5;28;01melse\u001b[39;00m:\n\u001b[0;32m    670\u001b[0m     y \u001b[38;5;241m=\u001b[39m \u001b[38;5;28mself\u001b[39m\u001b[38;5;241m.\u001b[39m_y\n\u001b[1;32m--> 672\u001b[0m \u001b[38;5;28mself\u001b[39m\u001b[38;5;241m.\u001b[39m_xy \u001b[38;5;241m=\u001b[39m \u001b[43mnp\u001b[49m\u001b[38;5;241;43m.\u001b[39;49m\u001b[43mcolumn_stack\u001b[49m\u001b[43m(\u001b[49m\u001b[43mnp\u001b[49m\u001b[38;5;241;43m.\u001b[39;49m\u001b[43mbroadcast_arrays\u001b[49m\u001b[43m(\u001b[49m\u001b[43mx\u001b[49m\u001b[43m,\u001b[49m\u001b[43m \u001b[49m\u001b[43my\u001b[49m\u001b[43m)\u001b[49m\u001b[43m)\u001b[49m\u001b[38;5;241;43m.\u001b[39;49m\u001b[43mastype\u001b[49m\u001b[43m(\u001b[49m\u001b[38;5;28;43mfloat\u001b[39;49m\u001b[43m)\u001b[49m\n\u001b[0;32m    673\u001b[0m \u001b[38;5;28mself\u001b[39m\u001b[38;5;241m.\u001b[39m_x, \u001b[38;5;28mself\u001b[39m\u001b[38;5;241m.\u001b[39m_y \u001b[38;5;241m=\u001b[39m \u001b[38;5;28mself\u001b[39m\u001b[38;5;241m.\u001b[39m_xy\u001b[38;5;241m.\u001b[39mT  \u001b[38;5;66;03m# views\u001b[39;00m\n\u001b[0;32m    675\u001b[0m \u001b[38;5;28mself\u001b[39m\u001b[38;5;241m.\u001b[39m_subslice \u001b[38;5;241m=\u001b[39m \u001b[38;5;28;01mFalse\u001b[39;00m\n",
      "\u001b[1;31mMemoryError\u001b[0m: Unable to allocate 9.55 MiB for an array with shape (626062, 2) and data type float64"
     ]
    }
   ],
   "source": [
    "idx += 1\n",
    "print(idx)\n",
    "target_audio = dicova_audio_data[idx].best_fit.get_audio()\n",
    "source_audio = dicova_audio_data[idx].get_audio()\n",
    "plt.plot(target_audio)\n",
    "plt.figure()\n",
    "plt.plot(source_audio)"
   ]
  },
  {
   "cell_type": "code",
   "execution_count": 1,
   "id": "04bd3203-06bd-4dfd-94c4-d9e5bb026616",
   "metadata": {},
   "outputs": [
    {
     "ename": "NameError",
     "evalue": "name 'dicova_audio_data' is not defined",
     "output_type": "error",
     "traceback": [
      "\u001b[1;31m---------------------------------------------------------------------------\u001b[0m",
      "\u001b[1;31mNameError\u001b[0m                                 Traceback (most recent call last)",
      "Cell \u001b[1;32mIn[1], line 1\u001b[0m\n\u001b[1;32m----> 1\u001b[0m actual_fits[dicova_audio_data[idx]\u001b[38;5;241m.\u001b[39mid] \u001b[38;5;241m=\u001b[39m \u001b[43mdicova_audio_data\u001b[49m[idx]\u001b[38;5;241m.\u001b[39mbest_fit\u001b[38;5;241m.\u001b[39mid\n\u001b[0;32m      2\u001b[0m actual_fits\n",
      "\u001b[1;31mNameError\u001b[0m: name 'dicova_audio_data' is not defined"
     ]
    }
   ],
   "source": [
    "actual_fits[dicova_audio_data[idx].id] = dicova_audio_data[idx].best_fit.id\n",
    "actual_fits"
   ]
  },
  {
   "cell_type": "code",
   "execution_count": 407,
   "id": "6358d51c-fd8a-4f81-aeb4-491c069001af",
   "metadata": {},
   "outputs": [
    {
     "data": {
      "text/plain": [
       "138"
      ]
     },
     "execution_count": 407,
     "metadata": {},
     "output_type": "execute_result"
    }
   ],
   "source": [
    "len(actual_fits)"
   ]
  },
  {
   "cell_type": "code",
   "execution_count": 442,
   "id": "def57e60-9fe7-4b5f-9970-cb189ab67fd4",
   "metadata": {},
   "outputs": [],
   "source": [
    "import csv"
   ]
  },
  {
   "cell_type": "code",
   "execution_count": 458,
   "id": "3749fba4-ec1f-47cc-95b3-374711e46e74",
   "metadata": {},
   "outputs": [],
   "source": [
    "df = pd.DataFrame({\"breath ID\": actual_fits.keys(), \"user ID\":actual_fits.values()})"
   ]
  },
  {
   "cell_type": "code",
   "execution_count": 461,
   "id": "f6701ad8-6b32-4ab5-8a9f-d284a0116fb2",
   "metadata": {},
   "outputs": [],
   "source": [
    "df.to_csv(\"temporary_id_relationshipts.csv\", index=False)"
   ]
  },
  {
   "cell_type": "code",
   "execution_count": null,
   "id": "aa29acc6-602b-477b-9ef7-da6037a11db3",
   "metadata": {},
   "outputs": [],
   "source": []
  }
 ],
 "metadata": {
  "kernelspec": {
   "display_name": "Python (python_v3-8)",
   "language": "python",
   "name": "python_v3-8"
  },
  "language_info": {
   "codemirror_mode": {
    "name": "ipython",
    "version": 3
   },
   "file_extension": ".py",
   "mimetype": "text/x-python",
   "name": "python",
   "nbconvert_exporter": "python",
   "pygments_lexer": "ipython3",
   "version": "3.8.13"
  }
 },
 "nbformat": 4,
 "nbformat_minor": 5
}
