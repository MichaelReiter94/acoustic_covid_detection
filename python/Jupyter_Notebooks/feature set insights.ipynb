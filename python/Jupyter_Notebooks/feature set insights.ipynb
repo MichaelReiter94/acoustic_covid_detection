{
 "cells": [
  {
   "cell_type": "code",
   "execution_count": 1,
   "id": "7f28fab7",
   "metadata": {},
   "outputs": [
    {
     "name": "stdout",
     "output_type": "stream",
     "text": [
      "D:\\Archiv\\Studium\\Master\\6.-Semester\\Masters_Thesis\\Git\\acoustic_covid_detection\\python\n"
     ]
    }
   ],
   "source": [
    "import pickle\n",
    "from jupyter_utils import jupyter_setup\n",
    "jupyter_setup()\n",
    "import numpy as np\n",
    "import pandas as pd\n",
    "from audio_processing import FeatureSet\n",
    "import matplotlib.pyplot as plt\n",
    "import librosa\n",
    "import ipywidgets as widgets\n",
    "import os\n",
    "dataset_basepath = \"data/Coswara_processed/pickles/\"\n",
    "from participant import Participant\n",
    "from tqdm.notebook import tqdm"
   ]
  },
  {
   "cell_type": "code",
   "execution_count": 2,
   "id": "9bdc075d",
   "metadata": {
    "tags": []
   },
   "outputs": [
    {
     "data": {
      "application/vnd.jupyter.widget-view+json": {
       "model_id": "d907303272eb475ca4c27593d74b6d2e",
       "version_major": 2,
       "version_minor": 0
      },
      "text/plain": [
       "Dropdown(options=('2023_02_20_brogrammers_settings.pickle', '2023_02_20_brogrammers_settings_augmented.pickle'…"
      ]
     },
     "metadata": {},
     "output_type": "display_data"
    }
   ],
   "source": [
    "dataset_list = os.listdir(dataset_basepath)\n",
    "# dataset_list = [dataset for dataset in dataset_list if \"logmel_combined_breath\" in dataset and \"augmented\" not in dataset]\n",
    "\n",
    "def load_dataset(path):\n",
    "    dataset_basepath = \"data/Coswara_processed/pickles/\"\n",
    "    fullpath = os.path.join(dataset_basepath, path)\n",
    "    print(fullpath)\n",
    "    with open(fullpath, \"rb\") as f:\n",
    "        return pickle.load(f)\n",
    "    \n",
    "dropdown = widgets.Dropdown(options=dataset_list)\n",
    "# dropdown.observe(print_name, names=\"values\")\n",
    "display(dropdown)"
   ]
  },
  {
   "cell_type": "code",
   "execution_count": null,
   "id": "fe071525-01f3-47f8-8ba5-9857f3d2cf2c",
   "metadata": {},
   "outputs": [
    {
     "name": "stdout",
     "output_type": "stream",
     "text": [
      "data/Coswara_processed/pickles/2023_05_04_logmel_combined_breaths_NEW_11msHop_46msFFT_fmax11000_224logmel.pickle\n"
     ]
    }
   ],
   "source": [
    "dataset = load_dataset(dropdown.value)\n",
    "print(dataset)"
   ]
  },
  {
   "cell_type": "code",
   "execution_count": 11,
   "id": "6693a46c-f94e-43b0-a2ef-eeb244833f49",
   "metadata": {},
   "outputs": [
    {
     "data": {
      "text/plain": [
       "(0.0, 100.0)"
      ]
     },
     "execution_count": 11,
     "metadata": {},
     "output_type": "execute_result"
    },
    {
     "data": {
      "image/png": "[encoded data removed]",
      "text/plain": [
       "<Figure size 640x480 with 1 Axes>"
      ]
     },
     "metadata": {},
     "output_type": "display_data"
    }
   ],
   "source": [
    "# plot the distribution of the durations of the recordings in the dataset\n",
    "durations = [p.recordings[dataset.types_of_recording].original_duration_trimmed_silence for p in dataset.participants]\n",
    "plt.hist(durations, 100), plt.title(f\"Durations of the >{dataset.types_of_recording}< recordings after trimming the silence\")\n",
    "plt.grid(), plt.xlabel(\"duration [s]\")\n",
    "plt.xlim([0, 100])"
   ]
  },
  {
   "cell_type": "code",
   "execution_count": 8,
   "id": "97e0adcd-21c0-4fa5-9833-6305928f53b5",
   "metadata": {},
   "outputs": [
    {
     "data": {
      "text/plain": [
       "28.42"
      ]
     },
     "execution_count": 8,
     "metadata": {},
     "output_type": "execute_result"
    }
   ],
   "source": [
    "dataset.participants[0].recordings['combined_breaths'].original_duration_trimmed_silence"
   ]
  },
  {
   "cell_type": "code",
   "execution_count": null,
   "id": "e12430d6-36af-435b-9d1c-275a8abab9fb",
   "metadata": {},
   "outputs": [],
   "source": []
  },
  {
   "cell_type": "code",
   "execution_count": null,
   "id": "59ab74db-2d22-4b2c-a993-044b6b12ec93",
   "metadata": {},
   "outputs": [],
   "source": []
  },
  {
   "cell_type": "code",
   "execution_count": null,
   "id": "da26f4df-1089-416e-bbb4-c27cff93cdb9",
   "metadata": {},
   "outputs": [],
   "source": []
  },
  {
   "cell_type": "code",
   "execution_count": 30,
   "id": "829beb2e-cbba-4973-9cce-81148a971625",
   "metadata": {},
   "outputs": [],
   "source": [
    "df = pd.read_csv(\"data/Coswara_processed/full_meta_data.csv\")\n",
    "relevant_df = df[[\"audio_quality_breathing-deep\", \"audio_quality_breathing-shallow\", \"user_id\"]]"
   ]
  },
  {
   "cell_type": "code",
   "execution_count": 635,
   "id": "5477c1ce-1705-4ed2-82d6-782b2d8724de",
   "metadata": {},
   "outputs": [
    {
     "data": {
      "text/plain": [
       "array([   2,   11,   17,   20,   32,   35,   44,   48,   55,   56,   63,\n",
       "         67,   73,   80,   86,   90,   94,  103,  108,  112,  119,  138,\n",
       "        142,  147,  150,  155,  162,  163,  171,  174,  182,  189,  195,\n",
       "        198,  202,  210,  217,  218,  223,  227,  250,  262,  272,  281,\n",
       "        291,  293,  297,  298,  300,  307,  309,  310,  332,  335,  352,\n",
       "        430,  441,  442,  446,  450,  456,  465,  467,  486,  491,  503,\n",
       "        504,  506,  518,  527,  529,  538,  547,  557,  564,  565,  573,\n",
       "        574,  581,  587,  590,  595,  596,  597,  606,  632,  648,  658,\n",
       "        669,  671,  676,  683,  687,  691,  697,  711,  726,  735,  744,\n",
       "        745,  746,  758,  763,  768,  780,  783,  795,  796,  801,  813,\n",
       "        815,  825,  834,  836,  840,  842,  858,  863,  867,  885,  891,\n",
       "        897,  914,  920,  928,  930,  931,  944,  948,  950,  951,  952,\n",
       "        958,  966,  971,  975,  982,  983, 1003, 1004, 1005, 1006, 1012,\n",
       "       1013, 1014, 1020, 1025, 1033, 1035, 1043, 1044, 1049, 1057, 1058,\n",
       "       1061, 1062, 1064, 1065, 1069, 1080, 1082, 1084, 1086, 1123, 1152,\n",
       "       1157, 1160, 1162, 1174, 1179, 1188, 1189, 1193, 1200, 1203, 1216,\n",
       "       1218, 1228, 1229, 1243, 1267, 1268, 1272, 1276, 1279, 1286, 1296,\n",
       "       1297, 1301, 1312, 1314, 1315, 1321, 1346, 1349, 1352, 1355, 1358,\n",
       "       1359, 1363, 1368, 1376, 1379, 1386, 1390, 1393, 1394, 1399, 1401,\n",
       "       1410, 1411, 1414, 1429, 1431, 1438, 1447, 1450, 1460, 1463, 1465,\n",
       "       1474, 1499, 1512, 1513, 1517, 1523, 1524, 1527, 1534, 1557, 1561,\n",
       "       1570, 1571, 1576, 1578, 1579, 1605, 1607, 1621, 1626, 1635, 1643,\n",
       "       1649, 1652, 1656, 1658, 1666, 1674, 1682, 1688, 1689, 1690, 1691,\n",
       "       1696, 1698, 1701, 1702, 1722, 1723, 1726, 1744, 1748, 1753, 1756,\n",
       "       1770, 1780, 1789, 1794, 1795, 1800, 1806, 1813, 1818, 1839, 1841,\n",
       "       1848, 1856, 1864, 1867, 1870, 1880, 1888, 1889, 1890, 1891, 1900,\n",
       "       1904, 1928, 1930, 1951, 1957, 1960, 1964, 2010, 2017, 2028, 2032,\n",
       "       2073, 2083, 2085, 2117, 2126, 2134, 2135, 2136, 2141, 2160, 2165,\n",
       "       2177, 2192, 2196, 2200, 2212, 2215, 2218, 2220, 2222, 2227, 2244,\n",
       "       2245])"
      ]
     },
     "execution_count": 635,
     "metadata": {},
     "output_type": "execute_result"
    }
   ],
   "source": [
    "counter = 0\n",
    "a = [int(idx) for idx, _,_ in bad_amplitudes]\n",
    "np.array(a)"
   ]
  },
  {
   "cell_type": "code",
   "execution_count": 12,
   "id": "6bc1b590-f928-4dc9-ba2e-d3954e4d548c",
   "metadata": {},
   "outputs": [
    {
     "data": {
      "text/plain": [
       "97"
      ]
     },
     "execution_count": 12,
     "metadata": {},
     "output_type": "execute_result"
    }
   ],
   "source": [
    "idx = np.random.randint(125)\n",
    "idx"
   ]
  },
  {
   "cell_type": "code",
   "execution_count": 25,
   "id": "6e6153ea",
   "metadata": {},
   "outputs": [
    {
     "name": "stdout",
     "output_type": "stream",
     "text": [
      "1872\n",
      "Duration of the Recording: 29.54\n",
      "ZaeW7vuikQgf7984JVqXYOtUQMs2\n"
     ]
    },
    {
     "data": {
      "image/png": "[encoded data removed]",
      "text/plain": [
       "<Figure size 640x480 with 1 Axes>"
      ]
     },
     "metadata": {},
     "output_type": "display_data"
    }
   ],
   "source": [
    "# idx = a[counter]\n",
    "# counter += 1\n",
    "idx = np.random.randint(1900)\n",
    "print(idx)\n",
    "participant = dataset.participants[idx].recordings[dataset.types_of_recording]\n",
    "participant.show_waveform(30)    \n",
    "# participant.play_audio()    \n",
    "# participant.show_features()\n",
    "user_id = dataset.participants[idx].id\n",
    "print(user_id)\n",
    "# relevant_df[relevant_df[\"user_id\"] == user_id]"
   ]
  },
  {
   "cell_type": "code",
   "execution_count": 983,
   "id": "ba27463d-f0e4-473e-bb22-aa4a0ed3c754",
   "metadata": {},
   "outputs": [
    {
     "name": "stdout",
     "output_type": "stream",
     "text": [
      "Duration of the Recording: 19.77\n"
     ]
    }
   ],
   "source": [
    "participant.play_audio(30)    "
   ]
  },
  {
   "cell_type": "code",
   "execution_count": 122,
   "id": "1c201e3b-60d3-4067-a491-c7445fe5e149",
   "metadata": {},
   "outputs": [
    {
     "name": "stdout",
     "output_type": "stream",
     "text": [
      "Duration of the Recording: 14.86\n"
     ]
    },
    {
     "ename": "IndexError",
     "evalue": "tuple index out of range",
     "output_type": "error",
     "traceback": [
      "\u001b[1;31m---------------------------------------------------------------------------\u001b[0m",
      "\u001b[1;31mIndexError\u001b[0m                                Traceback (most recent call last)",
      "Cell \u001b[1;32mIn[122], line 1\u001b[0m\n\u001b[1;32m----> 1\u001b[0m np\u001b[38;5;241m.\u001b[39mabsolute(\u001b[43mparticipant\u001b[49m\u001b[38;5;241;43m.\u001b[39;49m\u001b[43mget_audio\u001b[49m\u001b[43m(\u001b[49m\u001b[43m)\u001b[49m\u001b[43m[\u001b[49m\u001b[38;5;241;43m18\u001b[39;49m\u001b[43m]\u001b[49m)\u001b[38;5;241m.\u001b[39mmax()\n",
      "\u001b[1;31mIndexError\u001b[0m: tuple index out of range"
     ]
    }
   ],
   "source": [
    "np.absolute(participant.get_audio()[18]).max()"
   ]
  },
  {
   "cell_type": "code",
   "execution_count": null,
   "id": "781eddfe-79be-4571-85e3-a0be07bccf95",
   "metadata": {},
   "outputs": [],
   "source": [
    "amplitude_dict = {}\n",
    "for participant in tqdm(dataset.participants):\n",
    "    rec = participant.recordings[dataset.types_of_recording].get_audio()[0]\n",
    "    max_amplitude = np.absolute(rec.max())\n",
    "    amplitude_dict[participant.id] = max_amplitude"
   ]
  },
  {
   "cell_type": "code",
   "execution_count": 632,
   "id": "dfec41da-c1ce-4c08-a78d-f18dcad55821",
   "metadata": {},
   "outputs": [],
   "source": [
    "bad_amplitudes = [(i, participant_id, val) for i, (participant_id, val) in enumerate(amplitude_dict.items()) if val > 0.9]"
   ]
  },
  {
   "cell_type": "code",
   "execution_count": null,
   "id": "a2c052a6-2bcf-4fc6-9eeb-7a70780d5777",
   "metadata": {},
   "outputs": [],
   "source": [
    "bad_amplitudes"
   ]
  },
  {
   "cell_type": "code",
   "execution_count": 21,
   "id": "2699a81f-5da6-492e-93dc-108cc5ef8a7a",
   "metadata": {},
   "outputs": [],
   "source": [
    "amplitueds = [val for key, val in amplitude_dict.items()]"
   ]
  },
  {
   "cell_type": "code",
   "execution_count": 24,
   "id": "378240ac-5a77-4bcf-add4-198afa28a172",
   "metadata": {},
   "outputs": [
    {
     "data": {
      "text/plain": [
       "(array([147., 131., 112., 120.,  95.,  96.,  79.,  59.,  62.,  59.,  57.,\n",
       "         46.,  46.,  51.,  46.,  38.,  54.,  38.,  47.,  33.,  46.,  56.,\n",
       "         79.,  84.,  95.,  96.,  65.,  51.,  60., 209.]),\n",
       " array([0.        , 0.03333231, 0.06666463, 0.09999695, 0.13332926,\n",
       "        0.16666158, 0.1999939 , 0.23332621, 0.2666585 , 0.29999083,\n",
       "        0.33332315, 0.36665547, 0.3999878 , 0.4333201 , 0.46665242,\n",
       "        0.49998474, 0.533317  , 0.5666494 , 0.59998167, 0.633314  ,\n",
       "        0.6666463 , 0.69997865, 0.73331094, 0.7666433 , 0.7999756 ,\n",
       "        0.8333079 , 0.8666402 , 0.89997256, 0.93330485, 0.9666372 ,\n",
       "        0.9999695 ], dtype=float32),\n",
       " <BarContainer object of 30 artists>)"
      ]
     },
     "execution_count": 24,
     "metadata": {},
     "output_type": "execute_result"
    },
    {
     "data": {
      "image/png": "[encoded data removed]",
      "text/plain": [
       "<Figure size 640x480 with 1 Axes>"
      ]
     },
     "metadata": {},
     "output_type": "display_data"
    }
   ],
   "source": [
    "plt.hist(amplitueds, 30)"
   ]
  },
  {
   "cell_type": "code",
   "execution_count": null,
   "id": "f435c67c-2576-4337-a258-12ddd520bb87",
   "metadata": {},
   "outputs": [],
   "source": [
    "target_length = 3000    # in miliseconds\n",
    "offset = 22000              # look at the spectrogram starting at \"offset\" miliseconds until offset+target_length miliseconds\n",
    "f = (0, 123456)       # min and max frequency to display\n",
    "\n",
    "hopsize_ms = participant.hop_size/participant.target_sr*1000\n",
    "offset_frames = int(offset // hopsize_ms)\n",
    "n_frames = int(target_length // hopsize_ms)\n",
    "features = participant.features\n",
    "features = features[:, offset_frames:n_frames+offset_frames]\n",
    "mel_frequencies = librosa.mel_frequencies(n_mels=participant.n_features, htk=True, fmin=participant.fmin, fmax=participant.fmax)\n",
    "f_idx = np.logical_and(mel_frequencies > f[0], mel_frequencies < f[1])\n",
    "mel_frequencies = mel_frequencies[f_idx]\n",
    "features = features[f_idx]\n",
    "\n",
    "print(features.shape)\n",
    "# print(np.round(mel_frequencies))\n",
    "\n",
    "# plt.figure()\n",
    "plt.figure(figsize=(15, 9))\n",
    "librosa.display.specshow(features, x_axis='time', y_axis=\"log\", cmap=\"magma\",\n",
    "                         hop_length=participant.hop_size, sr=participant.target_sr, y_coords=mel_frequencies)\n",
    "plt.colorbar(format=\"%+2.f dB\")\n",
    "plt.title(dropdown.value)"
   ]
  },
  {
   "cell_type": "code",
   "execution_count": 62,
   "id": "744eb0cb-dffb-4aac-bf05-f5ac41015fa1",
   "metadata": {},
   "outputs": [],
   "source": [
    "df = pd.read_csv(\"data/Coswara_processed/full_meta_data.csv\")\n",
    "bad_id_df = list(pd.read_excel(r\"data/Coswara_processed/bad ids from listening and analysis.xlsx\", sheet_name=\"combined_breaths\", usecols=[\"ID\"]).ID)\n",
    "low_audio_quality_ids = list(df[(df[\"audio_quality_breathing-shallow\"] == 0) | (df[\"audio_quality_breathing-deep\"] == 0)][\"user_id\"])\n",
    "all_bad_ids = bad_id_df+low_audio_quality_ids"
   ]
  },
  {
   "cell_type": "code",
   "execution_count": 61,
   "id": "317b011e-fed4-4967-a5bf-cba1f0b2b9f4",
   "metadata": {},
   "outputs": [
    {
     "data": {
      "text/plain": [
       "2144"
      ]
     },
     "execution_count": 61,
     "metadata": {},
     "output_type": "execute_result"
    }
   ],
   "source": [
    "len(dataset)"
   ]
  },
  {
   "cell_type": "code",
   "execution_count": 63,
   "id": "38055c77-035c-40a1-95fc-37ca445d1189",
   "metadata": {},
   "outputs": [],
   "source": [
    "dataset.participants = [part for part in dataset.participants if part.id not in all_bad_ids]"
   ]
  },
  {
   "cell_type": "code",
   "execution_count": 64,
   "id": "935cc34e-b938-4516-934e-414e483d4bad",
   "metadata": {},
   "outputs": [
    {
     "data": {
      "text/plain": [
       "1924"
      ]
     },
     "execution_count": 64,
     "metadata": {},
     "output_type": "execute_result"
    }
   ],
   "source": [
    "len(dataset)"
   ]
  },
  {
   "cell_type": "code",
   "execution_count": null,
   "id": "8c15c9cf-0479-458e-b7ca-3bc4f79b1717",
   "metadata": {},
   "outputs": [],
   "source": [
    "low_audio_quality = list(df[(df[\"audio_quality_breathing-shallow\"] == 0) | (df[\"audio_quality_breathing-deep\"] == 0)][\"user_id\"])"
   ]
  },
  {
   "cell_type": "code",
   "execution_count": 60,
   "id": "4e4e5d23-a149-469f-992b-9d16858cd0ec",
   "metadata": {},
   "outputs": [
    {
     "data": {
      "text/plain": [
       "678"
      ]
     },
     "execution_count": 60,
     "metadata": {},
     "output_type": "execute_result"
    }
   ],
   "source": [
    "len(set(low_audio_quality_ids +  bad_id_df))"
   ]
  },
  {
   "cell_type": "code",
   "execution_count": 68,
   "id": "ea886b9f-b8ad-422a-b1fd-aa1ee8a5dbc8",
   "metadata": {},
   "outputs": [
    {
     "name": "stdout",
     "output_type": "stream",
     "text": [
      "<class 'pandas.core.frame.DataFrame'>\n",
      "RangeIndex: 2746 entries, 0 to 2745\n",
      "Data columns (total 67 columns):\n",
      " #   Column                               Non-Null Count  Dtype  \n",
      "---  ------                               --------------  -----  \n",
      " 0   user_id                              2746 non-null   object \n",
      " 1   age                                  2746 non-null   int64  \n",
      " 2   covid_health_status                  2746 non-null   object \n",
      " 3   record_date                          2746 non-null   object \n",
      " 4   english_proficiency                  2746 non-null   object \n",
      " 5   gender                               2746 non-null   object \n",
      " 6   country                              2746 non-null   object \n",
      " 7   local_region                         2425 non-null   object \n",
      " 8   state                                2746 non-null   object \n",
      " 9   returning_user                       2066 non-null   object \n",
      " 10  smoker                               1086 non-null   object \n",
      " 11  cold                                 488 non-null    object \n",
      " 12  hypertension                         233 non-null    object \n",
      " 13  diabetes                             232 non-null    object \n",
      " 14  cough                                652 non-null    object \n",
      " 15  date_of_ct_scan                      153 non-null    object \n",
      " 16  has_taken_ct_scan                    963 non-null    object \n",
      " 17  ct_score                             153 non-null    float64\n",
      " 18  diarrheoa                            52 non-null     object \n",
      " 19  fever                                406 non-null    object \n",
      " 20  loss_of_smell                        169 non-null    object \n",
      " 21  muscle_pain                          325 non-null    object \n",
      " 22  type_of_covid_test                   805 non-null    object \n",
      " 23  covid_test_date                      805 non-null    object \n",
      " 24  covid_test_result                    1333 non-null   object \n",
      " 25  was_using_mask                       1708 non-null   object \n",
      " 26  vaccination_status                   963 non-null    object \n",
      " 27  breathing_difficulties               211 non-null    object \n",
      " 28  other_respiratory_illness            72 non-null     object \n",
      " 29  fatigue                              382 non-null    object \n",
      " 30  sore_throat                          296 non-null    object \n",
      " 31  ischemic_heart_disease               37 non-null     object \n",
      " 32  asthma                               134 non-null    object \n",
      " 33  other_preexisting_condition          100 non-null    object \n",
      " 34  chronic_lung_disease                 44 non-null     object \n",
      " 35  pneumonia                            45 non-null     object \n",
      " 36  covid_label                          2519 non-null   float64\n",
      " 37  audio_quality_breathing-deep         2746 non-null   int64  \n",
      " 38  audio_quality_breathing-shallow      2746 non-null   int64  \n",
      " 39  audio_quality_cough-heavy            2233 non-null   float64\n",
      " 40  audio_quality_cough-shallow          2232 non-null   float64\n",
      " 41  audio_quality_counting-fast          2233 non-null   float64\n",
      " 42  audio_quality_counting-normal        2233 non-null   float64\n",
      " 43  audio_quality_vowel-a                2233 non-null   float64\n",
      " 44  audio_quality_vowel-e                2746 non-null   int64  \n",
      " 45  audio_quality_vowel-o                2232 non-null   float64\n",
      " 46  Unnamed: 0                           2746 non-null   int64  \n",
      " 47  duration_original_cough-heavy        2746 non-null   float64\n",
      " 48  duration_original_cough-shallow      2746 non-null   float64\n",
      " 49  duration_original_breathing-deep     2746 non-null   float64\n",
      " 50  duration_original_breathing-shallow  2746 non-null   float64\n",
      " 51  duration_original_counting-fast      2746 non-null   float64\n",
      " 52  duration_original_counting-normal    2746 non-null   float64\n",
      " 53  duration_original_vowel-a            2746 non-null   float64\n",
      " 54  duration_original_vowel-e            2746 non-null   float64\n",
      " 55  duration_original_vowel-o            2746 non-null   float64\n",
      " 56  duration_trimmed_cough-heavy         2746 non-null   float64\n",
      " 57  duration_trimmed_cough-shallow       2746 non-null   float64\n",
      " 58  duration_trimmed_breathing-deep      2746 non-null   float64\n",
      " 59  duration_trimmed_breathing-shallow   2746 non-null   float64\n",
      " 60  duration_trimmed_counting-fast       2746 non-null   float64\n",
      " 61  duration_trimmed_counting-normal     2746 non-null   float64\n",
      " 62  duration_trimmed_vowel-a             2746 non-null   float64\n",
      " 63  duration_trimmed_vowel-e             2746 non-null   float64\n",
      " 64  duration_trimmed_vowel-o             2746 non-null   float64\n",
      " 65  recording_invalid                    2746 non-null   bool   \n",
      " 66  n_invalid_recordings                 2746 non-null   int64  \n",
      "dtypes: bool(1), float64(26), int64(6), object(34)\n",
      "memory usage: 1.4+ MB\n"
     ]
    }
   ],
   "source": [
    "df.info()"
   ]
  }
 ],
 "metadata": {
  "kernelspec": {
   "display_name": "Python (python_v3-8)",
   "language": "python",
   "name": "python_v3-8"
  },
  "language_info": {
   "codemirror_mode": {
    "name": "ipython",
    "version": 3
   },
   "file_extension": ".py",
   "mimetype": "text/x-python",
   "name": "python",
   "nbconvert_exporter": "python",
   "pygments_lexer": "ipython3",
   "version": "3.8.13"
  }
 },
 "nbformat": 4,
 "nbformat_minor": 5
}
