{
 "cells": [
  {
   "cell_type": "code",
   "execution_count": 3,
   "id": "7f28fab7",
   "metadata": {},
   "outputs": [
    {
     "name": "stdout",
     "output_type": "stream",
     "text": [
      "D:\\Archiv\\Studium\\Master\\6.-Semester\\Masters_Thesis\\Git\\acoustic_covid_detection\\python\n"
     ]
    }
   ],
   "source": [
    "import pickle\n",
    "from jupyter_utils import jupyter_setup\n",
    "jupyter_setup()\n",
    "import numpy as np\n",
    "import pandas as pd\n",
    "from audio_processing import FeatureSet\n",
    "import matplotlib.pyplot as plt"
   ]
  },
  {
   "cell_type": "code",
   "execution_count": 4,
   "id": "9bdc075d",
   "metadata": {},
   "outputs": [],
   "source": [
    "with open(f\"data/Coswara_processed/pickles/2023_02_21_logmel_cough_22kHz_new_augmented.pickle\", \"rb\") as f:\n",
    "    feature_set1 = pickle.load(f)"
   ]
  },
  {
   "cell_type": "code",
   "execution_count": 5,
   "id": "c9355691",
   "metadata": {},
   "outputs": [
    {
     "name": "stdout",
     "output_type": "stream",
     "text": [
      "\n",
      "Feature Set - #Participants: 3200\n",
      "----------------------------------------------------\n",
      "type_of_features:    logmel\n",
      "n_time_steps:        224\n",
      "n_features:          224\n",
      "sample_rate:         22050\n",
      "n_fft:               8192\n",
      "window_length:       512\n",
      "hop_size:            256\n",
      "fmin:                0\n",
      "fmax:                11025\n",
      "hop_size_ms:         11.61\n",
      "window_length_ms:    23.22\n",
      "duration_seconds:    2.6\n",
      "fft_res_hz:          2.69\n",
      "-------------------Augmentations--------------------\n",
      "AddGaussianNoise:    'probability': 0.8, 'min_amplitude': 0.0003, 'max_amplitude': 0.02\n",
      "PitchShift:          'probability': 0.8, 'min_semitones': -3, 'max_semitones': 3\n",
      "TimeStretch:         'probability': 0.8, 'min_rate': 0.85, 'max_rate': 1.15\n",
      "Gain:                'probability': 0.8, 'min_gain_in_db': -40, 'max_gain_in_db': 16\n",
      "----------------------------------------------------\n"
     ]
    }
   ],
   "source": [
    "print(feature_set1)"
   ]
  },
  {
   "cell_type": "code",
   "execution_count": 7,
   "id": "1cf165a7-7534-4eed-b035-05796931473a",
   "metadata": {},
   "outputs": [
    {
     "data": {
      "text/plain": [
       "(1, 4)"
      ]
     },
     "execution_count": 7,
     "metadata": {},
     "output_type": "execute_result"
    }
   ],
   "source": [
    "feature_set1.augmentations_per_label"
   ]
  },
  {
   "cell_type": "code",
   "execution_count": null,
   "id": "21d1f126",
   "metadata": {},
   "outputs": [],
   "source": [
    "with open(f\"data/Coswara_processed/pickles/2023_02_11_cough15mfcc_highres_corrected.pickle\", \"rb\") as f:\n",
    "    feature_set2 = pickle.load(f)"
   ]
  },
  {
   "cell_type": "code",
   "execution_count": 26,
   "id": "42ce7ac6",
   "metadata": {},
   "outputs": [
    {
     "data": {
      "text/plain": [
       "{'breathing-deep': <audio_recording.AudioRecording at 0x21708a21dc0>}"
      ]
     },
     "execution_count": 26,
     "metadata": {},
     "output_type": "execute_result"
    }
   ],
   "source": [
    "feature_set2.participants[0].recordings"
   ]
  },
  {
   "cell_type": "code",
   "execution_count": 38,
   "id": "1f5118e5",
   "metadata": {},
   "outputs": [],
   "source": [
    "with open(f\"data/Coswara_processed/pickles/2023_02_11_logmel_cough_fs22kHz_augmented.pickle\", \"rb\") as f:\n",
    "    feature_set3 = pickle.load(f)"
   ]
  },
  {
   "cell_type": "code",
   "execution_count": 42,
   "id": "6e6153ea",
   "metadata": {},
   "outputs": [
    {
     "name": "stdout",
     "output_type": "stream",
     "text": [
      "Duration of the Recording: 11.96\n"
     ]
    },
    {
     "data": {
      "image/png": "[encoded data removed]",
      "text/plain": [
       "<Figure size 640x480 with 1 Axes>"
      ]
     },
     "metadata": {},
     "output_type": "display_data"
    }
   ],
   "source": [
    "feature_set1.participants[1].recordings[feature_set1.types_of_recording].show_waveform(36)"
   ]
  },
  {
   "cell_type": "code",
   "execution_count": 40,
   "id": "10094e20",
   "metadata": {},
   "outputs": [
    {
     "data": {
      "text/plain": [
       "<audio_processing.FeatureSet at 0x2536c0f45b0>"
      ]
     },
     "execution_count": 40,
     "metadata": {},
     "output_type": "execute_result"
    }
   ],
   "source": [
    "feature_set3"
   ]
  },
  {
   "cell_type": "code",
   "execution_count": 41,
   "id": "a2ac58af-5490-4225-ab30-bca2014705e4",
   "metadata": {},
   "outputs": [],
   "source": [
    "def pretty_print_dict(dictionary):\n",
    "    for k, v in dictionary.items():\n",
    "        offset = 20 - len(k)\n",
    "        offset = \" \" * offset\n",
    "        print(f\"{k}:{offset}{v}\")"
   ]
  },
  {
   "cell_type": "code",
   "execution_count": 43,
   "id": "bfb03519-e572-42f7-81d7-480418caae0f",
   "metadata": {},
   "outputs": [
    {
     "name": "stdout",
     "output_type": "stream",
     "text": [
      "Type of Recording:   cough-heavy\n",
      "\n",
      "Augmentations:\n",
      "<audiomentations.core.composition.Compose object at 0x000002536C0F4A90>\n",
      "type_of_features:    logmel\n",
      "n_time_steps:        224\n",
      "n_features:          224\n",
      "sample_rate:         22050\n",
      "n_fft:               8192\n",
      "window_length:       512\n",
      "hop_size:            256\n",
      "fmin:                0\n",
      "fmax:                11025\n"
     ]
    }
   ],
   "source": [
    "print(f\"Type of Recording:   {feature_set3.types_of_recording}\\n\")\n",
    "print(f\"Augmentations:\")\n",
    "print(feature_set3.augmentations)\n",
    "pretty_print_dict(feature_set3.audio_parameters)"
   ]
  },
  {
   "cell_type": "code",
   "execution_count": 49,
   "id": "752816b2-bff6-4efe-95e2-97dd84c4dc19",
   "metadata": {},
   "outputs": [
    {
     "name": "stdout",
     "output_type": "stream",
     "text": [
      "<audiomentations.augmentations.add_gaussian_noise.AddGaussianNoise object at 0x000002536C0F18B0>\n"
     ]
    }
   ],
   "source": [
    "print(feature_set3.augmentations.transforms[0])"
   ]
  },
  {
   "cell_type": "code",
   "execution_count": null,
   "id": "f9bf7c9e-9d7e-4b15-a400-312004d45497",
   "metadata": {},
   "outputs": [],
   "source": []
  },
  {
   "cell_type": "code",
   "execution_count": null,
   "id": "a4dd31dc-ba70-47ff-8698-b1223975a9b0",
   "metadata": {},
   "outputs": [],
   "source": []
  },
  {
   "cell_type": "code",
   "execution_count": 13,
   "id": "7c532c29-a134-4680-8f5d-a4201f4acde3",
   "metadata": {},
   "outputs": [],
   "source": [
    "import librosa\n"
   ]
  },
  {
   "cell_type": "code",
   "execution_count": 21,
   "id": "a7641cd3-940d-4eed-8e15-1a55e403f6a4",
   "metadata": {},
   "outputs": [],
   "source": [
    "\n",
    "paths = [\"data/Coswara_processed/Recordings/00xKcQMmcAhX8CODgBBLOe7Dm0T2/cough-heavy.wav\",\n",
    "         \"data/Coswara_processed/Recordings/00xKcQMmcAhX8CODgBBLOe7Dm0T2/cough-shallow.wav\"]"
   ]
  },
  {
   "cell_type": "code",
   "execution_count": 24,
   "id": "08073acd-96c6-4358-b726-466eea230721",
   "metadata": {},
   "outputs": [
    {
     "data": {
      "text/plain": [
       "528384"
      ]
     },
     "execution_count": 24,
     "metadata": {},
     "output_type": "execute_result"
    }
   ],
   "source": [
    "393216 + 135168\n"
   ]
  },
  {
   "cell_type": "code",
   "execution_count": 27,
   "id": "dc3cadd8-a62e-4124-b5bb-ead07ee0365b",
   "metadata": {},
   "outputs": [
    {
     "name": "stdout",
     "output_type": "stream",
     "text": [
      "(393216,)\n",
      "(393216,)\n",
      "(528384,)\n",
      "(135168,)\n"
     ]
    }
   ],
   "source": [
    "audio = np.array([])\n",
    "for path in paths:\n",
    "    audio_temp, sr = librosa.load(path, sr=None)\n",
    "    audio = np.concatenate([audio, audio_temp])\n",
    "    print(audio.shape)    \n",
    "    print(audio_temp.shape)"
   ]
  },
  {
   "cell_type": "code",
   "execution_count": null,
   "id": "568a4d5d-3879-4dff-be6c-f973ee86498e",
   "metadata": {},
   "outputs": [],
   "source": []
  },
  {
   "cell_type": "code",
   "execution_count": null,
   "id": "c71c6810-d4e3-404d-b0c3-7f8545bfbefb",
   "metadata": {},
   "outputs": [],
   "source": []
  },
  {
   "cell_type": "code",
   "execution_count": null,
   "id": "5474629b-a0ef-4293-807b-af495034d402",
   "metadata": {},
   "outputs": [],
   "source": []
  },
  {
   "cell_type": "code",
   "execution_count": null,
   "id": "c03052c3-47e6-4ad8-945c-baaacb834969",
   "metadata": {},
   "outputs": [],
   "source": []
  },
  {
   "cell_type": "markdown",
   "id": "1b8b2787-f6e0-4eed-89ab-99324613599a",
   "metadata": {},
   "source": [
    "# random transfer function simulations"
   ]
  },
  {
   "cell_type": "code",
   "execution_count": 21,
   "id": "497f281c-5a47-45b4-953b-670ca50fe2c4",
   "metadata": {},
   "outputs": [],
   "source": [
    "n_freq_bins = 40"
   ]
  },
  {
   "cell_type": "code",
   "execution_count": 22,
   "id": "1e35eec3-610f-4283-b6f3-5bc58385a251",
   "metadata": {},
   "outputs": [
    {
     "data": {
      "text/plain": [
       "(40, 1)"
      ]
     },
     "execution_count": 22,
     "metadata": {},
     "output_type": "execute_result"
    }
   ],
   "source": [
    "flat_tf = np.ones((n_freq_bins,1))\n",
    "flat_tf.shape"
   ]
  },
  {
   "cell_type": "code",
   "execution_count": 46,
   "id": "3bddd909-0f9c-4c23-831d-0f37a686ba56",
   "metadata": {},
   "outputs": [
    {
     "data": {
      "text/plain": [
       "(10,)"
      ]
     },
     "execution_count": 46,
     "metadata": {},
     "output_type": "execute_result"
    }
   ],
   "source": [
    "np.random.rand(10).shape"
   ]
  },
  {
   "cell_type": "code",
   "execution_count": 67,
   "id": "d7c2d72a-b5e0-4be6-95cc-783ce87edcb6",
   "metadata": {},
   "outputs": [
    {
     "data": {
      "text/plain": [
       "(0.0, 1.5)"
      ]
     },
     "execution_count": 67,
     "metadata": {},
     "output_type": "execute_result"
    },
    {
     "data": {
      "image/png": "[encoded data removed]",
      "text/plain": [
       "<Figure size 640x480 with 1 Axes>"
      ]
     },
     "metadata": {},
     "output_type": "display_data"
    }
   ],
   "source": [
    "argument = np.arange(n_freq_bins)/n_freq_bins*2\n",
    "argument += np.random.rand()\n",
    "sinus = np.sin(2*np.pi*argument)\n",
    "\n",
    "plt.plot(1+sinus*np.random.randn()*0.25)\n",
    "plt.ylim(0,1.5)"
   ]
  },
  {
   "cell_type": "code",
   "execution_count": 209,
   "id": "dcb31093-c248-41ab-bb30-fc8c90347b3d",
   "metadata": {},
   "outputs": [],
   "source": [
    "def get_tf(k=0.1, sinosoid_ratios=[10, 4, 2, 1], n_freq_bins=224):\n",
    "    n_sinosoids = len(sinosoid_ratios)\n",
    "    sinosoid_ratios = np.expand_dims(np.array(sinosoid_ratios), 1).astype(\"float\")\n",
    "    sinosoid_ratios /= sinosoid_ratios.sum()\n",
    "    sinosoid_coefs = sinosoid_ratios * k\n",
    "    \n",
    "    freq_multiplicator = np.expand_dims(np.arange(n_sinosoids) + 1, 1)\n",
    "    \n",
    "    argument = np.tile(np.arange(n_freq_bins)/n_freq_bins/2, (n_sinosoids,1) ).astype(\"float\")\n",
    "    argument *= freq_multiplicator\n",
    "    argument += np.random.uniform(size=(n_sinosoids,1))    \n",
    "    tf = np.sin(2*np.pi*argument)\n",
    "    tf *= sinosoid_coefs\n",
    "    tf = tf.sum(axis=0)\n",
    "    return tf"
   ]
  },
  {
   "cell_type": "code",
   "execution_count": 247,
   "id": "6f2a29e3-b8a8-4dbe-9922-56d7fa2107d0",
   "metadata": {},
   "outputs": [
    {
     "data": {
      "image/png": "[encoded data removed]",
      "text/plain": [
       "<Figure size 640x480 with 1 Axes>"
      ]
     },
     "metadata": {},
     "output_type": "display_data"
    }
   ],
   "source": [
    "tf = get_tf(k=0.1, sinosoid_ratios=[8, 3, 4, 2, 2, 5], n_freq_bins=100)\n",
    "plt.plot(1+tf.transpose())\n",
    "_ = plt.ylim(0,1.3)"
   ]
  },
  {
   "cell_type": "code",
   "execution_count": null,
   "id": "28288ac4-966a-4532-89d8-822ad49dd2aa",
   "metadata": {},
   "outputs": [],
   "source": []
  },
  {
   "cell_type": "code",
   "execution_count": null,
   "id": "ef8e531c-85b0-4f29-8f58-c56706bab099",
   "metadata": {},
   "outputs": [],
   "source": []
  }
 ],
 "metadata": {
  "kernelspec": {
   "display_name": "Python (python_v3-8)",
   "language": "python",
   "name": "python_v3-8"
  },
  "language_info": {
   "codemirror_mode": {
    "name": "ipython",
    "version": 3
   },
   "file_extension": ".py",
   "mimetype": "text/x-python",
   "name": "python",
   "nbconvert_exporter": "python",
   "pygments_lexer": "ipython3",
   "version": "3.8.13"
  }
 },
 "nbformat": 4,
 "nbformat_minor": 5
}
