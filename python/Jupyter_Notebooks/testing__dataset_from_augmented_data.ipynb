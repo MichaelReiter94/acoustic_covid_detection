{
 "cells": [
  {
   "cell_type": "code",
   "execution_count": 3,
   "id": "f5910f87",
   "metadata": {},
   "outputs": [
    {
     "data": {
      "text/plain": [
       "'D:\\\\Archiv\\\\Studium\\\\Master\\\\6.-Semester\\\\Masters_Thesis\\\\Git\\\\acoustic_covid_detection\\\\python'"
      ]
     },
     "execution_count": 3,
     "metadata": {},
     "output_type": "execute_result"
    }
   ],
   "source": [
    "import os\n",
    "root_dir = \"python\"\n",
    "_, current_folder = os.path.split(os.getcwd())\n",
    "if current_folder != root_dir:\n",
    "    os.chdir(\"../\")\n",
    "    \n",
    "os.getcwd()"
   ]
  },
  {
   "cell_type": "code",
   "execution_count": 2,
   "id": "43fe313f",
   "metadata": {},
   "outputs": [],
   "source": [
    "path = os.environ.get(\"PATH\")\n",
    "min_additional_path = \"C:\\\\Users\\\\Michi\\\\Anaconda3\\\\envs\\\\python_v3-8\\\\Library\\\\bin;C:\\\\Users\\\\micha\\\\anaconda3\\\\envs\\\\ai38\\\\Library\\\\bin;\"\n",
    "combined_path = min_additional_path + path\n",
    "os.environ[\"PATH\"] = combined_path"
   ]
  },
  {
   "cell_type": "code",
   "execution_count": 545,
   "id": "e073dc42",
   "metadata": {},
   "outputs": [],
   "source": [
    "import pickle\n",
    "import pandas as pd\n",
    "import random\n",
    "import numpy as np\n",
    "import collections"
   ]
  },
  {
   "cell_type": "code",
   "execution_count": 5,
   "id": "3bfff393",
   "metadata": {},
   "outputs": [],
   "source": [
    "with open(\"data/Coswara_processed/pickles/participant_objects_new.pickle\", \"rb\") as f:\n",
    "            all_participants = pickle.load(f)\n",
    "        \n",
    "with open(\"data/Coswara_processed/pickles/participants_validLabelsOnly.pickle\", \"rb\") as f:\n",
    "            only_valid_participants = pickle.load(f)\n",
    "\n",
    "with open(\"data/Coswara_processed/pickles/participants_oversampledCovidPositives_validLabelsOnly_augmented.pickle\", \"rb\") as f:\n",
    "            augmented_participants = pickle.load(f)"
   ]
  },
  {
   "cell_type": "code",
   "execution_count": 9,
   "id": "4ccaf9f0",
   "metadata": {},
   "outputs": [],
   "source": [
    "metadata = pd.read_csv(\"data/Coswara_processed/full_meta_data.csv\")"
   ]
  },
  {
   "cell_type": "code",
   "execution_count": 15,
   "id": "ff9db609",
   "metadata": {},
   "outputs": [
    {
     "data": {
      "text/plain": [
       "(2746, 2703, 2483, 4517)"
      ]
     },
     "execution_count": 15,
     "metadata": {},
     "output_type": "execute_result"
    }
   ],
   "source": [
    "len(metadata), len(all_participants), len(only_valid_participants), len(augmented_participants)"
   ]
  },
  {
   "cell_type": "code",
   "execution_count": 33,
   "id": "95feb0e2",
   "metadata": {},
   "outputs": [
    {
     "data": {
      "text/plain": [
       "(2746,\n",
       " 0.0    1838\n",
       " 1.0     681\n",
       " Name: covid_label, dtype: int64)"
      ]
     },
     "execution_count": 33,
     "metadata": {},
     "output_type": "execute_result"
    }
   ],
   "source": [
    "len(metadata), metadata.covid_label.value_counts()"
   ]
  },
  {
   "cell_type": "code",
   "execution_count": 49,
   "id": "0d0359e7",
   "metadata": {},
   "outputs": [
    {
     "data": {
      "text/plain": [
       "(2519,\n",
       " 0.0    1838\n",
       " 1.0     681\n",
       " Name: covid_label, dtype: int64)"
      ]
     },
     "execution_count": 49,
     "metadata": {},
     "output_type": "execute_result"
    }
   ],
   "source": [
    "cleaned_metadata = metadata[metadata.covid_label.isna() == False]\n",
    "len(cleaned_metadata), cleaned_metadata.covid_label.value_counts()"
   ]
  },
  {
   "cell_type": "code",
   "execution_count": 52,
   "id": "382ef8f8",
   "metadata": {},
   "outputs": [
    {
     "data": {
      "text/plain": [
       "2435"
      ]
     },
     "execution_count": 52,
     "metadata": {},
     "output_type": "execute_result"
    }
   ],
   "source": [
    "cleaned_metadata2 = cleaned_metadata[cleaned_metadata[\"duration_original_cough-heavy\"] > 0.]\n",
    "# cleaned_metadata2 = cleaned_metadata[cleaned_metadata.recording_invalid == False]\n",
    "len(cleaned_metadata2)"
   ]
  },
  {
   "cell_type": "code",
   "execution_count": 53,
   "id": "a9b24838",
   "metadata": {},
   "outputs": [
    {
     "data": {
      "text/plain": [
       "1998"
      ]
     },
     "execution_count": 53,
     "metadata": {},
     "output_type": "execute_result"
    }
   ],
   "source": [
    "cleaned_metadata3 = cleaned_metadata2[cleaned_metadata2.audio_quality_heavy_cough > 0.0]\n",
    "len(cleaned_metadata3)"
   ]
  },
  {
   "cell_type": "code",
   "execution_count": 76,
   "id": "6e1cd410",
   "metadata": {},
   "outputs": [],
   "source": [
    "def get_list_of_ids_from_participants(parts):\n",
    "    ids_pos, ids_neg, ids_invalid = [], [], []\n",
    "    for part in parts:\n",
    "        if part.get_label() == 1:\n",
    "            ids_pos.append(part.id)\n",
    "        elif part.get_label() == 0:\n",
    "            ids_neg.append(part.id)\n",
    "        else:\n",
    "            ids_invalid.append(part.id)\n",
    "    return ids_neg, ids_pos, ids_invalid"
   ]
  },
  {
   "cell_type": "code",
   "execution_count": 77,
   "id": "52e00d5d",
   "metadata": {},
   "outputs": [
    {
     "data": {
      "text/plain": [
       "(1805, 678, 220)"
      ]
     },
     "execution_count": 77,
     "metadata": {},
     "output_type": "execute_result"
    }
   ],
   "source": [
    "ids_neg, ids_pos, ids_invalid = get_list_of_ids_from_participants(all_participants)\n",
    "len(ids_neg), len(ids_pos),  len(ids_invalid)"
   ]
  },
  {
   "cell_type": "code",
   "execution_count": 79,
   "id": "8313661a",
   "metadata": {},
   "outputs": [
    {
     "data": {
      "text/plain": [
       "(1805, 2712, 0)"
      ]
     },
     "execution_count": 79,
     "metadata": {},
     "output_type": "execute_result"
    }
   ],
   "source": [
    "ids_neg, ids_pos, ids_invalid = get_list_of_ids_from_participants(augmented_participants)\n",
    "len(ids_neg), len(ids_pos),  len(ids_invalid)"
   ]
  },
  {
   "cell_type": "code",
   "execution_count": 215,
   "id": "514f9c11",
   "metadata": {},
   "outputs": [
    {
     "data": {
      "text/plain": [
       "(1805, 678, 0)"
      ]
     },
     "execution_count": 215,
     "metadata": {},
     "output_type": "execute_result"
    }
   ],
   "source": [
    "ids_neg, ids_pos, ids_invalid = get_list_of_ids_from_participants(only_valid_participants)\n",
    "len(ids_neg), len(ids_pos),  len(ids_invalid)"
   ]
  },
  {
   "cell_type": "code",
   "execution_count": 459,
   "id": "0ff17ecf",
   "metadata": {},
   "outputs": [],
   "source": [
    "def randomly_split_list_into_two(input_list, ratio=0.8, random_seed=None):\n",
    "    input_list_temp = input_list.copy()\n",
    "    print(input_list_temp)\n",
    "    \n",
    "    split_index = int(np.floor(len(input_list_temp)*0.8))\n",
    "    random.Random(random_seed).shuffle(input_list_temp)\n",
    "    return input_list_temp[:split_index], input_list_temp[split_index:]"
   ]
  },
  {
   "cell_type": "code",
   "execution_count": 223,
   "id": "fe5a8cf3",
   "metadata": {},
   "outputs": [
    {
     "data": {
      "text/plain": [
       "(1444, 361, 542, 136)"
      ]
     },
     "execution_count": 223,
     "metadata": {},
     "output_type": "execute_result"
    }
   ],
   "source": [
    "ratio=0.8\n",
    "id_neg_train, id_neg_eval = randomly_split_list_into_two(ids_neg, ratio=ratio, random_seed=1594487326)\n",
    "id_pos_train, id_pos_eval = randomly_split_list_into_two(ids_pos, ratio=ratio, random_seed=3216549875)\n",
    "len(id_neg_train), len(id_neg_eval), len(id_pos_train), len(id_pos_eval)"
   ]
  },
  {
   "cell_type": "code",
   "execution_count": 224,
   "id": "ed02f2d0",
   "metadata": {},
   "outputs": [
    {
     "data": {
      "text/plain": [
       "(1986, 497)"
      ]
     },
     "execution_count": 224,
     "metadata": {},
     "output_type": "execute_result"
    }
   ],
   "source": [
    "train_ids = id_pos_train + id_neg_train\n",
    "eval_ids = id_pos_eval + id_neg_eval\n",
    "len(train_ids), len(eval_ids)"
   ]
  },
  {
   "cell_type": "code",
   "execution_count": 553,
   "id": "6bd9aa43",
   "metadata": {},
   "outputs": [],
   "source": [
    "def get_participant_from_id(parts, user_id):\n",
    "    for part in parts:\n",
    "        if part.id == user_id:\n",
    "            return part\n",
    "        else:\n",
    "            print(f\"no user for id {user_id} found\\n\")\n",
    "            return None"
   ]
  },
  {
   "cell_type": "code",
   "execution_count": 244,
   "id": "a59afb49",
   "metadata": {},
   "outputs": [],
   "source": [
    "user_id = random.choice(train_ids)\n",
    "part = get_participant_from_id(all_participants, user_id)"
   ]
  },
  {
   "cell_type": "code",
   "execution_count": 248,
   "id": "d938eaa3",
   "metadata": {},
   "outputs": [],
   "source": [
    "train_split = [get_participant_from_id(all_participants, user_id) for user_id in train_ids]\n",
    "val_split = [get_participant_from_id(all_participants, user_id) for user_id in eval_ids]"
   ]
  },
  {
   "cell_type": "code",
   "execution_count": 251,
   "id": "a244165e",
   "metadata": {},
   "outputs": [
    {
     "data": {
      "text/plain": [
       "(1986, 497)"
      ]
     },
     "execution_count": 251,
     "metadata": {},
     "output_type": "execute_result"
    }
   ],
   "source": [
    "len(train_split), len(val_split)"
   ]
  },
  {
   "cell_type": "code",
   "execution_count": 252,
   "id": "1f59c1f6",
   "metadata": {},
   "outputs": [
    {
     "data": {
      "text/plain": [
       "(1444, 542, 0)"
      ]
     },
     "execution_count": 252,
     "metadata": {},
     "output_type": "execute_result"
    }
   ],
   "source": [
    "ids_neg, ids_pos, ids_invalid = get_list_of_ids_from_participants(train_split)\n",
    "len(ids_neg), len(ids_pos), len(ids_invalid)"
   ]
  },
  {
   "cell_type": "code",
   "execution_count": 253,
   "id": "178b7ffd",
   "metadata": {},
   "outputs": [
    {
     "data": {
      "text/plain": [
       "(361, 136, 0)"
      ]
     },
     "execution_count": 253,
     "metadata": {},
     "output_type": "execute_result"
    }
   ],
   "source": [
    "ids_neg, ids_pos, ids_invalid = get_list_of_ids_from_participants(val_split)\n",
    "len(ids_neg), len(ids_pos), len(ids_invalid)"
   ]
  },
  {
   "cell_type": "code",
   "execution_count": 529,
   "id": "0b07c2c6",
   "metadata": {},
   "outputs": [
    {
     "data": {
      "text/plain": [
       "(1805, 2712, 0)"
      ]
     },
     "execution_count": 529,
     "metadata": {},
     "output_type": "execute_result"
    }
   ],
   "source": [
    "augm_ids_neg, augm_ids_pos, augm_ids_invalid = get_list_of_ids_from_participants(augmented_participants)\n",
    "len(augm_ids_neg), len(augm_ids_pos),  len(augm_ids_invalid)"
   ]
  },
  {
   "cell_type": "code",
   "execution_count": 547,
   "id": "4dc44184",
   "metadata": {},
   "outputs": [
    {
     "data": {
      "text/plain": [
       "(2712, 678)"
      ]
     },
     "execution_count": 547,
     "metadata": {},
     "output_type": "execute_result"
    }
   ],
   "source": [
    "# check the total amount of positive (augmented) samples VS the amount of unique user_ids within the positive samples\n",
    "len(augm_ids_pos), len(collections.Counter(augm_ids_pos))"
   ]
  },
  {
   "cell_type": "code",
   "execution_count": 579,
   "id": "c316ff84",
   "metadata": {},
   "outputs": [
    {
     "data": {
      "text/plain": [
       "(3612, 905)"
      ]
     },
     "execution_count": 579,
     "metadata": {},
     "output_type": "execute_result"
    }
   ],
   "source": [
    "augmented_train_split = [part for part in augmented_participants if part.id in train_ids]\n",
    "augmented_eval_split = [part for part in augmented_participants if part.id in eval_ids]\n",
    "\n",
    "len(augmented_train_split), len(augmented_eval_split)"
   ]
  },
  {
   "cell_type": "code",
   "execution_count": 583,
   "id": "18c42b6a",
   "metadata": {},
   "outputs": [
    {
     "name": "stdout",
     "output_type": "stream",
     "text": [
      "(1444, 2168)\n",
      "(1444, 542)\n"
     ]
    }
   ],
   "source": [
    "neg_ids, pos_ids, _ = get_list_of_ids_from_participants(augmented_train_split)\n",
    "augmented_ids_train = neg_ids + pos_ids\n",
    "# number of samples in augmented train set vs number of unique samples in train set\n",
    "print((len(neg_ids), len(pos_ids)))\n",
    "print((len(collections.Counter(neg_ids)), len(collections.Counter(pos_ids))))"
   ]
  },
  {
   "cell_type": "code",
   "execution_count": 584,
   "id": "8acc5eb3",
   "metadata": {},
   "outputs": [
    {
     "name": "stdout",
     "output_type": "stream",
     "text": [
      "(361, 544)\n",
      "(361, 136)\n"
     ]
    }
   ],
   "source": [
    "neg_ids, pos_ids, _ = get_list_of_ids_from_participants(augmented_eval_split)\n",
    "augmented_ids_eval = neg_ids + pos_ids\n",
    "\n",
    "# number of samples in augmented eval set vs number of unique samples in eval set\n",
    "print((len(neg_ids), len(pos_ids)))\n",
    "print((len(collections.Counter(neg_ids)), len(collections.Counter(pos_ids))))"
   ]
  },
  {
   "cell_type": "code",
   "execution_count": 589,
   "id": "6f3b4f83",
   "metadata": {},
   "outputs": [
    {
     "name": "stdout",
     "output_type": "stream",
     "text": [
      "3612 905\n",
      "1986 497\n"
     ]
    }
   ],
   "source": [
    "print(len(augmented_ids_train), len(augmented_ids_eval))\n",
    "print(len(collections.Counter(augmented_ids_train)), len(collections.Counter(augmented_ids_eval)))"
   ]
  },
  {
   "cell_type": "code",
   "execution_count": 594,
   "id": "5baac5c7",
   "metadata": {},
   "outputs": [],
   "source": [
    "def are_elements_of_two_lists_overlapping(list1, list2):\n",
    "    n_overlaps, n_unique = 0, 0\n",
    "    for element in collections.Counter(list1):\n",
    "        if element in list2:\n",
    "            print(\"overlap detected... fuuuuuck\")\n",
    "            n_overlaps += 1\n",
    "        else:\n",
    "            n_unique += 1\n",
    "    return n_unique, n_overlaps\n",
    "    "
   ]
  },
  {
   "cell_type": "code",
   "execution_count": 595,
   "id": "03fee66c",
   "metadata": {},
   "outputs": [
    {
     "data": {
      "text/plain": [
       "(1986, 0)"
      ]
     },
     "execution_count": 595,
     "metadata": {},
     "output_type": "execute_result"
    }
   ],
   "source": [
    "are_elements_of_two_lists_overlapping(augmented_ids_train, augmented_ids_eval)"
   ]
  },
  {
   "cell_type": "code",
   "execution_count": 596,
   "id": "d1633c05",
   "metadata": {},
   "outputs": [
    {
     "data": {
      "text/plain": [
       "(497, 0)"
      ]
     },
     "execution_count": 596,
     "metadata": {},
     "output_type": "execute_result"
    }
   ],
   "source": [
    "are_elements_of_two_lists_overlapping(augmented_ids_eval, augmented_ids_train)"
   ]
  }
 ],
 "metadata": {
  "kernelspec": {
   "display_name": "ai38",
   "language": "python",
   "name": "ai38"
  },
  "language_info": {
   "codemirror_mode": {
    "name": "ipython",
    "version": 3
   },
   "file_extension": ".py",
   "mimetype": "text/x-python",
   "name": "python",
   "nbconvert_exporter": "python",
   "pygments_lexer": "ipython3",
   "version": "3.8.13"
  }
 },
 "nbformat": 4,
 "nbformat_minor": 5
}
