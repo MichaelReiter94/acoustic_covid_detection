{
 "cells": [
  {
   "cell_type": "code",
   "execution_count": 1,
   "id": "f6b7159f-e211-4b11-bd74-b17ba1e4a156",
   "metadata": {},
   "outputs": [
    {
     "name": "stdout",
     "output_type": "stream",
     "text": [
      "D:\\Archiv\\Studium\\Master\\6.-Semester\\Masters_Thesis\\Git\\acoustic_covid_detection\\python\n"
     ]
    }
   ],
   "source": [
    "from jupyter_utils import jupyter_setup\n",
    "jupyter_setup()\n",
    "import numpy as np\n",
    "import pandas as pd\n",
    "import torch\n",
    "from torch import nn\n",
    "from torchvision.models import resnet18, resnet50, ResNet18_Weights, ResNet50_Weights\n"
   ]
  },
  {
   "cell_type": "code",
   "execution_count": null,
   "id": "e64a8d1f-0830-449c-a21a-5a6a68f8aeff",
   "metadata": {},
   "outputs": [],
   "source": [
    "import matplotlib.pyplot as plt"
   ]
  },
  {
   "cell_type": "code",
   "execution_count": null,
   "id": "0f8569ad-13a8-4c30-8c63-1ddca6f3a3f6",
   "metadata": {
    "jupyter": {
     "source_hidden": true
    },
    "tags": []
   },
   "outputs": [],
   "source": [
    "def get_parameter_groups(model, output_lr, input_lr, verbose=True):\n",
    "    # applies different learning rates for each (parent) layer in the model (for finetuning a pretrained network).\n",
    "    # the inout layer gets the input_lr, the output layer the output_lr. All layers in between get linearly interpolated.\n",
    "\n",
    "    # works for resnet architecture and assigns a learning rate for each parent layer and the input and output layers\n",
    "    # in total there are (for a resnet 18) 61 parameter groups but only 4 parent layers and 3 layers as input/output layers\n",
    "    # this means there are only  4+3  different learning rates.\n",
    "    \n",
    "    parent_layer = lambda name: name.split(\".\")[0]    \n",
    "    layer_names = [name for name, _ in model.named_parameters()]\n",
    "    layer_names.reverse()\n",
    "    parent_layers = list(set([parent_layer(layer) for layer in layer_names]))\n",
    "    n_parent_layers = len(parent_layers)\n",
    "    lr=output_lr\n",
    "    last_parent_layer = parent_layer(layer_names[0])\n",
    "    if verbose:\n",
    "        print(f'0: lr = {lr:.6f}, {last_parent_layer}')\n",
    "    \n",
    "    lr_mult = np.power(input_lr/output_lr, 1/(n_parent_layers-1))\n",
    "    parameters = []\n",
    "    for idx, layer in enumerate(layer_names):\n",
    "        current_parent_layer = parent_layer(layer)\n",
    "        if last_parent_layer != (current_parent_layer):\n",
    "            lr *= lr_mult\n",
    "            if verbose:\n",
    "                print(f'{idx}: lr = {lr:.6f}, {current_parent_layer}')\n",
    "            last_parent_layer = current_parent_layer\n",
    "        parameters.append({'params': [p for n, p in model.named_parameters() if n == layer and p.requires_grad],\n",
    "                           'lr':     lr})\n",
    "    return parameters"
   ]
  },
  {
   "cell_type": "code",
   "execution_count": null,
   "id": "d4e500b4-43fb-4714-9329-e623863279ba",
   "metadata": {
    "tags": []
   },
   "outputs": [],
   "source": [
    "my_model = resnet18(weights=ResNet18_Weights.DEFAULT)"
   ]
  },
  {
   "cell_type": "code",
   "execution_count": null,
   "id": "18196ca6-e0ea-4d4a-a3ba-7e1f54f65115",
   "metadata": {},
   "outputs": [],
   "source": [
    "parameters = get_parameter_groups(my_model, output_lr=1e-3, input_lr=5e-5, verbose=True)"
   ]
  },
  {
   "cell_type": "code",
   "execution_count": null,
   "id": "c4aa52bb-c4ad-4cea-b986-d3118bc8e16b",
   "metadata": {},
   "outputs": [],
   "source": [
    "my_model"
   ]
  },
  {
   "cell_type": "code",
   "execution_count": 26,
   "id": "61062dc8-58ed-4a26-b261-e3fbb7c7aad4",
   "metadata": {},
   "outputs": [
    {
     "data": {
      "text/plain": [
       "torch.Size([5, 2, 3])"
      ]
     },
     "execution_count": 26,
     "metadata": {},
     "output_type": "execute_result"
    }
   ],
   "source": [
    "a = torch.arange(30).view((5,2,3))\n",
    "b = (torch.arange(30)+100).view((5,2,3))\n",
    "c = (torch.arange(30)+1000).view((5,2,3))\n",
    "\n",
    "# a = a.unsqueeze(0)\n",
    "# b = b.unsqueeze(0)\n",
    "# c = c.unsqueeze(0)\n",
    "a.shape"
   ]
  },
  {
   "cell_type": "code",
   "execution_count": 27,
   "id": "ea373823-e201-462c-8ba4-8195a4783af5",
   "metadata": {},
   "outputs": [
    {
     "data": {
      "text/plain": [
       "torch.Size([3, 5, 2, 3])"
      ]
     },
     "execution_count": 27,
     "metadata": {},
     "output_type": "execute_result"
    }
   ],
   "source": [
    "abc = torch.stack([a, b, c])\n",
    "abc.shape"
   ]
  },
  {
   "cell_type": "code",
   "execution_count": 33,
   "id": "d80fa17e-87d1-4d68-8be2-8272daed3aec",
   "metadata": {},
   "outputs": [
    {
     "data": {
      "text/plain": [
       "tensor([[[ 0,  1,  2],\n",
       "         [ 3,  4,  5]],\n",
       "\n",
       "        [[ 6,  7,  8],\n",
       "         [ 9, 10, 11]],\n",
       "\n",
       "        [[12, 13, 14],\n",
       "         [15, 16, 17]],\n",
       "\n",
       "        [[18, 19, 20],\n",
       "         [21, 22, 23]],\n",
       "\n",
       "        [[24, 25, 26],\n",
       "         [27, 28, 29]]])"
      ]
     },
     "execution_count": 33,
     "metadata": {},
     "output_type": "execute_result"
    }
   ],
   "source": [
    "abc[0]"
   ]
  },
  {
   "cell_type": "code",
   "execution_count": 36,
   "id": "45918346-b0f8-4b55-8c2d-1c875136265a",
   "metadata": {},
   "outputs": [
    {
     "data": {
      "text/plain": [
       "torch.Size([15, 2, 3])"
      ]
     },
     "execution_count": 36,
     "metadata": {},
     "output_type": "execute_result"
    }
   ],
   "source": [
    "abc_reshaped = abc.view(15,2,3)\n",
    "abc_reshaped.shape"
   ]
  },
  {
   "cell_type": "code",
   "execution_count": 39,
   "id": "d91722b5-8810-4f79-a7ea-470b9bc58c3a",
   "metadata": {},
   "outputs": [
    {
     "data": {
      "text/plain": [
       "tensor([[18, 19, 20],\n",
       "        [21, 22, 23]])"
      ]
     },
     "execution_count": 39,
     "metadata": {},
     "output_type": "execute_result"
    }
   ],
   "source": [
    "abc_reshaped[3]"
   ]
  }
 ],
 "metadata": {
  "kernelspec": {
   "display_name": "Python (python_v3-8)",
   "language": "python",
   "name": "python_v3-8"
  },
  "language_info": {
   "codemirror_mode": {
    "name": "ipython",
    "version": 3
   },
   "file_extension": ".py",
   "mimetype": "text/x-python",
   "name": "python",
   "nbconvert_exporter": "python",
   "pygments_lexer": "ipython3",
   "version": "3.8.13"
  }
 },
 "nbformat": 4,
 "nbformat_minor": 5
}
