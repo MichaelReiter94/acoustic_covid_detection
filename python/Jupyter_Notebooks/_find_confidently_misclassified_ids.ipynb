{
 "cells": [
  {
   "cell_type": "code",
   "execution_count": 1,
   "id": "b7389b9f-6477-4637-b392-7b9e316ac5a0",
   "metadata": {},
   "outputs": [
    {
     "name": "stdout",
     "output_type": "stream",
     "text": [
      "C:\\Michi\\acoustic_covid_detection\\python\n"
     ]
    }
   ],
   "source": [
    "import pandas as pd\n",
    "import numpy as np\n",
    "from jupyter_utils import jupyter_setup, load_tracker\n",
    "jupyter_setup()\n",
    "import os\n",
    "from evaluation_and_tracking import IDPerformanceTracker\n",
    "import torch\n",
    "from sklearn.metrics import roc_curve, auc\n",
    "import matplotlib.pyplot as plt"
   ]
  },
  {
   "cell_type": "code",
   "execution_count": 9,
   "id": "acfb2edb-3385-409a-8a32-bbee09c7cba9",
   "metadata": {},
   "outputs": [],
   "source": [
    "ID_PERFORMANCE_TRACKING = \"003_find_confidently_misclassified.pickle\"\n",
    "id_performance = IDPerformanceTracker(ID_PERFORMANCE_TRACKING)\n",
    "id_performance.df = id_performance.load()"
   ]
  },
  {
   "cell_type": "code",
   "execution_count": 10,
   "id": "3df4e52d-ff00-4efe-be83-a647d7cb3d41",
   "metadata": {},
   "outputs": [
    {
     "data": {
      "text/plain": [
       "0       66445511337\n",
       "1       66445511337\n",
       "2       66445511337\n",
       "3       66445511337\n",
       "4       66445511337\n",
       "           ...     \n",
       "5655       99468865\n",
       "5656       99468865\n",
       "5657       99468865\n",
       "5658       99468865\n",
       "5659       99468865\n",
       "Name: seed, Length: 5660, dtype: object"
      ]
     },
     "execution_count": 10,
     "metadata": {},
     "output_type": "execute_result"
    }
   ],
   "source": [
    "id_performance.df.seed"
   ]
  },
  {
   "cell_type": "code",
   "execution_count": 11,
   "id": "fb8b5d7b-f133-43f6-a637-cbb5e4df11e4",
   "metadata": {},
   "outputs": [
    {
     "data": {
      "text/plain": [
       "0.05639434991435934"
      ]
     },
     "execution_count": 11,
     "metadata": {},
     "output_type": "execute_result"
    }
   ],
   "source": [
    "id_performance.df.loss[0].mean()"
   ]
  },
  {
   "cell_type": "code",
   "execution_count": 12,
   "id": "4111157f-bcfe-4de5-ae96-6a7a0f20c49d",
   "metadata": {},
   "outputs": [
    {
     "data": {
      "text/plain": [
       "1208"
      ]
     },
     "execution_count": 12,
     "metadata": {},
     "output_type": "execute_result"
    }
   ],
   "source": [
    "len(id_performance.df.ID.unique())"
   ]
  },
  {
   "cell_type": "code",
   "execution_count": 27,
   "id": "02bc9756-f1a5-4a6c-bcbc-5db8de3c780b",
   "metadata": {},
   "outputs": [],
   "source": [
    "id_performance.df[\"mean_loss\"] = id_performance.df.loss.apply(lambda x: np.mean(x))"
   ]
  },
  {
   "cell_type": "code",
   "execution_count": 28,
   "id": "cd9bc7fc-038a-4fad-bfb4-fbc8d93ebbfb",
   "metadata": {},
   "outputs": [
    {
     "data": {
      "text/html": [
       "<div>\n",
       "<style scoped>\n",
       "    .dataframe tbody tr th:only-of-type {\n",
       "        vertical-align: middle;\n",
       "    }\n",
       "\n",
       "    .dataframe tbody tr th {\n",
       "        vertical-align: top;\n",
       "    }\n",
       "\n",
       "    .dataframe thead th {\n",
       "        text-align: right;\n",
       "    }\n",
       "</style>\n",
       "<table border=\"1\" class=\"dataframe\">\n",
       "  <thead>\n",
       "    <tr style=\"text-align: right;\">\n",
       "      <th></th>\n",
       "      <th>ID</th>\n",
       "      <th>label</th>\n",
       "      <th>loss</th>\n",
       "      <th>prediction</th>\n",
       "      <th>rec_type</th>\n",
       "      <th>seed</th>\n",
       "      <th>set_type</th>\n",
       "      <th>mean_loss</th>\n",
       "    </tr>\n",
       "  </thead>\n",
       "  <tbody>\n",
       "    <tr>\n",
       "      <th>0</th>\n",
       "      <td>01OCEf1yB4czsq8ygRoT51s96Ba2</td>\n",
       "      <td>0.0</td>\n",
       "      <td>[0.24268732964992523, 0.3430476784706116, 0.20...</td>\n",
       "      <td>[-1.292184829711914, -0.8934633135795593, -1.4...</td>\n",
       "      <td>combined_breaths</td>\n",
       "      <td>66445511337</td>\n",
       "      <td>eval</td>\n",
       "      <td>0.056394</td>\n",
       "    </tr>\n",
       "    <tr>\n",
       "      <th>1</th>\n",
       "      <td>0gB18cWHioTobGuU3qVE0QV5mBN2</td>\n",
       "      <td>0.0</td>\n",
       "      <td>[0.9907708764076233, 0.6729903221130371, 0.845...</td>\n",
       "      <td>[0.5266850590705872, -0.04072827100753784, 0.2...</td>\n",
       "      <td>combined_breaths</td>\n",
       "      <td>66445511337</td>\n",
       "      <td>eval</td>\n",
       "      <td>1.404018</td>\n",
       "    </tr>\n",
       "    <tr>\n",
       "      <th>2</th>\n",
       "      <td>0HIgO2EhOOW1msCbEw1kC8Qsx6D3</td>\n",
       "      <td>0.0</td>\n",
       "      <td>[0.2641008794307709, 0.43612903356552124, 0.51...</td>\n",
       "      <td>[-1.1964691877365112, -0.6038399338722229, -0....</td>\n",
       "      <td>combined_breaths</td>\n",
       "      <td>66445511337</td>\n",
       "      <td>eval</td>\n",
       "      <td>1.206764</td>\n",
       "    </tr>\n",
       "    <tr>\n",
       "      <th>3</th>\n",
       "      <td>0W7xMFW538WmDghkiujx2v4xVnt2</td>\n",
       "      <td>0.0</td>\n",
       "      <td>[0.21719872951507568, 0.21513138711452484, 0.1...</td>\n",
       "      <td>[-1.4163784980773926, -1.4270128011703491, -1....</td>\n",
       "      <td>combined_breaths</td>\n",
       "      <td>66445511337</td>\n",
       "      <td>eval</td>\n",
       "      <td>0.050995</td>\n",
       "    </tr>\n",
       "    <tr>\n",
       "      <th>4</th>\n",
       "      <td>0xsz0lbpsoVgfojvTNSAjv9dhBq1</td>\n",
       "      <td>0.0</td>\n",
       "      <td>[0.32570263743400574, 0.5105589628219604, 0.75...</td>\n",
       "      <td>[-0.954503059387207, -0.4061317443847656, 0.11...</td>\n",
       "      <td>combined_breaths</td>\n",
       "      <td>66445511337</td>\n",
       "      <td>eval</td>\n",
       "      <td>0.128096</td>\n",
       "    </tr>\n",
       "    <tr>\n",
       "      <th>...</th>\n",
       "      <td>...</td>\n",
       "      <td>...</td>\n",
       "      <td>...</td>\n",
       "      <td>...</td>\n",
       "      <td>...</td>\n",
       "      <td>...</td>\n",
       "      <td>...</td>\n",
       "      <td>...</td>\n",
       "    </tr>\n",
       "    <tr>\n",
       "      <th>5655</th>\n",
       "      <td>ZIzrdWNQK1Xhn6o6jrzSVBMdphp2</td>\n",
       "      <td>1.0</td>\n",
       "      <td>[0.2555411159992218, 0.3425297737121582, 0.315...</td>\n",
       "      <td>[1.2338820695877075, 0.8952479362487793, 0.991...</td>\n",
       "      <td>combined_speech</td>\n",
       "      <td>99468865</td>\n",
       "      <td>eval</td>\n",
       "      <td>0.274414</td>\n",
       "    </tr>\n",
       "    <tr>\n",
       "      <th>5656</th>\n",
       "      <td>zLM432Aox7ZcmTXoglELTXNAVnf2</td>\n",
       "      <td>0.0</td>\n",
       "      <td>[0.1430741846561432, 0.09366625547409058, 0.07...</td>\n",
       "      <td>[-1.872002363204956, -2.3208189010620117, -2.6...</td>\n",
       "      <td>combined_speech</td>\n",
       "      <td>99468865</td>\n",
       "      <td>eval</td>\n",
       "      <td>0.015537</td>\n",
       "    </tr>\n",
       "    <tr>\n",
       "      <th>5657</th>\n",
       "      <td>Zmjv6hT2Q1VfJhGdGh9VkGmpHL03</td>\n",
       "      <td>1.0</td>\n",
       "      <td>[0.03637336939573288, 0.0567362904548645, 0.07...</td>\n",
       "      <td>[3.295677423477173, 2.840839147567749, 2.50400...</td>\n",
       "      <td>combined_speech</td>\n",
       "      <td>99468865</td>\n",
       "      <td>eval</td>\n",
       "      <td>0.016772</td>\n",
       "    </tr>\n",
       "    <tr>\n",
       "      <th>5658</th>\n",
       "      <td>ZnfFHbrHryWzAq27TCTQtY7uWTm1</td>\n",
       "      <td>0.0</td>\n",
       "      <td>[0.07010428607463837, 0.09686196595430374, 0.1...</td>\n",
       "      <td>[-2.6225152015686035, -2.2856459617614746, -2....</td>\n",
       "      <td>combined_speech</td>\n",
       "      <td>99468865</td>\n",
       "      <td>eval</td>\n",
       "      <td>0.083311</td>\n",
       "    </tr>\n",
       "    <tr>\n",
       "      <th>5659</th>\n",
       "      <td>ZzKpUtFGzsVEK7E1wsVGRftKdx93</td>\n",
       "      <td>1.0</td>\n",
       "      <td>[1.349346399307251, 1.5761005878448486, 1.5392...</td>\n",
       "      <td>[-1.0490386486053467, -1.3444461822509766, -1....</td>\n",
       "      <td>combined_speech</td>\n",
       "      <td>99468865</td>\n",
       "      <td>eval</td>\n",
       "      <td>2.564610</td>\n",
       "    </tr>\n",
       "  </tbody>\n",
       "</table>\n",
       "<p>5660 rows × 8 columns</p>\n",
       "</div>"
      ],
      "text/plain": [
       "                                ID  label  \\\n",
       "0     01OCEf1yB4czsq8ygRoT51s96Ba2    0.0   \n",
       "1     0gB18cWHioTobGuU3qVE0QV5mBN2    0.0   \n",
       "2     0HIgO2EhOOW1msCbEw1kC8Qsx6D3    0.0   \n",
       "3     0W7xMFW538WmDghkiujx2v4xVnt2    0.0   \n",
       "4     0xsz0lbpsoVgfojvTNSAjv9dhBq1    0.0   \n",
       "...                            ...    ...   \n",
       "5655  ZIzrdWNQK1Xhn6o6jrzSVBMdphp2    1.0   \n",
       "5656  zLM432Aox7ZcmTXoglELTXNAVnf2    0.0   \n",
       "5657  Zmjv6hT2Q1VfJhGdGh9VkGmpHL03    1.0   \n",
       "5658  ZnfFHbrHryWzAq27TCTQtY7uWTm1    0.0   \n",
       "5659  ZzKpUtFGzsVEK7E1wsVGRftKdx93    1.0   \n",
       "\n",
       "                                                   loss  \\\n",
       "0     [0.24268732964992523, 0.3430476784706116, 0.20...   \n",
       "1     [0.9907708764076233, 0.6729903221130371, 0.845...   \n",
       "2     [0.2641008794307709, 0.43612903356552124, 0.51...   \n",
       "3     [0.21719872951507568, 0.21513138711452484, 0.1...   \n",
       "4     [0.32570263743400574, 0.5105589628219604, 0.75...   \n",
       "...                                                 ...   \n",
       "5655  [0.2555411159992218, 0.3425297737121582, 0.315...   \n",
       "5656  [0.1430741846561432, 0.09366625547409058, 0.07...   \n",
       "5657  [0.03637336939573288, 0.0567362904548645, 0.07...   \n",
       "5658  [0.07010428607463837, 0.09686196595430374, 0.1...   \n",
       "5659  [1.349346399307251, 1.5761005878448486, 1.5392...   \n",
       "\n",
       "                                             prediction          rec_type  \\\n",
       "0     [-1.292184829711914, -0.8934633135795593, -1.4...  combined_breaths   \n",
       "1     [0.5266850590705872, -0.04072827100753784, 0.2...  combined_breaths   \n",
       "2     [-1.1964691877365112, -0.6038399338722229, -0....  combined_breaths   \n",
       "3     [-1.4163784980773926, -1.4270128011703491, -1....  combined_breaths   \n",
       "4     [-0.954503059387207, -0.4061317443847656, 0.11...  combined_breaths   \n",
       "...                                                 ...               ...   \n",
       "5655  [1.2338820695877075, 0.8952479362487793, 0.991...   combined_speech   \n",
       "5656  [-1.872002363204956, -2.3208189010620117, -2.6...   combined_speech   \n",
       "5657  [3.295677423477173, 2.840839147567749, 2.50400...   combined_speech   \n",
       "5658  [-2.6225152015686035, -2.2856459617614746, -2....   combined_speech   \n",
       "5659  [-1.0490386486053467, -1.3444461822509766, -1....   combined_speech   \n",
       "\n",
       "             seed set_type  mean_loss  \n",
       "0     66445511337     eval   0.056394  \n",
       "1     66445511337     eval   1.404018  \n",
       "2     66445511337     eval   1.206764  \n",
       "3     66445511337     eval   0.050995  \n",
       "4     66445511337     eval   0.128096  \n",
       "...           ...      ...        ...  \n",
       "5655     99468865     eval   0.274414  \n",
       "5656     99468865     eval   0.015537  \n",
       "5657     99468865     eval   0.016772  \n",
       "5658     99468865     eval   0.083311  \n",
       "5659     99468865     eval   2.564610  \n",
       "\n",
       "[5660 rows x 8 columns]"
      ]
     },
     "execution_count": 28,
     "metadata": {},
     "output_type": "execute_result"
    }
   ],
   "source": [
    "id_performance.df"
   ]
  },
  {
   "cell_type": "code",
   "execution_count": 16,
   "id": "fc8ae58e-1872-408b-840c-addc1d2c7640",
   "metadata": {},
   "outputs": [
    {
     "data": {
      "text/plain": [
       "(0.0, 200.0)"
      ]
     },
     "execution_count": 16,
     "metadata": {},
     "output_type": "execute_result"
    },
    {
     "data": {
      "image/png": "[encoded data removed]",
      "text/plain": [
       "<Figure size 640x480 with 1 Axes>"
      ]
     },
     "metadata": {},
     "output_type": "display_data"
    }
   ],
   "source": [
    "plt.hist(temp, 40)\n",
    "plt.ylim([0, 200])"
   ]
  },
  {
   "cell_type": "code",
   "execution_count": 102,
   "id": "6bc5d409-69a1-4416-b7ac-d75cf4370141",
   "metadata": {},
   "outputs": [
    {
     "data": {
      "text/plain": [
       "85"
      ]
     },
     "execution_count": 102,
     "metadata": {},
     "output_type": "execute_result"
    }
   ],
   "source": [
    "min_threshold = 1\n",
    "mean_threshold = 2\n",
    "confidently_misclassified = []\n",
    "mean_mean_loss = []\n",
    "for participant_id in id_performance.df.ID.unique():\n",
    "    \n",
    "    mean_loss = id_performance.df[id_performance.df.ID == participant_id][\"mean_loss\"].values\n",
    "    \n",
    "    # print(np.mean(mean_loss), np.max(mean_loss))\n",
    "    if np.min(mean_loss) > min_threshold and np.mean(mean_loss) > mean_threshold:\n",
    "        confidently_misclassified.append(participant_id)\n",
    "        mean_mean_loss.append(np.mean(mean_loss))\n",
    "        # print(np.mean(mean_loss))\n",
    "        # print(id_performance.df[id_performance.df.ID == participant_id][[\"mean_loss\", \"rec_type\"]])\n",
    "len(confidently_misclassified)"
   ]
  },
  {
   "cell_type": "code",
   "execution_count": 103,
   "id": "bbdaa16b-39f3-49b0-b25a-085e2a81f284",
   "metadata": {},
   "outputs": [],
   "source": [
    "save_df = pd.DataFrame(confidently_misclassified, columns=[\"ID\"])\n",
    "# save_df"
   ]
  },
  {
   "cell_type": "code",
   "execution_count": 104,
   "id": "d4222918-bac7-42d7-b04d-8e4b164a9d27",
   "metadata": {},
   "outputs": [],
   "source": [
    "save_df.to_excel(\"data/Coswara_processed/id_performance_tracking/01_detected_confident_misclassifiactions.xlsx\", index=False)"
   ]
  },
  {
   "cell_type": "code",
   "execution_count": null,
   "id": "2a752421-b122-4e6d-b26d-2d6c753533c4",
   "metadata": {},
   "outputs": [],
   "source": []
  },
  {
   "cell_type": "code",
   "execution_count": 105,
   "id": "fb22cf80-fcdf-4515-a1ad-deb35b9c7907",
   "metadata": {},
   "outputs": [],
   "source": [
    "save_df = pd.DataFrame(mean_mean_loss, columns=[\"mean_loss\"])\n",
    "# save_df"
   ]
  },
  {
   "cell_type": "code",
   "execution_count": 106,
   "id": "f0c25886-e461-45fe-9a7b-413d5d592e66",
   "metadata": {},
   "outputs": [],
   "source": [
    "save_df.to_excel(\"data/Coswara_processed/id_performance_tracking/01_detected_confident_misclassifiactions_temp.xlsx\", index=False)"
   ]
  },
  {
   "cell_type": "code",
   "execution_count": null,
   "id": "186b51b4-6e50-4a0a-9197-e647e511aecc",
   "metadata": {},
   "outputs": [],
   "source": []
  },
  {
   "cell_type": "code",
   "execution_count": 107,
   "id": "9116c63e-5bcb-488a-984c-c46042ad43d3",
   "metadata": {},
   "outputs": [
    {
     "data": {
      "text/html": [
       "<div>\n",
       "<style scoped>\n",
       "    .dataframe tbody tr th:only-of-type {\n",
       "        vertical-align: middle;\n",
       "    }\n",
       "\n",
       "    .dataframe tbody tr th {\n",
       "        vertical-align: top;\n",
       "    }\n",
       "\n",
       "    .dataframe thead th {\n",
       "        text-align: right;\n",
       "    }\n",
       "</style>\n",
       "<table border=\"1\" class=\"dataframe\">\n",
       "  <thead>\n",
       "    <tr style=\"text-align: right;\">\n",
       "      <th></th>\n",
       "      <th>ID</th>\n",
       "      <th>mean_loss</th>\n",
       "    </tr>\n",
       "  </thead>\n",
       "  <tbody>\n",
       "    <tr>\n",
       "      <th>0</th>\n",
       "      <td>1PhqsVP6EhPzs1zx9XUsyj7nm823</td>\n",
       "      <td>3.736882</td>\n",
       "    </tr>\n",
       "    <tr>\n",
       "      <th>1</th>\n",
       "      <td>4bnHQCj8tnSEx37AR5HiQAH2vB32</td>\n",
       "      <td>5.308893</td>\n",
       "    </tr>\n",
       "    <tr>\n",
       "      <th>2</th>\n",
       "      <td>4Zg768BEWlXeVeUynZPu5jF1XOX2</td>\n",
       "      <td>2.193960</td>\n",
       "    </tr>\n",
       "    <tr>\n",
       "      <th>3</th>\n",
       "      <td>5DyIJHOcbJMeaKMPWDDA3z2Z0qF3</td>\n",
       "      <td>3.186142</td>\n",
       "    </tr>\n",
       "    <tr>\n",
       "      <th>4</th>\n",
       "      <td>acIbMRC49hR4GPLAAn7NT5du7rn2</td>\n",
       "      <td>2.891223</td>\n",
       "    </tr>\n",
       "    <tr>\n",
       "      <th>...</th>\n",
       "      <td>...</td>\n",
       "      <td>...</td>\n",
       "    </tr>\n",
       "    <tr>\n",
       "      <th>80</th>\n",
       "      <td>E2F521LDB7aZdAkwmcfDb2CLQ7l2</td>\n",
       "      <td>3.203685</td>\n",
       "    </tr>\n",
       "    <tr>\n",
       "      <th>81</th>\n",
       "      <td>C1h80BY2J5eZgP3UMb4PTJXyKWy2</td>\n",
       "      <td>5.234104</td>\n",
       "    </tr>\n",
       "    <tr>\n",
       "      <th>82</th>\n",
       "      <td>ZIuG3ACI2aQ7spKg26hQM9nxFWi1</td>\n",
       "      <td>2.824793</td>\n",
       "    </tr>\n",
       "    <tr>\n",
       "      <th>83</th>\n",
       "      <td>CAlwzhQrNYT72NAfkAOpXNoLJrM2</td>\n",
       "      <td>2.605818</td>\n",
       "    </tr>\n",
       "    <tr>\n",
       "      <th>84</th>\n",
       "      <td>qdSq9daKJqQdWOxAGCxY4Vae3Sq2</td>\n",
       "      <td>4.193794</td>\n",
       "    </tr>\n",
       "  </tbody>\n",
       "</table>\n",
       "<p>85 rows × 2 columns</p>\n",
       "</div>"
      ],
      "text/plain": [
       "                              ID  mean_loss\n",
       "0   1PhqsVP6EhPzs1zx9XUsyj7nm823   3.736882\n",
       "1   4bnHQCj8tnSEx37AR5HiQAH2vB32   5.308893\n",
       "2   4Zg768BEWlXeVeUynZPu5jF1XOX2   2.193960\n",
       "3   5DyIJHOcbJMeaKMPWDDA3z2Z0qF3   3.186142\n",
       "4   acIbMRC49hR4GPLAAn7NT5du7rn2   2.891223\n",
       "..                           ...        ...\n",
       "80  E2F521LDB7aZdAkwmcfDb2CLQ7l2   3.203685\n",
       "81  C1h80BY2J5eZgP3UMb4PTJXyKWy2   5.234104\n",
       "82  ZIuG3ACI2aQ7spKg26hQM9nxFWi1   2.824793\n",
       "83  CAlwzhQrNYT72NAfkAOpXNoLJrM2   2.605818\n",
       "84  qdSq9daKJqQdWOxAGCxY4Vae3Sq2   4.193794\n",
       "\n",
       "[85 rows x 2 columns]"
      ]
     },
     "execution_count": 107,
     "metadata": {},
     "output_type": "execute_result"
    }
   ],
   "source": [
    "loaded_df = pd.read_excel(\"data/Coswara_processed/id_performance_tracking/01_detected_confident_misclassifiactions.xlsx\")\n",
    "loaded_df"
   ]
  },
  {
   "cell_type": "code",
   "execution_count": 109,
   "id": "7fdf1fd2-5bc4-461c-b6a3-7a59bcdff47b",
   "metadata": {},
   "outputs": [
    {
     "data": {
      "text/plain": [
       "52"
      ]
     },
     "execution_count": 109,
     "metadata": {},
     "output_type": "execute_result"
    }
   ],
   "source": [
    "len(loaded_df[loaded_df.mean_loss > 3])"
   ]
  }
 ],
 "metadata": {
  "kernelspec": {
   "display_name": "Python 3 (ipykernel)",
   "language": "python",
   "name": "python3"
  },
  "language_info": {
   "codemirror_mode": {
    "name": "ipython",
    "version": 3
   },
   "file_extension": ".py",
   "mimetype": "text/x-python",
   "name": "python",
   "nbconvert_exporter": "python",
   "pygments_lexer": "ipython3",
   "version": "3.8.13"
  }
 },
 "nbformat": 4,
 "nbformat_minor": 5
}
