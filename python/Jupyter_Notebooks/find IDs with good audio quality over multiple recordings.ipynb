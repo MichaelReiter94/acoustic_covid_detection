{
 "cells": [
  {
   "cell_type": "code",
   "execution_count": 3,
   "id": "0ab1226e",
   "metadata": {},
   "outputs": [
    {
     "name": "stdout",
     "output_type": "stream",
     "text": [
      "C:\\Michi\\acoustic_covid_detection\\python\n"
     ]
    }
   ],
   "source": [
    "import pandas as pd\n",
    "import numpy as np\n",
    "from jupyter_utils import jupyter_setup\n",
    "jupyter_setup()"
   ]
  },
  {
   "cell_type": "code",
   "execution_count": 32,
   "id": "642681a8",
   "metadata": {},
   "outputs": [],
   "source": [
    "all_types_of_recording = [\"cough-heavy\", \"cough-shallow\", \"breathing-deep\", \"breathing-shallow\", \"counting-fast\",\n",
    "                          \"counting-normal\", \"vowel-a\", \"vowel-e\", \"vowel-o\"]\n",
    "\n",
    "qual_names = [\"audio_quality_deep_breathing\", \"audio_quality_shallow_breathing\", \"audio_quality_heavy_cough\", \n",
    "\"audio_quality_shallow_cough\", \"audio_quality_counting_fast\", \"audio_quality_counting_normal\", \n",
    "\"audio_quality_vowel_a\", \"audio_quality_vowel_e\", \"audio_quality_vowel_o\"]"
   ]
  },
  {
   "cell_type": "code",
   "execution_count": 7,
   "id": "f62a2dad",
   "metadata": {},
   "outputs": [
    {
     "data": {
      "text/html": [
       "<div>\n",
       "<style scoped>\n",
       "    .dataframe tbody tr th:only-of-type {\n",
       "        vertical-align: middle;\n",
       "    }\n",
       "\n",
       "    .dataframe tbody tr th {\n",
       "        vertical-align: top;\n",
       "    }\n",
       "\n",
       "    .dataframe thead th {\n",
       "        text-align: right;\n",
       "    }\n",
       "</style>\n",
       "<table border=\"1\" class=\"dataframe\">\n",
       "  <thead>\n",
       "    <tr style=\"text-align: right;\">\n",
       "      <th></th>\n",
       "      <th>audio_quality_deep_breathing</th>\n",
       "      <th>audio_quality_shallow_breathing</th>\n",
       "      <th>audio_quality_heavy_cough</th>\n",
       "      <th>audio_quality_shallow_cough</th>\n",
       "      <th>audio_quality_counting_fast</th>\n",
       "      <th>audio_quality_counting_normal</th>\n",
       "      <th>audio_quality_vowel_a</th>\n",
       "      <th>audio_quality_vowel_e</th>\n",
       "      <th>audio_quality_vowel_o</th>\n",
       "    </tr>\n",
       "  </thead>\n",
       "  <tbody>\n",
       "    <tr>\n",
       "      <th>0</th>\n",
       "      <td>2</td>\n",
       "      <td>2</td>\n",
       "      <td>2.0</td>\n",
       "      <td>2.0</td>\n",
       "      <td>2.0</td>\n",
       "      <td>2.0</td>\n",
       "      <td>2.0</td>\n",
       "      <td>2</td>\n",
       "      <td>2.0</td>\n",
       "    </tr>\n",
       "    <tr>\n",
       "      <th>1</th>\n",
       "      <td>0</td>\n",
       "      <td>0</td>\n",
       "      <td>NaN</td>\n",
       "      <td>NaN</td>\n",
       "      <td>NaN</td>\n",
       "      <td>NaN</td>\n",
       "      <td>NaN</td>\n",
       "      <td>1</td>\n",
       "      <td>NaN</td>\n",
       "    </tr>\n",
       "    <tr>\n",
       "      <th>2</th>\n",
       "      <td>0</td>\n",
       "      <td>1</td>\n",
       "      <td>2.0</td>\n",
       "      <td>1.0</td>\n",
       "      <td>2.0</td>\n",
       "      <td>2.0</td>\n",
       "      <td>2.0</td>\n",
       "      <td>2</td>\n",
       "      <td>2.0</td>\n",
       "    </tr>\n",
       "  </tbody>\n",
       "</table>\n",
       "</div>"
      ],
      "text/plain": [
       "   audio_quality_deep_breathing  audio_quality_shallow_breathing  \\\n",
       "0                             2                                2   \n",
       "1                             0                                0   \n",
       "2                             0                                1   \n",
       "\n",
       "   audio_quality_heavy_cough  audio_quality_shallow_cough  \\\n",
       "0                        2.0                          2.0   \n",
       "1                        NaN                          NaN   \n",
       "2                        2.0                          1.0   \n",
       "\n",
       "   audio_quality_counting_fast  audio_quality_counting_normal  \\\n",
       "0                          2.0                            2.0   \n",
       "1                          NaN                            NaN   \n",
       "2                          2.0                            2.0   \n",
       "\n",
       "   audio_quality_vowel_a  audio_quality_vowel_e  audio_quality_vowel_o  \n",
       "0                    2.0                      2                    2.0  \n",
       "1                    NaN                      1                    NaN  \n",
       "2                    2.0                      2                    2.0  "
      ]
     },
     "execution_count": 7,
     "metadata": {},
     "output_type": "execute_result"
    }
   ],
   "source": [
    "df = pd.read_csv(\"data/Coswara_processed/audio_quality_annotations_df.csv\")\n",
    "df_qual = df.drop(\"user_id\", axis=1)\n",
    "df_qual.head(3)"
   ]
  },
  {
   "cell_type": "markdown",
   "id": "86ae17b2",
   "metadata": {},
   "source": [
    "# valid labels per type of recording"
   ]
  },
  {
   "cell_type": "code",
   "execution_count": 11,
   "id": "76a83ea4",
   "metadata": {},
   "outputs": [
    {
     "data": {
      "text/plain": [
       "audio_quality_deep_breathing       2294\n",
       "audio_quality_shallow_breathing    2274\n",
       "audio_quality_heavy_cough          2094\n",
       "audio_quality_shallow_cough        2096\n",
       "audio_quality_counting_fast        2055\n",
       "audio_quality_counting_normal      2063\n",
       "audio_quality_vowel_a              2050\n",
       "audio_quality_vowel_e              2485\n",
       "audio_quality_vowel_o              1971\n",
       "dtype: int64"
      ]
     },
     "execution_count": 11,
     "metadata": {},
     "output_type": "execute_result"
    }
   ],
   "source": [
    "np.sum((df_qual > 0))"
   ]
  },
  {
   "cell_type": "markdown",
   "id": "f0bec6ad",
   "metadata": {},
   "source": [
    "# IDs that are valid for EVERY type of recording"
   ]
  },
  {
   "cell_type": "code",
   "execution_count": 21,
   "id": "e66b8ff2",
   "metadata": {},
   "outputs": [],
   "source": [
    "def get_valid_rows(data):\n",
    "    data = pd.DataFrame(data > 0)\n",
    "    rows = np.mean(data, axis=1)\n",
    "    rows = rows == 1\n",
    "    return rows"
   ]
  },
  {
   "cell_type": "code",
   "execution_count": 23,
   "id": "87615f6d",
   "metadata": {},
   "outputs": [
    {
     "data": {
      "text/plain": [
       "1564"
      ]
     },
     "execution_count": 23,
     "metadata": {},
     "output_type": "execute_result"
    }
   ],
   "source": [
    "get_valid_rows(df_qual).sum()  # all 9 recording types"
   ]
  },
  {
   "cell_type": "code",
   "execution_count": 43,
   "id": "1f8b9bcd",
   "metadata": {},
   "outputs": [
    {
     "data": {
      "text/html": [
       "<div>\n",
       "<style scoped>\n",
       "    .dataframe tbody tr th:only-of-type {\n",
       "        vertical-align: middle;\n",
       "    }\n",
       "\n",
       "    .dataframe tbody tr th {\n",
       "        vertical-align: top;\n",
       "    }\n",
       "\n",
       "    .dataframe thead th {\n",
       "        text-align: right;\n",
       "    }\n",
       "</style>\n",
       "<table border=\"1\" class=\"dataframe\">\n",
       "  <thead>\n",
       "    <tr style=\"text-align: right;\">\n",
       "      <th></th>\n",
       "      <th>audio_quality_deep_breathing</th>\n",
       "      <th>audio_quality_heavy_cough</th>\n",
       "      <th>audio_quality_vowel_a</th>\n",
       "    </tr>\n",
       "  </thead>\n",
       "  <tbody>\n",
       "    <tr>\n",
       "      <th>0</th>\n",
       "      <td>2</td>\n",
       "      <td>2.0</td>\n",
       "      <td>2.0</td>\n",
       "    </tr>\n",
       "    <tr>\n",
       "      <th>1</th>\n",
       "      <td>0</td>\n",
       "      <td>NaN</td>\n",
       "      <td>NaN</td>\n",
       "    </tr>\n",
       "  </tbody>\n",
       "</table>\n",
       "</div>"
      ],
      "text/plain": [
       "   audio_quality_deep_breathing  audio_quality_heavy_cough  \\\n",
       "0                             2                        2.0   \n",
       "1                             0                        NaN   \n",
       "\n",
       "   audio_quality_vowel_a  \n",
       "0                    2.0  \n",
       "1                    NaN  "
      ]
     },
     "execution_count": 43,
     "metadata": {},
     "output_type": "execute_result"
    }
   ],
   "source": [
    "drops = [\"audio_quality_deep_breathing\", \"audio_quality_shallow_breathing\", \"audio_quality_heavy_cough\" ,\n",
    "         \"audio_quality_shallow_cough\"]\n",
    "drops = [\"audio_quality_shallow_breathing\", \"audio_quality_shallow_cough\", \"audio_quality_counting_fast\", \"audio_quality_counting_normal\", \"audio_quality_vowel_e\", \"audio_quality_vowel_o\"]\n",
    "df2 = pd.DataFrame(df_qual)\n",
    "for drop in drops:\n",
    "    #drop = f\"audio_quality_{drop}\"\n",
    "    df2 = df2.drop(drop, axis=1)\n",
    "df2.head(2)"
   ]
  },
  {
   "cell_type": "code",
   "execution_count": 44,
   "id": "836eb0c6",
   "metadata": {},
   "outputs": [
    {
     "data": {
      "text/plain": [
       "1835"
      ]
     },
     "execution_count": 44,
     "metadata": {},
     "output_type": "execute_result"
    }
   ],
   "source": [
    "get_valid_rows(df2).sum() "
   ]
  },
  {
   "cell_type": "code",
   "execution_count": null,
   "id": "00d05005",
   "metadata": {},
   "outputs": [],
   "source": []
  },
  {
   "cell_type": "code",
   "execution_count": 77,
   "id": "18020435",
   "metadata": {},
   "outputs": [],
   "source": [
    "def combine_two_cols(df, cols, name):\n",
    "    new_df = pd.DataFrame(df)\n",
    "    col0 = df[cols[0]]\n",
    "    col1 = df[cols[1]]\n",
    "    new_df = new_df.drop(cols[0], axis=1)\n",
    "    new_df = new_df.drop(cols[1], axis=1)\n",
    "    combined = np.logical_or(col0, col1)\n",
    "    combined = pd.DataFrame({name: combined})\n",
    "    new_df = pd.concat([new_df, combined], axis=1)\n",
    "    return new_df\n",
    "    \n"
   ]
  },
  {
   "cell_type": "code",
   "execution_count": 93,
   "id": "e156ad59",
   "metadata": {},
   "outputs": [
    {
     "data": {
      "text/html": [
       "<div>\n",
       "<style scoped>\n",
       "    .dataframe tbody tr th:only-of-type {\n",
       "        vertical-align: middle;\n",
       "    }\n",
       "\n",
       "    .dataframe tbody tr th {\n",
       "        vertical-align: top;\n",
       "    }\n",
       "\n",
       "    .dataframe thead th {\n",
       "        text-align: right;\n",
       "    }\n",
       "</style>\n",
       "<table border=\"1\" class=\"dataframe\">\n",
       "  <thead>\n",
       "    <tr style=\"text-align: right;\">\n",
       "      <th></th>\n",
       "      <th>audio_quality_counting_fast</th>\n",
       "      <th>audio_quality_counting_normal</th>\n",
       "      <th>audio_quality_vowel_a</th>\n",
       "      <th>audio_quality_vowel_e</th>\n",
       "      <th>audio_quality_vowel_o</th>\n",
       "      <th>breath</th>\n",
       "      <th>cough</th>\n",
       "    </tr>\n",
       "  </thead>\n",
       "  <tbody>\n",
       "    <tr>\n",
       "      <th>0</th>\n",
       "      <td>True</td>\n",
       "      <td>True</td>\n",
       "      <td>True</td>\n",
       "      <td>True</td>\n",
       "      <td>True</td>\n",
       "      <td>True</td>\n",
       "      <td>True</td>\n",
       "    </tr>\n",
       "    <tr>\n",
       "      <th>1</th>\n",
       "      <td>False</td>\n",
       "      <td>False</td>\n",
       "      <td>False</td>\n",
       "      <td>True</td>\n",
       "      <td>False</td>\n",
       "      <td>False</td>\n",
       "      <td>False</td>\n",
       "    </tr>\n",
       "    <tr>\n",
       "      <th>2</th>\n",
       "      <td>True</td>\n",
       "      <td>True</td>\n",
       "      <td>True</td>\n",
       "      <td>True</td>\n",
       "      <td>True</td>\n",
       "      <td>True</td>\n",
       "      <td>True</td>\n",
       "    </tr>\n",
       "  </tbody>\n",
       "</table>\n",
       "</div>"
      ],
      "text/plain": [
       "   audio_quality_counting_fast  audio_quality_counting_normal  \\\n",
       "0                         True                           True   \n",
       "1                        False                          False   \n",
       "2                         True                           True   \n",
       "\n",
       "   audio_quality_vowel_a  audio_quality_vowel_e  audio_quality_vowel_o  \\\n",
       "0                   True                   True                   True   \n",
       "1                  False                   True                  False   \n",
       "2                   True                   True                   True   \n",
       "\n",
       "   breath  cough  \n",
       "0    True   True  \n",
       "1   False  False  \n",
       "2    True   True  "
      ]
     },
     "execution_count": 93,
     "metadata": {},
     "output_type": "execute_result"
    }
   ],
   "source": [
    "df_bool = df_qual > 0\n",
    "cols = [\"audio_quality_deep_breathing\", \"audio_quality_shallow_breathing\"]\n",
    "df_bool_new = combine_two_cols(df_bool, cols, \"breath\")\n",
    "cols = [\"audio_quality_heavy_cough\",\n",
    "         \"audio_quality_shallow_cough\"]\n",
    "df_bool_new = combine_two_cols(df_bool_new, cols, \"cough\")\n",
    "df_bool_new.head(3)"
   ]
  },
  {
   "cell_type": "code",
   "execution_count": 106,
   "id": "1f78f437",
   "metadata": {},
   "outputs": [
    {
     "data": {
      "text/html": [
       "<div>\n",
       "<style scoped>\n",
       "    .dataframe tbody tr th:only-of-type {\n",
       "        vertical-align: middle;\n",
       "    }\n",
       "\n",
       "    .dataframe tbody tr th {\n",
       "        vertical-align: top;\n",
       "    }\n",
       "\n",
       "    .dataframe thead th {\n",
       "        text-align: right;\n",
       "    }\n",
       "</style>\n",
       "<table border=\"1\" class=\"dataframe\">\n",
       "  <thead>\n",
       "    <tr style=\"text-align: right;\">\n",
       "      <th></th>\n",
       "      <th>audio_quality_vowel_a</th>\n",
       "      <th>breath</th>\n",
       "      <th>cough</th>\n",
       "    </tr>\n",
       "  </thead>\n",
       "  <tbody>\n",
       "    <tr>\n",
       "      <th>0</th>\n",
       "      <td>True</td>\n",
       "      <td>True</td>\n",
       "      <td>True</td>\n",
       "    </tr>\n",
       "    <tr>\n",
       "      <th>1</th>\n",
       "      <td>False</td>\n",
       "      <td>False</td>\n",
       "      <td>False</td>\n",
       "    </tr>\n",
       "  </tbody>\n",
       "</table>\n",
       "</div>"
      ],
      "text/plain": [
       "   audio_quality_vowel_a  breath  cough\n",
       "0                   True    True   True\n",
       "1                  False   False  False"
      ]
     },
     "execution_count": 106,
     "metadata": {},
     "output_type": "execute_result"
    }
   ],
   "source": [
    "drops = [\"audio_quality_deep_breathing\", \"audio_quality_shallow_breathing\", \"audio_quality_heavy_cough\" ,\n",
    "         \"audio_quality_shallow_cough\"]\n",
    "drops = [\"audio_quality_counting_fast\", \n",
    "         \"audio_quality_counting_normal\", \n",
    "         \"audio_quality_vowel_e\", \n",
    "         \"audio_quality_vowel_o\", \n",
    "        # \"audio_quality_vowel_a\"\n",
    "        ]\n",
    "df2 = pd.DataFrame(df_bool_new)\n",
    "for drop in drops:\n",
    "    #drop = f\"audio_quality_{drop}\"\n",
    "    df2 = df2.drop(drop, axis=1)\n",
    "df2.head(2)"
   ]
  },
  {
   "cell_type": "code",
   "execution_count": 107,
   "id": "22292114",
   "metadata": {},
   "outputs": [
    {
     "data": {
      "text/plain": [
       "1928"
      ]
     },
     "execution_count": 107,
     "metadata": {},
     "output_type": "execute_result"
    }
   ],
   "source": [
    "get_valid_rows(df2).sum() "
   ]
  },
  {
   "cell_type": "code",
   "execution_count": null,
   "id": "99c4f44f",
   "metadata": {},
   "outputs": [],
   "source": []
  }
 ],
 "metadata": {
  "kernelspec": {
   "display_name": "ai38",
   "language": "python",
   "name": "ai38"
  },
  "language_info": {
   "codemirror_mode": {
    "name": "ipython",
    "version": 3
   },
   "file_extension": ".py",
   "mimetype": "text/x-python",
   "name": "python",
   "nbconvert_exporter": "python",
   "pygments_lexer": "ipython3",
   "version": "3.8.13"
  }
 },
 "nbformat": 4,
 "nbformat_minor": 5
}
