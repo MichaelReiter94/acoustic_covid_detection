{
 "cells": [
  {
   "cell_type": "code",
   "execution_count": null,
   "id": "66acee93",
   "metadata": {},
   "outputs": [],
   "source": []
  },
  {
   "cell_type": "code",
   "execution_count": 2,
   "id": "21bc83a4",
   "metadata": {},
   "outputs": [],
   "source": [
    "class A:\n",
    "    def __init__(self, a, b):\n",
    "        self.a = a\n",
    "        self.b = b\n",
    "        \n",
    "    def show_attributes(self):\n",
    "        print(self.a, self.b)\n",
    "        "
   ]
  },
  {
   "cell_type": "code",
   "execution_count": 3,
   "id": "86b7adf9",
   "metadata": {},
   "outputs": [],
   "source": [
    "a = A(1, \"test\")"
   ]
  },
  {
   "cell_type": "code",
   "execution_count": 5,
   "id": "fcac872b",
   "metadata": {},
   "outputs": [
    {
     "name": "stdout",
     "output_type": "stream",
     "text": [
      "1 test\n"
     ]
    }
   ],
   "source": [
    "a.show_attributes()"
   ]
  },
  {
   "cell_type": "code",
   "execution_count": 12,
   "id": "4f7f6fd3",
   "metadata": {},
   "outputs": [],
   "source": [
    "class B(A):\n",
    "    def __init__(self, a, b, c):\n",
    "        super(B, self).__init__(a, b)\n",
    "        self.c = c\n",
    "        \n",
    "#    def show_attributes(self):\n",
    " #       print(self.a, self.b, self.c)\n",
    "        "
   ]
  },
  {
   "cell_type": "code",
   "execution_count": 13,
   "id": "0df6ba10",
   "metadata": {},
   "outputs": [],
   "source": [
    "b = B(1, 2, \"test\")"
   ]
  },
  {
   "cell_type": "code",
   "execution_count": 14,
   "id": "9cb16b34",
   "metadata": {},
   "outputs": [
    {
     "name": "stdout",
     "output_type": "stream",
     "text": [
      "1 2\n"
     ]
    }
   ],
   "source": [
    "b.show_attributes()"
   ]
  },
  {
   "cell_type": "code",
   "execution_count": null,
   "id": "3c6d1575",
   "metadata": {},
   "outputs": [],
   "source": []
  }
 ],
 "metadata": {
  "kernelspec": {
   "display_name": "Python (python_v3-8)",
   "language": "python",
   "name": "python_v3-8"
  },
  "language_info": {
   "codemirror_mode": {
    "name": "ipython",
    "version": 3
   },
   "file_extension": ".py",
   "mimetype": "text/x-python",
   "name": "python",
   "nbconvert_exporter": "python",
   "pygments_lexer": "ipython3",
   "version": "3.8.13"
  }
 },
 "nbformat": 4,
 "nbformat_minor": 5
}
