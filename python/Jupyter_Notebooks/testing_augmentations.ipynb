{
 "cells": [
  {
   "cell_type": "code",
   "execution_count": 1,
   "id": "aba5eed9",
   "metadata": {},
   "outputs": [],
   "source": [
    "import os\n",
    "import pickle\n",
    "import random"
   ]
  },
  {
   "cell_type": "code",
   "execution_count": 2,
   "id": "7753ace0",
   "metadata": {},
   "outputs": [],
   "source": [
    "root_dir = \"python\"\n",
    "_, current_folder = os.path.split(os.getcwd())\n",
    "if current_folder != root_dir:\n",
    "    os.chdir(\"../\")"
   ]
  },
  {
   "cell_type": "code",
   "execution_count": 3,
   "id": "df42c82b",
   "metadata": {},
   "outputs": [],
   "source": [
    "path = os.environ.get(\"PATH\")\n",
    "additional_path = 'C:\\\\Users\\\\Michi\\\\Anaconda3\\\\envs\\\\python_v3-8;C:\\\\Users\\\\Michi\\\\Anaconda3\\\\envs\\\\python_v3-8\\\\Library\\\\mingw-w64\\\\bin;C:\\\\Users\\\\Michi\\\\Anaconda3\\\\envs\\\\python_v3-8\\\\Library\\\\usr\\\\bin;C:\\\\Users\\\\Michi\\\\Anaconda3\\\\envs\\\\python_v3-8\\\\Library\\\\bin;C:\\\\Users\\\\Michi\\\\Anaconda3\\\\envs\\\\python_v3-8\\\\Scripts;C:\\\\Users\\\\Michi\\\\Anaconda3\\\\envs\\\\python_v3-8\\\\bin;C:\\\\Users\\\\Michi\\\\Anaconda3\\\\condabin'\n",
    "min_additional_path = \"C:\\\\Users\\\\Michi\\\\Anaconda3\\\\envs\\\\python_v3-8\\\\Library\\\\bin;C:\\\\Users\\\\micha\\\\anaconda3\\\\envs\\\\ai38\\\\Library\\\\bin;\"\n",
    "combined_path = min_additional_path + path\n",
    "os.environ[\"PATH\"] = combined_path"
   ]
  },
  {
   "cell_type": "code",
   "execution_count": 4,
   "id": "2e7bf690",
   "metadata": {},
   "outputs": [
    {
     "name": "stderr",
     "output_type": "stream",
     "text": [
      "\n",
      "KeyboardInterrupt\n",
      "\n"
     ]
    }
   ],
   "source": [
    "import librosa\n",
    "import sounddevice as sd"
   ]
  },
  {
   "cell_type": "code",
   "execution_count": null,
   "id": "13fbc49f",
   "metadata": {},
   "outputs": [],
   "source": [
    "import torch\n",
    "import numpy as np\n",
    "from utils.augmentations_and_transforms import AddGaussianNoise, CyclicTemporalShift\n",
    "import matplotlib.pyplot as plt"
   ]
  },
  {
   "cell_type": "code",
   "execution_count": null,
   "id": "9efe458e",
   "metadata": {},
   "outputs": [],
   "source": [
    "silence = torch.zeros(50, 100)\n",
    "plt.imshow(silence)"
   ]
  },
  {
   "cell_type": "code",
   "execution_count": null,
   "id": "18bb99ce",
   "metadata": {},
   "outputs": [],
   "source": [
    "noiseTransform = AddGaussianNoise(0., 1.)\n",
    "noise = noiseTransform(silence)\n",
    "plt.imshow(noise)\n",
    "plt.colorbar()"
   ]
  },
  {
   "cell_type": "code",
   "execution_count": null,
   "id": "5dba3ea9",
   "metadata": {},
   "outputs": [],
   "source": [
    "all_samples = np.array(torch.flatten(noise))\n",
    "plt.hist(all_samples, 30)\n",
    "all_samples.shape"
   ]
  },
  {
   "cell_type": "markdown",
   "id": "05762be6",
   "metadata": {},
   "source": [
    "# try out cyclic shift transform"
   ]
  },
  {
   "cell_type": "code",
   "execution_count": null,
   "id": "829cf950",
   "metadata": {},
   "outputs": [],
   "source": [
    "silence = torch.zeros(5,10)\n",
    "click = silence\n",
    "click[:, 3] = 1\n",
    "click[2, 3] = 0\n",
    "plt.imshow(click)"
   ]
  },
  {
   "cell_type": "code",
   "execution_count": null,
   "id": "7946c170",
   "metadata": {},
   "outputs": [],
   "source": [
    "shifter = CyclicTemporalShift()\n",
    "shifted_click = shifter(click)\n",
    "plt.imshow(shifted_click)"
   ]
  },
  {
   "cell_type": "markdown",
   "id": "61d3d92a",
   "metadata": {},
   "source": [
    "# test with MFCC data"
   ]
  },
  {
   "cell_type": "code",
   "execution_count": null,
   "id": "dcf1fbed",
   "metadata": {},
   "outputs": [],
   "source": [
    "with open(\"data/Coswara_processed/pickles/participant_objects.pickle\", \"rb\") as f:\n",
    "            participants = pickle.load(f)\n",
    "mfccs = participants[0].heavy_cough.MFCCs"
   ]
  },
  {
   "cell_type": "code",
   "execution_count": null,
   "id": "4a293aa6",
   "metadata": {},
   "outputs": [],
   "source": [
    "librosa.display.specshow(mfccs)\n",
    "plt.xlabel(\"Time Frame\")\n",
    "plt.ylabel(\"MFCC\")\n",
    "plt.colorbar()"
   ]
  },
  {
   "cell_type": "code",
   "execution_count": null,
   "id": "be04b37e",
   "metadata": {},
   "outputs": [],
   "source": [
    "heavy_noise_generator = AddGaussianNoise(0., 5.)\n",
    "noisy_mfccs = heavy_noise_generator(torch.tensor(mfccs))\n",
    "shifted_noisy_mfccs = shifter(noisy_mfccs)\n",
    "librosa.display.specshow(np.array(shifted_noisy_mfccs))"
   ]
  },
  {
   "cell_type": "markdown",
   "id": "b0b632f0",
   "metadata": {},
   "source": [
    "# Audiomentations"
   ]
  },
  {
   "cell_type": "code",
   "execution_count": null,
   "id": "131fe38e",
   "metadata": {},
   "outputs": [],
   "source": [
    "# from torch_audiomentations import Compose, AddBackgroundNoise, PitchShift, HighPassFilter, Gain, Shift\n",
    "from audiomentations import Compose, AddGaussianNoise, PitchShift, HighPassFilter, Gain, Shift, TimeStretch, Trim"
   ]
  },
  {
   "cell_type": "code",
   "execution_count": null,
   "id": "3eace097",
   "metadata": {},
   "outputs": [],
   "source": [
    "participant_ids = os.listdir(\"data/Coswara_processed/Recordings/\")\n",
    "participant = random.choice(participant_ids)\n",
    "audio_path = f\"data/Coswara_processed/Recordings/{participant}/cough-heavy.wav\"\n",
    "audio_path"
   ]
  },
  {
   "cell_type": "code",
   "execution_count": null,
   "id": "e89a519c",
   "metadata": {},
   "outputs": [],
   "source": [
    "audio, sr = librosa.load(audio_path)\n",
    "audio = audio[1*sr:3*sr]\n",
    "\n",
    "print(f\"duration of recording: {round(len(audio)/sr, 1)}s\")\n",
    "sd.play(audio, sr)\n"
   ]
  },
  {
   "cell_type": "code",
   "execution_count": null,
   "id": "e7eae8b2",
   "metadata": {},
   "outputs": [],
   "source": [
    "augmentations = Compose([\n",
    "    AddGaussianNoise(min_amplitude=0.0001, max_amplitude=0.02, p=1.),\n",
    "    PitchShift(min_semitones=-2, max_semitones=2, p=1.),\n",
    "    TimeStretch(min_rate=0.85, max_rate=1.15, leave_length_unchanged=False, p=1.0)\n",
    "    \n",
    "])\n"
   ]
  },
  {
   "cell_type": "code",
   "execution_count": null,
   "id": "14f50ac7",
   "metadata": {},
   "outputs": [],
   "source": [
    "augmented_audio = augmentations(audio, sr)\n",
    "augment\n",
    "sd.play(augmented_audio, sr)"
   ]
  },
  {
   "cell_type": "code",
   "execution_count": null,
   "id": "f0b4d73a",
   "metadata": {},
   "outputs": [],
   "source": []
  }
 ],
 "metadata": {
  "kernelspec": {
   "display_name": "Python (python_v3-8)",
   "language": "python",
   "name": "python_v3-8"
  },
  "language_info": {
   "codemirror_mode": {
    "name": "ipython",
    "version": 3
   },
   "file_extension": ".py",
   "mimetype": "text/x-python",
   "name": "python",
   "nbconvert_exporter": "python",
   "pygments_lexer": "ipython3",
   "version": "3.8.13"
  }
 },
 "nbformat": 4,
 "nbformat_minor": 5
}
