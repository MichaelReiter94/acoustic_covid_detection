{
 "cells": [
  {
   "cell_type": "code",
   "execution_count": 146,
   "id": "25900946-2351-4d40-a84f-2a9ebf320579",
   "metadata": {},
   "outputs": [
    {
     "name": "stdout",
     "output_type": "stream",
     "text": [
      "C:\\Michi\\acoustic_covid_detection\\python\n"
     ]
    }
   ],
   "source": [
    "import pandas as pd\n",
    "import numpy as np\n",
    "from jupyter_utils import jupyter_setup, load_tracker\n",
    "import ipywidgets as widgets\n",
    "jupyter_setup()\n",
    "import plotly.graph_objects as go\n",
    "import plotly.express as ex\n",
    "pd.set_option('display.max_colwidth', None)\n",
    "pd.set_option('display.max_columns', None)"
   ]
  },
  {
   "cell_type": "code",
   "execution_count": 147,
   "id": "4d955e93-e774-45a3-92fd-06395b1e4635",
   "metadata": {},
   "outputs": [
    {
     "name": "stdout",
     "output_type": "stream",
     "text": [
      "Loading Tracker from: C:/Michi/acoustic_covid_detection/python/run/tracker_saves/confidently_misclassified_samples/2023-07-19_resnet18_2023_06_25_logmel_combined_vowels_NEW_23msHop_96msFFT_fmax11000_224logmel_crossval_saveIDPerformance.pickle\n",
      "\n",
      "Parameters used for finding the best performing epoch:\n",
      "           metric_used:                   auc_roc\n",
      "           smoothing:                     5\n",
      "           ignore_first_n_epochs:         5\n"
     ]
    }
   ],
   "source": [
    "tracker = load_tracker()\n",
    "# tracker.summarize(detail=\"compact\")"
   ]
  },
  {
   "cell_type": "code",
   "execution_count": 148,
   "id": "5c6806ad-f200-435b-99fc-b504c286d8d0",
   "metadata": {},
   "outputs": [
    {
     "name": "stdout",
     "output_type": "stream",
     "text": [
      "\n",
      "Datasets used:\n",
      "2023_06_25_logmel_combined_vowels_NEW_23msHop_96msFFT_fmax11000_224logmel\n",
      "           dataset_class:                 <class 'datasets.ResnetLogmelDataset'>\n",
      "           participants_file:             2023_06_25_logmel_combined_vowels_NEW_23msHop_96msFFT_fmax11000_224logmel.pickle\n",
      "           augmented_files:               ['2023_06_25_logmel_combined_vowels_NEW_23msHop_96msFFT_fmax11000_224logmelaugmented.pickle']\n",
      "           train_set_label_counts:        label '0': 851  -  label '1': 224\n",
      "           types_of_recording:            combined_vowels\n",
      "\n",
      "Audio Processing Parameters:\n",
      "           type_of_features:              logmel\n",
      "           n_time_steps:                  224\n",
      "           n_features:                    224\n",
      "           sample_rate:                   22050\n",
      "           n_fft:                         8192\n",
      "           window_length:                 2048\n",
      "           hop_size:                      512\n",
      "           fmin:                          0\n",
      "           fmax:                          11025\n",
      "           hop_size_ms:                   23.22\n",
      "           window_length_ms:              92.88\n",
      "           duration_seconds:              5.2\n",
      "           fft_res_hz:                    2.69\n",
      "\n",
      "Predetermined Time Domain Augmentations:\n",
      "           model:                         ResNet\n",
      "           optimizer:                     Adam \n",
      "           loss_function:                 sigmoid_focal_loss\n",
      "\n",
      "Tracker contains:\n",
      "           parameter runs:                4\n",
      "           folds per run:                 5\n",
      "           epochs:                        170\n"
     ]
    }
   ],
   "source": [
    "tracker.summarize(detail=\"compact\")\n",
    "# tracker.summarize(detail=\"detail\")"
   ]
  },
  {
   "cell_type": "code",
   "execution_count": 149,
   "id": "8a88e565-f932-4e07-ab7c-f2f3d3079541",
   "metadata": {},
   "outputs": [
    {
     "data": {
      "text/html": [
       "<div>\n",
       "<style scoped>\n",
       "    .dataframe tbody tr th:only-of-type {\n",
       "        vertical-align: middle;\n",
       "    }\n",
       "\n",
       "    .dataframe tbody tr th {\n",
       "        vertical-align: top;\n",
       "    }\n",
       "\n",
       "    .dataframe thead th {\n",
       "        text-align: right;\n",
       "    }\n",
       "</style>\n",
       "<table border=\"1\" class=\"dataframe\">\n",
       "  <thead>\n",
       "    <tr style=\"text-align: right;\">\n",
       "      <th></th>\n",
       "    </tr>\n",
       "  </thead>\n",
       "  <tbody>\n",
       "  </tbody>\n",
       "</table>\n",
       "</div>"
      ],
      "text/plain": [
       "Empty DataFrame\n",
       "Columns: []\n",
       "Index: []"
      ]
     },
     "execution_count": 149,
     "metadata": {},
     "output_type": "execute_result"
    }
   ],
   "source": [
    "pd.DataFrame(tracker.augmentations)"
   ]
  },
  {
   "cell_type": "code",
   "execution_count": 150,
   "id": "76ece74f-fd67-4c38-91df-feab0ff1a455",
   "metadata": {},
   "outputs": [
    {
     "name": "stdout",
     "output_type": "stream",
     "text": [
      "2023_06_25_logmel_combined_vowels_NEW_23msHop_96msFFT_fmax11000_224logmel\n",
      "{'model': 'ResNet', 'optimizer': 'Adam ', 'loss_function': 'sigmoid_focal_loss'}\n"
     ]
    },
    {
     "data": {
      "text/plain": [
       "{'dataset_class': datasets.ResnetLogmelDataset,\n",
       " 'participants_file': '2023_06_25_logmel_combined_vowels_NEW_23msHop_96msFFT_fmax11000_224logmel.pickle',\n",
       " 'augmented_files': ['2023_06_25_logmel_combined_vowels_NEW_23msHop_96msFFT_fmax11000_224logmelaugmented.pickle'],\n",
       " 'train_set_label_counts': \"label '0': 851  -  label '1': 224\",\n",
       " 'types_of_recording': 'combined_vowels'}"
      ]
     },
     "execution_count": 150,
     "metadata": {},
     "output_type": "execute_result"
    }
   ],
   "source": [
    "import pandas as pd\n",
    "key = tracker.datasets.keys()\n",
    "key=list(key)[0]\n",
    "print(key)\n",
    "print(tracker.model_and_training_parameters[\"compact\"])\n",
    "# pd.DataFrame(tracker.datasets[key], index = [0])\n",
    "tracker.datasets[key]"
   ]
  },
  {
   "cell_type": "code",
   "execution_count": 151,
   "id": "5277788f-7ece-4a1e-8160-555c08ad3693",
   "metadata": {},
   "outputs": [
    {
     "data": {
      "application/vnd.jupyter.widget-view+json": {
       "model_id": "b8f47b3b59214420b9ef887405709d38",
       "version_major": 2,
       "version_minor": 0
      },
      "text/plain": [
       "interactive(children=(Checkbox(value=False, description='dataset_and_model'), Checkbox(value=True, description…"
      ]
     },
     "metadata": {},
     "output_type": "display_data"
    }
   ],
   "source": [
    "_ = widgets.interact(tracker.get_data_and_model_params, dataset_and_model=False, audio_processing=True, augmentations=False)"
   ]
  },
  {
   "cell_type": "markdown",
   "id": "5ce061a2-2a7c-4d7f-9a51-db8d8457e651",
   "metadata": {},
   "source": [
    "# Compute Tracker Metrics:\n",
    "when loading the tracker (load_tracker()), the recorded data will be loaded and preprocessed (cross validation mean/std and much more will be calculated). This is essential. Otherwise none of the following functionality works. You can call the preprocessing function manually (tracker.compute_overall_metrics()) to change the settings for processing. The available parameters are: <br>\n",
    "- smooth_n_samples=10 <br>\n",
    "This sets the number of samples over which a (weighted) moving average filter is applied before looking for a min/max of the curve or calculate the mean.\n",
    "- ignore_first_n_epochs=5 <br>\n",
    "Simply do not take the first n epochs into account when looking for a min/max\n",
    "- metric_used_for_performance_analysis=\"auc_roc\" <br>\n",
    "The epoch on which the performance for all metrics will be evaluated for a specific run will be chosen by looking for the min/max in this metric. This means, that if the AUC ROC curve is chosen in the argument, it will look for the argmax of the AUC ROC curve and evaluate loss, accuracy, F1 etc in this exact epoch even when they have their extremum in another epoch  <br>"
   ]
  },
  {
   "cell_type": "code",
   "execution_count": 152,
   "id": "f05b3fcd-7bd6-41c7-9027-e462fe98e811",
   "metadata": {},
   "outputs": [
    {
     "name": "stdout",
     "output_type": "stream",
     "text": [
      "\n",
      "Parameters used for finding the best performing epoch:\n",
      "           metric_used:                   auc_roc\n",
      "           smoothing:                     10\n",
      "           ignore_first_n_epochs:         10\n"
     ]
    }
   ],
   "source": [
    "n_samples = 10\n",
    "tracker.compute_overall_metrics(smooth_n_samples=n_samples, ignore_first_n_epochs=n_samples, metric_used_for_performance_analysis=\"auc_roc\")"
   ]
  },
  {
   "cell_type": "markdown",
   "id": "8552cbf1-2f4d-41f3-8783-d8a808f14e34",
   "metadata": {},
   "source": [
    "# Evaluate the Cross Validation Results\n",
    "For each run within a cross validation setting, the epoch of the min/max will be calculated and all metrics evaluated at this metric (after being smoothed as specified). The mean and std are calculated from the (in the default case) epoch where AUC ROC hits the global maximum. The resulting table can be adjusted with the jupyter widgets: <br>\n",
    "- The styled table can be sorted by metric values (first drop down)  <br>\n",
    "- by ticking \"show_full_df\" you can also display e.g. the standard deviation of each metric\n",
    "- If you tick \"highlight parameters\" all hyperparameters, that changed thoughout the different runs, are highlighted by value. <br>\n",
    "- The sliders below can be adjusted to filter out all runs with results worse than the slider setting  <br>\n",
    "For more details (standard deviation e.g.), the cell below does exaclty the same but with "
   ]
  },
  {
   "cell_type": "code",
   "execution_count": 153,
   "id": "d542739c-2cb0-4fef-a26c-0e4926bed5f9",
   "metadata": {},
   "outputs": [
    {
     "data": {
      "application/vnd.jupyter.widget-view+json": {
       "model_id": "663ac01685d147bf88066468954c6422",
       "version_major": 2,
       "version_minor": 0
      },
      "text/plain": [
       "interactive(children=(Dropdown(description='sort_descending_by_metric', options=('auc_roc', 'loss', 'accuracy'…"
      ]
     },
     "metadata": {},
     "output_type": "display_data"
    }
   ],
   "source": [
    "def sortby(sort_descending_by_metric, highlight_hyperparameters, show_full_df, **kwargs):\n",
    "    # thresholds = {\"auc_roc\": auc_threshold}\n",
    "    if show_full_df:\n",
    "        df = tracker.full_metric_performance_df\n",
    "    else:\n",
    "        df = tracker.compact_metric_performance_df\n",
    "    style = tracker.style_metric_performance_df(df, sort_by=sort_descending_by_metric, highlight_hyperparameters=highlight_hyperparameters, filter_thresholds=kwargs)\n",
    "    return style\n",
    "_ = widgets.interact(sortby, sort_descending_by_metric=tracker.metrics_used, highlight_hyperparameters=True, show_full_df=False,\n",
    "                auc_roc=widgets.FloatSlider(min=0.0, max=1.0, value=0.6, step=0.005),\n",
    "                accuracy=widgets.FloatSlider(min=0.0, max=1.0, value=0.6, step=0.005),\n",
    "                tpr=widgets.FloatSlider(min=0.0, max=1.0, value=0.4, step=0.005),\n",
    "                tnr=widgets.FloatSlider(min=0.0, max=1.0, value=0.6, step=0.005)\n",
    "                )"
   ]
  },
  {
   "cell_type": "markdown",
   "id": "b2166ddb-c2e4-4485-a148-ed5344e27dfd",
   "metadata": {},
   "source": [
    "# Box Plot the Hyperpaprameter Performances\n",
    "Each metric is viewed separately. You can also choose to only look at the n_best performing hyperparameter runs. <br>\n",
    "Depending on whether \"sort_by_current_metric\" is ticked this means something different. If it is not ticked, all runs will be sorted by the metric defined in the beginning (tracker.compute_overall_metrics()). Otherwise it will be sorted by the performance of the metric you have chosen to look at. This is very usefull  to get insight on which setting of a specific hyperparameter affects specific metrics. Some hyperparameter may for example improve the AUC ROC a bit but in the F1 or tnr metric they clearly hava a negative impact."
   ]
  },
  {
   "cell_type": "code",
   "execution_count": 154,
   "id": "2f253649-2a96-486f-8eca-61058c080721",
   "metadata": {},
   "outputs": [
    {
     "data": {
      "application/vnd.jupyter.widget-view+json": {
       "model_id": "269e141b6da2433c8cbd716eb2dec2b6",
       "version_major": 2,
       "version_minor": 0
      },
      "text/plain": [
       "interactive(children=(Dropdown(description='metric', options=('auc_roc', 'loss', 'accuracy', 'f1_score', 'auc_…"
      ]
     },
     "metadata": {},
     "output_type": "display_data"
    }
   ],
   "source": [
    "# hyperparameters = (list(tracker.crossval_runs[0].parameters.keys()))\n",
    "options = tracker.get_only_varied_hyperparam_columns()\n",
    "dropdown_colorby = widgets.Dropdown(options=[None, *options], value=options[0])\n",
    "\n",
    "_ = widgets.interact(tracker.boxplot_run_statistics, metric=tracker.metrics_used,\n",
    "                     show_n_best_runs=widgets.IntSlider(value=tracker.n_hyperparameter_runs, min=1, max=tracker.n_hyperparameter_runs),\n",
    "                     color_by_hyperparameter=dropdown_colorby,\n",
    "                     sort_by_current_metric=True)"
   ]
  },
  {
   "cell_type": "markdown",
   "id": "29007e08-25a5-4ae3-bf2e-ab0078140b6c",
   "metadata": {},
   "source": [
    "# Boxplots grouped by combinations excluding 1 hyperparameter\n",
    "This way you can check the impact of 1 hyperparameter for each combination of other hyperparameters"
   ]
  },
  {
   "cell_type": "code",
   "execution_count": 155,
   "id": "92288b41-c290-41e2-8261-39883daf79e9",
   "metadata": {},
   "outputs": [
    {
     "data": {
      "application/vnd.jupyter.widget-view+json": {
       "model_id": "a343eff5674d400c85a5d624234c52c7",
       "version_major": 2,
       "version_minor": 0
      },
      "text/plain": [
       "interactive(children=(Dropdown(description='metric', options=('auc_roc', 'loss', 'accuracy', 'f1_score', 'auc_…"
      ]
     },
     "metadata": {},
     "output_type": "display_data"
    }
   ],
   "source": [
    "options = tracker.get_only_varied_hyperparam_columns()\n",
    "dropdown_groupby = widgets.Dropdown(options=options, value=options[0])\n",
    "\n",
    "_ = widgets.interact(tracker.boxplot_groupedby_combination, metric=tracker.metrics_used,\n",
    "                     show_n_best_runs=widgets.IntSlider(value=tracker.n_hyperparameter_runs, min=1, max=tracker.n_hyperparameter_runs),\n",
    "                     # group_by_hyperparameter=[\"some\", *tracker.get_only_varied_hyperparam_columns()],\n",
    "                     separate_param=dropdown_groupby,\n",
    "                     sort_by_current_metric=True,\n",
    "                     boxgap=widgets.FloatSlider(value=0.1, min=0.0, max=1.0),\n",
    "                     fontsize=widgets.IntSlider(value=12, min=6, max=20),\n",
    "                    )"
   ]
  },
  {
   "cell_type": "markdown",
   "id": "0d485d42-b345-4cb0-845f-938fe6302df6",
   "metadata": {},
   "source": [
    "Group hyperparameter combination by 1 parameter (opposite of before)"
   ]
  },
  {
   "cell_type": "code",
   "execution_count": 156,
   "id": "149a88c5-0f4d-45fc-83bf-e870f963a8af",
   "metadata": {},
   "outputs": [],
   "source": [
    "# options = tracker.get_only_varied_hyperparam_columns()\n",
    "# dropdown_groupby = widgets.Dropdown(options=options, value=options[0])\n",
    "\n",
    "# _ = widgets.interact(tracker.boxplot_run_statistics_grouped, metric=tracker.metrics_used,\n",
    "#                      show_n_best_runs=widgets.IntSlider(value=tracker.n_hyperparameter_runs, min=1, max=tracker.n_hyperparameter_runs),\n",
    "#                      # group_by_hyperparameter=[\"some\", *tracker.get_only_varied_hyperparam_columns()],\n",
    "#                      group_by_hyperparameter=dropdown_groupby,\n",
    "                     \n",
    "#                      sort_by_current_metric=True)"
   ]
  },
  {
   "cell_type": "markdown",
   "id": "fbaa3bef-ca38-4116-a256-08ce66a06edd",
   "metadata": {},
   "source": [
    "# Metric Performance over Epochs\n",
    "Here we can analyze the cross validation mean of each hyperparameter run over the epochs. You can switch between train and eval mode and choose a specific metric to look at. The solid line is the mean over all folds within a crossval run. This is calculated epoch-wise, so at each epoch the smoothed metric performance of all folds is averaged. In the same way, the standard devaition is calculated and shown as area plot. <br>\n",
    "You can choose to display the area plot (std) and also to view the fold within each crossval run + the epoch in which the in/max of the specified metric (in tracker.compute_overall_metrics()) was found. Additionally you can choose to view only the n best performing hyperparameter runs. The ranking is calculated by the metric set at the beginning (tracker.compute_overall_metrics()). <br>\n",
    "You can change the number of samples to smooth the curves with. The default setting was also set in the compute_overall_metrics method. This is only for visualization and does not change the settings which are used to calculate the final crossval performance.<br>\n",
    "Below is a similar method but it only shows 1 crossval run which can be switched with the dropdown menu."
   ]
  },
  {
   "cell_type": "code",
   "execution_count": 157,
   "id": "d1f46d23-85d4-48d0-8ae0-0c0681deee85",
   "metadata": {},
   "outputs": [],
   "source": [
    "# tracker.crossval_runs[0].runs[4].best_performances[\"eval\"]\n",
    "# tracker.crossval_runs[0].runs.pop(1)"
   ]
  },
  {
   "cell_type": "code",
   "execution_count": 158,
   "id": "3407a633-e593-4d24-86b0-afb12c88baf4",
   "metadata": {},
   "outputs": [
    {
     "data": {
      "application/vnd.jupyter.widget-view+json": {
       "model_id": "3d029f08a1304522aba6645465ccc1ab",
       "version_major": 2,
       "version_minor": 0
      },
      "text/plain": [
       "interactive(children=(Dropdown(description='mode', options=('eval', 'train', 'test'), value='eval'), Dropdown(…"
      ]
     },
     "metadata": {},
     "output_type": "display_data"
    }
   ],
   "source": [
    "options = tracker.get_only_varied_hyperparam_columns()\n",
    "# if len(options) == 0:\n",
    "#     options = [None]\n",
    "dropdown_colorby = widgets.Dropdown(options=[None, *options], value=options[0])\n",
    "_ = widgets.interact(tracker.show_all_runs, \n",
    "                     mode=[\"eval\", \"train\", \"test\"], \n",
    "                     metric=tracker.metrics_used, \n",
    "                     n_samples_for_smoothing=widgets.IntSlider(value=tracker.performance_eval_params[\"smoothing\"], min=1, max=15), \n",
    "                     show_separate_folds=True, \n",
    "                     show_std_area_plot=False,\n",
    "                     show_n_best_runs=widgets.IntSlider(value=10, min=1, max=tracker.n_hyperparameter_runs),\n",
    "                     color_by_hyperparameter=dropdown_colorby)"
   ]
  },
  {
   "cell_type": "code",
   "execution_count": 159,
   "id": "ab612294-eca8-489d-8743-794ae7278edf",
   "metadata": {
    "tags": []
   },
   "outputs": [],
   "source": [
    "def get_list_of_best_n_runs(sort_by_metric=True, metric=\"auc_roc\"):\n",
    "    # this way, the dropdown menu of run_id below is sorted by metric performance specified\n",
    "    if sort_by_metric:\n",
    "        hyperparameter_settings = [str(tracker.crossval_runs[idx].parameters) for idx in tracker.get_indices_of_best_n_runs(tracker.n_hyperparameter_runs, metric)]\n",
    "    else:\n",
    "        hyperparameter_settings = tracker.run_ids\n",
    "    return hyperparameter_settings"
   ]
  },
  {
   "cell_type": "code",
   "execution_count": 160,
   "id": "a9948dab-cc00-4282-9254-04f0a52da1a2",
   "metadata": {
    "tags": []
   },
   "outputs": [
    {
     "data": {
      "application/vnd.jupyter.widget-view+json": {
       "model_id": "29d4e8e5a81d439e8f34ab70f70d74dc",
       "version_major": 2,
       "version_minor": 0
      },
      "text/plain": [
       "interactive(children=(Dropdown(description='run_id', options=(\"{'batch': '64', 'lr': '7e-05', 'wd': '0.0001', …"
      ]
     },
     "metadata": {},
     "output_type": "display_data"
    }
   ],
   "source": [
    "_ = widgets.interact(tracker.show_single_run, \n",
    "                 run_id=get_list_of_best_n_runs(sort_by_metric=True, metric=\"auc_roc\"),\n",
    "                 # mode=[\"eval\", \"train\"], \n",
    "                 metric=tracker.metrics_used, \n",
    "                 n_samples_for_smoothing=widgets.IntSlider(value=tracker.performance_eval_params[\"smoothing\"], min=1, max=15), \n",
    "                 show_separate_folds=True, \n",
    "                 show_std_area_plot=True)"
   ]
  },
  {
   "cell_type": "code",
   "execution_count": 161,
   "id": "36c401b3-7cdb-48dd-92d7-dbab8e2c93d8",
   "metadata": {},
   "outputs": [
    {
     "ename": "NameError",
     "evalue": "name 'plt' is not defined",
     "output_type": "error",
     "traceback": [
      "\u001b[1;31m---------------------------------------------------------------------------\u001b[0m",
      "\u001b[1;31mNameError\u001b[0m                                 Traceback (most recent call last)",
      "Cell \u001b[1;32mIn [161], line 1\u001b[0m\n\u001b[1;32m----> 1\u001b[0m plt\u001b[38;5;241m.\u001b[39mplot(tracker\u001b[38;5;241m.\u001b[39mcrossval_runs[\u001b[38;5;241m0\u001b[39m]\u001b[38;5;241m.\u001b[39mruns[\u001b[38;5;241m0\u001b[39m]\u001b[38;5;241m.\u001b[39mmetrics[\u001b[38;5;124m\"\u001b[39m\u001b[38;5;124meval\u001b[39m\u001b[38;5;124m\"\u001b[39m][\u001b[38;5;124m\"\u001b[39m\u001b[38;5;124mauc_roc\u001b[39m\u001b[38;5;124m\"\u001b[39m])\n",
      "\u001b[1;31mNameError\u001b[0m: name 'plt' is not defined"
     ]
    }
   ],
   "source": [
    "\n",
    "plt.plot(tracker.crossval_runs[0].runs[0].metrics[\"eval\"][\"auc_roc\"])"
   ]
  },
  {
   "cell_type": "code",
   "execution_count": 166,
   "id": "464a6a33-283d-4def-8e24-8b87e409fe8b",
   "metadata": {},
   "outputs": [
    {
     "name": "stdout",
     "output_type": "stream",
     "text": [
      "7e-05 True\n"
     ]
    },
    {
     "data": {
      "application/vnd.plotly.v1+json": {
       "config": {
        "plotlyServerURL": "https://plot.ly"
       },
       "data": [
        {
         "legendgroup": "temp1",
         "name": "fold",
         "opacity": 0.35,
         "showlegend": false,
         "type": "scatter",
         "y": [
          0.5629431832750433,
          0.5601441830494459,
          0.5554774371567275,
          0.5666423311449129,
          0.5689448396770158,
          0.5667103957110935,
          0.5660340775229696,
          0.5672899995083927,
          0.5708675872447199,
          0.573705554378614,
          0.578914072215243,
          0.5829923418421411,
          0.5867687294846309,
          0.5907897866741473,
          0.5942668738726552,
          0.6146409802707525,
          0.6210916617363775,
          0.6264983072826651,
          0.6273933359486739,
          0.6325991111014783,
          0.6372255182765811,
          0.6393031336746657,
          0.6446473888905317,
          0.6447004175815488,
          0.6478676145655177,
          0.6489459593916,
          0.647643015716523,
          0.6499882149417375,
          0.6514544179128823,
          0.6525455031094629,
          0.6569132555614898,
          0.6609894470617811,
          0.6627550946939056,
          0.6612256706602444,
          0.6634808809558714,
          0.6640459923581001,
          0.6640098681326345,
          0.6650693275913557,
          0.6649742740904838,
          0.6654680012761509,
          0.6601084171123632,
          0.6609056341040334,
          0.6608969018553431,
          0.6606444036974395,
          0.6607486540964924,
          0.6585488259139831,
          0.6613601159199987,
          0.6638357713919596,
          0.6655861781740999,
          0.6615986187775229,
          0.6621520794160629,
          0.6598233948035438,
          0.6599033113604675,
          0.6583784661126377,
          0.6604494546070334,
          0.666468095274175,
          0.667976934313706,
          0.6644497698484255,
          0.6644021816907958,
          0.6638816509707961,
          0.6619725420019701,
          0.6605025739372693,
          0.6591833077571698,
          0.6571468915655809,
          0.6580112542780336,
          0.6617920494164913,
          0.6635192921838184,
          0.6637377518035215,
          0.6625582902964122,
          0.6579549200008319,
          0.6590738153666258,
          0.6589279276093853,
          0.6592132805065947,
          0.6613772477827489,
          0.6619865467549428,
          0.6616518203607438,
          0.660537099808455,
          0.6632929525784265,
          0.6642271605995755,
          0.6642518580568796,
          0.6644590347612296,
          0.6679937628743018,
          0.6700497888833242,
          0.6681833309695917,
          0.6709523285065095,
          0.6735987223434566,
          0.6746341783652913,
          0.6765680355416626,
          0.6775075063923168,
          0.6777201827441797,
          0.6786629537631962,
          0.6780738957995371,
          0.6759182672326471,
          0.6746675845265881,
          0.674230559005962,
          0.6751522223173783,
          0.6782960476533835,
          0.6767373819349545,
          0.6784350142932631,
          0.6791165893587604,
          0.6790479475387216,
          0.6792330848315626,
          0.6778041538682196,
          0.6772020058046241,
          0.6760825416591685,
          0.6757354109704059,
          0.6775384008972902,
          0.6770873917163556,
          0.6782143162374848,
          0.675657918004741,
          0.67439980806559,
          0.6733908434503144,
          0.672509902160189,
          0.6732363720095269,
          0.670725908038767,
          0.6697684379795783,
          0.6699847016747056,
          0.670945271600338,
          0.6714037935696876,
          0.67031025145396,
          0.6670356219553486,
          0.6678528287121235,
          0.6679348465578338,
          0.6664693532084531,
          0.6675480215704066,
          0.6688125992407672,
          0.6692887341606407,
          0.6700060503145164,
          0.6706401285904949,
          0.6709941518292228,
          0.671877551536572,
          0.6749395279997754,
          0.676184893998621,
          0.6764718679487952,
          0.6763412029651701,
          0.678112538779672,
          0.6767615039803156,
          0.6748115851861909,
          0.6759728790610888,
          0.6775104078222414,
          0.6784661606924636,
          0.6800907442106694,
          0.6806418835257617,
          0.6793318056295233,
          0.6822642173012223,
          0.6816847583041261,
          0.6813606628907525,
          0.6830975244062507,
          0.6813186493772725,
          0.6813079764897974,
          0.6827157223619957,
          0.6816678584774037,
          0.6821208593698682,
          0.6826623184041796,
          0.6807278567499087,
          0.6800705213945208,
          0.6793959056273073,
          0.677466427768352,
          0.6754575783808254,
          0.6750792177045782,
          0.6743661709027505,
          0.6730557683943024,
          0.67223465802383,
          0.6713174197873505,
          0.6708871880990142,
          0.6723628098628789,
          0.6716113926159852,
          0.6739370991634143,
          0.6739566094376734,
          0.673608391383444
         ]
        },
        {
         "legendgroup": "temp1",
         "name": "fold",
         "opacity": 0.35,
         "showlegend": false,
         "type": "scatter",
         "y": [
          0.3917384907149897,
          0.4340081341692242,
          0.4586965784099388,
          0.4695871004258172,
          0.47105561878930235,
          0.4738957181954369,
          0.4664384945421207,
          0.4739153529460795,
          0.48064220966940546,
          0.48339815101950123,
          0.487713644801943,
          0.4882270747296338,
          0.49048871972795893,
          0.4958346149132752,
          0.497292208857165,
          0.5147670704981862,
          0.5154342036884751,
          0.5209008680358611,
          0.5193518455477945,
          0.5212280646336951,
          0.5264792002287264,
          0.5226791454257025,
          0.5188156540923583,
          0.5183508841730544,
          0.5198395788183257,
          0.5240426998426195,
          0.5223003848001632,
          0.5263845957797513,
          0.5276086704666189,
          0.5280477502160807,
          0.5323394939249639,
          0.539293931405351,
          0.5393288258469973,
          0.5395625998074145,
          0.5434649475688187,
          0.5459675510101237,
          0.5422575028760963,
          0.5403358486493437,
          0.539160975223108,
          0.5361348325422173,
          0.5274824938672595,
          0.5313284766586739,
          0.5337136515454375,
          0.5324603757167075,
          0.5300747860151485,
          0.5266681666562845,
          0.529328847345879,
          0.5293122105624286,
          0.5270532756897823,
          0.5235958665463964,
          0.5200077438829248,
          0.5152578936478256,
          0.5108693788099803,
          0.5093856363743537,
          0.5090080582860624,
          0.5100854595844371,
          0.5083823438691636,
          0.5075114431840209,
          0.5044679308962069,
          0.5023760340230295,
          0.5039441832378536,
          0.5061512027629921,
          0.5017705895795568,
          0.4993761924356379,
          0.49960878132017195,
          0.4986469965514337,
          0.49965903529779937,
          0.5053940051650092,
          0.5014906032535498,
          0.4950480969133969,
          0.49500448748663317,
          0.49527368248732634,
          0.49520824445041894,
          0.5009453686584563,
          0.5034958968169755,
          0.5039179548770591,
          0.5052748138309654,
          0.5066776827360726,
          0.5111638202321042,
          0.5135011316001066,
          0.5127304607540819,
          0.5114164527236937,
          0.514118703636091,
          0.5119726680936572,
          0.5117303875677038,
          0.5120442227933973,
          0.5139584457725223,
          0.5140928760087731,
          0.5126068237430511,
          0.5089974888254716,
          0.510439620655391,
          0.5094412944770521,
          0.5091372553295761,
          0.5099001659997339,
          0.5121322356642928,
          0.5113380848703404,
          0.5136179972905117,
          0.5189513730259517,
          0.5192929588202624,
          0.5204236642728378,
          0.5219482382708514,
          0.5209181285582919,
          0.5188749054823618,
          0.5182617643613623,
          0.518695952590432,
          0.5187060375588766,
          0.5213757872737433,
          0.5203331678527549,
          0.520184785038798,
          0.5179223788296354,
          0.5180983413125864,
          0.5217762368476433,
          0.5192822215515145,
          0.5207544843596446,
          0.5233760193870253,
          0.525879323755525,
          0.526950433259917,
          0.5284998744420497,
          0.5289815918666648,
          0.5298538603742136,
          0.5280360054478994,
          0.5257553355309279,
          0.5244635507090423,
          0.5215951102645323,
          0.5211185628614293,
          0.5215035961788324,
          0.5216331253143028,
          0.5218060802170117,
          0.5217978929322666,
          0.5213838349904889,
          0.5256278078077284,
          0.5265209302034467,
          0.5286758029855319,
          0.5305053309311206,
          0.5338313266508903,
          0.5335281678909456,
          0.5336144430690537,
          0.5330144851617725,
          0.534199638097564,
          0.5365444905709251,
          0.5341572729959043,
          0.5310043887017466,
          0.5303487149210695,
          0.5285017999955075,
          0.5257559967623942,
          0.5215823354978624,
          0.5189305966887907,
          0.5201677204432504,
          0.5202487655728968,
          0.523192718537683,
          0.5214774199716188,
          0.5216162122817682,
          0.5216902433502552,
          0.5220341942174684,
          0.5203770353258131,
          0.5198527198014118,
          0.5225861100409053,
          0.522311173938057,
          0.521915262557848,
          0.524891420742961,
          0.5241569920728897,
          0.5243481713922279,
          0.5221761668860853,
          0.521604950707908,
          0.5219300232746127,
          0.5222606304488774,
          0.5227899007903001,
          0.5215636957454886,
          0.5239214715993026,
          0.5228455362650233
         ]
        }
       ],
       "layout": {
        "autosize": true,
        "template": {
         "data": {
          "bar": [
           {
            "error_x": {
             "color": "#2a3f5f"
            },
            "error_y": {
             "color": "#2a3f5f"
            },
            "marker": {
             "line": {
              "color": "#E5ECF6",
              "width": 0.5
             },
             "pattern": {
              "fillmode": "overlay",
              "size": 10,
              "solidity": 0.2
             }
            },
            "type": "bar"
           }
          ],
          "barpolar": [
           {
            "marker": {
             "line": {
              "color": "#E5ECF6",
              "width": 0.5
             },
             "pattern": {
              "fillmode": "overlay",
              "size": 10,
              "solidity": 0.2
             }
            },
            "type": "barpolar"
           }
          ],
          "carpet": [
           {
            "aaxis": {
             "endlinecolor": "#2a3f5f",
             "gridcolor": "white",
             "linecolor": "white",
             "minorgridcolor": "white",
             "startlinecolor": "#2a3f5f"
            },
            "baxis": {
             "endlinecolor": "#2a3f5f",
             "gridcolor": "white",
             "linecolor": "white",
             "minorgridcolor": "white",
             "startlinecolor": "#2a3f5f"
            },
            "type": "carpet"
           }
          ],
          "choropleth": [
           {
            "colorbar": {
             "outlinewidth": 0,
             "ticks": ""
            },
            "type": "choropleth"
           }
          ],
          "contour": [
           {
            "colorbar": {
             "outlinewidth": 0,
             "ticks": ""
            },
            "colorscale": [
             [
              0,
              "#0d0887"
             ],
             [
              0.1111111111111111,
              "#46039f"
             ],
             [
              0.2222222222222222,
              "#7201a8"
             ],
             [
              0.3333333333333333,
              "#9c179e"
             ],
             [
              0.4444444444444444,
              "#bd3786"
             ],
             [
              0.5555555555555556,
              "#d8576b"
             ],
             [
              0.6666666666666666,
              "#ed7953"
             ],
             [
              0.7777777777777778,
              "#fb9f3a"
             ],
             [
              0.8888888888888888,
              "#fdca26"
             ],
             [
              1,
              "#f0f921"
             ]
            ],
            "type": "contour"
           }
          ],
          "contourcarpet": [
           {
            "colorbar": {
             "outlinewidth": 0,
             "ticks": ""
            },
            "type": "contourcarpet"
           }
          ],
          "heatmap": [
           {
            "colorbar": {
             "outlinewidth": 0,
             "ticks": ""
            },
            "colorscale": [
             [
              0,
              "#0d0887"
             ],
             [
              0.1111111111111111,
              "#46039f"
             ],
             [
              0.2222222222222222,
              "#7201a8"
             ],
             [
              0.3333333333333333,
              "#9c179e"
             ],
             [
              0.4444444444444444,
              "#bd3786"
             ],
             [
              0.5555555555555556,
              "#d8576b"
             ],
             [
              0.6666666666666666,
              "#ed7953"
             ],
             [
              0.7777777777777778,
              "#fb9f3a"
             ],
             [
              0.8888888888888888,
              "#fdca26"
             ],
             [
              1,
              "#f0f921"
             ]
            ],
            "type": "heatmap"
           }
          ],
          "heatmapgl": [
           {
            "colorbar": {
             "outlinewidth": 0,
             "ticks": ""
            },
            "colorscale": [
             [
              0,
              "#0d0887"
             ],
             [
              0.1111111111111111,
              "#46039f"
             ],
             [
              0.2222222222222222,
              "#7201a8"
             ],
             [
              0.3333333333333333,
              "#9c179e"
             ],
             [
              0.4444444444444444,
              "#bd3786"
             ],
             [
              0.5555555555555556,
              "#d8576b"
             ],
             [
              0.6666666666666666,
              "#ed7953"
             ],
             [
              0.7777777777777778,
              "#fb9f3a"
             ],
             [
              0.8888888888888888,
              "#fdca26"
             ],
             [
              1,
              "#f0f921"
             ]
            ],
            "type": "heatmapgl"
           }
          ],
          "histogram": [
           {
            "marker": {
             "pattern": {
              "fillmode": "overlay",
              "size": 10,
              "solidity": 0.2
             }
            },
            "type": "histogram"
           }
          ],
          "histogram2d": [
           {
            "colorbar": {
             "outlinewidth": 0,
             "ticks": ""
            },
            "colorscale": [
             [
              0,
              "#0d0887"
             ],
             [
              0.1111111111111111,
              "#46039f"
             ],
             [
              0.2222222222222222,
              "#7201a8"
             ],
             [
              0.3333333333333333,
              "#9c179e"
             ],
             [
              0.4444444444444444,
              "#bd3786"
             ],
             [
              0.5555555555555556,
              "#d8576b"
             ],
             [
              0.6666666666666666,
              "#ed7953"
             ],
             [
              0.7777777777777778,
              "#fb9f3a"
             ],
             [
              0.8888888888888888,
              "#fdca26"
             ],
             [
              1,
              "#f0f921"
             ]
            ],
            "type": "histogram2d"
           }
          ],
          "histogram2dcontour": [
           {
            "colorbar": {
             "outlinewidth": 0,
             "ticks": ""
            },
            "colorscale": [
             [
              0,
              "#0d0887"
             ],
             [
              0.1111111111111111,
              "#46039f"
             ],
             [
              0.2222222222222222,
              "#7201a8"
             ],
             [
              0.3333333333333333,
              "#9c179e"
             ],
             [
              0.4444444444444444,
              "#bd3786"
             ],
             [
              0.5555555555555556,
              "#d8576b"
             ],
             [
              0.6666666666666666,
              "#ed7953"
             ],
             [
              0.7777777777777778,
              "#fb9f3a"
             ],
             [
              0.8888888888888888,
              "#fdca26"
             ],
             [
              1,
              "#f0f921"
             ]
            ],
            "type": "histogram2dcontour"
           }
          ],
          "mesh3d": [
           {
            "colorbar": {
             "outlinewidth": 0,
             "ticks": ""
            },
            "type": "mesh3d"
           }
          ],
          "parcoords": [
           {
            "line": {
             "colorbar": {
              "outlinewidth": 0,
              "ticks": ""
             }
            },
            "type": "parcoords"
           }
          ],
          "pie": [
           {
            "automargin": true,
            "type": "pie"
           }
          ],
          "scatter": [
           {
            "fillpattern": {
             "fillmode": "overlay",
             "size": 10,
             "solidity": 0.2
            },
            "type": "scatter"
           }
          ],
          "scatter3d": [
           {
            "line": {
             "colorbar": {
              "outlinewidth": 0,
              "ticks": ""
             }
            },
            "marker": {
             "colorbar": {
              "outlinewidth": 0,
              "ticks": ""
             }
            },
            "type": "scatter3d"
           }
          ],
          "scattercarpet": [
           {
            "marker": {
             "colorbar": {
              "outlinewidth": 0,
              "ticks": ""
             }
            },
            "type": "scattercarpet"
           }
          ],
          "scattergeo": [
           {
            "marker": {
             "colorbar": {
              "outlinewidth": 0,
              "ticks": ""
             }
            },
            "type": "scattergeo"
           }
          ],
          "scattergl": [
           {
            "marker": {
             "colorbar": {
              "outlinewidth": 0,
              "ticks": ""
             }
            },
            "type": "scattergl"
           }
          ],
          "scattermapbox": [
           {
            "marker": {
             "colorbar": {
              "outlinewidth": 0,
              "ticks": ""
             }
            },
            "type": "scattermapbox"
           }
          ],
          "scatterpolar": [
           {
            "marker": {
             "colorbar": {
              "outlinewidth": 0,
              "ticks": ""
             }
            },
            "type": "scatterpolar"
           }
          ],
          "scatterpolargl": [
           {
            "marker": {
             "colorbar": {
              "outlinewidth": 0,
              "ticks": ""
             }
            },
            "type": "scatterpolargl"
           }
          ],
          "scatterternary": [
           {
            "marker": {
             "colorbar": {
              "outlinewidth": 0,
              "ticks": ""
             }
            },
            "type": "scatterternary"
           }
          ],
          "surface": [
           {
            "colorbar": {
             "outlinewidth": 0,
             "ticks": ""
            },
            "colorscale": [
             [
              0,
              "#0d0887"
             ],
             [
              0.1111111111111111,
              "#46039f"
             ],
             [
              0.2222222222222222,
              "#7201a8"
             ],
             [
              0.3333333333333333,
              "#9c179e"
             ],
             [
              0.4444444444444444,
              "#bd3786"
             ],
             [
              0.5555555555555556,
              "#d8576b"
             ],
             [
              0.6666666666666666,
              "#ed7953"
             ],
             [
              0.7777777777777778,
              "#fb9f3a"
             ],
             [
              0.8888888888888888,
              "#fdca26"
             ],
             [
              1,
              "#f0f921"
             ]
            ],
            "type": "surface"
           }
          ],
          "table": [
           {
            "cells": {
             "fill": {
              "color": "#EBF0F8"
             },
             "line": {
              "color": "white"
             }
            },
            "header": {
             "fill": {
              "color": "#C8D4E3"
             },
             "line": {
              "color": "white"
             }
            },
            "type": "table"
           }
          ]
         },
         "layout": {
          "annotationdefaults": {
           "arrowcolor": "#2a3f5f",
           "arrowhead": 0,
           "arrowwidth": 1
          },
          "autotypenumbers": "strict",
          "coloraxis": {
           "colorbar": {
            "outlinewidth": 0,
            "ticks": ""
           }
          },
          "colorscale": {
           "diverging": [
            [
             0,
             "#8e0152"
            ],
            [
             0.1,
             "#c51b7d"
            ],
            [
             0.2,
             "#de77ae"
            ],
            [
             0.3,
             "#f1b6da"
            ],
            [
             0.4,
             "#fde0ef"
            ],
            [
             0.5,
             "#f7f7f7"
            ],
            [
             0.6,
             "#e6f5d0"
            ],
            [
             0.7,
             "#b8e186"
            ],
            [
             0.8,
             "#7fbc41"
            ],
            [
             0.9,
             "#4d9221"
            ],
            [
             1,
             "#276419"
            ]
           ],
           "sequential": [
            [
             0,
             "#0d0887"
            ],
            [
             0.1111111111111111,
             "#46039f"
            ],
            [
             0.2222222222222222,
             "#7201a8"
            ],
            [
             0.3333333333333333,
             "#9c179e"
            ],
            [
             0.4444444444444444,
             "#bd3786"
            ],
            [
             0.5555555555555556,
             "#d8576b"
            ],
            [
             0.6666666666666666,
             "#ed7953"
            ],
            [
             0.7777777777777778,
             "#fb9f3a"
            ],
            [
             0.8888888888888888,
             "#fdca26"
            ],
            [
             1,
             "#f0f921"
            ]
           ],
           "sequentialminus": [
            [
             0,
             "#0d0887"
            ],
            [
             0.1111111111111111,
             "#46039f"
            ],
            [
             0.2222222222222222,
             "#7201a8"
            ],
            [
             0.3333333333333333,
             "#9c179e"
            ],
            [
             0.4444444444444444,
             "#bd3786"
            ],
            [
             0.5555555555555556,
             "#d8576b"
            ],
            [
             0.6666666666666666,
             "#ed7953"
            ],
            [
             0.7777777777777778,
             "#fb9f3a"
            ],
            [
             0.8888888888888888,
             "#fdca26"
            ],
            [
             1,
             "#f0f921"
            ]
           ]
          },
          "colorway": [
           "#636efa",
           "#EF553B",
           "#00cc96",
           "#ab63fa",
           "#FFA15A",
           "#19d3f3",
           "#FF6692",
           "#B6E880",
           "#FF97FF",
           "#FECB52"
          ],
          "font": {
           "color": "#2a3f5f"
          },
          "geo": {
           "bgcolor": "white",
           "lakecolor": "white",
           "landcolor": "#E5ECF6",
           "showlakes": true,
           "showland": true,
           "subunitcolor": "white"
          },
          "hoverlabel": {
           "align": "left"
          },
          "hovermode": "closest",
          "mapbox": {
           "style": "light"
          },
          "paper_bgcolor": "white",
          "plot_bgcolor": "#E5ECF6",
          "polar": {
           "angularaxis": {
            "gridcolor": "white",
            "linecolor": "white",
            "ticks": ""
           },
           "bgcolor": "#E5ECF6",
           "radialaxis": {
            "gridcolor": "white",
            "linecolor": "white",
            "ticks": ""
           }
          },
          "scene": {
           "xaxis": {
            "backgroundcolor": "#E5ECF6",
            "gridcolor": "white",
            "gridwidth": 2,
            "linecolor": "white",
            "showbackground": true,
            "ticks": "",
            "zerolinecolor": "white"
           },
           "yaxis": {
            "backgroundcolor": "#E5ECF6",
            "gridcolor": "white",
            "gridwidth": 2,
            "linecolor": "white",
            "showbackground": true,
            "ticks": "",
            "zerolinecolor": "white"
           },
           "zaxis": {
            "backgroundcolor": "#E5ECF6",
            "gridcolor": "white",
            "gridwidth": 2,
            "linecolor": "white",
            "showbackground": true,
            "ticks": "",
            "zerolinecolor": "white"
           }
          },
          "shapedefaults": {
           "line": {
            "color": "#2a3f5f"
           }
          },
          "ternary": {
           "aaxis": {
            "gridcolor": "white",
            "linecolor": "white",
            "ticks": ""
           },
           "baxis": {
            "gridcolor": "white",
            "linecolor": "white",
            "ticks": ""
           },
           "bgcolor": "#E5ECF6",
           "caxis": {
            "gridcolor": "white",
            "linecolor": "white",
            "ticks": ""
           }
          },
          "title": {
           "x": 0.05
          },
          "xaxis": {
           "automargin": true,
           "gridcolor": "white",
           "linecolor": "white",
           "ticks": "",
           "title": {
            "standoff": 15
           },
           "zerolinecolor": "white",
           "zerolinewidth": 2
          },
          "yaxis": {
           "automargin": true,
           "gridcolor": "white",
           "linecolor": "white",
           "ticks": "",
           "title": {
            "standoff": 15
           },
           "zerolinecolor": "white",
           "zerolinewidth": 2
          }
         }
        },
        "xaxis": {
         "autorange": true,
         "range": [
          0,
          169
         ]
        },
        "yaxis": {
         "autorange": true,
         "range": [
          0.3755518777321418,
          0.6992841373890986
         ],
         "type": "linear"
        }
       }
      },
      "image/png": "[encoded data removed]",
      "text/html": [
       "<div>                            <div id=\"2da04498-30fd-458b-bd3c-3ae1c537b322\" class=\"plotly-graph-div\" style=\"height:525px; width:100%;\"></div>            <script type=\"text/javascript\">                require([\"plotly\"], function(Plotly) {                    window.PLOTLYENV=window.PLOTLYENV || {};                                    if (document.getElementById(\"2da04498-30fd-458b-bd3c-3ae1c537b322\")) {                    Plotly.newPlot(                        \"2da04498-30fd-458b-bd3c-3ae1c537b322\",                        [{\"legendgroup\":\"temp1\",\"name\":\"fold\",\"opacity\":0.35,\"showlegend\":false,\"y\":[0.5629431832750433,0.5601441830494459,0.5554774371567275,0.5666423311449129,0.5689448396770158,0.5667103957110935,0.5660340775229696,0.5672899995083927,0.5708675872447199,0.573705554378614,0.578914072215243,0.5829923418421411,0.5867687294846309,0.5907897866741473,0.5942668738726552,0.6146409802707525,0.6210916617363775,0.6264983072826651,0.6273933359486739,0.6325991111014783,0.6372255182765811,0.6393031336746657,0.6446473888905317,0.6447004175815488,0.6478676145655177,0.6489459593916,0.647643015716523,0.6499882149417375,0.6514544179128823,0.6525455031094629,0.6569132555614898,0.6609894470617811,0.6627550946939056,0.6612256706602444,0.6634808809558714,0.6640459923581001,0.6640098681326345,0.6650693275913557,0.6649742740904838,0.6654680012761509,0.6601084171123632,0.6609056341040334,0.6608969018553431,0.6606444036974395,0.6607486540964924,0.6585488259139831,0.6613601159199987,0.6638357713919596,0.6655861781740999,0.6615986187775229,0.6621520794160629,0.6598233948035438,0.6599033113604675,0.6583784661126377,0.6604494546070334,0.666468095274175,0.667976934313706,0.6644497698484255,0.6644021816907958,0.6638816509707961,0.6619725420019701,0.6605025739372693,0.6591833077571698,0.6571468915655809,0.6580112542780336,0.6617920494164913,0.6635192921838184,0.6637377518035215,0.6625582902964122,0.6579549200008319,0.6590738153666258,0.6589279276093853,0.6592132805065947,0.6613772477827489,0.6619865467549428,0.6616518203607438,0.660537099808455,0.6632929525784265,0.6642271605995755,0.6642518580568796,0.6644590347612296,0.6679937628743018,0.6700497888833242,0.6681833309695917,0.6709523285065095,0.6735987223434566,0.6746341783652913,0.6765680355416626,0.6775075063923168,0.6777201827441797,0.6786629537631962,0.6780738957995371,0.6759182672326471,0.6746675845265881,0.674230559005962,0.6751522223173783,0.6782960476533835,0.6767373819349545,0.6784350142932631,0.6791165893587604,0.6790479475387216,0.6792330848315626,0.6778041538682196,0.6772020058046241,0.6760825416591685,0.6757354109704059,0.6775384008972902,0.6770873917163556,0.6782143162374848,0.675657918004741,0.67439980806559,0.6733908434503144,0.672509902160189,0.6732363720095269,0.670725908038767,0.6697684379795783,0.6699847016747056,0.670945271600338,0.6714037935696876,0.67031025145396,0.6670356219553486,0.6678528287121235,0.6679348465578338,0.6664693532084531,0.6675480215704066,0.6688125992407672,0.6692887341606407,0.6700060503145164,0.6706401285904949,0.6709941518292228,0.671877551536572,0.6749395279997754,0.676184893998621,0.6764718679487952,0.6763412029651701,0.678112538779672,0.6767615039803156,0.6748115851861909,0.6759728790610888,0.6775104078222414,0.6784661606924636,0.6800907442106694,0.6806418835257617,0.6793318056295233,0.6822642173012223,0.6816847583041261,0.6813606628907525,0.6830975244062507,0.6813186493772725,0.6813079764897974,0.6827157223619957,0.6816678584774037,0.6821208593698682,0.6826623184041796,0.6807278567499087,0.6800705213945208,0.6793959056273073,0.677466427768352,0.6754575783808254,0.6750792177045782,0.6743661709027505,0.6730557683943024,0.67223465802383,0.6713174197873505,0.6708871880990142,0.6723628098628789,0.6716113926159852,0.6739370991634143,0.6739566094376734,0.673608391383444],\"type\":\"scatter\"},{\"legendgroup\":\"temp1\",\"name\":\"fold\",\"opacity\":0.35,\"showlegend\":false,\"y\":[0.3917384907149897,0.4340081341692242,0.4586965784099388,0.4695871004258172,0.47105561878930235,0.4738957181954369,0.4664384945421207,0.4739153529460795,0.48064220966940546,0.48339815101950123,0.487713644801943,0.4882270747296338,0.49048871972795893,0.4958346149132752,0.497292208857165,0.5147670704981862,0.5154342036884751,0.5209008680358611,0.5193518455477945,0.5212280646336951,0.5264792002287264,0.5226791454257025,0.5188156540923583,0.5183508841730544,0.5198395788183257,0.5240426998426195,0.5223003848001632,0.5263845957797513,0.5276086704666189,0.5280477502160807,0.5323394939249639,0.539293931405351,0.5393288258469973,0.5395625998074145,0.5434649475688187,0.5459675510101237,0.5422575028760963,0.5403358486493437,0.539160975223108,0.5361348325422173,0.5274824938672595,0.5313284766586739,0.5337136515454375,0.5324603757167075,0.5300747860151485,0.5266681666562845,0.529328847345879,0.5293122105624286,0.5270532756897823,0.5235958665463964,0.5200077438829248,0.5152578936478256,0.5108693788099803,0.5093856363743537,0.5090080582860624,0.5100854595844371,0.5083823438691636,0.5075114431840209,0.5044679308962069,0.5023760340230295,0.5039441832378536,0.5061512027629921,0.5017705895795568,0.4993761924356379,0.49960878132017195,0.4986469965514337,0.49965903529779937,0.5053940051650092,0.5014906032535498,0.4950480969133969,0.49500448748663317,0.49527368248732634,0.49520824445041894,0.5009453686584563,0.5034958968169755,0.5039179548770591,0.5052748138309654,0.5066776827360726,0.5111638202321042,0.5135011316001066,0.5127304607540819,0.5114164527236937,0.514118703636091,0.5119726680936572,0.5117303875677038,0.5120442227933973,0.5139584457725223,0.5140928760087731,0.5126068237430511,0.5089974888254716,0.510439620655391,0.5094412944770521,0.5091372553295761,0.5099001659997339,0.5121322356642928,0.5113380848703404,0.5136179972905117,0.5189513730259517,0.5192929588202624,0.5204236642728378,0.5219482382708514,0.5209181285582919,0.5188749054823618,0.5182617643613623,0.518695952590432,0.5187060375588766,0.5213757872737433,0.5203331678527549,0.520184785038798,0.5179223788296354,0.5180983413125864,0.5217762368476433,0.5192822215515145,0.5207544843596446,0.5233760193870253,0.525879323755525,0.526950433259917,0.5284998744420497,0.5289815918666648,0.5298538603742136,0.5280360054478994,0.5257553355309279,0.5244635507090423,0.5215951102645323,0.5211185628614293,0.5215035961788324,0.5216331253143028,0.5218060802170117,0.5217978929322666,0.5213838349904889,0.5256278078077284,0.5265209302034467,0.5286758029855319,0.5305053309311206,0.5338313266508903,0.5335281678909456,0.5336144430690537,0.5330144851617725,0.534199638097564,0.5365444905709251,0.5341572729959043,0.5310043887017466,0.5303487149210695,0.5285017999955075,0.5257559967623942,0.5215823354978624,0.5189305966887907,0.5201677204432504,0.5202487655728968,0.523192718537683,0.5214774199716188,0.5216162122817682,0.5216902433502552,0.5220341942174684,0.5203770353258131,0.5198527198014118,0.5225861100409053,0.522311173938057,0.521915262557848,0.524891420742961,0.5241569920728897,0.5243481713922279,0.5221761668860853,0.521604950707908,0.5219300232746127,0.5222606304488774,0.5227899007903001,0.5215636957454886,0.5239214715993026,0.5228455362650233],\"type\":\"scatter\"}],                        {\"template\":{\"data\":{\"histogram2dcontour\":[{\"type\":\"histogram2dcontour\",\"colorbar\":{\"outlinewidth\":0,\"ticks\":\"\"},\"colorscale\":[[0.0,\"#0d0887\"],[0.1111111111111111,\"#46039f\"],[0.2222222222222222,\"#7201a8\"],[0.3333333333333333,\"#9c179e\"],[0.4444444444444444,\"#bd3786\"],[0.5555555555555556,\"#d8576b\"],[0.6666666666666666,\"#ed7953\"],[0.7777777777777778,\"#fb9f3a\"],[0.8888888888888888,\"#fdca26\"],[1.0,\"#f0f921\"]]}],\"choropleth\":[{\"type\":\"choropleth\",\"colorbar\":{\"outlinewidth\":0,\"ticks\":\"\"}}],\"histogram2d\":[{\"type\":\"histogram2d\",\"colorbar\":{\"outlinewidth\":0,\"ticks\":\"\"},\"colorscale\":[[0.0,\"#0d0887\"],[0.1111111111111111,\"#46039f\"],[0.2222222222222222,\"#7201a8\"],[0.3333333333333333,\"#9c179e\"],[0.4444444444444444,\"#bd3786\"],[0.5555555555555556,\"#d8576b\"],[0.6666666666666666,\"#ed7953\"],[0.7777777777777778,\"#fb9f3a\"],[0.8888888888888888,\"#fdca26\"],[1.0,\"#f0f921\"]]}],\"heatmap\":[{\"type\":\"heatmap\",\"colorbar\":{\"outlinewidth\":0,\"ticks\":\"\"},\"colorscale\":[[0.0,\"#0d0887\"],[0.1111111111111111,\"#46039f\"],[0.2222222222222222,\"#7201a8\"],[0.3333333333333333,\"#9c179e\"],[0.4444444444444444,\"#bd3786\"],[0.5555555555555556,\"#d8576b\"],[0.6666666666666666,\"#ed7953\"],[0.7777777777777778,\"#fb9f3a\"],[0.8888888888888888,\"#fdca26\"],[1.0,\"#f0f921\"]]}],\"heatmapgl\":[{\"type\":\"heatmapgl\",\"colorbar\":{\"outlinewidth\":0,\"ticks\":\"\"},\"colorscale\":[[0.0,\"#0d0887\"],[0.1111111111111111,\"#46039f\"],[0.2222222222222222,\"#7201a8\"],[0.3333333333333333,\"#9c179e\"],[0.4444444444444444,\"#bd3786\"],[0.5555555555555556,\"#d8576b\"],[0.6666666666666666,\"#ed7953\"],[0.7777777777777778,\"#fb9f3a\"],[0.8888888888888888,\"#fdca26\"],[1.0,\"#f0f921\"]]}],\"contourcarpet\":[{\"type\":\"contourcarpet\",\"colorbar\":{\"outlinewidth\":0,\"ticks\":\"\"}}],\"contour\":[{\"type\":\"contour\",\"colorbar\":{\"outlinewidth\":0,\"ticks\":\"\"},\"colorscale\":[[0.0,\"#0d0887\"],[0.1111111111111111,\"#46039f\"],[0.2222222222222222,\"#7201a8\"],[0.3333333333333333,\"#9c179e\"],[0.4444444444444444,\"#bd3786\"],[0.5555555555555556,\"#d8576b\"],[0.6666666666666666,\"#ed7953\"],[0.7777777777777778,\"#fb9f3a\"],[0.8888888888888888,\"#fdca26\"],[1.0,\"#f0f921\"]]}],\"surface\":[{\"type\":\"surface\",\"colorbar\":{\"outlinewidth\":0,\"ticks\":\"\"},\"colorscale\":[[0.0,\"#0d0887\"],[0.1111111111111111,\"#46039f\"],[0.2222222222222222,\"#7201a8\"],[0.3333333333333333,\"#9c179e\"],[0.4444444444444444,\"#bd3786\"],[0.5555555555555556,\"#d8576b\"],[0.6666666666666666,\"#ed7953\"],[0.7777777777777778,\"#fb9f3a\"],[0.8888888888888888,\"#fdca26\"],[1.0,\"#f0f921\"]]}],\"mesh3d\":[{\"type\":\"mesh3d\",\"colorbar\":{\"outlinewidth\":0,\"ticks\":\"\"}}],\"scatter\":[{\"fillpattern\":{\"fillmode\":\"overlay\",\"size\":10,\"solidity\":0.2},\"type\":\"scatter\"}],\"parcoords\":[{\"type\":\"parcoords\",\"line\":{\"colorbar\":{\"outlinewidth\":0,\"ticks\":\"\"}}}],\"scatterpolargl\":[{\"type\":\"scatterpolargl\",\"marker\":{\"colorbar\":{\"outlinewidth\":0,\"ticks\":\"\"}}}],\"bar\":[{\"error_x\":{\"color\":\"#2a3f5f\"},\"error_y\":{\"color\":\"#2a3f5f\"},\"marker\":{\"line\":{\"color\":\"#E5ECF6\",\"width\":0.5},\"pattern\":{\"fillmode\":\"overlay\",\"size\":10,\"solidity\":0.2}},\"type\":\"bar\"}],\"scattergeo\":[{\"type\":\"scattergeo\",\"marker\":{\"colorbar\":{\"outlinewidth\":0,\"ticks\":\"\"}}}],\"scatterpolar\":[{\"type\":\"scatterpolar\",\"marker\":{\"colorbar\":{\"outlinewidth\":0,\"ticks\":\"\"}}}],\"histogram\":[{\"marker\":{\"pattern\":{\"fillmode\":\"overlay\",\"size\":10,\"solidity\":0.2}},\"type\":\"histogram\"}],\"scattergl\":[{\"type\":\"scattergl\",\"marker\":{\"colorbar\":{\"outlinewidth\":0,\"ticks\":\"\"}}}],\"scatter3d\":[{\"type\":\"scatter3d\",\"line\":{\"colorbar\":{\"outlinewidth\":0,\"ticks\":\"\"}},\"marker\":{\"colorbar\":{\"outlinewidth\":0,\"ticks\":\"\"}}}],\"scattermapbox\":[{\"type\":\"scattermapbox\",\"marker\":{\"colorbar\":{\"outlinewidth\":0,\"ticks\":\"\"}}}],\"scatterternary\":[{\"type\":\"scatterternary\",\"marker\":{\"colorbar\":{\"outlinewidth\":0,\"ticks\":\"\"}}}],\"scattercarpet\":[{\"type\":\"scattercarpet\",\"marker\":{\"colorbar\":{\"outlinewidth\":0,\"ticks\":\"\"}}}],\"carpet\":[{\"aaxis\":{\"endlinecolor\":\"#2a3f5f\",\"gridcolor\":\"white\",\"linecolor\":\"white\",\"minorgridcolor\":\"white\",\"startlinecolor\":\"#2a3f5f\"},\"baxis\":{\"endlinecolor\":\"#2a3f5f\",\"gridcolor\":\"white\",\"linecolor\":\"white\",\"minorgridcolor\":\"white\",\"startlinecolor\":\"#2a3f5f\"},\"type\":\"carpet\"}],\"table\":[{\"cells\":{\"fill\":{\"color\":\"#EBF0F8\"},\"line\":{\"color\":\"white\"}},\"header\":{\"fill\":{\"color\":\"#C8D4E3\"},\"line\":{\"color\":\"white\"}},\"type\":\"table\"}],\"barpolar\":[{\"marker\":{\"line\":{\"color\":\"#E5ECF6\",\"width\":0.5},\"pattern\":{\"fillmode\":\"overlay\",\"size\":10,\"solidity\":0.2}},\"type\":\"barpolar\"}],\"pie\":[{\"automargin\":true,\"type\":\"pie\"}]},\"layout\":{\"autotypenumbers\":\"strict\",\"colorway\":[\"#636efa\",\"#EF553B\",\"#00cc96\",\"#ab63fa\",\"#FFA15A\",\"#19d3f3\",\"#FF6692\",\"#B6E880\",\"#FF97FF\",\"#FECB52\"],\"font\":{\"color\":\"#2a3f5f\"},\"hovermode\":\"closest\",\"hoverlabel\":{\"align\":\"left\"},\"paper_bgcolor\":\"white\",\"plot_bgcolor\":\"#E5ECF6\",\"polar\":{\"bgcolor\":\"#E5ECF6\",\"angularaxis\":{\"gridcolor\":\"white\",\"linecolor\":\"white\",\"ticks\":\"\"},\"radialaxis\":{\"gridcolor\":\"white\",\"linecolor\":\"white\",\"ticks\":\"\"}},\"ternary\":{\"bgcolor\":\"#E5ECF6\",\"aaxis\":{\"gridcolor\":\"white\",\"linecolor\":\"white\",\"ticks\":\"\"},\"baxis\":{\"gridcolor\":\"white\",\"linecolor\":\"white\",\"ticks\":\"\"},\"caxis\":{\"gridcolor\":\"white\",\"linecolor\":\"white\",\"ticks\":\"\"}},\"coloraxis\":{\"colorbar\":{\"outlinewidth\":0,\"ticks\":\"\"}},\"colorscale\":{\"sequential\":[[0.0,\"#0d0887\"],[0.1111111111111111,\"#46039f\"],[0.2222222222222222,\"#7201a8\"],[0.3333333333333333,\"#9c179e\"],[0.4444444444444444,\"#bd3786\"],[0.5555555555555556,\"#d8576b\"],[0.6666666666666666,\"#ed7953\"],[0.7777777777777778,\"#fb9f3a\"],[0.8888888888888888,\"#fdca26\"],[1.0,\"#f0f921\"]],\"sequentialminus\":[[0.0,\"#0d0887\"],[0.1111111111111111,\"#46039f\"],[0.2222222222222222,\"#7201a8\"],[0.3333333333333333,\"#9c179e\"],[0.4444444444444444,\"#bd3786\"],[0.5555555555555556,\"#d8576b\"],[0.6666666666666666,\"#ed7953\"],[0.7777777777777778,\"#fb9f3a\"],[0.8888888888888888,\"#fdca26\"],[1.0,\"#f0f921\"]],\"diverging\":[[0,\"#8e0152\"],[0.1,\"#c51b7d\"],[0.2,\"#de77ae\"],[0.3,\"#f1b6da\"],[0.4,\"#fde0ef\"],[0.5,\"#f7f7f7\"],[0.6,\"#e6f5d0\"],[0.7,\"#b8e186\"],[0.8,\"#7fbc41\"],[0.9,\"#4d9221\"],[1,\"#276419\"]]},\"xaxis\":{\"gridcolor\":\"white\",\"linecolor\":\"white\",\"ticks\":\"\",\"title\":{\"standoff\":15},\"zerolinecolor\":\"white\",\"automargin\":true,\"zerolinewidth\":2},\"yaxis\":{\"gridcolor\":\"white\",\"linecolor\":\"white\",\"ticks\":\"\",\"title\":{\"standoff\":15},\"zerolinecolor\":\"white\",\"automargin\":true,\"zerolinewidth\":2},\"scene\":{\"xaxis\":{\"backgroundcolor\":\"#E5ECF6\",\"gridcolor\":\"white\",\"linecolor\":\"white\",\"showbackground\":true,\"ticks\":\"\",\"zerolinecolor\":\"white\",\"gridwidth\":2},\"yaxis\":{\"backgroundcolor\":\"#E5ECF6\",\"gridcolor\":\"white\",\"linecolor\":\"white\",\"showbackground\":true,\"ticks\":\"\",\"zerolinecolor\":\"white\",\"gridwidth\":2},\"zaxis\":{\"backgroundcolor\":\"#E5ECF6\",\"gridcolor\":\"white\",\"linecolor\":\"white\",\"showbackground\":true,\"ticks\":\"\",\"zerolinecolor\":\"white\",\"gridwidth\":2}},\"shapedefaults\":{\"line\":{\"color\":\"#2a3f5f\"}},\"annotationdefaults\":{\"arrowcolor\":\"#2a3f5f\",\"arrowhead\":0,\"arrowwidth\":1},\"geo\":{\"bgcolor\":\"white\",\"landcolor\":\"#E5ECF6\",\"subunitcolor\":\"white\",\"showland\":true,\"showlakes\":true,\"lakecolor\":\"white\"},\"title\":{\"x\":0.05},\"mapbox\":{\"style\":\"light\"}}}},                        {\"responsive\": true}                    ).then(function(){\n",
       "                            \n",
       "var gd = document.getElementById('2da04498-30fd-458b-bd3c-3ae1c537b322');\n",
       "var x = new MutationObserver(function (mutations, observer) {{\n",
       "        var display = window.getComputedStyle(gd).display;\n",
       "        if (!display || display === 'none') {{\n",
       "            console.log([gd, 'removed!']);\n",
       "            Plotly.purge(gd);\n",
       "            observer.disconnect();\n",
       "        }}\n",
       "}});\n",
       "\n",
       "// Listen for the removal of the full notebook cells\n",
       "var notebookContainer = gd.closest('#notebook-container');\n",
       "if (notebookContainer) {{\n",
       "    x.observe(notebookContainer, {childList: true});\n",
       "}}\n",
       "\n",
       "// Listen for the clearing of the current output cell\n",
       "var outputEl = gd.closest('.output');\n",
       "if (outputEl) {{\n",
       "    x.observe(outputEl, {childList: true});\n",
       "}}\n",
       "\n",
       "                        })                };                });            </script>        </div>"
      ]
     },
     "metadata": {},
     "output_type": "display_data"
    }
   ],
   "source": [
    "run_idx = 2\n",
    "# metric = \"auc_roc\"\n",
    "# metric = \"accuracy\"\n",
    "# metric = \"f1_score\"\n",
    "metric = \"auc_prec_recall\"\n",
    "# metric = \"tpr\"\n",
    "# metric = \"tnr\"\n",
    "print(tracker.crossval_runs[run_idx].parameters[\"lr\"], tracker.crossval_runs[run_idx].parameters[\"exclude_conf_miscl\"])\n",
    "\n",
    "n_samples_for_smoothing = 15\n",
    "mode = \"eval\"\n",
    "fig = go.Figure()\n",
    "run = tracker.crossval_runs[run_idx].runs[0]\n",
    "fold = run.get_metric(mode=mode, metric=metric, n_samples_for_smoothing=n_samples_for_smoothing)\n",
    "fig.add_trace(go.Scatter(y=fold, opacity=0.35, showlegend=False, name=\"fold\", legendgroup=name))\n",
    "\n",
    "mode = \"test\"\n",
    "fold = run.get_metric(mode=mode, metric=metric, n_samples_for_smoothing=n_samples_for_smoothing)\n",
    "fig.add_trace(go.Scatter(y=fold, opacity=0.35, showlegend=False, name=\"fold\", legendgroup=name))\n",
    "\n",
    "# blue = eval data, red = test data"
   ]
  },
  {
   "cell_type": "code",
   "execution_count": null,
   "id": "b5508355-3943-4495-866e-53dc48f8149c",
   "metadata": {},
   "outputs": [],
   "source": []
  },
  {
   "cell_type": "code",
   "execution_count": null,
   "id": "97940f39-ab99-423c-b5b8-a9991863613f",
   "metadata": {},
   "outputs": [],
   "source": []
  },
  {
   "cell_type": "markdown",
   "id": "6479b817-db50-4a3b-a846-7c3d7d27a1b7",
   "metadata": {},
   "source": [
    "# Performance DatFrame for *test set*"
   ]
  },
  {
   "cell_type": "code",
   "execution_count": 19,
   "id": "1fcbe0eb-c438-4598-8f5a-5ebf4dde519c",
   "metadata": {},
   "outputs": [
    {
     "data": {
      "application/vnd.jupyter.widget-view+json": {
       "model_id": "466de1116cf5447aa115d545b50e5d95",
       "version_major": 2,
       "version_minor": 0
      },
      "text/plain": [
       "interactive(children=(Dropdown(description='sort_descending_by_metric', options=('auc_roc', 'loss', 'accuracy'…"
      ]
     },
     "metadata": {},
     "output_type": "display_data"
    }
   ],
   "source": [
    "def sortby(sort_descending_by_metric, highlight_hyperparameters, show_full_df, **kwargs):\n",
    "    # thresholds = {\"auc_roc\": auc_threshold}\n",
    "    if show_full_df:\n",
    "        df =  tracker.get_metric_performance_df(include=(\"std\", \"params\"), remove_columns=(\"fnr\", \"fpr\"), set_name=\"test\")\n",
    "    else:\n",
    "        df = tracker.get_metric_performance_df(include=\"params\", remove_columns=(\"fnr\", \"fpr\", \"tpr_at_95\"), set_name=\"test\")\n",
    "\n",
    "    style = tracker.style_metric_performance_df(df, sort_by=sort_descending_by_metric, highlight_hyperparameters=highlight_hyperparameters, filter_thresholds=kwargs)\n",
    "    return style\n",
    "_ = widgets.interact(sortby, sort_descending_by_metric=tracker.metrics_used, highlight_hyperparameters=True, show_full_df=False,\n",
    "                auc_roc=widgets.FloatSlider(min=0.0, max=1.0, value=0.6, step=0.005),\n",
    "                accuracy=widgets.FloatSlider(min=0.0, max=1.0, value=0.6, step=0.005),\n",
    "                tpr=widgets.FloatSlider(min=0.0, max=1.0, value=0.4, step=0.005),\n",
    "                tnr=widgets.FloatSlider(min=0.0, max=1.0, value=0.6, step=0.005)\n",
    "                )"
   ]
  },
  {
   "cell_type": "code",
   "execution_count": 125,
   "id": "d797ed96-d04b-4f14-a724-c679595f6d23",
   "metadata": {},
   "outputs": [
    {
     "data": {
      "text/html": [
       "<div>\n",
       "<style scoped>\n",
       "    .dataframe tbody tr th:only-of-type {\n",
       "        vertical-align: middle;\n",
       "    }\n",
       "\n",
       "    .dataframe tbody tr th {\n",
       "        vertical-align: top;\n",
       "    }\n",
       "\n",
       "    .dataframe thead th {\n",
       "        text-align: right;\n",
       "    }\n",
       "</style>\n",
       "<table border=\"1\" class=\"dataframe\">\n",
       "  <thead>\n",
       "    <tr style=\"text-align: right;\">\n",
       "      <th></th>\n",
       "      <th>auc_roc</th>\n",
       "      <th>loss</th>\n",
       "      <th>accuracy</th>\n",
       "      <th>f1_score</th>\n",
       "      <th>auc_prec_recall</th>\n",
       "      <th>precision</th>\n",
       "      <th>tpr_at_95</th>\n",
       "      <th>tpr</th>\n",
       "      <th>tnr</th>\n",
       "      <th>fpr</th>\n",
       "      <th>fnr</th>\n",
       "    </tr>\n",
       "  </thead>\n",
       "  <tbody>\n",
       "    <tr>\n",
       "      <th>0</th>\n",
       "      <td>0.809296</td>\n",
       "      <td>0.416701</td>\n",
       "      <td>0.835376</td>\n",
       "      <td>0.405908</td>\n",
       "      <td>0.394078</td>\n",
       "      <td>0.32918</td>\n",
       "      <td>0.366173</td>\n",
       "      <td>0.548428</td>\n",
       "      <td>0.867931</td>\n",
       "      <td>0.132069</td>\n",
       "      <td>0.451572</td>\n",
       "    </tr>\n",
       "  </tbody>\n",
       "</table>\n",
       "</div>"
      ],
      "text/plain": [
       "    auc_roc      loss  accuracy  f1_score  auc_prec_recall  precision  \\\n",
       "0  0.809296  0.416701  0.835376  0.405908         0.394078    0.32918   \n",
       "\n",
       "   tpr_at_95       tpr       tnr       fpr       fnr  \n",
       "0   0.366173  0.548428  0.867931  0.132069  0.451572  "
      ]
     },
     "execution_count": 125,
     "metadata": {},
     "output_type": "execute_result"
    }
   ],
   "source": [
    "pd.DataFrame(tracker.crossval_runs[2].best_performance_mean[\"test\"], index=[0])\n"
   ]
  },
  {
   "cell_type": "code",
   "execution_count": null,
   "id": "cc37fdb2-7346-4eb9-8fe7-9b22bf0bfc6d",
   "metadata": {},
   "outputs": [],
   "source": []
  },
  {
   "cell_type": "code",
   "execution_count": null,
   "id": "7b160c0b-da53-42a7-bd53-f1b101567810",
   "metadata": {},
   "outputs": [],
   "source": []
  },
  {
   "cell_type": "code",
   "execution_count": null,
   "id": "915bb7ce-c457-4cc0-ba4a-0519a329b52a",
   "metadata": {},
   "outputs": [],
   "source": []
  },
  {
   "cell_type": "code",
   "execution_count": 35,
   "id": "70aa1f24-0af9-4b63-8ee5-c7e32bf9ad64",
   "metadata": {},
   "outputs": [],
   "source": [
    "def load_tracker(verbosity=None):\n",
    "    root = tk.Tk()\n",
    "    path = filedialog.askopenfilename(initialdir=\"run/tracker_saves\", title=\"Select a File\",\n",
    "                                      filetypes=[(\"Pickled Tracker Files\", \"*.pickle*\")])\n",
    "    root.destroy()\n",
    "    print(f\"Loading Tracker from: {path}\")\n",
    "    with open(path, \"rb\") as f:\n",
    "        tracker = pickle.load(f)\n",
    "\n",
    "    tracker.compute_overall_metrics(smooth_n_samples=1, ignore_first_n_epochs=0,\n",
    "                                    metric_used_for_performance_analysis=\"auc_roc\")\n",
    "    if verbosity is not None:\n",
    "        tracker.summarize(verbosity)\n",
    "\n",
    "    # print(f\"\\nTracker contains:\\n>>  {tracker.n_hyperparameter_runs} <<  parameter runs\\n\"\n",
    "    #       f\">>  {tracker.k_folds_for_cross_validation} <<  folds per run\\n\"\n",
    "    #       f\">> {tracker.n_epochs} <<  epochs\")\n",
    "    return tracker\n"
   ]
  },
  {
   "cell_type": "code",
   "execution_count": 36,
   "id": "f33baa0c-c541-43c3-a2a4-1bec16ba1c43",
   "metadata": {},
   "outputs": [
    {
     "name": "stdout",
     "output_type": "stream",
     "text": [
      "Loading Tracker from: C:/Michi/acoustic_covid_detection/python/run/tracker_saves/2023-07-11_Resnet18_MIL_2023_06_25_logmel_combined_speech_NEW_23msHop_46msFFT_fmax11000_224logmel_MIL_crossval.pickle\n",
      "\n",
      "Parameters used for finding the best performing epoch:\n",
      "           metric_used:                   auc_roc\n",
      "           smoothing:                     1\n",
      "           ignore_first_n_epochs:         0\n"
     ]
    }
   ],
   "source": [
    "from tkinter import filedialog\n",
    "import pickle\n",
    "\n",
    "import tkinter as tk\n",
    "tracker = load_tracker()"
   ]
  },
  {
   "cell_type": "code",
   "execution_count": null,
   "id": "4ad273c1-7202-4bb2-8d48-aa198a398400",
   "metadata": {},
   "outputs": [],
   "source": [
    "from torch import nn\n",
    "from utils.utils import FocalLoss\n",
    "import torch"
   ]
  },
  {
   "cell_type": "code",
   "execution_count": null,
   "id": "dddca6fb-a6c3-4fdb-8f76-8d5fac94c16d",
   "metadata": {},
   "outputs": [],
   "source": [
    "focal_loss = FocalLoss(gamma=0, pos_weight=1, reduction='mean',\n",
    "                                      exclude_outliers=0)"
   ]
  },
  {
   "cell_type": "code",
   "execution_count": null,
   "id": "8bf8943e-fb64-4008-90f5-38f268e28e1b",
   "metadata": {},
   "outputs": [],
   "source": [
    "bce_loss = nn.BCEWithLogitsLoss(pos_weight=torch.tensor([1]), reduction='mean')"
   ]
  },
  {
   "cell_type": "code",
   "execution_count": null,
   "id": "80b10dd8-cb13-4218-ba1d-7511d1a4f137",
   "metadata": {},
   "outputs": [],
   "source": [
    "predictions = torch.tensor([0.0])\n",
    "labels = torch.tensor([0.0])\n",
    "predictions, labels.dtype"
   ]
  },
  {
   "cell_type": "code",
   "execution_count": null,
   "id": "ef6dc72c-c39f-4a46-bcde-f48d63ac9e6e",
   "metadata": {},
   "outputs": [],
   "source": [
    "focal_loss(predictions, labels)"
   ]
  },
  {
   "cell_type": "code",
   "execution_count": null,
   "id": "04f3d498-83f6-4c59-927f-59b519a83d56",
   "metadata": {},
   "outputs": [],
   "source": [
    "bce_loss(predictions, labels)"
   ]
  },
  {
   "cell_type": "code",
   "execution_count": null,
   "id": "62ecbabd-31e0-4996-9eb1-7a502dec8cf0",
   "metadata": {},
   "outputs": [],
   "source": [
    "dropout = nn.Dropout(p=0.0)\n"
   ]
  },
  {
   "cell_type": "code",
   "execution_count": null,
   "id": "30583cd9-fddd-4629-b5a0-0706795243e5",
   "metadata": {},
   "outputs": [],
   "source": [
    "dropout(torch.rand(10))"
   ]
  },
  {
   "cell_type": "code",
   "execution_count": null,
   "id": "e00a7ea0-6aaa-440d-a305-7427359d1700",
   "metadata": {},
   "outputs": [],
   "source": []
  }
 ],
 "metadata": {
  "kernelspec": {
   "display_name": "ai38",
   "language": "python",
   "name": "ai38"
  },
  "language_info": {
   "codemirror_mode": {
    "name": "ipython",
    "version": 3
   },
   "file_extension": ".py",
   "mimetype": "text/x-python",
   "name": "python",
   "nbconvert_exporter": "python",
   "pygments_lexer": "ipython3",
   "version": "3.8.13"
  }
 },
 "nbformat": 4,
 "nbformat_minor": 5
}
