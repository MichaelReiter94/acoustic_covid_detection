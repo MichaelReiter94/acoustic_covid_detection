{
 "cells": [
  {
   "cell_type": "code",
   "execution_count": 10,
   "id": "2937f48f",
   "metadata": {},
   "outputs": [],
   "source": [
    "import os\n",
    "from audiomentations import Compose, AddGaussianNoise, PitchShift, HighPassFilter, Gain, Shift, TimeStretch, Trim\n",
    "import random"
   ]
  },
  {
   "cell_type": "code",
   "execution_count": 2,
   "id": "de5061db",
   "metadata": {},
   "outputs": [
    {
     "data": {
      "text/plain": [
       "'C:\\\\Michi\\\\acoustic_covid_detection\\\\python'"
      ]
     },
     "execution_count": 2,
     "metadata": {},
     "output_type": "execute_result"
    }
   ],
   "source": [
    "root_dir = \"python\"\n",
    "_, current_folder = os.path.split(os.getcwd())\n",
    "if current_folder != root_dir:\n",
    "    os.chdir(\"../\")\n",
    "    \n",
    "os.getcwd()"
   ]
  },
  {
   "cell_type": "code",
   "execution_count": 3,
   "id": "c61eb432",
   "metadata": {},
   "outputs": [],
   "source": [
    "path = os.environ.get(\"PATH\")\n",
    "additional_path = 'C:\\\\Users\\\\Michi\\\\Anaconda3\\\\envs\\\\python_v3-8;C:\\\\Users\\\\Michi\\\\Anaconda3\\\\envs\\\\python_v3-8\\\\Library\\\\mingw-w64\\\\bin;C:\\\\Users\\\\Michi\\\\Anaconda3\\\\envs\\\\python_v3-8\\\\Library\\\\usr\\\\bin;C:\\\\Users\\\\Michi\\\\Anaconda3\\\\envs\\\\python_v3-8\\\\Library\\\\bin;C:\\\\Users\\\\Michi\\\\Anaconda3\\\\envs\\\\python_v3-8\\\\Scripts;C:\\\\Users\\\\Michi\\\\Anaconda3\\\\envs\\\\python_v3-8\\\\bin;C:\\\\Users\\\\Michi\\\\Anaconda3\\\\condabin'\n",
    "min_additional_path = \"C:\\\\Users\\\\Michi\\\\Anaconda3\\\\envs\\\\python_v3-8\\\\Library\\\\bin;C:\\\\Users\\\\micha\\\\anaconda3\\\\envs\\\\ai38\\\\Library\\\\bin;\"\n",
    "combined_path = min_additional_path + path\n",
    "os.environ[\"PATH\"] = combined_path\n",
    "\n",
    "from audio_recording import AudioRecording"
   ]
  },
  {
   "cell_type": "code",
   "execution_count": 27,
   "id": "1398b49d",
   "metadata": {},
   "outputs": [
    {
     "data": {
      "text/plain": [
       "'data/Coswara_processed/Recordings/ptuwF1pj4ibIoVuZmt4nKb5naiZ2'"
      ]
     },
     "execution_count": 27,
     "metadata": {},
     "output_type": "execute_result"
    }
   ],
   "source": [
    "participant_ids = os.listdir(\"data/Coswara_processed/Recordings/\")\n",
    "data_directory = \"data/Coswara_processed/Recordings\"\n",
    "user_id = random.choice(participant_ids)\n",
    "#user_id = \"zVkoMlwOqwXzjsgyGs99OoU10J92\"\n",
    "user_id_path = os.path.join(data_directory, user_id).replace(\"\\\\\", \"/\")\n",
    "user_id_path\n"
   ]
  },
  {
   "cell_type": "code",
   "execution_count": 28,
   "id": "6977a83b",
   "metadata": {},
   "outputs": [
    {
     "data": {
      "text/plain": [
       "(9.56, 8.87)"
      ]
     },
     "execution_count": 28,
     "metadata": {},
     "output_type": "execute_result"
    }
   ],
   "source": [
    "cough_recording = AudioRecording(user_id_path, type_of_recording=\"cough-heavy\")\n",
    "#cough_recording.play_audio()\n",
    "cough_recording.original_duration, cough_recording.original_duration_trimmed_silence"
   ]
  },
  {
   "cell_type": "code",
   "execution_count": 6,
   "id": "15f430e4",
   "metadata": {},
   "outputs": [],
   "source": [
    "time_domain_augmentations = Compose([\n",
    "    AddGaussianNoise(min_amplitude=0.0001, max_amplitude=0.02, p=1.),\n",
    "    PitchShift(min_semitones=-2, max_semitones=2, p=1.),\n",
    "    TimeStretch(min_rate=0.85, max_rate=1.15, leave_length_unchanged=False, p=1.),\n",
    "    Gain(min_gain_in_db=-30, max_gain_in_db=6, p=1.)                                  \n",
    "])\n",
    "\n",
    "gain_augmentation = Compose([\n",
    "    Gain(min_gain_in_db=-30, max_gain_in_db=6, p=1)\n",
    "])"
   ]
  },
  {
   "cell_type": "code",
   "execution_count": 29,
   "id": "21a30de0",
   "metadata": {},
   "outputs": [],
   "source": [
    "augmented_cough_recording = AudioRecording(user_id_path, \n",
    "                                           type_of_recording=\"cough-heavy\", \n",
    "                                           augmentations=time_domain_augmentations)\n",
    "augmented_cough_recording.play_randomly_augmented_audio()"
   ]
  },
  {
   "cell_type": "code",
   "execution_count": 38,
   "id": "49c546f0",
   "metadata": {},
   "outputs": [
    {
     "data": {
      "text/plain": [
       "((15, 383), (15, 259))"
      ]
     },
     "execution_count": 38,
     "metadata": {},
     "output_type": "execute_result"
    }
   ],
   "source": [
    "full_mfccs = cough_recording.MFCCs\n",
    "cut_mfccs = full_mfccs[:,:cough_recording.target_time_steps]\n",
    "full_mfccs.shape, cut_mfccs.shape"
   ]
  }
 ],
 "metadata": {
  "kernelspec": {
   "display_name": "ai38",
   "language": "python",
   "name": "ai38"
  },
  "language_info": {
   "codemirror_mode": {
    "name": "ipython",
    "version": 3
   },
   "file_extension": ".py",
   "mimetype": "text/x-python",
   "name": "python",
   "nbconvert_exporter": "python",
   "pygments_lexer": "ipython3",
   "version": "3.8.13"
  }
 },
 "nbformat": 4,
 "nbformat_minor": 5
}
