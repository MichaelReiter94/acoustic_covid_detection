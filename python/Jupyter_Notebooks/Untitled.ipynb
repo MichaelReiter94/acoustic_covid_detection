{
 "cells": [
  {
   "cell_type": "code",
   "execution_count": 1,
   "id": "7f28fab7",
   "metadata": {},
   "outputs": [
    {
     "name": "stdout",
     "output_type": "stream",
     "text": [
      "D:\\Archiv\\Studium\\Master\\6.-Semester\\Masters_Thesis\\Git\\acoustic_covid_detection\\python\n"
     ]
    }
   ],
   "source": [
    "import pickle\n",
    "from jupyter_utils import jupyter_setup\n",
    "jupyter_setup()\n",
    "\n",
    "from audio_processing import FeatureSet\n"
   ]
  },
  {
   "cell_type": "code",
   "execution_count": 7,
   "id": "9bdc075d",
   "metadata": {},
   "outputs": [],
   "source": [
    "with open(f\"data/Coswara_processed/pickles/2023_02_23_mfcc_combined_coughs_3s_7xaugmented.pickle\", \"rb\") as f:\n",
    "    feature_set1 = pickle.load(f)"
   ]
  },
  {
   "cell_type": "code",
   "execution_count": 8,
   "id": "c9355691",
   "metadata": {},
   "outputs": [
    {
     "name": "stdout",
     "output_type": "stream",
     "text": [
      "\n",
      "Feature Set - #Participants: 4450\n",
      "----------------------------------------------------\n",
      "type_of_features:    mfcc\n",
      "n_time_steps:        259\n",
      "n_features:          15\n",
      "sample_rate:         22050\n",
      "n_fft:               8192\n",
      "window_length:       512\n",
      "hop_size:            256\n",
      "fmin:                0\n",
      "fmax:                11025\n",
      "hop_size_ms:         11.61\n",
      "window_length_ms:    23.22\n",
      "duration_seconds:    3.01\n",
      "fft_res_hz:          2.69\n",
      "-------------------Augmentations--------------------\n",
      "AddGaussianNoise:    'probability': 0.8, 'min_amplitude': 0.0003, 'max_amplitude': 0.01\n",
      "PitchShift:          'probability': 0.8, 'min_semitones': -2, 'max_semitones': 2\n",
      "TimeStretch:         'probability': 0.8, 'min_rate': 0.95, 'max_rate': 1.05\n",
      "Gain:                'probability': 0.8, 'min_gain_in_db': -18, 'max_gain_in_db': 12\n",
      "----------------------------------------------------\n"
     ]
    }
   ],
   "source": [
    "print(feature_set1)"
   ]
  },
  {
   "cell_type": "code",
   "execution_count": null,
   "id": "21d1f126",
   "metadata": {},
   "outputs": [],
   "source": [
    "with open(f\"data/Coswara_processed/pickles/2023_02_11_cough15mfcc_highres_corrected.pickle\", \"rb\") as f:\n",
    "    feature_set2 = pickle.load(f)"
   ]
  },
  {
   "cell_type": "code",
   "execution_count": 26,
   "id": "42ce7ac6",
   "metadata": {},
   "outputs": [
    {
     "data": {
      "text/plain": [
       "{'breathing-deep': <audio_recording.AudioRecording at 0x21708a21dc0>}"
      ]
     },
     "execution_count": 26,
     "metadata": {},
     "output_type": "execute_result"
    }
   ],
   "source": [
    "feature_set2.participants[0].recordings"
   ]
  },
  {
   "cell_type": "code",
   "execution_count": 38,
   "id": "1f5118e5",
   "metadata": {},
   "outputs": [],
   "source": [
    "with open(f\"data/Coswara_processed/pickles/2023_02_11_logmel_cough_fs22kHz_augmented.pickle\", \"rb\") as f:\n",
    "    feature_set3 = pickle.load(f)"
   ]
  },
  {
   "cell_type": "code",
   "execution_count": 42,
   "id": "6e6153ea",
   "metadata": {},
   "outputs": [
    {
     "name": "stdout",
     "output_type": "stream",
     "text": [
      "Duration of the Recording: 11.96\n"
     ]
    },
    {
     "data": {
      "image/png": "[encoded data removed]",
      "text/plain": [
       "<Figure size 640x480 with 1 Axes>"
      ]
     },
     "metadata": {},
     "output_type": "display_data"
    }
   ],
   "source": [
    "feature_set1.participants[1].recordings[feature_set1.types_of_recording].show_waveform(36)"
   ]
  },
  {
   "cell_type": "code",
   "execution_count": 40,
   "id": "10094e20",
   "metadata": {},
   "outputs": [
    {
     "data": {
      "text/plain": [
       "<audio_processing.FeatureSet at 0x2536c0f45b0>"
      ]
     },
     "execution_count": 40,
     "metadata": {},
     "output_type": "execute_result"
    }
   ],
   "source": [
    "feature_set3"
   ]
  },
  {
   "cell_type": "code",
   "execution_count": 41,
   "id": "a2ac58af-5490-4225-ab30-bca2014705e4",
   "metadata": {},
   "outputs": [],
   "source": [
    "def pretty_print_dict(dictionary):\n",
    "    for k, v in dictionary.items():\n",
    "        offset = 20 - len(k)\n",
    "        offset = \" \" * offset\n",
    "        print(f\"{k}:{offset}{v}\")"
   ]
  },
  {
   "cell_type": "code",
   "execution_count": 43,
   "id": "bfb03519-e572-42f7-81d7-480418caae0f",
   "metadata": {},
   "outputs": [
    {
     "name": "stdout",
     "output_type": "stream",
     "text": [
      "Type of Recording:   cough-heavy\n",
      "\n",
      "Augmentations:\n",
      "<audiomentations.core.composition.Compose object at 0x000002536C0F4A90>\n",
      "type_of_features:    logmel\n",
      "n_time_steps:        224\n",
      "n_features:          224\n",
      "sample_rate:         22050\n",
      "n_fft:               8192\n",
      "window_length:       512\n",
      "hop_size:            256\n",
      "fmin:                0\n",
      "fmax:                11025\n"
     ]
    }
   ],
   "source": [
    "print(f\"Type of Recording:   {feature_set3.types_of_recording}\\n\")\n",
    "print(f\"Augmentations:\")\n",
    "print(feature_set3.augmentations)\n",
    "pretty_print_dict(feature_set3.audio_parameters)"
   ]
  },
  {
   "cell_type": "code",
   "execution_count": 49,
   "id": "752816b2-bff6-4efe-95e2-97dd84c4dc19",
   "metadata": {},
   "outputs": [
    {
     "name": "stdout",
     "output_type": "stream",
     "text": [
      "<audiomentations.augmentations.add_gaussian_noise.AddGaussianNoise object at 0x000002536C0F18B0>\n"
     ]
    }
   ],
   "source": [
    "print(feature_set3.augmentations.transforms[0])"
   ]
  },
  {
   "cell_type": "code",
   "execution_count": null,
   "id": "f9bf7c9e-9d7e-4b15-a400-312004d45497",
   "metadata": {},
   "outputs": [],
   "source": []
  },
  {
   "cell_type": "code",
   "execution_count": null,
   "id": "a4dd31dc-ba70-47ff-8698-b1223975a9b0",
   "metadata": {},
   "outputs": [],
   "source": []
  },
  {
   "cell_type": "code",
   "execution_count": 13,
   "id": "7c532c29-a134-4680-8f5d-a4201f4acde3",
   "metadata": {},
   "outputs": [],
   "source": [
    "import numpy as np\n",
    "import librosa\n"
   ]
  },
  {
   "cell_type": "code",
   "execution_count": 21,
   "id": "a7641cd3-940d-4eed-8e15-1a55e403f6a4",
   "metadata": {},
   "outputs": [],
   "source": [
    "\n",
    "paths = [\"data/Coswara_processed/Recordings/00xKcQMmcAhX8CODgBBLOe7Dm0T2/cough-heavy.wav\",\n",
    "         \"data/Coswara_processed/Recordings/00xKcQMmcAhX8CODgBBLOe7Dm0T2/cough-shallow.wav\"]"
   ]
  },
  {
   "cell_type": "code",
   "execution_count": 24,
   "id": "08073acd-96c6-4358-b726-466eea230721",
   "metadata": {},
   "outputs": [
    {
     "data": {
      "text/plain": [
       "528384"
      ]
     },
     "execution_count": 24,
     "metadata": {},
     "output_type": "execute_result"
    }
   ],
   "source": [
    "393216 + 135168\n"
   ]
  },
  {
   "cell_type": "code",
   "execution_count": 27,
   "id": "dc3cadd8-a62e-4124-b5bb-ead07ee0365b",
   "metadata": {},
   "outputs": [
    {
     "name": "stdout",
     "output_type": "stream",
     "text": [
      "(393216,)\n",
      "(393216,)\n",
      "(528384,)\n",
      "(135168,)\n"
     ]
    }
   ],
   "source": [
    "audio = np.array([])\n",
    "for path in paths:\n",
    "    audio_temp, sr = librosa.load(path, sr=None)\n",
    "    audio = np.concatenate([audio, audio_temp])\n",
    "    print(audio.shape)    \n",
    "    print(audio_temp.shape)"
   ]
  },
  {
   "cell_type": "code",
   "execution_count": null,
   "id": "568a4d5d-3879-4dff-be6c-f973ee86498e",
   "metadata": {},
   "outputs": [],
   "source": []
  }
 ],
 "metadata": {
  "kernelspec": {
   "display_name": "Python (python_v3-8)",
   "language": "python",
   "name": "python_v3-8"
  },
  "language_info": {
   "codemirror_mode": {
    "name": "ipython",
    "version": 3
   },
   "file_extension": ".py",
   "mimetype": "text/x-python",
   "name": "python",
   "nbconvert_exporter": "python",
   "pygments_lexer": "ipython3",
   "version": "3.8.13"
  }
 },
 "nbformat": 4,
 "nbformat_minor": 5
}
