{
 "cells": [
  {
   "cell_type": "code",
   "execution_count": 4,
   "id": "7f28fab7",
   "metadata": {},
   "outputs": [
    {
     "name": "stdout",
     "output_type": "stream",
     "text": [
      "C:\\Michi\\acoustic_covid_detection\\python\n"
     ]
    }
   ],
   "source": [
    "import pickle\n",
    "from jupyter_utils import jupyter_setup\n",
    "from audio_processing import FeatureSet\n",
    "jupyter_setup()"
   ]
  },
  {
   "cell_type": "code",
   "execution_count": 23,
   "id": "9bdc075d",
   "metadata": {},
   "outputs": [],
   "source": [
    "with open(f\"data/Coswara_processed/pickles/2023_02_11_breathing15mfcc_highres_corrected.pickle\", \"rb\") as f:\n",
    "    feature_set1 = pickle.load(f)"
   ]
  },
  {
   "cell_type": "code",
   "execution_count": 24,
   "id": "c9355691",
   "metadata": {},
   "outputs": [
    {
     "data": {
      "text/plain": [
       "{'breathing-deep': <audio_recording.AudioRecording at 0x2170af0ae80>}"
      ]
     },
     "execution_count": 24,
     "metadata": {},
     "output_type": "execute_result"
    }
   ],
   "source": [
    "feature_set1.participants[0].recordings"
   ]
  },
  {
   "cell_type": "code",
   "execution_count": 25,
   "id": "21d1f126",
   "metadata": {},
   "outputs": [],
   "source": [
    "with open(f\"data/Coswara_processed/pickles/2023_02_11_cough15mfcc_highres_corrected.pickle\", \"rb\") as f:\n",
    "    feature_set2 = pickle.load(f)"
   ]
  },
  {
   "cell_type": "code",
   "execution_count": 26,
   "id": "42ce7ac6",
   "metadata": {},
   "outputs": [
    {
     "data": {
      "text/plain": [
       "{'breathing-deep': <audio_recording.AudioRecording at 0x21708a21dc0>}"
      ]
     },
     "execution_count": 26,
     "metadata": {},
     "output_type": "execute_result"
    }
   ],
   "source": [
    "feature_set2.participants[0].recordings"
   ]
  },
  {
   "cell_type": "code",
   "execution_count": 27,
   "id": "1f5118e5",
   "metadata": {},
   "outputs": [],
   "source": [
    "with open(f\"data/Coswara_processed/pickles/2023_02_11_logmel_cough_fs22kHz.pickle\", \"rb\") as f:\n",
    "    feature_set3 = pickle.load(f)"
   ]
  },
  {
   "cell_type": "code",
   "execution_count": 28,
   "id": "6e6153ea",
   "metadata": {},
   "outputs": [
    {
     "data": {
      "text/plain": [
       "{'cough-heavy': <audio_recording.AudioRecording at 0x217020b93d0>}"
      ]
     },
     "execution_count": 28,
     "metadata": {},
     "output_type": "execute_result"
    }
   ],
   "source": [
    "feature_set3.participants[0].recordings"
   ]
  },
  {
   "cell_type": "code",
   "execution_count": null,
   "id": "10094e20",
   "metadata": {},
   "outputs": [],
   "source": []
  }
 ],
 "metadata": {
  "kernelspec": {
   "display_name": "ai38",
   "language": "python",
   "name": "ai38"
  },
  "language_info": {
   "codemirror_mode": {
    "name": "ipython",
    "version": 3
   },
   "file_extension": ".py",
   "mimetype": "text/x-python",
   "name": "python",
   "nbconvert_exporter": "python",
   "pygments_lexer": "ipython3",
   "version": "3.8.13"
  }
 },
 "nbformat": 4,
 "nbformat_minor": 5
}
