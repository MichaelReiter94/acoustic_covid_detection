{
 "cells": [
  {
   "cell_type": "code",
   "execution_count": 2,
   "id": "7f28fab7",
   "metadata": {},
   "outputs": [
    {
     "name": "stdout",
     "output_type": "stream",
     "text": [
      "D:\\Archiv\\Studium\\Master\\6.-Semester\\Masters_Thesis\\Git\\acoustic_covid_detection\\python\n"
     ]
    }
   ],
   "source": [
    "import pickle\n",
    "jupyter_setup()\n",
    "from jupyter_utils import jupyter_setup\n",
    "from audio_processing import FeatureSet\n"
   ]
  },
  {
   "cell_type": "code",
   "execution_count": 3,
   "id": "9bdc075d",
   "metadata": {},
   "outputs": [],
   "source": [
    "with open(f\"data/Coswara_processed/pickles/2023_02_11_breathing15mfcc_highres_corrected.pickle\", \"rb\") as f:\n",
    "    feature_set1 = pickle.load(f)"
   ]
  },
  {
   "cell_type": "code",
   "execution_count": 4,
   "id": "c9355691",
   "metadata": {},
   "outputs": [
    {
     "data": {
      "text/plain": [
       "{'breathing-deep': <audio_recording.AudioRecording at 0x25326be9130>}"
      ]
     },
     "execution_count": 4,
     "metadata": {},
     "output_type": "execute_result"
    }
   ],
   "source": [
    "feature_set1.participants[0].recordings"
   ]
  },
  {
   "cell_type": "code",
   "execution_count": null,
   "id": "21d1f126",
   "metadata": {},
   "outputs": [],
   "source": [
    "with open(f\"data/Coswara_processed/pickles/2023_02_11_cough15mfcc_highres_corrected.pickle\", \"rb\") as f:\n",
    "    feature_set2 = pickle.load(f)"
   ]
  },
  {
   "cell_type": "code",
   "execution_count": 26,
   "id": "42ce7ac6",
   "metadata": {},
   "outputs": [
    {
     "data": {
      "text/plain": [
       "{'breathing-deep': <audio_recording.AudioRecording at 0x21708a21dc0>}"
      ]
     },
     "execution_count": 26,
     "metadata": {},
     "output_type": "execute_result"
    }
   ],
   "source": [
    "feature_set2.participants[0].recordings"
   ]
  },
  {
   "cell_type": "code",
   "execution_count": 38,
   "id": "1f5118e5",
   "metadata": {},
   "outputs": [],
   "source": [
    "with open(f\"data/Coswara_processed/pickles/2023_02_11_logmel_cough_fs22kHz_augmented.pickle\", \"rb\") as f:\n",
    "    feature_set3 = pickle.load(f)"
   ]
  },
  {
   "cell_type": "code",
   "execution_count": 39,
   "id": "6e6153ea",
   "metadata": {},
   "outputs": [
    {
     "name": "stdout",
     "output_type": "stream",
     "text": [
      "Duration of the Recording: 4.39\n"
     ]
    },
    {
     "data": {
      "image/png": "[encoded data removed]",
      "text/plain": [
       "<Figure size 640x480 with 1 Axes>"
      ]
     },
     "metadata": {},
     "output_type": "display_data"
    }
   ],
   "source": [
    "feature_set3.participants[0].recordings[feature_set3.types_of_recording].show_waveform(20)"
   ]
  },
  {
   "cell_type": "code",
   "execution_count": 40,
   "id": "10094e20",
   "metadata": {},
   "outputs": [
    {
     "data": {
      "text/plain": [
       "<audio_processing.FeatureSet at 0x2536c0f45b0>"
      ]
     },
     "execution_count": 40,
     "metadata": {},
     "output_type": "execute_result"
    }
   ],
   "source": [
    "feature_set3"
   ]
  },
  {
   "cell_type": "code",
   "execution_count": 41,
   "id": "a2ac58af-5490-4225-ab30-bca2014705e4",
   "metadata": {},
   "outputs": [],
   "source": [
    "def pretty_print_dict(dictionary):\n",
    "    for k, v in dictionary.items():\n",
    "        offset = 20 - len(k)\n",
    "        offset = \" \" * offset\n",
    "        print(f\"{k}:{offset}{v}\")"
   ]
  },
  {
   "cell_type": "code",
   "execution_count": 43,
   "id": "bfb03519-e572-42f7-81d7-480418caae0f",
   "metadata": {},
   "outputs": [
    {
     "name": "stdout",
     "output_type": "stream",
     "text": [
      "Type of Recording:   cough-heavy\n",
      "\n",
      "Augmentations:\n",
      "<audiomentations.core.composition.Compose object at 0x000002536C0F4A90>\n",
      "type_of_features:    logmel\n",
      "n_time_steps:        224\n",
      "n_features:          224\n",
      "sample_rate:         22050\n",
      "n_fft:               8192\n",
      "window_length:       512\n",
      "hop_size:            256\n",
      "fmin:                0\n",
      "fmax:                11025\n"
     ]
    }
   ],
   "source": [
    "print(f\"Type of Recording:   {feature_set3.types_of_recording}\\n\")\n",
    "print(f\"Augmentations:\")\n",
    "print(feature_set3.augmentations)\n",
    "pretty_print_dict(feature_set3.audio_parameters)"
   ]
  },
  {
   "cell_type": "code",
   "execution_count": 49,
   "id": "752816b2-bff6-4efe-95e2-97dd84c4dc19",
   "metadata": {},
   "outputs": [
    {
     "name": "stdout",
     "output_type": "stream",
     "text": [
      "<audiomentations.augmentations.add_gaussian_noise.AddGaussianNoise object at 0x000002536C0F18B0>\n"
     ]
    }
   ],
   "source": [
    "print(feature_set3.augmentations.transforms[0])"
   ]
  }
 ],
 "metadata": {
  "kernelspec": {
   "display_name": "Python (python_v3-8)",
   "language": "python",
   "name": "python_v3-8"
  },
  "language_info": {
   "codemirror_mode": {
    "name": "ipython",
    "version": 3
   },
   "file_extension": ".py",
   "mimetype": "text/x-python",
   "name": "python",
   "nbconvert_exporter": "python",
   "pygments_lexer": "ipython3",
   "version": "3.8.13"
  }
 },
 "nbformat": 4,
 "nbformat_minor": 5
}
