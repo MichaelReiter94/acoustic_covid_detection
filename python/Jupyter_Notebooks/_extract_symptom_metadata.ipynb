{
 "cells": [
  {
   "cell_type": "code",
   "execution_count": 1,
   "id": "54f39086-279b-4b3e-927b-2cf581a53c1c",
   "metadata": {},
   "outputs": [
    {
     "name": "stdout",
     "output_type": "stream",
     "text": [
      "C:\\Michi\\acoustic_covid_detection\\python\n"
     ]
    }
   ],
   "source": [
    "import pickle\n",
    "from jupyter_utils import jupyter_setup\n",
    "jupyter_setup()\n",
    "import numpy as np\n",
    "import pandas as pd\n",
    "from audio_processing import FeatureSet\n",
    "import matplotlib.pyplot as plt\n",
    "import librosa\n",
    "import ipywidgets as widgets\n",
    "import os\n",
    "dataset_basepath = \"data/Coswara_processed/pickles/\"\n",
    "from participant import Participant\n",
    "import random\n",
    "import torch"
   ]
  },
  {
   "cell_type": "markdown",
   "id": "3df392f4-e898-4ded-8ee6-df41410a4fc0",
   "metadata": {},
   "source": [
    "# Get a random instance of a Participant"
   ]
  },
  {
   "cell_type": "code",
   "execution_count": 2,
   "id": "3e42d022-333d-418f-8660-714e347df2b5",
   "metadata": {},
   "outputs": [],
   "source": [
    "all_ids = os.listdir(\"data/Coswara_processed/Recordings\")"
   ]
  },
  {
   "cell_type": "code",
   "execution_count": 3,
   "id": "a9a074f0-6492-4820-8239-5d3c9cac94ed",
   "metadata": {},
   "outputs": [],
   "source": [
    "random_id = random.choice(all_ids)\n",
    "type_of_recording = \"combined_speech\"\n",
    "audio_parameters = dict(\n",
    "    type_of_features=\"logmel\",  # logmel | mfcc\n",
    "    n_time_steps=224,  # 259 | 224\n",
    "    n_features=224,  # 15 | 224\n",
    "    sample_rate=22050,\n",
    "    n_fft=512 * 16,\n",
    "    window_length=1024,\n",
    "    hop_size=512,\n",
    "    fmin=0,\n",
    "    fmax=22050 // 2\n",
    ")\n",
    "f = (8000, 12000)       # min and max frequency to display\n",
    "participant = Participant(\n",
    "                    # participant_id=\"00xKcQMmcAhX8CODgBBLOe7Dm0T2\", \n",
    "                    participant_id=random_id, \n",
    "                    types_of_recording=type_of_recording,\n",
    "                    audio_params=audio_parameters,\n",
    "                    augmentations=None)\n",
    "\n",
    "print(audio_parameters)"
   ]
  },
  {
   "cell_type": "code",
   "execution_count": 19,
   "id": "a11c884a-6410-4193-a35a-44f3f69f7c63",
   "metadata": {},
   "outputs": [
    {
     "data": {
      "text/plain": [
       "16"
      ]
     },
     "execution_count": 19,
     "metadata": {},
     "output_type": "execute_result"
    }
   ],
   "source": [
    "# once with all the possibly relevant metadata and once only with metadata where at least about 100 participants had non-NaN answers\n",
    "metadata_for_training = [\"smoker\", \"cold\", \"hypertension\", \"diabetes\",\n",
    "                         \"cough\", \"diarrheoa\", \"fever\", \"loss_of_smell\", \"muscle_pain\", \"breathing_difficulties\",\n",
    "                         \"other_respiratory_illness\", \"fatigue\", \"sore_throat\", \"ischemic_heart_disease\", \"asthma\",\n",
    "                         \"other_preexisting_condition\", \"chronic_lung_disease\", \"pneumonia\",\n",
    "                         \"gender\", \"age\", \"type_of_covid_test\", \"vaccination_status\"]\n",
    "metadata_for_training = [\"smoker\", \"cold\", \"hypertension\", \"diabetes\", \"cough\", \"fever\", \"loss_of_smell\", \"muscle_pain\",\n",
    "                         \"breathing_difficulties\", \"fatigue\", \"sore_throat\", \"asthma\",\"gender\", \"age\", \n",
    "                         \"type_of_covid_test\", \"vaccination_status\"]\n",
    "len(metadata_for_training)"
   ]
  },
  {
   "cell_type": "code",
   "execution_count": 11,
   "id": "0e9748e0-cb74-42dc-8256-6efb14ea9960",
   "metadata": {},
   "outputs": [
    {
     "data": {
      "text/plain": [
       "{'smoker': nan,\n",
       " 'cold': nan,\n",
       " 'hypertension': nan,\n",
       " 'diabetes': nan,\n",
       " 'cough': True,\n",
       " 'diarrheoa': nan,\n",
       " 'fever': nan,\n",
       " 'loss_of_smell': nan,\n",
       " 'muscle_pain': nan,\n",
       " 'breathing_difficulties': nan,\n",
       " 'other_respiratory_illness': nan,\n",
       " 'fatigue': nan,\n",
       " 'sore_throat': nan,\n",
       " 'ischemic_heart_disease': nan,\n",
       " 'asthma': True,\n",
       " 'other_preexisting_condition': nan,\n",
       " 'chronic_lung_disease': nan,\n",
       " 'pneumonia': nan,\n",
       " 'gender': 'male',\n",
       " 'age': 44,\n",
       " 'type_of_covid_test': nan,\n",
       " 'vaccination_status': nan}"
      ]
     },
     "execution_count": 11,
     "metadata": {},
     "output_type": "execute_result"
    }
   ],
   "source": [
    "{x: participant.meta_data[x] for x in metadata_for_training}"
   ]
  },
  {
   "cell_type": "code",
   "execution_count": 12,
   "id": "3abcf0b4-aed0-44a9-9f99-d1fd075bd102",
   "metadata": {},
   "outputs": [
    {
     "data": {
      "text/plain": [
       "{'smoker': 0,\n",
       " 'cold': 0,\n",
       " 'hypertension': 0,\n",
       " 'diabetes': 0,\n",
       " 'cough': 1,\n",
       " 'diarrheoa': 0,\n",
       " 'fever': 0,\n",
       " 'loss_of_smell': 0,\n",
       " 'muscle_pain': 0,\n",
       " 'breathing_difficulties': 0,\n",
       " 'other_respiratory_illness': 0,\n",
       " 'fatigue': 0,\n",
       " 'sore_throat': 0,\n",
       " 'ischemic_heart_disease': 0,\n",
       " 'asthma': 1,\n",
       " 'other_preexisting_condition': 0,\n",
       " 'chronic_lung_disease': 0,\n",
       " 'pneumonia': 0,\n",
       " 'gender': -1,\n",
       " 'age': 0.44,\n",
       " 'type_of_covid_test': 0,\n",
       " 'vaccination_status': 0}"
      ]
     },
     "execution_count": 12,
     "metadata": {},
     "output_type": "execute_result"
    }
   ],
   "source": [
    "participant.get_transformed_metadata()"
   ]
  },
  {
   "cell_type": "code",
   "execution_count": 13,
   "id": "550985a3-57de-4720-80aa-432f718ac8f1",
   "metadata": {},
   "outputs": [
    {
     "data": {
      "text/plain": [
       "tensor([ 0.0000,  0.0000,  0.0000,  0.0000,  1.0000,  0.0000,  0.0000,  0.0000,\n",
       "         0.0000,  0.0000,  0.0000,  0.0000,  0.0000,  0.0000,  1.0000,  0.0000,\n",
       "         0.0000,  0.0000, -1.0000,  0.4400,  0.0000,  0.0000])"
      ]
     },
     "execution_count": 13,
     "metadata": {},
     "output_type": "execute_result"
    }
   ],
   "source": [
    "participant.get_transformed_metadata_tensor()"
   ]
  },
  {
   "cell_type": "markdown",
   "id": "af8e67de-a3fa-4cf2-86c7-baa4befb6975",
   "metadata": {},
   "source": [
    "# get the value counts/possible given answers for all the relevant columns"
   ]
  },
  {
   "cell_type": "code",
   "execution_count": 17,
   "id": "6d8292f7-1a2a-4b59-908a-6e6452f887cd",
   "metadata": {},
   "outputs": [],
   "source": [
    "df = pd.read_csv(\"data/Coswara_processed/full_meta_data.csv\")"
   ]
  },
  {
   "cell_type": "code",
   "execution_count": null,
   "id": "a06ed076-7083-48ea-92aa-35529491df68",
   "metadata": {},
   "outputs": [
    {
     "name": "stdout",
     "output_type": "stream",
     "text": [
      "smoker\n",
      "n        850\n",
      "True     123\n",
      "y        102\n",
      "False     11\n",
      "Name: smoker, dtype: int64\n",
      "###########################################\n",
      "cold\n",
      "True    488\n",
      "Name: cold, dtype: int64\n",
      "###########################################\n",
      "hypertension\n",
      "True    233\n",
      "Name: hypertension, dtype: int64\n",
      "###########################################\n",
      "diabetes\n",
      "True    232\n",
      "Name: diabetes, dtype: int64\n",
      "###########################################\n",
      "cough\n",
      "True    652\n",
      "Name: cough, dtype: int64\n",
      "###########################################\n",
      "diarrheoa\n",
      "True    52\n",
      "Name: diarrheoa, dtype: int64\n",
      "###########################################\n",
      "fever\n",
      "True    406\n",
      "Name: fever, dtype: int64\n",
      "###########################################\n",
      "loss_of_smell\n",
      "True    169\n",
      "Name: loss_of_smell, dtype: int64\n",
      "###########################################\n",
      "muscle_pain\n",
      "True    325\n",
      "Name: muscle_pain, dtype: int64\n",
      "###########################################\n",
      "breathing_difficulties\n",
      "True    211\n",
      "Name: breathing_difficulties, dtype: int64\n",
      "###########################################\n",
      "other_respiratory_illness\n",
      "True    72\n",
      "Name: other_respiratory_illness, dtype: int64\n",
      "###########################################\n",
      "fatigue\n",
      "True    382\n",
      "Name: fatigue, dtype: int64\n",
      "###########################################\n",
      "sore_throat\n",
      "True    296\n",
      "Name: sore_throat, dtype: int64\n",
      "###########################################\n",
      "ischemic_heart_disease\n",
      "True    37\n",
      "Name: ischemic_heart_disease, dtype: int64\n",
      "###########################################\n",
      "asthma\n",
      "True    134\n",
      "Name: asthma, dtype: int64\n",
      "###########################################\n",
      "other_preexisting_condition\n",
      "True    100\n",
      "Name: other_preexisting_condition, dtype: int64\n",
      "###########################################\n",
      "chronic_lung_disease\n",
      "True    44\n",
      "Name: chronic_lung_disease, dtype: int64\n",
      "###########################################\n",
      "pneumonia\n",
      "True    45\n",
      "Name: pneumonia, dtype: int64\n",
      "###########################################\n",
      "gender\n",
      "male      1900\n",
      "female     844\n",
      "other        2\n",
      "Name: gender, dtype: int64\n",
      "###########################################\n",
      "age\n",
      "25    173\n",
      "26    132\n",
      "24    125\n",
      "22    113\n",
      "30    112\n",
      "     ... \n",
      "99      1\n",
      "86      1\n",
      "90      1\n",
      "10      1\n",
      "85      1\n",
      "Name: age, Length: 82, dtype: int64\n",
      "###########################################\n",
      "type_of_covid_test\n",
      "rtpcr    755\n",
      "rat       37\n",
      "False     13\n",
      "Name: type_of_covid_test, dtype: int64\n",
      "###########################################\n",
      "vaccination_status\n",
      "y    565\n",
      "n    211\n",
      "p    187\n",
      "Name: vaccination_status, dtype: int64\n",
      "###########################################\n"
     ]
    }
   ],
   "source": [
    "for item in metadata_for_training:\n",
    "    print(item)\n",
    "    print(df[item].value_counts())\n",
    "    print(\"###########################################\")"
   ]
  }
 ],
 "metadata": {
  "kernelspec": {
   "display_name": "ai38",
   "language": "python",
   "name": "ai38"
  },
  "language_info": {
   "codemirror_mode": {
    "name": "ipython",
    "version": 3
   },
   "file_extension": ".py",
   "mimetype": "text/x-python",
   "name": "python",
   "nbconvert_exporter": "python",
   "pygments_lexer": "ipython3",
   "version": "3.8.13"
  }
 },
 "nbformat": 4,
 "nbformat_minor": 5
}
