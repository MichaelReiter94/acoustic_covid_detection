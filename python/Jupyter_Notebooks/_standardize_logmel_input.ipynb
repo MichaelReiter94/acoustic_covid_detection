{
 "cells": [
  {
   "cell_type": "code",
   "execution_count": 1,
   "id": "18968593-d6b0-49c4-a260-9ee45ff56485",
   "metadata": {
    "tags": []
   },
   "outputs": [
    {
     "name": "stdout",
     "output_type": "stream",
     "text": [
      "C:\\Michi\\acoustic_covid_detection\\python\n"
     ]
    }
   ],
   "source": [
    "import pickle\n",
    "from jupyter_utils import jupyter_setup\n",
    "jupyter_setup()\n",
    "import numpy as np\n",
    "import pandas as pd\n",
    "from audio_processing import FeatureSet\n",
    "import matplotlib.pyplot as plt\n",
    "import librosa\n",
    "import ipywidgets as widgets\n",
    "import os\n",
    "dataset_basepath = \"data/Coswara_processed/pickles/\"\n",
    "from participant import Participant\n",
    "from tqdm.notebook import tqdm\n",
    "import matplotlib.pyplot as plt"
   ]
  },
  {
   "cell_type": "code",
   "execution_count": 2,
   "id": "1cd7c33b-a983-4e70-8acf-835ddab150d4",
   "metadata": {},
   "outputs": [],
   "source": [
    "dataset_list = os.listdir(dataset_basepath)"
   ]
  },
  {
   "cell_type": "code",
   "execution_count": 3,
   "id": "48f6f7b8-681a-4521-b61f-bda98ac6c647",
   "metadata": {},
   "outputs": [],
   "source": [
    "dataset_list = [path for path in dataset_list if \"logmel_combined\" in path]\n",
    "dataset_list = [path for path in dataset_list if \"augmented\" not in path]"
   ]
  },
  {
   "cell_type": "code",
   "execution_count": 4,
   "id": "25e63180-5fe9-47c9-b867-ac0c952575f1",
   "metadata": {},
   "outputs": [
    {
     "data": {
      "application/vnd.jupyter.widget-view+json": {
       "model_id": "ea4beab32b144b9b985b8a0e077c62dc",
       "version_major": 2,
       "version_minor": 0
      },
      "text/plain": [
       "Dropdown(options=('2023_02_25_logmel_combined_coughs_3s.pickle', '2023_05_02_logmel_combined_breaths_NEW_23msH…"
      ]
     },
     "metadata": {},
     "output_type": "display_data"
    }
   ],
   "source": [
    "def load_dataset(path):\n",
    "    dataset_basepath = \"data/Coswara_processed/pickles/\"\n",
    "    fullpath = os.path.join(dataset_basepath, path)\n",
    "    print(fullpath)\n",
    "    with open(fullpath, \"rb\") as f:\n",
    "        return pickle.load(f)\n",
    "dropdown = widgets.Dropdown(options=dataset_list)\n",
    "display(dropdown)"
   ]
  },
  {
   "cell_type": "code",
   "execution_count": 156,
   "id": "a6afe1e2-a745-467b-9d34-2b3fa6ab0bd8",
   "metadata": {},
   "outputs": [
    {
     "name": "stdout",
     "output_type": "stream",
     "text": [
      "data/Coswara_processed/pickles/2023_07_08_logmel_combined_coughs_11msHop_23msFFT_fmax11000_224logmel_EXTENDED.pickle\n",
      "\n",
      "Feature Set - #Participants: 2391\n",
      "----------------------------------------------------\n",
      "type_of_features:    logmel\n",
      "n_time_steps:        224\n",
      "n_features:          224\n",
      "sample_rate:         22050\n",
      "n_fft:               8192\n",
      "window_length:       512\n",
      "hop_size:            256\n",
      "fmin:                0\n",
      "fmax:                11025\n",
      "hop_size_ms:         11.61\n",
      "window_length_ms:    23.22\n",
      "duration_seconds:    2.6\n",
      "fft_res_hz:          2.69\n",
      "-------------------Augmentations--------------------\n",
      "----------------------------------------------------\n"
     ]
    }
   ],
   "source": [
    "dataset = load_dataset(dropdown.value)\n",
    "print(dataset)"
   ]
  },
  {
   "cell_type": "code",
   "execution_count": 157,
   "id": "817c86a6-3fc5-4086-9c6c-4be32a0e5433",
   "metadata": {},
   "outputs": [
    {
     "data": {
      "text/plain": [
       "'combined_coughs'"
      ]
     },
     "execution_count": 157,
     "metadata": {},
     "output_type": "execute_result"
    }
   ],
   "source": [
    "rec_type = list(dataset.participants[0].recordings.keys())[0]\n",
    "rec_type"
   ]
  },
  {
   "cell_type": "code",
   "execution_count": 158,
   "id": "646a001c-68b7-4dd4-8106-02728bd124ee",
   "metadata": {},
   "outputs": [],
   "source": [
    "means_f = np.array([part.recordings[rec_type].features.mean(axis=1) for part in dataset.participants])\n",
    "stds_f = np.array([part.recordings[rec_type].features.std(axis=1) for part in dataset.participants])"
   ]
  },
  {
   "cell_type": "code",
   "execution_count": 159,
   "id": "84a93fe5-63e4-4eb0-bb45-a5ab4426b415",
   "metadata": {},
   "outputs": [],
   "source": [
    "overall_mean_f = means_f.mean(axis=0)\n",
    "overall_std_f = stds_f.mean(axis=0)"
   ]
  },
  {
   "cell_type": "code",
   "execution_count": 160,
   "id": "de9fe50b-0c70-49c1-bd00-34a6623d1fd2",
   "metadata": {},
   "outputs": [
    {
     "data": {
      "text/plain": [
       "[<matplotlib.lines.Line2D at 0x18ba29fd550>]"
      ]
     },
     "execution_count": 160,
     "metadata": {},
     "output_type": "execute_result"
    },
    {
     "data": {
      "image/png": "[encoded data removed]",
      "text/plain": [
       "<Figure size 640x480 with 1 Axes>"
      ]
     },
     "metadata": {},
     "output_type": "display_data"
    }
   ],
   "source": [
    "plt.plot(overall_mean_f)\n",
    "plt.plot(overall_std_f)"
   ]
  },
  {
   "cell_type": "code",
   "execution_count": 161,
   "id": "6b5be701-33aa-4eac-8c3e-f3ad7ea235be",
   "metadata": {},
   "outputs": [
    {
     "data": {
      "text/plain": [
       "(-31.89236, 15.1989355)"
      ]
     },
     "execution_count": 161,
     "metadata": {},
     "output_type": "execute_result"
    }
   ],
   "source": [
    "overall_mean_f.mean(), overall_std_f.mean()"
   ]
  },
  {
   "cell_type": "markdown",
   "id": "004ea387-ddc0-4f1b-a281-6e2794d355f4",
   "metadata": {},
   "source": [
    "# Save the frequency wise statistics for every rec type"
   ]
  },
  {
   "cell_type": "code",
   "execution_count": 92,
   "id": "5971976e-54d7-4a44-be8b-b8cf6dc7ecf8",
   "metadata": {},
   "outputs": [],
   "source": [
    "combined_stats = np.stack([overall_mean_f, overall_std_f])"
   ]
  },
  {
   "cell_type": "code",
   "execution_count": 93,
   "id": "9063b952-ced1-4408-8002-9f7111c5e6db",
   "metadata": {},
   "outputs": [
    {
     "data": {
      "text/plain": [
       "'data/Coswara_processed/feature_statistics/combined_coughs_stats.npy'"
      ]
     },
     "execution_count": 93,
     "metadata": {},
     "output_type": "execute_result"
    }
   ],
   "source": [
    "save_path = f\"data/Coswara_processed/feature_statistics/{rec_type}_stats.npy\"\n",
    "save_path"
   ]
  },
  {
   "cell_type": "code",
   "execution_count": 94,
   "id": "aa2aa765-fa66-4c3d-8ee3-1e0c2f976477",
   "metadata": {},
   "outputs": [],
   "source": [
    "np.save(save_path, combined_stats)"
   ]
  },
  {
   "cell_type": "code",
   "execution_count": 95,
   "id": "654b6f2c-7f43-4315-9d1c-8a77ef609ec9",
   "metadata": {},
   "outputs": [],
   "source": [
    "loaded_stats = np.load(save_path)"
   ]
  },
  {
   "cell_type": "code",
   "execution_count": 96,
   "id": "f15791e8-1dfb-4128-81ae-cbe9f5e6344c",
   "metadata": {},
   "outputs": [
    {
     "data": {
      "text/plain": [
       "array([[-38.525517 , -37.817047 , -36.89317  ],\n",
       "       [ 10.173527 ,  10.6383705,  11.328411 ]], dtype=float32)"
      ]
     },
     "execution_count": 96,
     "metadata": {},
     "output_type": "execute_result"
    }
   ],
   "source": [
    "loaded_stats[:, :3]"
   ]
  },
  {
   "cell_type": "code",
   "execution_count": 97,
   "id": "138f8e84-94c3-4307-8ca4-72f75abf0ac0",
   "metadata": {},
   "outputs": [],
   "source": [
    "means = loaded_stats[0,:]\n",
    "stds = loaded_stats[1,:]"
   ]
  },
  {
   "cell_type": "code",
   "execution_count": 67,
   "id": "32a3f7f4-1d60-4bed-a7cc-6cec7afe7316",
   "metadata": {},
   "outputs": [
    {
     "data": {
      "text/plain": [
       "(array([-27.872335, -28.556498, -28.488213], dtype=float32),\n",
       " array([7.0122695, 7.0219526, 7.2038035], dtype=float32))"
      ]
     },
     "execution_count": 67,
     "metadata": {},
     "output_type": "execute_result"
    }
   ],
   "source": [
    "means[:3], stds[:3]"
   ]
  },
  {
   "cell_type": "markdown",
   "id": "363a1f2e-8542-4b78-a65f-56912f64b087",
   "metadata": {},
   "source": [
    "# general statistics"
   ]
  },
  {
   "cell_type": "code",
   "execution_count": 162,
   "id": "7a12fb09-5818-4dc1-aeb7-78b323c10889",
   "metadata": {},
   "outputs": [
    {
     "data": {
      "text/plain": [
       "(-31.892363, 18.19392)"
      ]
     },
     "execution_count": 162,
     "metadata": {},
     "output_type": "execute_result"
    }
   ],
   "source": [
    "means = [part.recordings[rec_type].features.mean() for part in dataset.participants]\n",
    "stds = [part.recordings[rec_type].features.std() for part in dataset.participants]\n",
    "\n",
    "means = np.array(means).mean()\n",
    "stds = np.array(stds).mean()\n",
    "means, stds"
   ]
  },
  {
   "cell_type": "code",
   "execution_count": 163,
   "id": "5932709b-9644-4383-9362-63b9b297b02f",
   "metadata": {},
   "outputs": [
    {
     "data": {
      "text/plain": [
       "'data/Coswara_processed/feature_statistics/combined_coughs_general_stats.npy'"
      ]
     },
     "execution_count": 163,
     "metadata": {},
     "output_type": "execute_result"
    }
   ],
   "source": [
    "general_save_path = f\"data/Coswara_processed/feature_statistics/{rec_type}_general_stats.npy\"\n",
    "general_save_path"
   ]
  },
  {
   "cell_type": "code",
   "execution_count": 164,
   "id": "e186e37d-2e37-4b8c-8343-e67c709f1776",
   "metadata": {},
   "outputs": [],
   "source": [
    "combined_general_stats = np.array([means, stds])"
   ]
  },
  {
   "cell_type": "code",
   "execution_count": 165,
   "id": "6cdd1ad7-70f3-4268-ade5-bbb71bcc1eef",
   "metadata": {},
   "outputs": [],
   "source": [
    "np.save(general_save_path, combined_general_stats)"
   ]
  },
  {
   "cell_type": "code",
   "execution_count": 166,
   "id": "4d9a0384-63af-4874-a179-c635c37f971f",
   "metadata": {},
   "outputs": [
    {
     "data": {
      "text/plain": [
       "array([-31.892363,  18.19392 ], dtype=float32)"
      ]
     },
     "execution_count": 166,
     "metadata": {},
     "output_type": "execute_result"
    }
   ],
   "source": [
    "np.load(general_save_path)"
   ]
  },
  {
   "cell_type": "code",
   "execution_count": null,
   "id": "7f9390b5-f1a1-4f09-8009-4d8cba8c8bad",
   "metadata": {},
   "outputs": [],
   "source": []
  }
 ],
 "metadata": {
  "kernelspec": {
   "display_name": "ai38",
   "language": "python",
   "name": "ai38"
  },
  "language_info": {
   "codemirror_mode": {
    "name": "ipython",
    "version": 3
   },
   "file_extension": ".py",
   "mimetype": "text/x-python",
   "name": "python",
   "nbconvert_exporter": "python",
   "pygments_lexer": "ipython3",
   "version": "3.8.13"
  }
 },
 "nbformat": 4,
 "nbformat_minor": 5
}
