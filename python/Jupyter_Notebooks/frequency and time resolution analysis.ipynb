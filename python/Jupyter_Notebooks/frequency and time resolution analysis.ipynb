{
 "cells": [
  {
   "cell_type": "code",
   "execution_count": 1,
   "id": "c35138b7-b3b7-4b98-bf6d-23c455adba38",
   "metadata": {},
   "outputs": [
    {
     "name": "stdout",
     "output_type": "stream",
     "text": [
      "C:\\Michi\\acoustic_covid_detection\\python\n"
     ]
    }
   ],
   "source": [
    "import pickle\n",
    "from jupyter_utils import jupyter_setup\n",
    "jupyter_setup()\n",
    "import numpy as np\n",
    "import pandas as pd\n",
    "from audio_processing import FeatureSet\n",
    "import matplotlib.pyplot as plt\n",
    "import librosa\n",
    "import ipywidgets as widgets\n",
    "import os\n",
    "dataset_basepath = \"data/Coswara_processed/pickles/\"\n",
    "from participant import Participant\n",
    "import random"
   ]
  },
  {
   "cell_type": "markdown",
   "id": "7ccf3e05-2f77-49c7-82cd-b5a142017558",
   "metadata": {},
   "source": [
    "# Create a new AudioRecording to compare different settings"
   ]
  },
  {
   "cell_type": "code",
   "execution_count": 2,
   "id": "c7f71452-c176-43c5-b028-56063ffa10e7",
   "metadata": {},
   "outputs": [],
   "source": [
    "all_ids = os.listdir(\"data/Coswara_processed/Recordings\")\n",
    "random_id = random.choice(all_ids)"
   ]
  },
  {
   "cell_type": "code",
   "execution_count": 3,
   "id": "f31276c5-09c9-4602-88b8-72d8c9841daf",
   "metadata": {},
   "outputs": [],
   "source": [
    "fig_title = \"speech\"  # -- low frequency bins only\n",
    "\n",
    "types_of_recording = \"combined_coughs\"\n",
    "\n",
    "audio_parameters_list = dict(\n",
    "    type_of_features=[\"logmel\"],  # logmel | mfcc\n",
    "    n_time_steps=[224],  # 259 | 224\n",
    "    n_features=[224],  # 15 | 224\n",
    "    sample_rate=[22050],\n",
    "    n_fft=[512 * 16],\n",
    "    window_length= [1024, 1024, 2048, 1024],\n",
    "    hop_size=      [128,  256, 256, 512],\n",
    "    fmin=[0],\n",
    "    fmax=[11000]\n",
    ")"
   ]
  },
  {
   "cell_type": "code",
   "execution_count": null,
   "id": "327d0457-cec7-4745-8e86-dfc567f859de",
   "metadata": {},
   "outputs": [],
   "source": [
    "target_length = 3000    # in miliseconds\n",
    "offset = 0              # look at the spectrogram starting at \"offset\" miliseconds until offset+target_length miliseconds\n",
    "f = (8000, 12000)       # min and max frequency to display\n",
    "\n",
    "n_subplots = max([len(val) for key, val in audio_parameters_list.items()])\n",
    "\n",
    "n_rows = n_subplots // 2 + n_subplots % 2\n",
    "n_cols = 2\n",
    "# plt.figure(figsize=(18, 8))\n",
    "fig, axes = plt.subplots(n_rows, n_cols, figsize=(17, 2.5*n_subplots))\n",
    "ax_list = axes.flatten()\n",
    "\n",
    "for i in range(n_subplots):\n",
    "    audio_parameters = {key: val[i] if len(val) > 1 else val[0] for key, val in audio_parameters_list.items()}\n",
    "    type_of_recording = \"combined_coughs\"\n",
    "\n",
    "    participant = Participant(\n",
    "                        # participant_id=\"00xKcQMmcAhX8CODgBBLOe7Dm0T2\", \n",
    "                        participant_id=random_id, \n",
    "                        types_of_recording=types_of_recording,\n",
    "                        audio_params=audio_parameters,\n",
    "                        augmentations=None).recordings[types_of_recording]\n",
    "    \n",
    "    print(audio_parameters)\n",
    "   \n",
    "    hopsize_ms = round(audio_parameters['hop_size']/audio_parameters['sample_rate']*1000)\n",
    "    fft_ms = round(audio_parameters['window_length']/audio_parameters['sample_rate']*1000)\n",
    "    offset_frames = int(offset // hopsize_ms)\n",
    "    n_frames = int(target_length // hopsize_ms)\n",
    "    features = participant.features\n",
    "    features = features[:, offset_frames:n_frames+offset_frames]\n",
    "    mel_frequencies = librosa.mel_frequencies(n_mels=audio_parameters['n_features'], htk=True, fmin=participant.fmin, fmax=participant.fmax)\n",
    "    f_idx = np.logical_and(mel_frequencies > f[0], mel_frequencies < f[1])\n",
    "    mel_frequencies = mel_frequencies[f_idx]\n",
    "    features = features[f_idx]\n",
    "\n",
    "    # print(features.shape)\n",
    "    # print(np.round(mel_frequencies))\n",
    "\n",
    "    librosa.display.specshow(features, x_axis='time', y_axis=\"log\", cmap=\"magma\",\n",
    "                             hop_length=audio_parameters['hop_size'], sr=audio_parameters['sample_rate'], y_coords=mel_frequencies, ax=ax_list[i])\n",
    "    # plt.colorbar(format=\"%+2.f dB\")\n",
    "    # plt.clim(-60, 20)\n",
    "    ax_list[i].set_title(f\"Hopsize: {hopsize_ms}ms | FFT:{fft_ms}ms | fmax: {participant.fmax}Hz | n_freq_bins: {audio_parameters['n_features']} | n_frames {target_length}ms: {n_frames}\")\n",
    "if fig_title is not None:\n",
    "    fig.suptitle(fig_title, fontsize=20)\n",
    "plt.tight_layout()"
   ]
  },
  {
   "cell_type": "code",
   "execution_count": null,
   "id": "629f2960-2076-4e5b-b4f1-f43c4e52550c",
   "metadata": {},
   "outputs": [],
   "source": [
    "participant.play_audio()"
   ]
  },
  {
   "cell_type": "code",
   "execution_count": null,
   "id": "319501a4-693b-4fb0-baf7-92266d3e528d",
   "metadata": {},
   "outputs": [],
   "source": []
  },
  {
   "cell_type": "code",
   "execution_count": null,
   "id": "f8a2731f-4e85-4f13-b073-21ac736e1581",
   "metadata": {},
   "outputs": [],
   "source": []
  },
  {
   "cell_type": "code",
   "execution_count": null,
   "id": "ed4f05cb-4f0e-49c4-93a6-70581738c0cd",
   "metadata": {},
   "outputs": [],
   "source": []
  },
  {
   "cell_type": "code",
   "execution_count": null,
   "id": "95a8d017-270a-4ef6-8821-73fb6792b7c7",
   "metadata": {},
   "outputs": [],
   "source": []
  },
  {
   "cell_type": "markdown",
   "id": "17d458c4-d8e8-492e-a6da-7d159f0dfd16",
   "metadata": {},
   "source": [
    "# testing some __repr__ and __str__ methods for classes"
   ]
  },
  {
   "cell_type": "code",
   "execution_count": 28,
   "id": "d2201a49-e4e0-4abd-a12a-bb23851ffe2a",
   "metadata": {},
   "outputs": [
    {
     "name": "stdout",
     "output_type": "stream",
     "text": [
      "Duration of the Recording: 6.45\n"
     ]
    },
    {
     "data": {
      "text/plain": [
       "'rtpcr'"
      ]
     },
     "execution_count": 28,
     "metadata": {},
     "output_type": "execute_result"
    }
   ],
   "source": [
    "audio_parameters = {key: val[0] if len(val) > 1 else val[0] for key, val in audio_parameters_list.items()}\n",
    "type_of_recording = \"combined_coughs\"\n",
    "random_id = random.choice(all_ids)\n",
    "\n",
    "participant = Participant(participant_id=random_id, \n",
    "                          types_of_recording=types_of_recording,\n",
    "                          audio_params=audio_parameters,\n",
    "                          augmentations=None)\n",
    "participant.meta_data[\"type_of_covid_test\"]"
   ]
  },
  {
   "cell_type": "code",
   "execution_count": 16,
   "id": "4d5644ef-d3de-4a0c-aa1b-7e01de9eb7f0",
   "metadata": {},
   "outputs": [
    {
     "data": {
      "text/plain": [
       "nan"
      ]
     },
     "execution_count": 16,
     "metadata": {},
     "output_type": "execute_result"
    }
   ],
   "source": []
  },
  {
   "cell_type": "code",
   "execution_count": 5,
   "id": "52c927c4-34f6-4b93-b068-09bf8182dbf4",
   "metadata": {},
   "outputs": [
    {
     "name": "stdout",
     "output_type": "stream",
     "text": [
      "id: 7eqeo9k4vpZnfRc8T2OMkelZFzC3\n",
      "label: 0\n",
      "age: 21\n",
      "gender: female\n",
      "duration: 7.49s\n"
     ]
    }
   ],
   "source": [
    "print(participant)"
   ]
  },
  {
   "cell_type": "code",
   "execution_count": 6,
   "id": "782d4c8b-ef6f-4b07-b85d-efa04207b162",
   "metadata": {},
   "outputs": [
    {
     "data": {
      "text/plain": [
       "class: Participant | id: 7eqeo9k4vpZnfRc8T2OMkelZFzC3 | label: 0"
      ]
     },
     "execution_count": 6,
     "metadata": {},
     "output_type": "execute_result"
    }
   ],
   "source": [
    "participant"
   ]
  },
  {
   "cell_type": "code",
   "execution_count": 9,
   "id": "d558fdaf-1923-4233-ae89-b67e9dacd7e1",
   "metadata": {},
   "outputs": [
    {
     "name": "stdout",
     "output_type": "stream",
     "text": [
      "type: combined_coughshop size: 128\n",
      "window length: 1024\n",
      "n_features: 224\n",
      "fmax: 11000\n",
      "sample rate: 22050\n",
      "\n"
     ]
    }
   ],
   "source": [
    "print(participant.recordings[types_of_recording])"
   ]
  },
  {
   "cell_type": "code",
   "execution_count": 10,
   "id": "e272d7cd-9773-4a23-8ab5-c3133cca070c",
   "metadata": {},
   "outputs": [
    {
     "data": {
      "text/plain": [
       "class: AudioRecording | combined_coughs"
      ]
     },
     "execution_count": 10,
     "metadata": {},
     "output_type": "execute_result"
    }
   ],
   "source": [
    "participant.recordings[types_of_recording]"
   ]
  },
  {
   "cell_type": "code",
   "execution_count": null,
   "id": "8a65f49d-be6b-4720-a091-bacfeab8c1ad",
   "metadata": {},
   "outputs": [],
   "source": []
  }
 ],
 "metadata": {
  "kernelspec": {
   "display_name": "ai38",
   "language": "python",
   "name": "ai38"
  },
  "language_info": {
   "codemirror_mode": {
    "name": "ipython",
    "version": 3
   },
   "file_extension": ".py",
   "mimetype": "text/x-python",
   "name": "python",
   "nbconvert_exporter": "python",
   "pygments_lexer": "ipython3",
   "version": "3.8.13"
  }
 },
 "nbformat": 4,
 "nbformat_minor": 5
}
