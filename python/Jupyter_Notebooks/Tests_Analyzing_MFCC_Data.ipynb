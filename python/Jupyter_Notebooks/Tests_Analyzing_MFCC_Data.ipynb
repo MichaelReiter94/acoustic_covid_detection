{
 "cells": [
  {
   "cell_type": "code",
   "execution_count": 19,
   "id": "56ea395f",
   "metadata": {},
   "outputs": [],
   "source": [
    "import os\n",
    "import pickle\n",
    "import random\n",
    "import numpy as np"
   ]
  },
  {
   "cell_type": "code",
   "execution_count": 7,
   "id": "5f0c7ba1",
   "metadata": {},
   "outputs": [],
   "source": [
    "path = os.environ.get(\"PATH\")\n",
    "additional_path = 'C:\\\\Users\\\\Michi\\\\Anaconda3\\\\envs\\\\python_v3-8;C:\\\\Users\\\\Michi\\\\Anaconda3\\\\envs\\\\python_v3-8\\\\Library\\\\mingw-w64\\\\bin;C:\\\\Users\\\\Michi\\\\Anaconda3\\\\envs\\\\python_v3-8\\\\Library\\\\usr\\\\bin;C:\\\\Users\\\\Michi\\\\Anaconda3\\\\envs\\\\python_v3-8\\\\Library\\\\bin;C:\\\\Users\\\\Michi\\\\Anaconda3\\\\envs\\\\python_v3-8\\\\Scripts;C:\\\\Users\\\\Michi\\\\Anaconda3\\\\envs\\\\python_v3-8\\\\bin;C:\\\\Users\\\\Michi\\\\Anaconda3\\\\condabin'\n",
    "min_additional_path = \"C:\\\\Users\\\\Michi\\\\Anaconda3\\\\envs\\\\python_v3-8\\\\Library\\\\bin;\"\n",
    "combined_path = min_additional_path + path\n",
    "os.environ[\"PATH\"] = combined_path"
   ]
  },
  {
   "cell_type": "code",
   "execution_count": 8,
   "id": "75a539b0",
   "metadata": {},
   "outputs": [
    {
     "data": {
      "text/plain": [
       "'D:\\\\Archiv\\\\Studium\\\\Master\\\\6.-Semester\\\\Masters_Thesis\\\\Git\\\\acoustic_covid_detection\\\\python'"
      ]
     },
     "execution_count": 8,
     "metadata": {},
     "output_type": "execute_result"
    }
   ],
   "source": [
    "root_dir = \"python\"\n",
    "_, current_folder = os.path.split(os.getcwd())\n",
    "if current_folder != root_dir:\n",
    "    os.chdir(\"../\")\n",
    "    \n",
    "os.getcwd()"
   ]
  },
  {
   "cell_type": "code",
   "execution_count": 9,
   "id": "50425f88",
   "metadata": {},
   "outputs": [],
   "source": [
    "DATA_PATH = \"data/Coswara_processed/pickles/participant_objects.pickle\"\n",
    "with open(DATA_PATH, \"rb\") as f:\n",
    "    participants = pickle.load(f)"
   ]
  },
  {
   "cell_type": "code",
   "execution_count": 15,
   "id": "afedeeba",
   "metadata": {},
   "outputs": [
    {
     "data": {
      "image/png": "[encoded data removed]",
      "text/plain": [
       "<Figure size 640x480 with 2 Axes>"
      ]
     },
     "metadata": {},
     "output_type": "display_data"
    }
   ],
   "source": [
    "participant = random.choice(participants)\n",
    "participant.heavy_cough.show_MFCCs()"
   ]
  },
  {
   "cell_type": "code",
   "execution_count": 17,
   "id": "4d1dbd33",
   "metadata": {},
   "outputs": [
    {
     "data": {
      "text/plain": [
       "(15, 259)"
      ]
     },
     "execution_count": 17,
     "metadata": {},
     "output_type": "execute_result"
    }
   ],
   "source": [
    "mfccs = participant.heavy_cough.get_MFCCs()\n",
    "mfccs.shape"
   ]
  },
  {
   "cell_type": "code",
   "execution_count": 22,
   "id": "2f91688c",
   "metadata": {},
   "outputs": [
    {
     "data": {
      "text/plain": [
       "(array([216,   3,   4,   3,   3,   3,   6,   3,   7,  11], dtype=int64),\n",
       " array([-585.8788  , -529.5533  , -473.22772 , -416.90222 , -360.5767  ,\n",
       "        -304.25116 , -247.92563 , -191.60011 , -135.27458 ,  -78.94906 ,\n",
       "         -22.623537], dtype=float32))"
      ]
     },
     "execution_count": 22,
     "metadata": {},
     "output_type": "execute_result"
    }
   ],
   "source": [
    "np.histogram(mfccs[0,:])"
   ]
  },
  {
   "cell_type": "code",
   "execution_count": null,
   "id": "4d4ecb24",
   "metadata": {},
   "outputs": [],
   "source": []
  }
 ],
 "metadata": {
  "kernelspec": {
   "display_name": "Python (python_v3-8)",
   "language": "python",
   "name": "python_v3-8"
  },
  "language_info": {
   "codemirror_mode": {
    "name": "ipython",
    "version": 3
   },
   "file_extension": ".py",
   "mimetype": "text/x-python",
   "name": "python",
   "nbconvert_exporter": "python",
   "pygments_lexer": "ipython3",
   "version": "3.8.13"
  }
 },
 "nbformat": 4,
 "nbformat_minor": 5
}
